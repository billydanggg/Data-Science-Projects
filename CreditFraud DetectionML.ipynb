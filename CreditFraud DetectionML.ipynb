{
 "cells": [
  {
   "cell_type": "markdown",
   "id": "690256ff-1c4f-49ec-ab79-b13ab82abd8d",
   "metadata": {},
   "source": [
    "# Credit Card Fraud Detection Project\n",
    "\n",
    "### Abstract\n",
    "Credit card fraud is a significant issue that effects consumers all around the world. In the U.S. alone, 60% credit card holders have been victimized by fraud, and 45% have experienced fraud multiple times. With a 2022 forecast indicating those losses will total ~$165.1 billion over the following 10 years, the issue isn't slowing down anytime soon. That's why it is important for effective credit card fraud detection systems to be set in place in order to prevent this issue.\n",
    "\n",
    "## Introduction\n",
    "\n",
    "Today we will be leveraging machine learning techniques to develop a credit card fraud detection model. More specifically, it will be a supervised classification machine learning project where the 'positives' are the fraud transactions. The dataset I will be using is the 'Credit Card' dataset from Kaggle.com, which contains transactions made by credit cards in September 2013 by European cardholders. This dataset presents transactions that occurred in two days, where we have 492 frauds out of 284,807 transactions. The dataset is highly unbalanced with the positive class (frauds) accounting for only 0.172% of all transactions. It also contains only numerical input variables which are the result of a PCA transformation. These features V1, V2, V3, ... V28 are the principal components obtained with PCA that have had their original labels removed for privacy reasons. The only features which have not been transformed with PCA are 'Time' and 'Amount'. The feature 'Time' contains the seconds elapsed between each transaction and the first transcaction in the dataset. Meanwhile, the feature 'Amount' is the transaction amount. Feature 'Class' is the response variable and it takes the value 1 in case of fraud and 0 otherwise. For this project, I'll start by loading in the dataset and performing some data cleaning to prepare it for exploration. In the EDA section, I'll examine the features availible and the most glaring issue with this dataset, it's imbalanceness. We'll then create a couple models and weight them on accuracy, precision, and recall."
   ]
  },
  {
   "cell_type": "code",
   "execution_count": 1,
   "id": "4ead5bef-f3d2-4362-a5a8-05950aa485ad",
   "metadata": {},
   "outputs": [],
   "source": [
    "#Loading necessary libraries\n",
    "import pandas as pd #Data manipulation & analysis\n",
    "import seaborn as sns #Data Viz\n",
    "import matplotlib.pyplot as plt\n",
    "seed = 33"
   ]
  },
  {
   "cell_type": "code",
   "execution_count": 2,
   "id": "0a041d63-8bc9-4084-9854-59f73de117b8",
   "metadata": {},
   "outputs": [
    {
     "data": {
      "text/html": [
       "<div>\n",
       "<style scoped>\n",
       "    .dataframe tbody tr th:only-of-type {\n",
       "        vertical-align: middle;\n",
       "    }\n",
       "\n",
       "    .dataframe tbody tr th {\n",
       "        vertical-align: top;\n",
       "    }\n",
       "\n",
       "    .dataframe thead th {\n",
       "        text-align: right;\n",
       "    }\n",
       "</style>\n",
       "<table border=\"1\" class=\"dataframe\">\n",
       "  <thead>\n",
       "    <tr style=\"text-align: right;\">\n",
       "      <th></th>\n",
       "      <th>Time</th>\n",
       "      <th>V1</th>\n",
       "      <th>V2</th>\n",
       "      <th>V3</th>\n",
       "      <th>V4</th>\n",
       "      <th>V5</th>\n",
       "      <th>V6</th>\n",
       "      <th>V7</th>\n",
       "      <th>V8</th>\n",
       "      <th>V9</th>\n",
       "      <th>...</th>\n",
       "      <th>V21</th>\n",
       "      <th>V22</th>\n",
       "      <th>V23</th>\n",
       "      <th>V24</th>\n",
       "      <th>V25</th>\n",
       "      <th>V26</th>\n",
       "      <th>V27</th>\n",
       "      <th>V28</th>\n",
       "      <th>Amount</th>\n",
       "      <th>Class</th>\n",
       "    </tr>\n",
       "  </thead>\n",
       "  <tbody>\n",
       "    <tr>\n",
       "      <th>0</th>\n",
       "      <td>0.0</td>\n",
       "      <td>-1.359807</td>\n",
       "      <td>-0.072781</td>\n",
       "      <td>2.536347</td>\n",
       "      <td>1.378155</td>\n",
       "      <td>-0.338321</td>\n",
       "      <td>0.462388</td>\n",
       "      <td>0.239599</td>\n",
       "      <td>0.098698</td>\n",
       "      <td>0.363787</td>\n",
       "      <td>...</td>\n",
       "      <td>-0.018307</td>\n",
       "      <td>0.277838</td>\n",
       "      <td>-0.110474</td>\n",
       "      <td>0.066928</td>\n",
       "      <td>0.128539</td>\n",
       "      <td>-0.189115</td>\n",
       "      <td>0.133558</td>\n",
       "      <td>-0.021053</td>\n",
       "      <td>149.62</td>\n",
       "      <td>0</td>\n",
       "    </tr>\n",
       "    <tr>\n",
       "      <th>1</th>\n",
       "      <td>0.0</td>\n",
       "      <td>1.191857</td>\n",
       "      <td>0.266151</td>\n",
       "      <td>0.166480</td>\n",
       "      <td>0.448154</td>\n",
       "      <td>0.060018</td>\n",
       "      <td>-0.082361</td>\n",
       "      <td>-0.078803</td>\n",
       "      <td>0.085102</td>\n",
       "      <td>-0.255425</td>\n",
       "      <td>...</td>\n",
       "      <td>-0.225775</td>\n",
       "      <td>-0.638672</td>\n",
       "      <td>0.101288</td>\n",
       "      <td>-0.339846</td>\n",
       "      <td>0.167170</td>\n",
       "      <td>0.125895</td>\n",
       "      <td>-0.008983</td>\n",
       "      <td>0.014724</td>\n",
       "      <td>2.69</td>\n",
       "      <td>0</td>\n",
       "    </tr>\n",
       "    <tr>\n",
       "      <th>2</th>\n",
       "      <td>1.0</td>\n",
       "      <td>-1.358354</td>\n",
       "      <td>-1.340163</td>\n",
       "      <td>1.773209</td>\n",
       "      <td>0.379780</td>\n",
       "      <td>-0.503198</td>\n",
       "      <td>1.800499</td>\n",
       "      <td>0.791461</td>\n",
       "      <td>0.247676</td>\n",
       "      <td>-1.514654</td>\n",
       "      <td>...</td>\n",
       "      <td>0.247998</td>\n",
       "      <td>0.771679</td>\n",
       "      <td>0.909412</td>\n",
       "      <td>-0.689281</td>\n",
       "      <td>-0.327642</td>\n",
       "      <td>-0.139097</td>\n",
       "      <td>-0.055353</td>\n",
       "      <td>-0.059752</td>\n",
       "      <td>378.66</td>\n",
       "      <td>0</td>\n",
       "    </tr>\n",
       "    <tr>\n",
       "      <th>3</th>\n",
       "      <td>1.0</td>\n",
       "      <td>-0.966272</td>\n",
       "      <td>-0.185226</td>\n",
       "      <td>1.792993</td>\n",
       "      <td>-0.863291</td>\n",
       "      <td>-0.010309</td>\n",
       "      <td>1.247203</td>\n",
       "      <td>0.237609</td>\n",
       "      <td>0.377436</td>\n",
       "      <td>-1.387024</td>\n",
       "      <td>...</td>\n",
       "      <td>-0.108300</td>\n",
       "      <td>0.005274</td>\n",
       "      <td>-0.190321</td>\n",
       "      <td>-1.175575</td>\n",
       "      <td>0.647376</td>\n",
       "      <td>-0.221929</td>\n",
       "      <td>0.062723</td>\n",
       "      <td>0.061458</td>\n",
       "      <td>123.50</td>\n",
       "      <td>0</td>\n",
       "    </tr>\n",
       "    <tr>\n",
       "      <th>4</th>\n",
       "      <td>2.0</td>\n",
       "      <td>-1.158233</td>\n",
       "      <td>0.877737</td>\n",
       "      <td>1.548718</td>\n",
       "      <td>0.403034</td>\n",
       "      <td>-0.407193</td>\n",
       "      <td>0.095921</td>\n",
       "      <td>0.592941</td>\n",
       "      <td>-0.270533</td>\n",
       "      <td>0.817739</td>\n",
       "      <td>...</td>\n",
       "      <td>-0.009431</td>\n",
       "      <td>0.798278</td>\n",
       "      <td>-0.137458</td>\n",
       "      <td>0.141267</td>\n",
       "      <td>-0.206010</td>\n",
       "      <td>0.502292</td>\n",
       "      <td>0.219422</td>\n",
       "      <td>0.215153</td>\n",
       "      <td>69.99</td>\n",
       "      <td>0</td>\n",
       "    </tr>\n",
       "    <tr>\n",
       "      <th>5</th>\n",
       "      <td>2.0</td>\n",
       "      <td>-0.425966</td>\n",
       "      <td>0.960523</td>\n",
       "      <td>1.141109</td>\n",
       "      <td>-0.168252</td>\n",
       "      <td>0.420987</td>\n",
       "      <td>-0.029728</td>\n",
       "      <td>0.476201</td>\n",
       "      <td>0.260314</td>\n",
       "      <td>-0.568671</td>\n",
       "      <td>...</td>\n",
       "      <td>-0.208254</td>\n",
       "      <td>-0.559825</td>\n",
       "      <td>-0.026398</td>\n",
       "      <td>-0.371427</td>\n",
       "      <td>-0.232794</td>\n",
       "      <td>0.105915</td>\n",
       "      <td>0.253844</td>\n",
       "      <td>0.081080</td>\n",
       "      <td>3.67</td>\n",
       "      <td>0</td>\n",
       "    </tr>\n",
       "    <tr>\n",
       "      <th>6</th>\n",
       "      <td>4.0</td>\n",
       "      <td>1.229658</td>\n",
       "      <td>0.141004</td>\n",
       "      <td>0.045371</td>\n",
       "      <td>1.202613</td>\n",
       "      <td>0.191881</td>\n",
       "      <td>0.272708</td>\n",
       "      <td>-0.005159</td>\n",
       "      <td>0.081213</td>\n",
       "      <td>0.464960</td>\n",
       "      <td>...</td>\n",
       "      <td>-0.167716</td>\n",
       "      <td>-0.270710</td>\n",
       "      <td>-0.154104</td>\n",
       "      <td>-0.780055</td>\n",
       "      <td>0.750137</td>\n",
       "      <td>-0.257237</td>\n",
       "      <td>0.034507</td>\n",
       "      <td>0.005168</td>\n",
       "      <td>4.99</td>\n",
       "      <td>0</td>\n",
       "    </tr>\n",
       "    <tr>\n",
       "      <th>7</th>\n",
       "      <td>7.0</td>\n",
       "      <td>-0.644269</td>\n",
       "      <td>1.417964</td>\n",
       "      <td>1.074380</td>\n",
       "      <td>-0.492199</td>\n",
       "      <td>0.948934</td>\n",
       "      <td>0.428118</td>\n",
       "      <td>1.120631</td>\n",
       "      <td>-3.807864</td>\n",
       "      <td>0.615375</td>\n",
       "      <td>...</td>\n",
       "      <td>1.943465</td>\n",
       "      <td>-1.015455</td>\n",
       "      <td>0.057504</td>\n",
       "      <td>-0.649709</td>\n",
       "      <td>-0.415267</td>\n",
       "      <td>-0.051634</td>\n",
       "      <td>-1.206921</td>\n",
       "      <td>-1.085339</td>\n",
       "      <td>40.80</td>\n",
       "      <td>0</td>\n",
       "    </tr>\n",
       "  </tbody>\n",
       "</table>\n",
       "<p>8 rows × 31 columns</p>\n",
       "</div>"
      ],
      "text/plain": [
       "   Time        V1        V2        V3        V4        V5        V6        V7  \\\n",
       "0   0.0 -1.359807 -0.072781  2.536347  1.378155 -0.338321  0.462388  0.239599   \n",
       "1   0.0  1.191857  0.266151  0.166480  0.448154  0.060018 -0.082361 -0.078803   \n",
       "2   1.0 -1.358354 -1.340163  1.773209  0.379780 -0.503198  1.800499  0.791461   \n",
       "3   1.0 -0.966272 -0.185226  1.792993 -0.863291 -0.010309  1.247203  0.237609   \n",
       "4   2.0 -1.158233  0.877737  1.548718  0.403034 -0.407193  0.095921  0.592941   \n",
       "5   2.0 -0.425966  0.960523  1.141109 -0.168252  0.420987 -0.029728  0.476201   \n",
       "6   4.0  1.229658  0.141004  0.045371  1.202613  0.191881  0.272708 -0.005159   \n",
       "7   7.0 -0.644269  1.417964  1.074380 -0.492199  0.948934  0.428118  1.120631   \n",
       "\n",
       "         V8        V9  ...       V21       V22       V23       V24       V25  \\\n",
       "0  0.098698  0.363787  ... -0.018307  0.277838 -0.110474  0.066928  0.128539   \n",
       "1  0.085102 -0.255425  ... -0.225775 -0.638672  0.101288 -0.339846  0.167170   \n",
       "2  0.247676 -1.514654  ...  0.247998  0.771679  0.909412 -0.689281 -0.327642   \n",
       "3  0.377436 -1.387024  ... -0.108300  0.005274 -0.190321 -1.175575  0.647376   \n",
       "4 -0.270533  0.817739  ... -0.009431  0.798278 -0.137458  0.141267 -0.206010   \n",
       "5  0.260314 -0.568671  ... -0.208254 -0.559825 -0.026398 -0.371427 -0.232794   \n",
       "6  0.081213  0.464960  ... -0.167716 -0.270710 -0.154104 -0.780055  0.750137   \n",
       "7 -3.807864  0.615375  ...  1.943465 -1.015455  0.057504 -0.649709 -0.415267   \n",
       "\n",
       "        V26       V27       V28  Amount  Class  \n",
       "0 -0.189115  0.133558 -0.021053  149.62      0  \n",
       "1  0.125895 -0.008983  0.014724    2.69      0  \n",
       "2 -0.139097 -0.055353 -0.059752  378.66      0  \n",
       "3 -0.221929  0.062723  0.061458  123.50      0  \n",
       "4  0.502292  0.219422  0.215153   69.99      0  \n",
       "5  0.105915  0.253844  0.081080    3.67      0  \n",
       "6 -0.257237  0.034507  0.005168    4.99      0  \n",
       "7 -0.051634 -1.206921 -1.085339   40.80      0  \n",
       "\n",
       "[8 rows x 31 columns]"
      ]
     },
     "execution_count": 2,
     "metadata": {},
     "output_type": "execute_result"
    }
   ],
   "source": [
    "#Reading in the dataset \n",
    "credit_data = pd.read_csv(\"creditcard.csv\")\n",
    "credit_data.head(8)"
   ]
  },
  {
   "cell_type": "markdown",
   "id": "23881703-8d38-4a70-b012-6327c0187521",
   "metadata": {},
   "source": [
    "## Data Cleaning & Exploratory Data Analysis\n",
    ">In the this section we'll be preparing our data for modelling by handling null values, dropping duplicate entries, and removing features deemed unnecessary."
   ]
  },
  {
   "cell_type": "code",
   "execution_count": 3,
   "id": "b5f4a6f8-8ecc-457e-9188-fc1a307b6855",
   "metadata": {},
   "outputs": [
    {
     "name": "stdout",
     "output_type": "stream",
     "text": [
      "<class 'pandas.core.frame.DataFrame'>\n",
      "RangeIndex: 284807 entries, 0 to 284806\n",
      "Data columns (total 31 columns):\n",
      " #   Column  Non-Null Count   Dtype  \n",
      "---  ------  --------------   -----  \n",
      " 0   Time    284807 non-null  float64\n",
      " 1   V1      284807 non-null  float64\n",
      " 2   V2      284807 non-null  float64\n",
      " 3   V3      284807 non-null  float64\n",
      " 4   V4      284807 non-null  float64\n",
      " 5   V5      284807 non-null  float64\n",
      " 6   V6      284807 non-null  float64\n",
      " 7   V7      284807 non-null  float64\n",
      " 8   V8      284807 non-null  float64\n",
      " 9   V9      284807 non-null  float64\n",
      " 10  V10     284807 non-null  float64\n",
      " 11  V11     284807 non-null  float64\n",
      " 12  V12     284807 non-null  float64\n",
      " 13  V13     284807 non-null  float64\n",
      " 14  V14     284807 non-null  float64\n",
      " 15  V15     284807 non-null  float64\n",
      " 16  V16     284807 non-null  float64\n",
      " 17  V17     284807 non-null  float64\n",
      " 18  V18     284807 non-null  float64\n",
      " 19  V19     284807 non-null  float64\n",
      " 20  V20     284807 non-null  float64\n",
      " 21  V21     284807 non-null  float64\n",
      " 22  V22     284807 non-null  float64\n",
      " 23  V23     284807 non-null  float64\n",
      " 24  V24     284807 non-null  float64\n",
      " 25  V25     284807 non-null  float64\n",
      " 26  V26     284807 non-null  float64\n",
      " 27  V27     284807 non-null  float64\n",
      " 28  V28     284807 non-null  float64\n",
      " 29  Amount  284807 non-null  float64\n",
      " 30  Class   284807 non-null  int64  \n",
      "dtypes: float64(30), int64(1)\n",
      "memory usage: 67.4 MB\n",
      "None\n"
     ]
    }
   ],
   "source": [
    "print(credit_data.info())"
   ]
  },
  {
   "cell_type": "markdown",
   "id": "e07e272c-6572-46d1-89d3-160039f4b7ff",
   "metadata": {},
   "source": [
    "> Examining the dataset further, notice the 'Time' column feature. Knowing that this feature simply represents the number of seconds that has elapsed between the that rows transaction and the very first transaction made that month, we can safely say that this is unnessesary for our models and may actual hurt it through overfitting. I'll thus drop this feature from the dataset before moving forward to evaluate missing and duplicate values"
   ]
  },
  {
   "cell_type": "code",
   "execution_count": 4,
   "id": "b9c4c56b-6973-4509-9d7e-764346d6a97d",
   "metadata": {},
   "outputs": [
    {
     "name": "stdout",
     "output_type": "stream",
     "text": [
      "Duplicate Entries: 1081\n"
     ]
    }
   ],
   "source": [
    "#Check for duplicate values\n",
    "print('Duplicate Entries:', credit_data.duplicated().sum())\n",
    "\n",
    "#With 1081 duplicate entries, we'll drop all of them\n",
    "credit_data = credit_data.drop_duplicates()\n",
    "\n",
    "#Dropping Feature \"Time\"\n",
    "credit_data = credit_data.drop(columns = ['Time'])"
   ]
  },
  {
   "cell_type": "code",
   "execution_count": 5,
   "id": "adcb1d8b-e6bb-49e8-a198-5b94fa20ab23",
   "metadata": {},
   "outputs": [
    {
     "data": {
      "text/plain": [
       "(283726, 30)"
      ]
     },
     "execution_count": 5,
     "metadata": {},
     "output_type": "execute_result"
    }
   ],
   "source": [
    "credit_data.shape"
   ]
  },
  {
   "cell_type": "markdown",
   "id": "fe496e94-a3c8-4fe9-adb4-0e9a36c556fd",
   "metadata": {},
   "source": [
    "> Remember that the data is highly **imbalanced** which will lead to a couple of issues once we start using classifications models to detect credit card fraud. The first issue is that the model will have significant bias towards the majority class, which in this case is non-fraudulent purchases, and often overlook the fraud cases that it's trying to detect. The second issue is that performance metrics will be very misleading. For example, if the model predicted 100% of the cases to be non-fraudulent, it would achieve an accuracy of around 99% despite failing to detect any bad purchases. That's why different performance metrics will be considered as well (precision & recall) when evaluating our models, as well as possible solutions which I will expand upon below."
   ]
  },
  {
   "cell_type": "code",
   "execution_count": 6,
   "id": "987eee80-da54-4641-811c-944beff62e9c",
   "metadata": {},
   "outputs": [
    {
     "data": {
      "text/plain": [
       "Text(0.5, 1.0, 'Credit Data Imbalance Distribution')"
      ]
     },
     "execution_count": 6,
     "metadata": {},
     "output_type": "execute_result"
    },
    {
     "data": {
      "image/png": "[encoded data removed]",
      "text/plain": [
       "<Figure size 640x480 with 1 Axes>"
      ]
     },
     "metadata": {},
     "output_type": "display_data"
    }
   ],
   "source": [
    "plt.style.use('ggplot')\n",
    "sns.countplot(x='Class', data=credit_data) \n",
    "plt.title('Credit Data Imbalance Distribution')"
   ]
  },
  {
   "cell_type": "markdown",
   "id": "ce0ccef6-6e47-4490-bfba-40d09dc3effe",
   "metadata": {},
   "source": [
    "## Predictive Modeling\n"
   ]
  },
  {
   "cell_type": "markdown",
   "id": "65f1d9e0-64eb-44b9-a92e-ff35eb4fa3fb",
   "metadata": {},
   "source": [
    "> Now we'll get into choosing classification models to detect fraudulent purchases:\n",
    "> - **Logistic Regression**: the model is simple, interpretable, fast and well suited for a binary classification problems like the one we are working with.\n",
    "> - **Decision Tree**: the model is fast, intuitive and can capture non-linear relationships though it may be subject to overfitting.\n",
    "> - **Random Forest**: the ensemble method that random forest models employ assist in achieving a high accuracy and is resistent to noise and outliers, however it takes far more time and memory to make its predictions."
   ]
  },
  {
   "cell_type": "code",
   "execution_count": 7,
   "id": "4ae702f2-e884-4b1a-abe1-50da2bda4ecc",
   "metadata": {},
   "outputs": [],
   "source": [
    "from sklearn.model_selection import train_test_split\n",
    "from sklearn.linear_model import LogisticRegression\n",
    "from sklearn.tree import DecisionTreeClassifier\n",
    "from sklearn.ensemble import RandomForestClassifier\n",
    "from sklearn.metrics import accuracy_score, f1_score, precision_score, recall_score"
   ]
  },
  {
   "cell_type": "code",
   "execution_count": 8,
   "id": "5788ccb2-bf32-4a9a-85c6-a6c41c75b18e",
   "metadata": {},
   "outputs": [],
   "source": [
    "#Prep Train/Test data\n",
    "y = credit_data['Class']\n",
    "x = credit_data.drop('Class', axis = 1)\n",
    "x_train, x_test, y_train, y_test = train_test_split(x, y, test_size=.2, random_state=3)"
   ]
  },
  {
   "cell_type": "code",
   "execution_count": 9,
   "id": "93ffe3e9-4e2f-4f73-9813-7ef4d8f562af",
   "metadata": {},
   "outputs": [
    {
     "name": "stdout",
     "output_type": "stream",
     "text": [
      "Training set size: 226980\n",
      "Test set size: 56746\n"
     ]
    }
   ],
   "source": [
    "print(\"Training set size:\", x_train.shape[0])\n",
    "print(\"Test set size:\", x_test.shape[0])"
   ]
  },
  {
   "cell_type": "code",
   "execution_count": 10,
   "id": "f0586428-904e-4c3a-9567-6c9c730cb0b3",
   "metadata": {},
   "outputs": [
    {
     "name": "stdout",
     "output_type": "stream",
     "text": [
      "\n",
      " ===Logistic Regression===\n"
     ]
    },
    {
     "name": "stderr",
     "output_type": "stream",
     "text": [
      "C:\\anaconda\\Lib\\site-packages\\sklearn\\linear_model\\_logistic.py:460: ConvergenceWarning: lbfgs failed to converge (status=1):\n",
      "STOP: TOTAL NO. of ITERATIONS REACHED LIMIT.\n",
      "\n",
      "Increase the number of iterations (max_iter) or scale the data as shown in:\n",
      "    https://scikit-learn.org/stable/modules/preprocessing.html\n",
      "Please also refer to the documentation for alternative solver options:\n",
      "    https://scikit-learn.org/stable/modules/linear_model.html#logistic-regression\n",
      "  n_iter_i = _check_optimize_result(\n"
     ]
    },
    {
     "name": "stdout",
     "output_type": "stream",
     "text": [
      "\n",
      " Accuracy: 0.9992246149508336\n",
      "\n",
      " Precision: 0.8387096774193549\n",
      "\n",
      " Recall: 0.6046511627906976\n",
      "\n",
      " ===Decision Tree Classifier===\n",
      "\n",
      " Accuracy: 0.9991541254009093\n",
      "\n",
      " Precision: 0.69\n",
      "\n",
      " Recall: 0.8023255813953488\n",
      "\n",
      " ===Random Forest Classifier===\n",
      "\n",
      " Accuracy: 0.9995241955380115\n",
      "\n",
      " Precision: 0.9154929577464789\n",
      "\n",
      " Recall: 0.7558139534883721\n"
     ]
    }
   ],
   "source": [
    "#Training Models & Running Predictions\n",
    "classifiers = {\n",
    "    \"Logistic Regression\": LogisticRegression(random_state=5, max_iter = 500),\n",
    "    \"Decision Tree Classifier\": DecisionTreeClassifier(random_state=5),\n",
    "    \"Random Forest Classifier\": RandomForestClassifier(random_state=5)\n",
    "}\n",
    "\n",
    "for name, clf in classifiers.items():\n",
    "    print(f\"\\n ==={name}===\")\n",
    "    clf.fit(x_train, y_train)\n",
    "    y_predict = clf.predict(x_test)\n",
    "    print(f\"\\n Accuracy: {accuracy_score(y_test, y_predict)}\")\n",
    "    print(f\"\\n Precision: {precision_score(y_test, y_predict)}\")\n",
    "    print(f\"\\n Recall: {recall_score(y_test, y_predict)}\")"
   ]
  },
  {
   "cell_type": "markdown",
   "id": "1f85e622-d5a5-4e17-9869-afc3ff96e2ea",
   "metadata": {},
   "source": [
    "### Initial Evaluation of Models"
   ]
  },
  {
   "cell_type": "markdown",
   "id": "d5e8273a-af75-4979-9124-fd2851d1b8cd",
   "metadata": {},
   "source": [
    "> After training the model and running predictions there many notable details in the results depicted above. First, we'll start with the accuracy score which were all ~99%. This is misleading for the reason I mentioned earlier that even without a model, if someone had predicted 100% of the purchases to be non-fraudulent, they'd achieve the same high accuracy due to the imbalanced nature of the datas\n",
    "et. This could be a costly mistake for credit card companies and their constituents. So metrics that will be more important for this case will be precision and recall, whose definition I will all define below:\n",
    "> - Accuracy: measures the overall correctness of the model, it is the ratio of correctly predicted instances to the total instances\n",
    "> - Precison: measures the correctness of positive predictions, it is the ratio of correctly predicted positive instances to the total predicted positive instances (Note that positive instances in this case indicate a fraudulent purchase)\n",
    "> - Recall: measures the ability of the model to find all the relevant positive instacnes, it is the ratio of correctly predicted instances to the total actual positive instances\n",
    ">\n",
    "> Given these definitions, we would thus want an especially high recall as false negatives (flagging a purchase as real when it is actually fraudulent) will be extremely costly. While precision is also important, getting a false positive in this situation is far less harmful. So let's take a look at the models and see how well they performed in these areas. The Logistic Regression model achieved a solid score for precision (83.8%) but had a lackluster recall score (60.4%). Meanwhile, the Decision Tree model had a lower precision score of (69%) but a higher recall (80.2%). Finally, the Random Forest classifier achieved the highest precision score (91.5%) as well as the highest recall (75.5%), though it took the longest time to process the dataset. Before I go about raising these metrics and handling the glaring imbalance problem, I'm going to backtrack to our feature(s), more specifically the 'Amount' feature within our credit_data. "
   ]
  },
  {
   "cell_type": "markdown",
   "id": "ba612ec7-0d09-48ed-8b85-dfd49184a984",
   "metadata": {},
   "source": [
    "#### Scaling & Standardization"
   ]
  },
  {
   "cell_type": "markdown",
   "id": "f1ab48ed-d6d4-4b53-bd42-e6ff3acfe763",
   "metadata": {},
   "source": [
    "> The 'Amount' column within our data set has yet to be scaled and standardized relative to the rest of the features. The larger ranges and values may affect the model's performance. By scaling the values within the 'Amount' column we may see minor improvements in models that use gradient descent, like logistic regression. We'll perform the following below and rerun our regression model to see if anything changes.\n"
   ]
  },
  {
   "cell_type": "code",
   "execution_count": 11,
   "id": "9f8f7cdf-ce0a-4772-8682-d0ce09dcd681",
   "metadata": {},
   "outputs": [],
   "source": [
    "from sklearn.preprocessing import StandardScaler"
   ]
  },
  {
   "cell_type": "code",
   "execution_count": 12,
   "id": "3f7ccaba-e0dd-4130-a952-bb1df7d49965",
   "metadata": {},
   "outputs": [
    {
     "data": {
      "text/html": [
       "<div>\n",
       "<style scoped>\n",
       "    .dataframe tbody tr th:only-of-type {\n",
       "        vertical-align: middle;\n",
       "    }\n",
       "\n",
       "    .dataframe tbody tr th {\n",
       "        vertical-align: top;\n",
       "    }\n",
       "\n",
       "    .dataframe thead th {\n",
       "        text-align: right;\n",
       "    }\n",
       "</style>\n",
       "<table border=\"1\" class=\"dataframe\">\n",
       "  <thead>\n",
       "    <tr style=\"text-align: right;\">\n",
       "      <th></th>\n",
       "      <th>V1</th>\n",
       "      <th>V2</th>\n",
       "      <th>V3</th>\n",
       "      <th>V4</th>\n",
       "      <th>V5</th>\n",
       "      <th>V6</th>\n",
       "      <th>V7</th>\n",
       "      <th>V8</th>\n",
       "      <th>V9</th>\n",
       "      <th>V10</th>\n",
       "      <th>...</th>\n",
       "      <th>V21</th>\n",
       "      <th>V22</th>\n",
       "      <th>V23</th>\n",
       "      <th>V24</th>\n",
       "      <th>V25</th>\n",
       "      <th>V26</th>\n",
       "      <th>V27</th>\n",
       "      <th>V28</th>\n",
       "      <th>Amount</th>\n",
       "      <th>Class</th>\n",
       "    </tr>\n",
       "  </thead>\n",
       "  <tbody>\n",
       "    <tr>\n",
       "      <th>0</th>\n",
       "      <td>-1.359807</td>\n",
       "      <td>-0.072781</td>\n",
       "      <td>2.536347</td>\n",
       "      <td>1.378155</td>\n",
       "      <td>-0.338321</td>\n",
       "      <td>0.462388</td>\n",
       "      <td>0.239599</td>\n",
       "      <td>0.098698</td>\n",
       "      <td>0.363787</td>\n",
       "      <td>0.090794</td>\n",
       "      <td>...</td>\n",
       "      <td>-0.018307</td>\n",
       "      <td>0.277838</td>\n",
       "      <td>-0.110474</td>\n",
       "      <td>0.066928</td>\n",
       "      <td>0.128539</td>\n",
       "      <td>-0.189115</td>\n",
       "      <td>0.133558</td>\n",
       "      <td>-0.021053</td>\n",
       "      <td>0.244200</td>\n",
       "      <td>0</td>\n",
       "    </tr>\n",
       "    <tr>\n",
       "      <th>1</th>\n",
       "      <td>1.191857</td>\n",
       "      <td>0.266151</td>\n",
       "      <td>0.166480</td>\n",
       "      <td>0.448154</td>\n",
       "      <td>0.060018</td>\n",
       "      <td>-0.082361</td>\n",
       "      <td>-0.078803</td>\n",
       "      <td>0.085102</td>\n",
       "      <td>-0.255425</td>\n",
       "      <td>-0.166974</td>\n",
       "      <td>...</td>\n",
       "      <td>-0.225775</td>\n",
       "      <td>-0.638672</td>\n",
       "      <td>0.101288</td>\n",
       "      <td>-0.339846</td>\n",
       "      <td>0.167170</td>\n",
       "      <td>0.125895</td>\n",
       "      <td>-0.008983</td>\n",
       "      <td>0.014724</td>\n",
       "      <td>-0.342584</td>\n",
       "      <td>0</td>\n",
       "    </tr>\n",
       "    <tr>\n",
       "      <th>2</th>\n",
       "      <td>-1.358354</td>\n",
       "      <td>-1.340163</td>\n",
       "      <td>1.773209</td>\n",
       "      <td>0.379780</td>\n",
       "      <td>-0.503198</td>\n",
       "      <td>1.800499</td>\n",
       "      <td>0.791461</td>\n",
       "      <td>0.247676</td>\n",
       "      <td>-1.514654</td>\n",
       "      <td>0.207643</td>\n",
       "      <td>...</td>\n",
       "      <td>0.247998</td>\n",
       "      <td>0.771679</td>\n",
       "      <td>0.909412</td>\n",
       "      <td>-0.689281</td>\n",
       "      <td>-0.327642</td>\n",
       "      <td>-0.139097</td>\n",
       "      <td>-0.055353</td>\n",
       "      <td>-0.059752</td>\n",
       "      <td>1.158900</td>\n",
       "      <td>0</td>\n",
       "    </tr>\n",
       "    <tr>\n",
       "      <th>3</th>\n",
       "      <td>-0.966272</td>\n",
       "      <td>-0.185226</td>\n",
       "      <td>1.792993</td>\n",
       "      <td>-0.863291</td>\n",
       "      <td>-0.010309</td>\n",
       "      <td>1.247203</td>\n",
       "      <td>0.237609</td>\n",
       "      <td>0.377436</td>\n",
       "      <td>-1.387024</td>\n",
       "      <td>-0.054952</td>\n",
       "      <td>...</td>\n",
       "      <td>-0.108300</td>\n",
       "      <td>0.005274</td>\n",
       "      <td>-0.190321</td>\n",
       "      <td>-1.175575</td>\n",
       "      <td>0.647376</td>\n",
       "      <td>-0.221929</td>\n",
       "      <td>0.062723</td>\n",
       "      <td>0.061458</td>\n",
       "      <td>0.139886</td>\n",
       "      <td>0</td>\n",
       "    </tr>\n",
       "    <tr>\n",
       "      <th>4</th>\n",
       "      <td>-1.158233</td>\n",
       "      <td>0.877737</td>\n",
       "      <td>1.548718</td>\n",
       "      <td>0.403034</td>\n",
       "      <td>-0.407193</td>\n",
       "      <td>0.095921</td>\n",
       "      <td>0.592941</td>\n",
       "      <td>-0.270533</td>\n",
       "      <td>0.817739</td>\n",
       "      <td>0.753074</td>\n",
       "      <td>...</td>\n",
       "      <td>-0.009431</td>\n",
       "      <td>0.798278</td>\n",
       "      <td>-0.137458</td>\n",
       "      <td>0.141267</td>\n",
       "      <td>-0.206010</td>\n",
       "      <td>0.502292</td>\n",
       "      <td>0.219422</td>\n",
       "      <td>0.215153</td>\n",
       "      <td>-0.073813</td>\n",
       "      <td>0</td>\n",
       "    </tr>\n",
       "  </tbody>\n",
       "</table>\n",
       "<p>5 rows × 30 columns</p>\n",
       "</div>"
      ],
      "text/plain": [
       "         V1        V2        V3        V4        V5        V6        V7  \\\n",
       "0 -1.359807 -0.072781  2.536347  1.378155 -0.338321  0.462388  0.239599   \n",
       "1  1.191857  0.266151  0.166480  0.448154  0.060018 -0.082361 -0.078803   \n",
       "2 -1.358354 -1.340163  1.773209  0.379780 -0.503198  1.800499  0.791461   \n",
       "3 -0.966272 -0.185226  1.792993 -0.863291 -0.010309  1.247203  0.237609   \n",
       "4 -1.158233  0.877737  1.548718  0.403034 -0.407193  0.095921  0.592941   \n",
       "\n",
       "         V8        V9       V10  ...       V21       V22       V23       V24  \\\n",
       "0  0.098698  0.363787  0.090794  ... -0.018307  0.277838 -0.110474  0.066928   \n",
       "1  0.085102 -0.255425 -0.166974  ... -0.225775 -0.638672  0.101288 -0.339846   \n",
       "2  0.247676 -1.514654  0.207643  ...  0.247998  0.771679  0.909412 -0.689281   \n",
       "3  0.377436 -1.387024 -0.054952  ... -0.108300  0.005274 -0.190321 -1.175575   \n",
       "4 -0.270533  0.817739  0.753074  ... -0.009431  0.798278 -0.137458  0.141267   \n",
       "\n",
       "        V25       V26       V27       V28    Amount  Class  \n",
       "0  0.128539 -0.189115  0.133558 -0.021053  0.244200      0  \n",
       "1  0.167170  0.125895 -0.008983  0.014724 -0.342584      0  \n",
       "2 -0.327642 -0.139097 -0.055353 -0.059752  1.158900      0  \n",
       "3  0.647376 -0.221929  0.062723  0.061458  0.139886      0  \n",
       "4 -0.206010  0.502292  0.219422  0.215153 -0.073813      0  \n",
       "\n",
       "[5 rows x 30 columns]"
      ]
     },
     "execution_count": 12,
     "metadata": {},
     "output_type": "execute_result"
    }
   ],
   "source": [
    "sc = StandardScaler()\n",
    "credit_data['Amount'] = sc.fit_transform(pd.DataFrame(credit_data['Amount']))\n",
    "credit_data.head()"
   ]
  },
  {
   "cell_type": "code",
   "execution_count": 13,
   "id": "8607f2a4-7407-41eb-a7e1-a6ca97f61d08",
   "metadata": {},
   "outputs": [
    {
     "name": "stdout",
     "output_type": "stream",
     "text": [
      "\n",
      " ===Logistic Regression===\n",
      "\n",
      " Accuracy: 0.9992246149508336\n",
      "\n",
      " Precision: 0.8387096774193549\n",
      "\n",
      " Recall: 0.6046511627906976\n"
     ]
    }
   ],
   "source": [
    "#Prep Train/Test new data\n",
    "y = credit_data['Class']\n",
    "x = credit_data.drop('Class', axis = 1)\n",
    "x_train, x_test, y_train, y_test = train_test_split(x, y, test_size=.2, random_state=3)\n",
    "\n",
    "Log_Reg = LogisticRegression()\n",
    "Log_fit = Log_Reg.fit(x_train,y_train)\n",
    "Log_predict = Log_fit.predict(x_test)\n",
    "                            \n",
    "print(f\"\\n ===Logistic Regression===\")\n",
    "print(f\"\\n Accuracy: {accuracy_score(y_test, Log_predict)}\")\n",
    "print(f\"\\n Precision: {precision_score(y_test, Log_predict)}\")\n",
    "print(f\"\\n Recall: {recall_score(y_test, Log_predict)}\")"
   ]
  },
  {
   "cell_type": "markdown",
   "id": "06eb9120-e77c-40cc-b915-47bfb1d9c211",
   "metadata": {},
   "source": [
    "#### Handling Data Imbalance: Under & Over-sampling\n",
    "> It seems scaling the transaction amount did not impact the model's performance so we'll move onto dealing with the data imbalance more directly. To remedy this issue I'll be employing the use of **under-sampling** as well as **over-sampling** on our dataset and evaluating the model performance afterwards. In under-sampling, the number of instances for the majority class is reduced to match the number of instances in the minority class (fraud purchases). This will hopefully allow the models to recognize minority classes better though some information on the majority class is lost. Over-sampling on the other hand, will enlarge the frequency of fraudulent purchases to match authentic ones. While this will likely improve our models as well, longer training times are to be expected due to the sheer volume of data that will be present."
   ]
  },
  {
   "cell_type": "code",
   "execution_count": 19,
   "id": "480ce468-d7ae-46a4-a8d6-0871826aabbd",
   "metadata": {},
   "outputs": [
    {
     "data": {
      "text/plain": [
       "(473, 30)"
      ]
     },
     "execution_count": 19,
     "metadata": {},
     "output_type": "execute_result"
    }
   ],
   "source": [
    "real = credit_data[credit_data['Class'] == 0]\n",
    "fraud = credit_data[credit_data['Class'] == 1]\n",
    "fraud.shape"
   ]
  },
  {
   "cell_type": "code",
   "execution_count": 20,
   "id": "9f6678ca-4775-438c-a74c-325ee5f04f67",
   "metadata": {},
   "outputs": [],
   "source": [
    "real_sample = real.sample(n=473)"
   ]
  },
  {
   "cell_type": "code",
   "execution_count": 21,
   "id": "29dbd081-8f66-446f-912d-1f520077b3e0",
   "metadata": {},
   "outputs": [
    {
     "data": {
      "text/html": [
       "<div>\n",
       "<style scoped>\n",
       "    .dataframe tbody tr th:only-of-type {\n",
       "        vertical-align: middle;\n",
       "    }\n",
       "\n",
       "    .dataframe tbody tr th {\n",
       "        vertical-align: top;\n",
       "    }\n",
       "\n",
       "    .dataframe thead th {\n",
       "        text-align: right;\n",
       "    }\n",
       "</style>\n",
       "<table border=\"1\" class=\"dataframe\">\n",
       "  <thead>\n",
       "    <tr style=\"text-align: right;\">\n",
       "      <th></th>\n",
       "      <th>V1</th>\n",
       "      <th>V2</th>\n",
       "      <th>V3</th>\n",
       "      <th>V4</th>\n",
       "      <th>V5</th>\n",
       "      <th>V6</th>\n",
       "      <th>V7</th>\n",
       "      <th>V8</th>\n",
       "      <th>V9</th>\n",
       "      <th>V10</th>\n",
       "      <th>...</th>\n",
       "      <th>V21</th>\n",
       "      <th>V22</th>\n",
       "      <th>V23</th>\n",
       "      <th>V24</th>\n",
       "      <th>V25</th>\n",
       "      <th>V26</th>\n",
       "      <th>V27</th>\n",
       "      <th>V28</th>\n",
       "      <th>Amount</th>\n",
       "      <th>Class</th>\n",
       "    </tr>\n",
       "  </thead>\n",
       "  <tbody>\n",
       "    <tr>\n",
       "      <th>0</th>\n",
       "      <td>-2.488016</td>\n",
       "      <td>0.085694</td>\n",
       "      <td>-0.203092</td>\n",
       "      <td>1.139769</td>\n",
       "      <td>1.693764</td>\n",
       "      <td>-0.984222</td>\n",
       "      <td>1.652730</td>\n",
       "      <td>-2.031623</td>\n",
       "      <td>0.825875</td>\n",
       "      <td>1.955998</td>\n",
       "      <td>...</td>\n",
       "      <td>0.265636</td>\n",
       "      <td>0.629624</td>\n",
       "      <td>0.657085</td>\n",
       "      <td>-0.005730</td>\n",
       "      <td>0.232360</td>\n",
       "      <td>-0.480947</td>\n",
       "      <td>-0.665304</td>\n",
       "      <td>-0.783282</td>\n",
       "      <td>13.31</td>\n",
       "      <td>0</td>\n",
       "    </tr>\n",
       "    <tr>\n",
       "      <th>1</th>\n",
       "      <td>1.116222</td>\n",
       "      <td>-0.894885</td>\n",
       "      <td>-0.150620</td>\n",
       "      <td>-0.444591</td>\n",
       "      <td>-1.061179</td>\n",
       "      <td>-1.202285</td>\n",
       "      <td>0.006002</td>\n",
       "      <td>-0.342814</td>\n",
       "      <td>-0.966557</td>\n",
       "      <td>0.653265</td>\n",
       "      <td>...</td>\n",
       "      <td>-0.358217</td>\n",
       "      <td>-0.934289</td>\n",
       "      <td>-0.079090</td>\n",
       "      <td>0.407999</td>\n",
       "      <td>0.236777</td>\n",
       "      <td>0.996149</td>\n",
       "      <td>-0.109909</td>\n",
       "      <td>0.026821</td>\n",
       "      <td>163.64</td>\n",
       "      <td>0</td>\n",
       "    </tr>\n",
       "    <tr>\n",
       "      <th>2</th>\n",
       "      <td>1.393508</td>\n",
       "      <td>-0.496592</td>\n",
       "      <td>0.319095</td>\n",
       "      <td>-0.870694</td>\n",
       "      <td>-0.832164</td>\n",
       "      <td>-0.556248</td>\n",
       "      <td>-0.604828</td>\n",
       "      <td>-0.038255</td>\n",
       "      <td>-1.022695</td>\n",
       "      <td>0.799577</td>\n",
       "      <td>...</td>\n",
       "      <td>-0.022282</td>\n",
       "      <td>-0.230530</td>\n",
       "      <td>0.031546</td>\n",
       "      <td>-0.063932</td>\n",
       "      <td>0.323685</td>\n",
       "      <td>-0.412141</td>\n",
       "      <td>-0.001658</td>\n",
       "      <td>0.005487</td>\n",
       "      <td>11.21</td>\n",
       "      <td>0</td>\n",
       "    </tr>\n",
       "    <tr>\n",
       "      <th>3</th>\n",
       "      <td>-0.089780</td>\n",
       "      <td>1.338690</td>\n",
       "      <td>-0.172202</td>\n",
       "      <td>0.726921</td>\n",
       "      <td>1.409766</td>\n",
       "      <td>-0.276836</td>\n",
       "      <td>1.775034</td>\n",
       "      <td>-0.577840</td>\n",
       "      <td>-0.565854</td>\n",
       "      <td>0.275728</td>\n",
       "      <td>...</td>\n",
       "      <td>0.037301</td>\n",
       "      <td>0.642846</td>\n",
       "      <td>-0.429344</td>\n",
       "      <td>-0.726931</td>\n",
       "      <td>0.127219</td>\n",
       "      <td>-0.372357</td>\n",
       "      <td>0.158846</td>\n",
       "      <td>0.005407</td>\n",
       "      <td>28.25</td>\n",
       "      <td>0</td>\n",
       "    </tr>\n",
       "    <tr>\n",
       "      <th>4</th>\n",
       "      <td>1.304473</td>\n",
       "      <td>-0.490863</td>\n",
       "      <td>0.779575</td>\n",
       "      <td>-0.505592</td>\n",
       "      <td>-1.168957</td>\n",
       "      <td>-0.796715</td>\n",
       "      <td>-0.751515</td>\n",
       "      <td>-0.109070</td>\n",
       "      <td>0.335377</td>\n",
       "      <td>0.416607</td>\n",
       "      <td>...</td>\n",
       "      <td>-0.173726</td>\n",
       "      <td>-0.501863</td>\n",
       "      <td>0.146498</td>\n",
       "      <td>0.443352</td>\n",
       "      <td>0.117636</td>\n",
       "      <td>-0.550645</td>\n",
       "      <td>-0.029256</td>\n",
       "      <td>0.011062</td>\n",
       "      <td>33.49</td>\n",
       "      <td>0</td>\n",
       "    </tr>\n",
       "  </tbody>\n",
       "</table>\n",
       "<p>5 rows × 30 columns</p>\n",
       "</div>"
      ],
      "text/plain": [
       "         V1        V2        V3        V4        V5        V6        V7  \\\n",
       "0 -2.488016  0.085694 -0.203092  1.139769  1.693764 -0.984222  1.652730   \n",
       "1  1.116222 -0.894885 -0.150620 -0.444591 -1.061179 -1.202285  0.006002   \n",
       "2  1.393508 -0.496592  0.319095 -0.870694 -0.832164 -0.556248 -0.604828   \n",
       "3 -0.089780  1.338690 -0.172202  0.726921  1.409766 -0.276836  1.775034   \n",
       "4  1.304473 -0.490863  0.779575 -0.505592 -1.168957 -0.796715 -0.751515   \n",
       "\n",
       "         V8        V9       V10  ...       V21       V22       V23       V24  \\\n",
       "0 -2.031623  0.825875  1.955998  ...  0.265636  0.629624  0.657085 -0.005730   \n",
       "1 -0.342814 -0.966557  0.653265  ... -0.358217 -0.934289 -0.079090  0.407999   \n",
       "2 -0.038255 -1.022695  0.799577  ... -0.022282 -0.230530  0.031546 -0.063932   \n",
       "3 -0.577840 -0.565854  0.275728  ...  0.037301  0.642846 -0.429344 -0.726931   \n",
       "4 -0.109070  0.335377  0.416607  ... -0.173726 -0.501863  0.146498  0.443352   \n",
       "\n",
       "        V25       V26       V27       V28  Amount  Class  \n",
       "0  0.232360 -0.480947 -0.665304 -0.783282   13.31      0  \n",
       "1  0.236777  0.996149 -0.109909  0.026821  163.64      0  \n",
       "2  0.323685 -0.412141 -0.001658  0.005487   11.21      0  \n",
       "3  0.127219 -0.372357  0.158846  0.005407   28.25      0  \n",
       "4  0.117636 -0.550645 -0.029256  0.011062   33.49      0  \n",
       "\n",
       "[5 rows x 30 columns]"
      ]
     },
     "execution_count": 21,
     "metadata": {},
     "output_type": "execute_result"
    }
   ],
   "source": [
    "under_sample_data = pd.concat([real_sample,fraud], \n",
    "                              ignore_index = True)\n",
    "under_sample_data.head()"
   ]
  },
  {
   "cell_type": "code",
   "execution_count": 22,
   "id": "1e872286-4021-4496-b48b-748a2496d510",
   "metadata": {},
   "outputs": [
    {
     "data": {
      "text/plain": [
       "Text(0.5, 1.0, 'Credit Data Distribution (Under-Sampling)')"
      ]
     },
     "execution_count": 22,
     "metadata": {},
     "output_type": "execute_result"
    },
    {
     "data": {
      "image/png": "[encoded data removed]",
      "text/plain": [
       "<Figure size 640x480 with 1 Axes>"
      ]
     },
     "metadata": {},
     "output_type": "display_data"
    }
   ],
   "source": [
    "plt.style.use('ggplot')\n",
    "sns.countplot(x='Class', data=under_sample_data) \n",
    "plt.title('Credit Data Distribution (Under-Sampling)')"
   ]
  },
  {
   "cell_type": "code",
   "execution_count": 23,
   "id": "af29cf7a-a7b2-44b1-b905-c33b334c4747",
   "metadata": {},
   "outputs": [],
   "source": [
    "#Prep Train/Test data\n",
    "y_u = under_sample_data['Class']\n",
    "x_u = under_sample_data.drop('Class', axis = 1)\n",
    "x_train, x_test, y_train, y_test = train_test_split(x_u, y_u, test_size=.2, random_state=3)"
   ]
  },
  {
   "cell_type": "code",
   "execution_count": 19,
   "id": "0a891788-60d8-4ba6-9f2b-6c00f6645c9d",
   "metadata": {},
   "outputs": [
    {
     "name": "stdout",
     "output_type": "stream",
     "text": [
      "\n",
      " ===Logistic Regression===\n",
      "\n",
      " Accuracy: 0.9526315789473684\n",
      "\n",
      " Precision: 0.9876543209876543\n",
      "\n",
      " Recall: 0.9090909090909091\n",
      "\n",
      " ===Decision Tree Classifier===\n",
      "\n",
      " Accuracy: 0.9263157894736842\n",
      "\n",
      " Precision: 0.9111111111111111\n",
      "\n",
      " Recall: 0.9318181818181818\n",
      "\n",
      " ===Random Forest Classifier===\n",
      "\n",
      " Accuracy: 0.9421052631578948\n",
      "\n",
      " Precision: 0.9529411764705882\n",
      "\n",
      " Recall: 0.9204545454545454\n"
     ]
    }
   ],
   "source": [
    "#Training Models & Running Predictions (Under-Sample)\n",
    "classifiers = {\n",
    "    \"Logistic Regression\": LogisticRegression(random_state=5, max_iter = 500),\n",
    "    \"Decision Tree Classifier\": DecisionTreeClassifier(random_state=5),\n",
    "    \"Random Forest Classifier\": RandomForestClassifier(random_state=5)\n",
    "}\n",
    "\n",
    "for name, clf in classifiers.items():\n",
    "    print(f\"\\n ==={name}===\")\n",
    "    clf.fit(x_train, y_train)\n",
    "    y_predict = clf.predict(x_test)\n",
    "    print(f\"\\n Accuracy: {accuracy_score(y_test, y_predict)}\")\n",
    "    print(f\"\\n Precision: {precision_score(y_test, y_predict)}\")\n",
    "    print(f\"\\n Recall: {recall_score(y_test, y_predict)}\")"
   ]
  },
  {
   "cell_type": "code",
   "execution_count": 10,
   "id": "24357131-f449-4445-a68e-a04d5291d217",
   "metadata": {},
   "outputs": [],
   "source": [
    "from imblearn.over_sampling import SMOTE\n",
    "x_over, y_over= SMOTE().fit_resample(x, y)"
   ]
  },
  {
   "cell_type": "code",
   "execution_count": 12,
   "id": "cc334c41-6b20-42f4-a73e-41ce5f8c112c",
   "metadata": {},
   "outputs": [
    {
     "data": {
      "image/png": "[encoded data removed]",
      "text/plain": [
       "<Figure size 640x480 with 1 Axes>"
      ]
     },
     "metadata": {},
     "output_type": "display_data"
    }
   ],
   "source": [
    "over_sample_data = y_over.to_frame()\n",
    "over_sample_data = over_sample_data.rename(columns={over_sample_data.columns[0]: 'Class'})\n",
    "\n",
    "plt.style.use('ggplot')\n",
    "sns.countplot(x='Class',data=over_sample_data)\n",
    "plt.title('Credit Data Distribution (Over-Sampling)')\n",
    "plt.show()"
   ]
  },
  {
   "cell_type": "code",
   "execution_count": 26,
   "id": "fe7b21e8",
   "metadata": {},
   "outputs": [],
   "source": [
    "#Prep Train/Test data\n",
    "x_train, x_test, y_train, y_test = train_test_split(x_over, y_over, test_size=.2, random_state=3)"
   ]
  },
  {
   "cell_type": "code",
   "execution_count": 27,
   "id": "ad48d2fc-17fe-4b3a-af3c-53f12464bb2f",
   "metadata": {},
   "outputs": [
    {
     "name": "stdout",
     "output_type": "stream",
     "text": [
      "\n",
      " ===Logistic Regression===\n"
     ]
    },
    {
     "name": "stderr",
     "output_type": "stream",
     "text": [
      "C:\\anaconda\\Lib\\site-packages\\sklearn\\linear_model\\_logistic.py:458: ConvergenceWarning: lbfgs failed to converge (status=1):\n",
      "STOP: TOTAL NO. of ITERATIONS REACHED LIMIT.\n",
      "\n",
      "Increase the number of iterations (max_iter) or scale the data as shown in:\n",
      "    https://scikit-learn.org/stable/modules/preprocessing.html\n",
      "Please also refer to the documentation for alternative solver options:\n",
      "    https://scikit-learn.org/stable/modules/linear_model.html#logistic-regression\n",
      "  n_iter_i = _check_optimize_result(\n"
     ]
    },
    {
     "name": "stdout",
     "output_type": "stream",
     "text": [
      "\n",
      " Accuracy: 0.9579883850240949\n",
      "\n",
      " Precision: 0.980488435198346\n",
      "\n",
      " Recall: 0.934828138474806\n",
      "\n",
      " ===Decision Tree Classifier===\n",
      "\n",
      " Accuracy: 0.9981377204285891\n",
      "\n",
      " Precision: 0.9974515800203874\n",
      "\n",
      " Recall: 0.9988384167267992\n",
      "\n",
      " ===Random Forest Classifier===\n",
      "\n",
      " Accuracy: 0.9998676104570087\n",
      "\n",
      " Precision: 0.999736073477144\n",
      "\n",
      " Recall: 1.0\n"
     ]
    }
   ],
   "source": [
    "#Training Models & Running Predictions (Over-Sample)\n",
    "classifiers = {\n",
    "    \"Logistic Regression\": LogisticRegression(random_state=5, max_iter = 500),\n",
    "    \"Decision Tree Classifier\": DecisionTreeClassifier(random_state=5),\n",
    "    \"Random Forest Classifier\": RandomForestClassifier(random_state=5)\n",
    "}\n",
    "\n",
    "for name, clf in classifiers.items():\n",
    "    print(f\"\\n ==={name}===\")\n",
    "    clf.fit(x_train, y_train)\n",
    "    y_predict = clf.predict(x_test)\n",
    "    print(f\"\\n Accuracy: {accuracy_score(y_test, y_predict)}\")\n",
    "    print(f\"\\n Precision: {precision_score(y_test, y_predict)}\")\n",
    "    print(f\"\\n Recall: {recall_score(y_test, y_predict)}\")"
   ]
  },
  {
   "cell_type": "markdown",
   "id": "c1bb86c9",
   "metadata": {},
   "source": [
    "### Final Model Evaluation \n",
    "> After running fitting and training all three models on both the undersampled and oversampled dataset, we see drastic improvements in our evaluation scores (most notably within precision & recall). In our undersampled dataset we see improvements within all 3 models as they were able to break 90% in all evaluation metrics. While the accuracy score dipped slightly around 5% across each model, this may mostly be due to an increased false positive rate which in this case is far less of an issue. Moving onto our oversampled dataset is where the highest evaluation scores were found with all 3 metrics being above 99.9% when using the Random Forest Classifier. Other models found similar success with the Logistic Regression and Decision Tree models posting recall scores of 93.4% and 99.8% respectively. This is most likely due to the fact that the models have far more information and data to train themselves on and were able to far more accurately predict fraudulent and real purchases. Below I'll extract our model, using the Decision Tree Classification model. My reasoning for using this model over the Random Forest is it's practicality when handling large datasets as it is a much faster model. Given the context of the situation, detecting fraud in a timely (and accurate) manner and notifying customers early is key to my model's success."
   ]
  },
  {
   "cell_type": "code",
   "execution_count": 38,
   "id": "28514bc3",
   "metadata": {},
   "outputs": [],
   "source": [
    "#Extracting RandomForest Model\n",
    "import joblib \n",
    "dtc = DecisionTreeClassifier()\n",
    "dtc.fit(x_over, y_over)\n",
    "joblib.dump(dtc, \"fraud_detection_model.pkl\")\n",
    "detection_model = joblib.load(\"fraud_detection_model.pkl\")"
   ]
  },
  {
   "cell_type": "markdown",
   "id": "fd43a870",
   "metadata": {},
   "source": [
    "\n"
   ]
  },
  {
   "cell_type": "markdown",
   "id": "a13d6b09",
   "metadata": {},
   "source": [
    "### Conclusions\n",
    "As I extract my machine learning model, let's review some key concepts I learned from this project:\n",
    "  - **Appropriate Evaluation Metrics:** Accuracy isn't everything, and evaluating the efficacy of a model on a single metric alone can be extremely misleading and at times harmful. Especially given the context of the data and problem that I am working with today, a high accuracy score can be achieved through random guessing but would mean nothing when fraudulent purchases are not identified. Hence, why I used both Precision and Recall scores as better metrics with which to evaluate the model. Another evaluation metric I could've used for this classification problem include F1-score\n",
    "  - **Handling Unbalanced Data:** The dataset I was working with was extremely unbalanced and this posed issues such as the one I just mentioned regarding accuracy, as well as hurting the ability of the machine-learning models to identify and flag fraudulent purchases. Learning how to both under and oversample the data in order to balance it was key in achieving high scores in the appropriate evaluation metrics.\n",
    "  - **Machine Learning Models Use Cases:** Each and every machine learning model has use cases in which it is far more appropriate to use. I selected the following machine learning models due to their fast training speeds, but varying type and resource needs (Linear/Non-Linear Model & Small/Large Memory footprint)\n",
    "\n",
    "### Acknowledgements\n",
    "Credit Card data courtesy of ***Machine Learning Group*** and can be found [here](https://www.kaggle.com/datasets/mlg-ulb/creditcardfraud)"
   ]
  }
 ],
 "metadata": {
  "kernelspec": {
   "display_name": "Python 3 (ipykernel)",
   "language": "python",
   "name": "python3"
  },
  "language_info": {
   "codemirror_mode": {
    "name": "ipython",
    "version": 3
   },
   "file_extension": ".py",
   "mimetype": "text/x-python",
   "name": "python",
   "nbconvert_exporter": "python",
   "pygments_lexer": "ipython3",
   "version": "3.11.4"
  }
 },
 "nbformat": 4,
 "nbformat_minor": 5
}
