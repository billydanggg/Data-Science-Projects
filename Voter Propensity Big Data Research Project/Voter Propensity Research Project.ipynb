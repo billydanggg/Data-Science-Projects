{
 "cells": [
  {
   "cell_type": "markdown",
   "metadata": {
    "application/vnd.databricks.v1+cell": {
     "cellMetadata": {},
     "inputWidgets": {},
     "nuid": "a8c83470-a582-4f6f-8ff0-4218fa22a1aa",
     "showTitle": false,
     "tableResultSettingsMap": {},
     "title": ""
    }
   },
   "source": [
    "# PSTAT135: Big Data Analytics Final Project\n",
    "\n",
    "## Introduction\n",
    "Voter participation is essential for the success of any democratic system. Strong democracies can only exist if the level of voter participation is high. With the increase in racial diversity in the US, the role of race in the US democratic system is drawing more attention from our policymakers in recent times. While we are aware that there is disparity in the levels of voter participation among different races, the different causes are not so clearly identified. Analysis of relevant data is an important step towards finding answers to such questions.\n",
    "\n",
    "## The Voter Files\n",
    "In the past, the availability of data was a bottleneck to finding answers to such questions. In recent times the amount of data has grown exponentially. Application of big-data techniques has become very important in dealing with such volumes of data. \n",
    "\n",
    "In this project, you will work with national voter file for the US. The voter files contain records for every registered voter in the US. A voter file exists for each state. Each file contains geographic, demographic, and household information. It also contains the history of voting for each registered voter.\n",
    "\n",
    "### Data Contents\n",
    "There were 726 columns of data before mostly empty columns have been removed. The accompanying [dictionary file](https://storage.googleapis.com/pstat135-data/voterfile/Voter%20File%20Format%20Source%20File%20Layout%2006-16-2020.xlsx) is useful for understanding the information contained in the file.\n",
    "\n",
    "### Handling Data\n",
    "- Many columns have missing data that will need to be handled appropriately\n",
    "- Teams may want to split up the task and assign column sets to team members\n",
    "- Files contain county and district level information\n",
    "- FIPS codes should be used to uniquely identify counties across states\n",
    "- The [uscounties.csv](https://storage.googleapis.com/pstat135-data/voterfile/uscounties.csv) file in the public bucket contains FIPS county codes by state\n",
    "\n",
    "## How to Access the Voter File Data\n",
    "The files have been preprocessed and loaded into BigQuery tables. Each state data is available as a separate table. For example, the table for Alaska, AK, can be found at this path:\n",
    "\n",
    "```bash\n",
    "pstat-135-235-spring-2025.voterfile.AK\n",
    "```\n",
    "\n",
    "To test, query this table from [BigQuery studio](https://console.cloud.google.com/bigquery) with the following SQL command:\n",
    "\n",
    "```sql\n",
    "SELECT count(*) FROM `pstat-135-235-spring-2025.voterfile.AK`\n",
    "```\n",
    "\n",
    "The description of the fields are available in the Excel file provided. The fields with with more than 95% missing values have been removed.\n",
    "\n",
    "In the final project, you will be asked to use many of the tools learned in the class to interact with voter file.\n",
    "\n"
   ]
  },
  {
   "cell_type": "markdown",
   "metadata": {
    "application/vnd.databricks.v1+cell": {
     "cellMetadata": {},
     "inputWidgets": {},
     "nuid": "eef98e84-239d-4733-ace7-a1cba71a6492",
     "showTitle": false,
     "tableResultSettingsMap": {},
     "title": ""
    }
   },
   "source": [
    "## 1. Data in BigQuery\n",
    "\n",
    "### 1.1. Connect BigQuery table in Databricks Catalog. \n",
    "\n",
    "Refer to Assignment 2 for tips. Provide a screenshot in your project submission.\n",
    "\n",
    "### 1.2. Shell Script in Cloud Shell\n",
    "\n",
    "Using an AI assistant of your choice, write a shell script to count how many rows are in each table. Use a bash array of state codes and programmatically query each table. \n",
    "\n",
    "```bash\n",
    "states=(\n",
    "    AK AL AR AZ CO CT DC DE GA HI\n",
    "    IA ID IL IN KS KY LA MA MD ME \n",
    "    MI MN MO MS MT NC ND NE NH NJ \n",
    "    NM NV OH OK OR RI SC SD TN UT \n",
    "    VA VT WA WI WV WY\n",
    ")\n",
    "echo \"### One state : ${states[1]}\"\n",
    "echo \"### All states: ${states[@]}\"\n",
    "```\n",
    "\n",
    "Run your shell script in Google Cloud Shell. Briefly explain your shell script and include the script in your project submission.  \n",
    "\n",
    "\n",
    "\n"
   ]
  },
  {
   "cell_type": "markdown",
   "metadata": {
    "application/vnd.databricks.v1+cell": {
     "cellMetadata": {},
     "inputWidgets": {},
     "nuid": "c48998f2-d5d9-4ff5-98db-cd2d5b2b0b4d",
     "showTitle": false,
     "tableResultSettingsMap": {},
     "title": ""
    }
   },
   "source": [
    "result:![](/Workspace/Users/kaitiding@gmail.com/screenshot/1.2.1.png)\n",
    "![](/Workspace/Users/kaitiding@gmail.com/screenshot/1.2.2.png)\n",
    "![](/Workspace/Users/kaitiding@gmail.com/screenshot/1.2.3.png)\n",
    "![](/Workspace/Users/kaitiding@gmail.com/screenshot/1.2.4.png)\n",
    "![](/Workspace/Users/kaitiding@gmail.com/screenshot/1.2.5.png)\n",
    "![](/Workspace/Users/kaitiding@gmail.com/screenshot/1.2.6.png)\n",
    "![](/Workspace/Users/kaitiding@gmail.com/screenshot/1.2.7.png)\n",
    "\n",
    "\n",
    "\n",
    "\n",
    "This shell script uses a bash array to store the list of US state codes. It iterates over each state code and uses the bq command-line tool to execute a BigQuery SQL query that counts the number of rows in each state’s voter file table. The result is printed for each state. This approach allows you to programmatically gather the row counts for all states efficiently."
   ]
  },
  {
   "cell_type": "markdown",
   "metadata": {
    "application/vnd.databricks.v1+cell": {
     "cellMetadata": {},
     "inputWidgets": {},
     "nuid": "a54e3d55-45e5-4dcc-acd1-91bbd40d3328",
     "showTitle": false,
     "tableResultSettingsMap": {},
     "title": ""
    }
   },
   "source": [
    "### 1.3. Voter Turnout Query\n",
    "\n",
    "Using BigQuery Studio, we will make SQL queries to identify the following information.\n",
    "\n",
    "Voter turn out proportions in AK for general elections in years 2000 through 2018. We want to plot the result, so we want the years in a column rather than in column name. We might ask ChatGPT to write us an SQL query. The following was sufficient information about the data to write an accurate query:  \n",
    "\n",
    "```\n",
    "In table voterfile.AK, columns names such as General_2018 exist for every general election years from 2000 to 2018. Create a query to calculate voter turnout proportion for each year. Each row is an individual and the value Y indicate that individual voted. Format the final result to be two columns, year and turnout, sorted by year.\n",
    "```\n",
    "\n",
    "Write the resulting SQL query and screenshot of a visualization that shows the voter turnout over these years.\n",
    "\n",
    "![](/Workspace/Users/kaitiding@gmail.com/screenshot/1.3.1.png)"
   ]
  },
  {
   "cell_type": "markdown",
   "metadata": {
    "application/vnd.databricks.v1+cell": {
     "cellMetadata": {},
     "inputWidgets": {},
     "nuid": "30048d45-6bcd-47ae-9107-74a7f4926a83",
     "showTitle": false,
     "tableResultSettingsMap": {},
     "title": ""
    }
   },
   "source": [
    "### 1.3. BigQuery Notebook\n",
    "\n",
    "Using BigQuery Notebook, execute the following command:  \n",
    "\n",
    "```python\n",
    "import bigframes.pandas as bf\n",
    "df = bf.read_gbq(\"pstat-135-235-spring-2025.voterfile.AK\")\n",
    "df.head(20)\n",
    "```\n",
    "\n",
    "Which compute resource is the notebook running on? Which region? What do you learn with the \"Open Job\" page?\n",
    "\n",
    "You can also run queries in a notebook cell like this:\n",
    "```\n",
    "%%bigquery results\n",
    "[... your SQL query ...]\n",
    "```\n",
    "In the next cell, `results` will contain the output of your query.\n",
    "\n",
    "Run your turnout query in a notebook cell, display results, then plot using suggested line plot:\n",
    "\n",
    "![BigQuery Notebook Visualization](images/bq_notebook_viz.png)\n",
    "\n",
    "Compare approaches in 1.2 and 1.3. What pros and cons are there?\n",
    "\n",
    "\n"
   ]
  },
  {
   "cell_type": "markdown",
   "metadata": {
    "application/vnd.databricks.v1+cell": {
     "cellMetadata": {},
     "inputWidgets": {},
     "nuid": "d5034afc-fa87-4fed-8a5a-2aed36f90824",
     "showTitle": false,
     "tableResultSettingsMap": {},
     "title": ""
    }
   },
   "source": [
    "\n",
    "![](/Workspace/Users/kaitiding@gmail.com/screenshot/1.3.2.png)\n",
    "![](/Workspace/Users/kaitiding@gmail.com/screenshot/1.3.3.png)\n",
    "![](/Workspace/Users/kaitiding@gmail.com/screenshot/1.3.4.png)\n",
    "\n",
    "**Which compute resource is the notebook running on?\n",
    "Ans:**\n",
    "BigQuery Notebooks execute queries using Google Cloud’s serverless BigQuery infrastructure. This means users don’t manage any physical or virtual clusters—compute resources are automatically provisioned and managed by Google. All SQL processing happens on BigQuery’s distributed execution engine (Dremel).\n",
    "\n",
    "**Which region?\n",
    "Ans:**\n",
    "The region is determined by the location of your BigQuery dataset. For this project, the dataset is stored in the US multi-region (or, if specifically set, in a regional location like us-west1). You can check the exact region in the BigQuery console under the dataset details.\n",
    "\n",
    "**What do you learn with the “Open Job” page?\n",
    "Ans:**\n",
    "Clicking \"Open Job\" for a notebook cell reveals:\n",
    "\n",
    "**Execution details:** slot usage, start/end time, total duration, bytes read, and job ID.\n",
    "\n",
    "**Query plan:** detailed breakdown of execution stages, optimization steps, and resource allocation.\n",
    "**\n",
    "Error reporting:** if a query fails, the Open Job page provides detailed error logs and troubleshooting hints.\n",
    "\n",
    "This helps monitor performance, debug issues, and optimize queries.\n",
    "\n",
    "**Comparison of Approaches: Shell Script (1.2) vs. BigQuery Notebook (1.3)\n",
    "Shell Script (1.2):**\n",
    "Best for automating repetitive, large-scale tasks such as counting rows across multiple tables. Runs sequentially in Cloud Shell, outputs raw text, and is suitable for scheduled jobs or data audits. However, it lacks interactivity, visualization, and is slower for data exploration.\n",
    "**\n",
    "BigQuery Notebook (1.3):**\n",
    "Designed for interactive analysis and rapid prototyping. Leverages BigQuery’s distributed compute for fast query processing, allows inline visualization (plots, tables), and easy data manipulation using Python. The “Open Job” feature provides transparency on resource usage and performance. While potentially more expensive for heavy use, it’s the superior option for ad-hoc queries, collaboration, and quick visual insights.\n",
    "\n"
   ]
  },
  {
   "cell_type": "markdown",
   "metadata": {
    "application/vnd.databricks.v1+cell": {
     "cellMetadata": {},
     "inputWidgets": {},
     "nuid": "05fe92f2-1237-43da-926a-90aab5b19753",
     "showTitle": false,
     "tableResultSettingsMap": {},
     "title": ""
    }
   },
   "source": [
    "\n",
    "## 2. Duplicate Data into Databricks\n",
    "\n",
    "### 2.1. Choose a state and export the data to your Databricks storage location:  \n",
    "\n",
    "1. Create a managed volume in Databricks  \n",
    "    ![Catalog Volume](images/create_volume.png)  \n",
    "1. Note the Storage Location under Details  \n",
    "    ![Storage Location](images/volume_storage_location.png)\n",
    "1. Extract `<state>` table to storage location. Refer to documentation on [GCP documentation](https://cloud.google.com/bigquery/docs/exporting-data#export_table_data). Use Parquet format, set SNAPPY compression, and print header to true.\n",
    "    ![Extract Table to File](images/table_extracted.png)\n",
    "\n"
   ]
  },
  {
   "cell_type": "markdown",
   "metadata": {
    "application/vnd.databricks.v1+cell": {
     "cellMetadata": {},
     "inputWidgets": {},
     "nuid": "0081a7c3-5840-4780-a328-a3853dc7ab21",
     "showTitle": false,
     "tableResultSettingsMap": {},
     "title": ""
    }
   },
   "source": [
    "### 2.2. Create a Databricks table from exported files in storage location.  \n",
    "\n",
    "1. Using $\\,\\vdots\\,$ menu, create table:\n",
    "   ![Reconstructed Table](images/db_table.png)\n",
    "1. Use \"Advanced attributes\" to set file format and \"Create table\"\n",
    "   ![Create Table](images/create_table.png)\n",
    "1. Now you have created a Databricks native database table.\n",
    "   ![Table Info](images/table_summary.png)\n",
    "    \n"
   ]
  },
  {
   "cell_type": "markdown",
   "metadata": {
    "application/vnd.databricks.v1+cell": {
     "cellMetadata": {},
     "inputWidgets": {},
     "nuid": "5517a10b-53c6-4313-9797-4fd7a103ea36",
     "showTitle": false,
     "tableResultSettingsMap": {},
     "title": ""
    }
   },
   "source": [
    "### 2.3. EDA and Visualization with Databricks\n",
    "\n",
    "1. Use at least 5 different Pyspark Pandas APIs to perform various data exploration tasks. Explain the documentation specification.\n",
    "1. Visualize voter turnout by age groups: 20s, 30s, ..., 80+. Each age groups is to be plotted as a line trace in a shared plot.\n",
    "1. Create a choropleth visualization of voter turnout rate by county for a chosen year.\n",
    "1. Create a choropleth visualization of party affiliation by county.\n",
    "\n",
    "\n"
   ]
  },
  {
   "cell_type": "code",
   "execution_count": 0,
   "metadata": {
    "application/vnd.databricks.v1+cell": {
     "cellMetadata": {
      "byteLimit": 2048000,
      "implicitDf": true,
      "rowLimit": 10000
     },
     "inputWidgets": {},
     "nuid": "c70e84ad-2a72-42d2-b450-0858e35aacfb",
     "showTitle": false,
     "tableResultSettingsMap": {},
     "title": ""
    }
   },
   "outputs": [
    {
     "output_type": "display_data",
     "data": {
      "text/html": [
       "<style scoped>\n",
       "  .table-result-container {\n",
       "    max-height: 300px;\n",
       "    overflow: auto;\n",
       "  }\n",
       "  table, th, td {\n",
       "    border: 1px solid black;\n",
       "    border-collapse: collapse;\n",
       "  }\n",
       "  th, td {\n",
       "    padding: 5px;\n",
       "  }\n",
       "  th {\n",
       "    text-align: left;\n",
       "  }\n",
       "</style><div class='table-result-container'><table class='table-result'><thead style='background-color: white'><tr><th>count(1)</th></tr></thead><tbody><tr><td>228551</td></tr></tbody></table></div>"
      ]
     },
     "metadata": {
      "application/vnd.databricks.v1+output": {
       "addedWidgets": {},
       "aggData": [],
       "aggError": "",
       "aggOverflow": false,
       "aggSchema": [],
       "aggSeriesLimitReached": false,
       "aggType": "",
       "arguments": {},
       "columnCustomDisplayInfos": {},
       "data": [
        [
         228551
        ]
       ],
       "datasetInfos": [
        {
         "name": "_sqldf",
         "schema": {
          "fields": [
           {
            "metadata": {
             "__autoGeneratedAlias": "true"
            },
            "name": "count(1)",
            "nullable": false,
            "type": "long"
           }
          ],
          "type": "struct"
         },
         "tableIdentifier": null,
         "typeStr": "pyspark.sql.dataframe.DataFrame"
        }
       ],
       "dbfsResultPath": null,
       "isJsonSchema": true,
       "metadata": {
        "createTempViewForImplicitDf": true,
        "dataframeName": "_sqldf",
        "executionCount": 4
       },
       "overflow": false,
       "plotOptions": {
        "customPlotOptions": {},
        "displayType": "table",
        "pivotAggregation": null,
        "pivotColumns": null,
        "xColumns": null,
        "yColumns": null
       },
       "removedWidgets": [],
       "schema": [
        {
         "metadata": "{\"__autoGeneratedAlias\":\"true\"}",
         "name": "count(1)",
         "type": "\"long\""
        }
       ],
       "type": "table"
      }
     },
     "output_type": "display_data"
    }
   ],
   "source": [
    "%sql\n",
    "SELECT COUNT(*) FROM ma_voter"
   ]
  },
  {
   "cell_type": "code",
   "execution_count": 0,
   "metadata": {
    "application/vnd.databricks.v1+cell": {
     "cellMetadata": {
      "byteLimit": 2048000,
      "implicitDf": true,
      "rowLimit": 10000
     },
     "inputWidgets": {},
     "nuid": "e2a9d077-2298-4853-9e0d-a7c07208e89c",
     "showTitle": false,
     "tableResultSettingsMap": {},
     "title": ""
    }
   },
   "outputs": [
    {
     "output_type": "display_data",
     "data": {
      "text/html": [
       "<style scoped>\n",
       "  .table-result-container {\n",
       "    max-height: 300px;\n",
       "    overflow: auto;\n",
       "  }\n",
       "  table, th, td {\n",
       "    border: 1px solid black;\n",
       "    border-collapse: collapse;\n",
       "  }\n",
       "  th, td {\n",
       "    padding: 5px;\n",
       "  }\n",
       "  th {\n",
       "    text-align: left;\n",
       "  }\n",
       "</style><div class='table-result-container'><table class='table-result'><thead style='background-color: white'><tr><th>col_name</th><th>data_type</th><th>comment</th></tr></thead><tbody><tr><td>SEQUENCE</td><td>bigint</td><td>null</td></tr><tr><td>LALVOTERID</td><td>string</td><td>null</td></tr><tr><td>Voters_Active</td><td>string</td><td>null</td></tr><tr><td>Voters_StateVoterID</td><td>string</td><td>null</td></tr><tr><td>Voters_CountyVoterID</td><td>string</td><td>null</td></tr><tr><td>VoterTelephones_LandlineAreaCode</td><td>string</td><td>null</td></tr><tr><td>VoterTelephones_Landline7Digit</td><td>string</td><td>null</td></tr><tr><td>VoterTelephones_LandlineFormatted</td><td>string</td><td>null</td></tr><tr><td>VoterTelephones_LandlineUnformatted</td><td>string</td><td>null</td></tr><tr><td>VoterTelephones_LandlineConfidenceCode</td><td>bigint</td><td>null</td></tr><tr><td>VoterTelephones_CellPhoneOnly</td><td>string</td><td>null</td></tr><tr><td>VoterTelephones_CellPhoneFormatted</td><td>string</td><td>null</td></tr><tr><td>VoterTelephones_CellPhoneUnformatted</td><td>string</td><td>null</td></tr><tr><td>VoterTelephones_CellConfidenceCode</td><td>bigint</td><td>null</td></tr><tr><td>Voters_FirstName</td><td>string</td><td>null</td></tr><tr><td>Voters_MiddleName</td><td>string</td><td>null</td></tr><tr><td>Voters_LastName</td><td>string</td><td>null</td></tr><tr><td>Residence_Addresses_AddressLine</td><td>string</td><td>null</td></tr><tr><td>Residence_Addresses_City</td><td>string</td><td>null</td></tr><tr><td>Residence_Addresses_State</td><td>string</td><td>null</td></tr><tr><td>Residence_Addresses_Zip</td><td>string</td><td>null</td></tr><tr><td>Residence_Addresses_ZipPlus4</td><td>string</td><td>null</td></tr><tr><td>Residence_Addresses_HouseNumber</td><td>string</td><td>null</td></tr><tr><td>Residence_Addresses_PrefixDirection</td><td>string</td><td>null</td></tr><tr><td>Residence_Addresses_StreetName</td><td>string</td><td>null</td></tr><tr><td>Residence_Addresses_Designator</td><td>string</td><td>null</td></tr><tr><td>Residence_Addresses_SuffixDirection</td><td>string</td><td>null</td></tr><tr><td>Residence_Addresses_ApartmentNum</td><td>string</td><td>null</td></tr><tr><td>Residence_Addresses_ApartmentType</td><td>string</td><td>null</td></tr><tr><td>Residence_Addresses_CassErrStatCode</td><td>string</td><td>null</td></tr><tr><td>Voters_SequenceZigZag</td><td>bigint</td><td>null</td></tr><tr><td>Voters_SequenceOddEven</td><td>bigint</td><td>null</td></tr><tr><td>Residence_Addresses_CensusTract</td><td>string</td><td>null</td></tr><tr><td>Residence_Addresses_CensusBlockGroup</td><td>string</td><td>null</td></tr><tr><td>Residence_Addresses_CensusBlock</td><td>string</td><td>null</td></tr><tr><td>Residence_Addresses_Latitude</td><td>double</td><td>null</td></tr><tr><td>Residence_Addresses_Longitude</td><td>double</td><td>null</td></tr><tr><td>Residence_Addresses_LatLongAccuracy</td><td>string</td><td>null</td></tr><tr><td>Residence_Addresses_Property_LandSq_Footage</td><td>string</td><td>null</td></tr><tr><td>Residence_Addresses_Property_HomeSq_Footage</td><td>string</td><td>null</td></tr><tr><td>Residence_Addresses_Density</td><td>string</td><td>null</td></tr><tr><td>Residence_Families_FamilyID</td><td>string</td><td>null</td></tr><tr><td>Residence_Families_HHCount</td><td>bigint</td><td>null</td></tr><tr><td>Residence_HHGender_Description</td><td>string</td><td>null</td></tr><tr><td>Residence_HHParties_Description</td><td>string</td><td>null</td></tr><tr><td>Mailing_Addresses_AddressLine</td><td>string</td><td>null</td></tr><tr><td>Mailing_Addresses_City</td><td>string</td><td>null</td></tr><tr><td>Mailing_Addresses_State</td><td>string</td><td>null</td></tr><tr><td>Mailing_Addresses_Zip</td><td>string</td><td>null</td></tr><tr><td>Mailing_Addresses_ZipPlus4</td><td>string</td><td>null</td></tr><tr><td>Mailing_Addresses_HouseNumber</td><td>string</td><td>null</td></tr><tr><td>Mailing_Addresses_PrefixDirection</td><td>string</td><td>null</td></tr><tr><td>Mailing_Addresses_StreetName</td><td>string</td><td>null</td></tr><tr><td>Mailing_Addresses_Designator</td><td>string</td><td>null</td></tr><tr><td>Mailing_Addresses_SuffixDirection</td><td>string</td><td>null</td></tr><tr><td>Mailing_Addresses_ApartmentNum</td><td>string</td><td>null</td></tr><tr><td>Mailing_Addresses_ApartmentType</td><td>string</td><td>null</td></tr><tr><td>Mailing_Addresses_CassErrStatCode</td><td>string</td><td>null</td></tr><tr><td>Mailing_Families_FamilyID</td><td>string</td><td>null</td></tr><tr><td>Mailing_Families_HHCount</td><td>bigint</td><td>null</td></tr><tr><td>Mailing_HHGender_Description</td><td>string</td><td>null</td></tr><tr><td>Mailing_HHParties_Description</td><td>string</td><td>null</td></tr><tr><td>Voters_Gender</td><td>string</td><td>null</td></tr><tr><td>Voters_Age</td><td>bigint</td><td>null</td></tr><tr><td>Voters_BirthDate</td><td>string</td><td>null</td></tr><tr><td>DateConfidence_Description</td><td>string</td><td>null</td></tr><tr><td>Parties_Description</td><td>string</td><td>null</td></tr><tr><td>Ethnic_Description</td><td>string</td><td>null</td></tr><tr><td>EthnicGroups_EthnicGroup1Desc</td><td>string</td><td>null</td></tr><tr><td>CountyEthnic_LALEthnicCode</td><td>string</td><td>null</td></tr><tr><td>CountyEthnic_Description</td><td>string</td><td>null</td></tr><tr><td>Religions_Description</td><td>string</td><td>null</td></tr><tr><td>Voters_CalculatedRegDate</td><td>string</td><td>null</td></tr><tr><td>Voters_OfficialRegDate</td><td>string</td><td>null</td></tr><tr><td>Voters_PlaceOfBirth</td><td>string</td><td>null</td></tr><tr><td>Languages_Description</td><td>string</td><td>null</td></tr><tr><td>AbsenteeTypes_Description</td><td>string</td><td>null</td></tr><tr><td>MaritalStatus_Description</td><td>string</td><td>null</td></tr><tr><td>US_Congressional_District</td><td>string</td><td>null</td></tr><tr><td>AddressDistricts_Change_Changed_CD</td><td>string</td><td>null</td></tr><tr><td>State_Senate_District</td><td>string</td><td>null</td></tr><tr><td>AddressDistricts_Change_Changed_SD</td><td>string</td><td>null</td></tr><tr><td>State_House_District</td><td>string</td><td>null</td></tr><tr><td>AddressDistricts_Change_Changed_HD</td><td>string</td><td>null</td></tr><tr><td>State_Legislative_District</td><td>string</td><td>null</td></tr><tr><td>AddressDistricts_Change_Changed_LD</td><td>string</td><td>null</td></tr><tr><td>2001_US_Congressional_District</td><td>string</td><td>null</td></tr><tr><td>2001_State_Senate_District</td><td>string</td><td>null</td></tr><tr><td>2001_State_House_District</td><td>string</td><td>null</td></tr><tr><td>2001_State_Legislative_District</td><td>string</td><td>null</td></tr><tr><td>County</td><td>string</td><td>null</td></tr><tr><td>Voters_FIPS</td><td>string</td><td>null</td></tr><tr><td>AddressDistricts_Change_Changed_County</td><td>string</td><td>null</td></tr><tr><td>Precinct</td><td>string</td><td>null</td></tr><tr><td>County_Commissioner_District</td><td>string</td><td>null</td></tr><tr><td>County_Supervisorial_District</td><td>string</td><td>null</td></tr><tr><td>County_Legislative_District</td><td>string</td><td>null</td></tr><tr><td>City</td><td>string</td><td>null</td></tr><tr><td>City_Council_Commissioner_District</td><td>string</td><td>null</td></tr><tr><td>City_Ward</td><td>string</td><td>null</td></tr><tr><td>Town_District</td><td>string</td><td>null</td></tr><tr><td>Township</td><td>string</td><td>null</td></tr><tr><td>Hamlet_Community_Area</td><td>string</td><td>null</td></tr><tr><td>Board_of_Education_District</td><td>string</td><td>null</td></tr><tr><td>Community_College</td><td>string</td><td>null</td></tr><tr><td>Community_College_SubDistrict</td><td>string</td><td>null</td></tr><tr><td>County_Board_of_Education_District</td><td>string</td><td>null</td></tr><tr><td>County_Board_of_Education_SubDistrict</td><td>string</td><td>null</td></tr><tr><td>Designated_Market_Area_DMA</td><td>string</td><td>null</td></tr><tr><td>District_Attorney</td><td>string</td><td>null</td></tr><tr><td>Fire_District</td><td>string</td><td>null</td></tr><tr><td>High_School_District</td><td>string</td><td>null</td></tr><tr><td>Judicial_Appellate_District</td><td>string</td><td>null</td></tr><tr><td>Judicial_Circuit_Court_District</td><td>string</td><td>null</td></tr><tr><td>Judicial_District</td><td>string</td><td>null</td></tr><tr><td>Judicial_District_Court_District</td><td>string</td><td>null</td></tr><tr><td>Judicial_Magistrate_Division</td><td>string</td><td>null</td></tr><tr><td>Judicial_Superior_Court_District</td><td>string</td><td>null</td></tr><tr><td>Justice_of_the_Peace</td><td>string</td><td>null</td></tr><tr><td>Other</td><td>string</td><td>null</td></tr><tr><td>Park_District</td><td>string</td><td>null</td></tr><tr><td>School_Board_District</td><td>string</td><td>null</td></tr><tr><td>School_District</td><td>string</td><td>null</td></tr><tr><td>School_Subdistrict</td><td>string</td><td>null</td></tr><tr><td>State_Board_of_Equalization</td><td>string</td><td>null</td></tr><tr><td>Transit_District</td><td>string</td><td>null</td></tr><tr><td>Unified_School_District</td><td>string</td><td>null</td></tr><tr><td>CommercialData_BookBuyerInHome</td><td>string</td><td>null</td></tr><tr><td>CommercialData_ComputerOwnerInHome</td><td>string</td><td>null</td></tr><tr><td>CommercialData_DoItYourselferMagazineInHome</td><td>string</td><td>null</td></tr><tr><td>CommercialData_DonatesEnvironmentCauseInHome</td><td>string</td><td>null</td></tr><tr><td>CommercialData_DonatesToCharityInHome</td><td>string</td><td>null</td></tr><tr><td>CommercialData_DwellingType</td><td>string</td><td>null</td></tr><tr><td>CommercialData_DwellingUnitSize</td><td>string</td><td>null</td></tr><tr><td>CommercialData_Education</td><td>string</td><td>null</td></tr><tr><td>CommercialData_EstHomeValue</td><td>string</td><td>null</td></tr><tr><td>CommercialData_EstimatedHHIncome</td><td>string</td><td>null</td></tr><tr><td>CommercialData_EstimatedHHIncomeAmount</td><td>string</td><td>null</td></tr><tr><td>CommercialData_EstimatedAreaMedianHHIncome</td><td>string</td><td>null</td></tr><tr><td>CommercialData_FamilyMagazineInHome</td><td>string</td><td>null</td></tr><tr><td>CommercialData_FinancialMagazineInHome</td><td>string</td><td>null</td></tr><tr><td>CommercialData_HealthFitnessMagazineInHome</td><td>string</td><td>null</td></tr><tr><td>CommercialData_HHComposition</td><td>string</td><td>null</td></tr><tr><td>CommercialData_HomePurchaseDate</td><td>string</td><td>null</td></tr><tr><td>CommercialData_HomePurchasePrice</td><td>string</td><td>null</td></tr><tr><td>CommercialData_ISPSA</td><td>string</td><td>null</td></tr><tr><td>CommercialData_LandValue</td><td>string</td><td>null</td></tr><tr><td>CommercialData_LikelyUnion</td><td>string</td><td>null</td></tr><tr><td>CommercialData_AreaMedianEducationYears</td><td>string</td><td>null</td></tr><tr><td>CommercialData_AreaMedianHousingValue</td><td>string</td><td>null</td></tr><tr><td>CommercialData_MosaicZ4</td><td>string</td><td>null</td></tr><tr><td>CommercialData_MosaicZ4Global</td><td>string</td><td>null</td></tr><tr><td>CommercialData_Occupation</td><td>string</td><td>null</td></tr><tr><td>CommercialData_OccupationGroup</td><td>string</td><td>null</td></tr><tr><td>CommercialData_OccupationIndustry</td><td>string</td><td>null</td></tr><tr><td>CommercialData_AreaPcntHHMarriedCoupleNoChild</td><td>string</td><td>null</td></tr><tr><td>CommercialData_AreaPcntHHMarriedCoupleWithChild</td><td>string</td><td>null</td></tr><tr><td>CommercialData_AreaPcntHHSpanishSpeaking</td><td>string</td><td>null</td></tr><tr><td>CommercialData_AreaPcntHHWithChildren</td><td>string</td><td>null</td></tr><tr><td>CommercialData_PoliticalContributerInHome</td><td>string</td><td>null</td></tr><tr><td>CommercialData_PresenceOfChildrenCode</td><td>string</td><td>null</td></tr><tr><td>CommercialData_PresenceOfPremCredCrdInHome</td><td>string</td><td>null</td></tr><tr><td>CommercialData_PropertyType</td><td>string</td><td>null</td></tr><tr><td>CommercialData_ReligiousContributorInHome</td><td>string</td><td>null</td></tr><tr><td>CommercialData_StateIncomeDecile</td><td>string</td><td>null</td></tr><tr><td>CommercialData_UpscaleFemaleBuyerInHome</td><td>string</td><td>null</td></tr><tr><td>CommercialDataLL_Buyer_Art_In_Household</td><td>string</td><td>null</td></tr><tr><td>CommercialDataLL_Collector_Antiques_In_Household</td><td>string</td><td>null</td></tr><tr><td>CommercialDataLL_Collector_Avid_In_Household</td><td>string</td><td>null</td></tr><tr><td>CommercialDataLL_Collector_Coins_In_Household</td><td>string</td><td>null</td></tr><tr><td>CommercialDataLL_Collector_General_In_Household</td><td>string</td><td>null</td></tr><tr><td>CommercialDataLL_Donates_to_Childrens_Causes</td><td>string</td><td>null</td></tr><tr><td>CommercialDataLL_Donates_to_Healthcare</td><td>string</td><td>null</td></tr><tr><td>CommercialDataLL_Donates_to_Local_Community</td><td>string</td><td>null</td></tr><tr><td>CommercialDataLL_Donates_to_Wildlife_Preservation</td><td>string</td><td>null</td></tr><tr><td>CommercialDataLL_Gun_Owner</td><td>string</td><td>null</td></tr><tr><td>CommercialDataLL_Home_Office</td><td>string</td><td>null</td></tr><tr><td>CommercialDataLL_Home_Owner_Or_Renter</td><td>string</td><td>null</td></tr><tr><td>CommercialDataLL_Household_Primary_Language</td><td>string</td><td>null</td></tr><tr><td>CommercialDataLL_Interest_in_Auto_Work_In_Household</td><td>string</td><td>null</td></tr><tr><td>CommercialDataLL_Interest_in_Automotive_Parts_Accessories_In_Household</td><td>string</td><td>null</td></tr><tr><td>CommercialDataLL_Interest_in_Boating_Sailing_In_Household</td><td>string</td><td>null</td></tr><tr><td>CommercialDataLL_Interest_in_Camping_Hiking_In_Household</td><td>string</td><td>null</td></tr><tr><td>CommercialDataLL_Interest_in_Cooking_General_In_Household</td><td>string</td><td>null</td></tr><tr><td>CommercialDataLL_Interest_in_Cooking_Gourmet_In_Household</td><td>string</td><td>null</td></tr><tr><td>CommercialDataLL_Interest_in_Crafts_In_Household</td><td>string</td><td>null</td></tr><tr><td>CommercialDataLL_Interest_in_Current_Affairs_Politics_In_Household</td><td>string</td><td>null</td></tr><tr><td>CommercialDataLL_Interest_in_Education_Online_In_Household</td><td>string</td><td>null</td></tr><tr><td>CommercialDataLL_Interest_in_Exercise_Health_In_Household</td><td>string</td><td>null</td></tr><tr><td>CommercialDataLL_Interest_in_Exercise_Walking_In_Household</td><td>string</td><td>null</td></tr><tr><td>CommercialDataLL_Interest_in_Fishing_In_Household</td><td>string</td><td>null</td></tr><tr><td>CommercialDataLL_Interest_in_Foods_Natural_In_Household</td><td>string</td><td>null</td></tr><tr><td>CommercialDataLL_Interest_in_Gardening_In_Household</td><td>string</td><td>null</td></tr><tr><td>CommercialDataLL_Interest_in_Golf_In_Household</td><td>string</td><td>null</td></tr><tr><td>CommercialDataLL_Interest_in_Home_Furnishings_In_Household</td><td>string</td><td>null</td></tr><tr><td>CommercialDataLL_Interest_in_Home_Improvement_In_Household</td><td>string</td><td>null</td></tr><tr><td>CommercialDataLL_Interest_in_Nascar_In_Household</td><td>string</td><td>null</td></tr><tr><td>CommercialDataLL_Interest_in_Photography_In_Household</td><td>string</td><td>null</td></tr><tr><td>CommercialDataLL_Interest_in_Religious_Inspirational_In_Household</td><td>string</td><td>null</td></tr><tr><td>CommercialDataLL_Interest_in_Sewing_Knitting_In_Household</td><td>string</td><td>null</td></tr><tr><td>CommercialDataLL_Interest_in_Shooting_In_Household</td><td>string</td><td>null</td></tr><tr><td>CommercialDataLL_Interest_in_SpectatorSports_Auto_Racing_In_Household</td><td>string</td><td>null</td></tr><tr><td>CommercialDataLL_Interest_in_SpectatorSports_Baseball_In_Household</td><td>string</td><td>null</td></tr><tr><td>CommercialDataLL_Interest_in_SpectatorSports_Basketball_In_Household</td><td>string</td><td>null</td></tr><tr><td>CommercialDataLL_Interest_in_SpectatorSports_Football_In_Household</td><td>string</td><td>null</td></tr><tr><td>CommercialDataLL_Interest_in_SpectatorSports_on_TV_In_Household</td><td>string</td><td>null</td></tr><tr><td>CommercialDataLL_Interest_in_Sports_Leisure_In_Household</td><td>string</td><td>null</td></tr><tr><td>CommercialDataLL_Interest_in_Sweepstakes_Contests_In_Household</td><td>string</td><td>null</td></tr><tr><td>CommercialDataLL_Interest_in_the_Arts_In_Household</td><td>string</td><td>null</td></tr><tr><td>CommercialDataLL_Interest_in_Theater_Performing_Arts_In_Household</td><td>string</td><td>null</td></tr><tr><td>CommercialDataLL_Interest_in_Travel_Cruise_In_Household</td><td>string</td><td>null</td></tr><tr><td>CommercialDataLL_Interest_in_Travel_Domestic_In_Household</td><td>string</td><td>null</td></tr><tr><td>CommercialDataLL_Interest_in_Woodworking_In_Household</td><td>string</td><td>null</td></tr><tr><td>CommercialDataLL_Investor</td><td>string</td><td>null</td></tr><tr><td>CommercialDataLL_HH_Net_Worth</td><td>string</td><td>null</td></tr><tr><td>CommercialDataLL_PetOwner_Cat</td><td>string</td><td>null</td></tr><tr><td>CommercialDataLL_PetOwner_Dog</td><td>string</td><td>null</td></tr><tr><td>CommercialDataLL_PetOwner_Other</td><td>string</td><td>null</td></tr><tr><td>ElectionReturns_G08_Cnty_Margin_McCain_R</td><td>string</td><td>null</td></tr><tr><td>ElectionReturns_G08_Cnty_Percent_McCain_R</td><td>string</td><td>null</td></tr><tr><td>ElectionReturns_G08_Cnty_Vote_McCain_R</td><td>bigint</td><td>null</td></tr><tr><td>ElectionReturns_G08_Cnty_Margin_Obama_D</td><td>string</td><td>null</td></tr><tr><td>ElectionReturns_G08_Cnty_Percent_Obama_D</td><td>string</td><td>null</td></tr><tr><td>ElectionReturns_G08_Cnty_Vote_Obama_D</td><td>bigint</td><td>null</td></tr><tr><td>ElectionReturns_G08CountyTurnoutAllRegisteredVoters</td><td>string</td><td>null</td></tr><tr><td>ElectionReturns_G08CountyTurnoutDemocrats</td><td>string</td><td>null</td></tr><tr><td>ElectionReturns_G08CountyTurnoutIndependentsAllOthers</td><td>string</td><td>null</td></tr><tr><td>ElectionReturns_G08CountyTurnoutRepublicans</td><td>string</td><td>null</td></tr><tr><td>ElectionReturns_G08PrecinctTurnoutAllRegisteredVoters</td><td>string</td><td>null</td></tr><tr><td>ElectionReturns_G08PrecinctTurnoutDemocrats</td><td>string</td><td>null</td></tr><tr><td>ElectionReturns_G08PrecinctTurnoutIndependentsAllOthers</td><td>string</td><td>null</td></tr><tr><td>ElectionReturns_G08PrecinctTurnoutRepublicans</td><td>string</td><td>null</td></tr><tr><td>ElectionReturns_G10CountyTurnoutAllRegisteredVoters</td><td>string</td><td>null</td></tr><tr><td>ElectionReturns_G10CountyTurnoutDemocrats</td><td>string</td><td>null</td></tr><tr><td>ElectionReturns_G10CountyTurnoutIndependentsAllOthers</td><td>string</td><td>null</td></tr><tr><td>ElectionReturns_G10CountyTurnoutRepublicans</td><td>string</td><td>null</td></tr><tr><td>ElectionReturns_G10PrecinctTurnoutAllRegisteredVoters</td><td>string</td><td>null</td></tr><tr><td>ElectionReturns_G10PrecinctTurnoutDemocrats</td><td>string</td><td>null</td></tr><tr><td>ElectionReturns_G10PrecinctTurnoutIndependentsAllOthers</td><td>string</td><td>null</td></tr><tr><td>ElectionReturns_G10PrecinctTurnoutRepublicans</td><td>string</td><td>null</td></tr><tr><td>ElectionReturns_G12_Cnty_Margin_Obama_D</td><td>string</td><td>null</td></tr><tr><td>ElectionReturns_G12_Cnty_Percent_Obama_D</td><td>string</td><td>null</td></tr><tr><td>ElectionReturns_G12_Cnty_Vote_Obama_D</td><td>bigint</td><td>null</td></tr><tr><td>ElectionReturns_G12_Cnty_Margin_Romney_R</td><td>string</td><td>null</td></tr><tr><td>ElectionReturns_G12_Cnty_Percent_Romney_R</td><td>string</td><td>null</td></tr><tr><td>ElectionReturns_G12_Cnty_Vote_Romney_R</td><td>bigint</td><td>null</td></tr><tr><td>ElectionReturns_G12CountyTurnoutAllRegisteredVoters</td><td>string</td><td>null</td></tr><tr><td>ElectionReturns_G12CountyTurnoutDemocrats</td><td>string</td><td>null</td></tr><tr><td>ElectionReturns_G12CountyTurnoutIndependentsAllOthers</td><td>string</td><td>null</td></tr><tr><td>ElectionReturns_G12CountyTurnoutRepublicans</td><td>string</td><td>null</td></tr><tr><td>ElectionReturns_G12PrecinctTurnoutAllRegisteredVoters</td><td>string</td><td>null</td></tr><tr><td>ElectionReturns_G12PrecinctTurnoutDemocrats</td><td>string</td><td>null</td></tr><tr><td>ElectionReturns_G12PrecinctTurnoutIndependentsAllOthers</td><td>string</td><td>null</td></tr><tr><td>ElectionReturns_G12PrecinctTurnoutRepublicans</td><td>string</td><td>null</td></tr><tr><td>ElectionReturns_G14CountyTurnoutAllRegisteredVoters</td><td>string</td><td>null</td></tr><tr><td>ElectionReturns_G14CountyTurnoutDemocrats</td><td>string</td><td>null</td></tr><tr><td>ElectionReturns_G14CountyTurnoutIndependentsAllOthers</td><td>string</td><td>null</td></tr><tr><td>ElectionReturns_G14CountyTurnoutRepublicans</td><td>string</td><td>null</td></tr><tr><td>ElectionReturns_G14PrecinctTurnoutAllRegisteredVoters</td><td>string</td><td>null</td></tr><tr><td>ElectionReturns_G14PrecinctTurnoutDemocrats</td><td>string</td><td>null</td></tr><tr><td>ElectionReturns_G14PrecinctTurnoutIndependentsAllOthers</td><td>string</td><td>null</td></tr><tr><td>ElectionReturns_G14PrecinctTurnoutRepublicans</td><td>string</td><td>null</td></tr><tr><td>ElectionReturns_G16_Cnty_Margin_Clinton_D</td><td>string</td><td>null</td></tr><tr><td>ElectionReturns_G16_Cnty_Percent_Clinton_D</td><td>string</td><td>null</td></tr><tr><td>ElectionReturns_G16_Cnty_Vote_Clinton_D</td><td>bigint</td><td>null</td></tr><tr><td>ElectionReturns_G16_Cnty_Margin_Trump_R</td><td>string</td><td>null</td></tr><tr><td>ElectionReturns_G16_Cnty_Percent_Trump_R</td><td>string</td><td>null</td></tr><tr><td>ElectionReturns_G16_Cnty_Vote_Trump_R</td><td>bigint</td><td>null</td></tr><tr><td>ElectionReturns_G16CountyTurnoutAllRegisteredVoters</td><td>string</td><td>null</td></tr><tr><td>ElectionReturns_G16CountyTurnoutDemocrats</td><td>string</td><td>null</td></tr><tr><td>ElectionReturns_G16CountyTurnoutIndependentsAllOthers</td><td>string</td><td>null</td></tr><tr><td>ElectionReturns_G16CountyTurnoutRepublicans</td><td>string</td><td>null</td></tr><tr><td>ElectionReturns_G16PrecinctTurnoutAllRegisteredVoters</td><td>string</td><td>null</td></tr><tr><td>ElectionReturns_G16PrecinctTurnoutDemocrats</td><td>string</td><td>null</td></tr><tr><td>ElectionReturns_G16PrecinctTurnoutIndependentsAllOthers</td><td>string</td><td>null</td></tr><tr><td>ElectionReturns_G16PrecinctTurnoutRepublicans</td><td>string</td><td>null</td></tr><tr><td>ElectionReturns_G18CountyTurnoutAllRegisteredVoters</td><td>string</td><td>null</td></tr><tr><td>ElectionReturns_G18CountyTurnoutDemocrats</td><td>string</td><td>null</td></tr><tr><td>ElectionReturns_G18CountyTurnoutIndependentsAllOthers</td><td>string</td><td>null</td></tr><tr><td>ElectionReturns_G18CountyTurnoutRepublicans</td><td>string</td><td>null</td></tr><tr><td>ElectionReturns_G18PrecinctTurnoutAllRegisteredVoters</td><td>string</td><td>null</td></tr><tr><td>ElectionReturns_G18PrecinctTurnoutDemocrats</td><td>string</td><td>null</td></tr><tr><td>ElectionReturns_G18PrecinctTurnoutIndependentsAllOthers</td><td>string</td><td>null</td></tr><tr><td>ElectionReturns_G18PrecinctTurnoutRepublicans</td><td>string</td><td>null</td></tr><tr><td>ElectionReturns_P08_Cnty_Pct_Biden_D</td><td>string</td><td>null</td></tr><tr><td>ElectionReturns_P08_Cnty_Pct_Clinton_D</td><td>string</td><td>null</td></tr><tr><td>ElectionReturns_P08_Cnty_Pct_Dodd_D</td><td>string</td><td>null</td></tr><tr><td>ElectionReturns_P08_Cnty_Pct_Edwards_D</td><td>string</td><td>null</td></tr><tr><td>ElectionReturns_P08_Cnty_Pct_Gravel_D</td><td>string</td><td>null</td></tr><tr><td>ElectionReturns_P08_Cnty_Pct_Kucinich_D</td><td>string</td><td>null</td></tr><tr><td>ElectionReturns_P08_Cnty_Pct_Obama_D</td><td>string</td><td>null</td></tr><tr><td>ElectionReturns_P08_Cnty_Pct_Richardson_D</td><td>string</td><td>null</td></tr><tr><td>ElectionReturns_P08_Cnty_Vote_Biden_D</td><td>bigint</td><td>null</td></tr><tr><td>ElectionReturns_P08_Cnty_Vote_Clinton_D</td><td>bigint</td><td>null</td></tr><tr><td>ElectionReturns_P08_Cnty_Vote_Dodd_D</td><td>bigint</td><td>null</td></tr><tr><td>ElectionReturns_P08_Cnty_Vote_Edwards_D</td><td>bigint</td><td>null</td></tr><tr><td>ElectionReturns_P08_Cnty_Vote_Gravel_D</td><td>bigint</td><td>null</td></tr><tr><td>ElectionReturns_P08_Cnty_Vote_Kucinich_D</td><td>bigint</td><td>null</td></tr><tr><td>ElectionReturns_P08_Cnty_Vote_Obama_D</td><td>bigint</td><td>null</td></tr><tr><td>ElectionReturns_P08_Cnty_Vote_Richardson_D</td><td>bigint</td><td>null</td></tr><tr><td>ElectionReturns_P08_Cnty_Pct_Giuliani_R</td><td>string</td><td>null</td></tr><tr><td>ElectionReturns_P08_Cnty_Pct_Huckabee_R</td><td>string</td><td>null</td></tr><tr><td>ElectionReturns_P08_Cnty_Pct_Hunter_R</td><td>string</td><td>null</td></tr><tr><td>ElectionReturns_P08_Cnty_Pct_Keyes_R</td><td>string</td><td>null</td></tr><tr><td>ElectionReturns_P08_Cnty_Pct_McCain_R</td><td>string</td><td>null</td></tr><tr><td>ElectionReturns_P08_Cnty_Pct_Paul_R</td><td>string</td><td>null</td></tr><tr><td>ElectionReturns_P08_Cnty_Pct_Romney_R</td><td>string</td><td>null</td></tr><tr><td>ElectionReturns_P08_Cnty_Pct_Thompson_R</td><td>string</td><td>null</td></tr><tr><td>ElectionReturns_P08_Cnty_Vote_Giuliani_R</td><td>bigint</td><td>null</td></tr><tr><td>ElectionReturns_P08_Cnty_Vote_Huckabee_R</td><td>bigint</td><td>null</td></tr><tr><td>ElectionReturns_P08_Cnty_Vote_Hunter_R</td><td>bigint</td><td>null</td></tr><tr><td>ElectionReturns_P08_Cnty_Vote_Keyes_R</td><td>bigint</td><td>null</td></tr><tr><td>ElectionReturns_P08_Cnty_Vote_McCain_R</td><td>bigint</td><td>null</td></tr><tr><td>ElectionReturns_P08_Cnty_Vote_Paul_R</td><td>bigint</td><td>null</td></tr><tr><td>ElectionReturns_P08_Cnty_Vote_Romney_R</td><td>bigint</td><td>null</td></tr><tr><td>ElectionReturns_P08_Cnty_Vote_Thompson_R</td><td>bigint</td><td>null</td></tr><tr><td>ElectionReturns_P08CountyTurnoutAllRegisteredVoters</td><td>string</td><td>null</td></tr><tr><td>ElectionReturns_P08CountyTurnoutDemocrats</td><td>string</td><td>null</td></tr><tr><td>ElectionReturns_P08CountyTurnoutRepublicans</td><td>string</td><td>null</td></tr><tr><td>ElectionReturns_P08PrecinctTurnoutAllRegisteredVoters</td><td>string</td><td>null</td></tr><tr><td>ElectionReturns_P08PrecinctTurnoutDemocrats</td><td>string</td><td>null</td></tr><tr><td>ElectionReturns_P08PrecinctTurnoutRepublicans</td><td>string</td><td>null</td></tr><tr><td>ElectionReturns_P10CountyTurnoutAllRegisteredVoters</td><td>string</td><td>null</td></tr><tr><td>ElectionReturns_P10CountyTurnoutDemocrats</td><td>string</td><td>null</td></tr><tr><td>ElectionReturns_P10CountyTurnoutRepublicans</td><td>string</td><td>null</td></tr><tr><td>ElectionReturns_P10PrecinctTurnoutAllRegisteredVoters</td><td>string</td><td>null</td></tr><tr><td>ElectionReturns_P10PrecinctTurnoutDemocrats</td><td>string</td><td>null</td></tr><tr><td>ElectionReturns_P10PrecinctTurnoutRepublicans</td><td>string</td><td>null</td></tr><tr><td>ElectionReturns_P12_Cnty_Pct_Bachman_R</td><td>string</td><td>null</td></tr><tr><td>ElectionReturns_P12_Cnty_Pct_Gingrich_R</td><td>string</td><td>null</td></tr><tr><td>ElectionReturns_P12_Cnty_Pct_Huntsman_R</td><td>string</td><td>null</td></tr><tr><td>ElectionReturns_P12_Cnty_Pct_Paul_R</td><td>string</td><td>null</td></tr><tr><td>ElectionReturns_P12_Cnty_Pct_Perry_R</td><td>string</td><td>null</td></tr><tr><td>ElectionReturns_P12_Cnty_Pct_Romney_R</td><td>string</td><td>null</td></tr><tr><td>ElectionReturns_P12_Cnty_Pct_Santorum_R</td><td>string</td><td>null</td></tr><tr><td>ElectionReturns_P12_Cnty_Vote_Bachman_R</td><td>bigint</td><td>null</td></tr><tr><td>ElectionReturns_P12_Cnty_Vote_Gingrich_R</td><td>bigint</td><td>null</td></tr><tr><td>ElectionReturns_P12_Cnty_Vote_Huntsman_R</td><td>bigint</td><td>null</td></tr><tr><td>ElectionReturns_P12_Cnty_Vote_Paul_R</td><td>bigint</td><td>null</td></tr><tr><td>ElectionReturns_P12_Cnty_Vote_Perry_R</td><td>bigint</td><td>null</td></tr><tr><td>ElectionReturns_P12_Cnty_Vote_Romney_R</td><td>bigint</td><td>null</td></tr><tr><td>ElectionReturns_P12_Cnty_Vote_Santorum_R</td><td>bigint</td><td>null</td></tr><tr><td>ElectionReturns_P12CountyTurnoutAllRegisteredVoters</td><td>string</td><td>null</td></tr><tr><td>ElectionReturns_P12CountyTurnoutDemocrats</td><td>string</td><td>null</td></tr><tr><td>ElectionReturns_P12CountyTurnoutRepublicans</td><td>string</td><td>null</td></tr><tr><td>ElectionReturns_P12PrecinctTurnoutAllRegisteredVoters</td><td>string</td><td>null</td></tr><tr><td>ElectionReturns_P12PrecinctTurnoutDemocrats</td><td>string</td><td>null</td></tr><tr><td>ElectionReturns_P12PrecinctTurnoutRepublicans</td><td>string</td><td>null</td></tr><tr><td>ElectionReturns_P14CountyTurnoutAllRegisteredVoters</td><td>string</td><td>null</td></tr><tr><td>ElectionReturns_P14CountyTurnoutDemocrats</td><td>string</td><td>null</td></tr><tr><td>ElectionReturns_P14CountyTurnoutRepublicans</td><td>string</td><td>null</td></tr><tr><td>ElectionReturns_P14PrecinctTurnoutAllRegisteredVoters</td><td>string</td><td>null</td></tr><tr><td>ElectionReturns_P14PrecinctTurnoutDemocrats</td><td>string</td><td>null</td></tr><tr><td>ElectionReturns_P14PrecinctTurnoutRepublicans</td><td>string</td><td>null</td></tr><tr><td>ElectionReturns_P16_Cnty_Pct_Bush_R</td><td>string</td><td>null</td></tr><tr><td>ElectionReturns_P16_Cnty_Pct_Carson_R</td><td>string</td><td>null</td></tr><tr><td>ElectionReturns_P16_Cnty_Pct_Christie_R</td><td>string</td><td>null</td></tr><tr><td>ElectionReturns_P16_Cnty_Pct_Cruz_R</td><td>string</td><td>null</td></tr><tr><td>ElectionReturns_P16_Cnty_Pct_Fiorina_R</td><td>string</td><td>null</td></tr><tr><td>ElectionReturns_P16_Cnty_Pct_Kasich_R</td><td>string</td><td>null</td></tr><tr><td>ElectionReturns_P16_Cnty_Pct_Rubio_R</td><td>string</td><td>null</td></tr><tr><td>ElectionReturns_P16_Cnty_Pct_Trump_R</td><td>string</td><td>null</td></tr><tr><td>ElectionReturns_P16_Cnty_Vote_Bush_R</td><td>bigint</td><td>null</td></tr><tr><td>ElectionReturns_P16_Cnty_Vote_Carson_R</td><td>bigint</td><td>null</td></tr><tr><td>ElectionReturns_P16_Cnty_Vote_Christie_R</td><td>bigint</td><td>null</td></tr><tr><td>ElectionReturns_P16_Cnty_Vote_Cruz_R</td><td>bigint</td><td>null</td></tr><tr><td>ElectionReturns_P16_Cnty_Vote_Fiorina_R</td><td>bigint</td><td>null</td></tr><tr><td>ElectionReturns_P16_Cnty_Vote_Kasich_R</td><td>bigint</td><td>null</td></tr><tr><td>ElectionReturns_P16_Cnty_Vote_Rubio_R</td><td>bigint</td><td>null</td></tr><tr><td>ElectionReturns_P16_Cnty_Vote_Trump_R</td><td>bigint</td><td>null</td></tr><tr><td>ElectionReturns_P16_Cnty_Pct_Clinton_D</td><td>string</td><td>null</td></tr><tr><td>ElectionReturns_P16_Cnty_Pct_Sanders_D</td><td>string</td><td>null</td></tr><tr><td>ElectionReturns_P16_Cnty_Vote_Clinton_D</td><td>bigint</td><td>null</td></tr><tr><td>ElectionReturns_P16_Cnty_Vote_Sanders_D</td><td>bigint</td><td>null</td></tr><tr><td>ElectionReturns_P16CountyTurnoutAllRegisteredVoters</td><td>string</td><td>null</td></tr><tr><td>ElectionReturns_P16CountyTurnoutDemocrats</td><td>string</td><td>null</td></tr><tr><td>ElectionReturns_P16CountyTurnoutRepublicans</td><td>string</td><td>null</td></tr><tr><td>ElectionReturns_P16PrecinctTurnoutAllRegisteredVoters</td><td>string</td><td>null</td></tr><tr><td>ElectionReturns_P16PrecinctTurnoutDemocrats</td><td>string</td><td>null</td></tr><tr><td>ElectionReturns_P16PrecinctTurnoutRepublicans</td><td>string</td><td>null</td></tr><tr><td>ElectionReturns_P18CountyTurnoutAllRegisteredVoters</td><td>string</td><td>null</td></tr><tr><td>ElectionReturns_P18CountyTurnoutDemocrats</td><td>string</td><td>null</td></tr><tr><td>ElectionReturns_P18CountyTurnoutRepublicans</td><td>string</td><td>null</td></tr><tr><td>ElectionReturns_P18PrecinctTurnoutAllRegisteredVoters</td><td>string</td><td>null</td></tr><tr><td>ElectionReturns_P18PrecinctTurnoutDemocrats</td><td>string</td><td>null</td></tr><tr><td>ElectionReturns_P18PrecinctTurnoutRepublicans</td><td>string</td><td>null</td></tr><tr><td>Voters_VotingPerformanceEvenYearGeneral</td><td>string</td><td>null</td></tr><tr><td>Voters_VotingPerformanceEvenYearPrimary</td><td>string</td><td>null</td></tr><tr><td>Voters_VotingPerformanceEvenYearGeneralAndPrimary</td><td>string</td><td>null</td></tr><tr><td>Voters_VotingPerformanceMinorElection</td><td>string</td><td>null</td></tr><tr><td>Primary_2020</td><td>string</td><td>null</td></tr><tr><td>PresidentialPrimary_2020</td><td>string</td><td>null</td></tr><tr><td>AnyElection_2019</td><td>string</td><td>null</td></tr><tr><td>General_2018</td><td>string</td><td>null</td></tr><tr><td>Primary_2018</td><td>string</td><td>null</td></tr><tr><td>OtherElection_2018</td><td>string</td><td>null</td></tr><tr><td>AnyElection_2017</td><td>string</td><td>null</td></tr><tr><td>General_2016</td><td>string</td><td>null</td></tr><tr><td>Primary_2016</td><td>string</td><td>null</td></tr><tr><td>PresidentialPrimary_2016</td><td>string</td><td>null</td></tr><tr><td>AnyElection_2015</td><td>string</td><td>null</td></tr><tr><td>General_2014</td><td>string</td><td>null</td></tr><tr><td>Primary_2014</td><td>string</td><td>null</td></tr><tr><td>AnyElection_2013</td><td>string</td><td>null</td></tr><tr><td>General_2012</td><td>string</td><td>null</td></tr><tr><td>Primary_2012</td><td>string</td><td>null</td></tr><tr><td>PresidentialPrimary_2012</td><td>string</td><td>null</td></tr><tr><td>AnyElection_2011</td><td>string</td><td>null</td></tr><tr><td>General_2010</td><td>string</td><td>null</td></tr><tr><td>Primary_2010</td><td>string</td><td>null</td></tr><tr><td>OtherElection_2010</td><td>string</td><td>null</td></tr><tr><td>AnyElection_2009</td><td>string</td><td>null</td></tr><tr><td>General_2008</td><td>string</td><td>null</td></tr><tr><td>Primary_2008</td><td>string</td><td>null</td></tr><tr><td>PresidentialPrimary_2008</td><td>string</td><td>null</td></tr><tr><td>AnyElection_2007</td><td>string</td><td>null</td></tr><tr><td>General_2006</td><td>string</td><td>null</td></tr><tr><td>Primary_2006</td><td>string</td><td>null</td></tr><tr><td>AnyElection_2005</td><td>string</td><td>null</td></tr><tr><td>General_2004</td><td>string</td><td>null</td></tr><tr><td>Primary_2004</td><td>string</td><td>null</td></tr><tr><td>PresidentialPrimary_2004</td><td>string</td><td>null</td></tr><tr><td>AnyElection_2003</td><td>string</td><td>null</td></tr><tr><td>General_2002</td><td>string</td><td>null</td></tr><tr><td>Primary_2002</td><td>string</td><td>null</td></tr><tr><td>AnyElection_2001</td><td>string</td><td>null</td></tr><tr><td>General_2000</td><td>string</td><td>null</td></tr><tr><td>Primary_2000</td><td>string</td><td>null</td></tr><tr><td>PresidentialPrimary_2000</td><td>string</td><td>null</td></tr><tr><td>PRI_BLT_2020</td><td>string</td><td>null</td></tr><tr><td>PRI_BLT_2018</td><td>string</td><td>null</td></tr><tr><td>PRI_BLT_2016</td><td>string</td><td>null</td></tr><tr><td>PRI_BLT_2014</td><td>string</td><td>null</td></tr><tr><td>PRI_BLT_2012</td><td>string</td><td>null</td></tr><tr><td>PRI_BLT_2010</td><td>string</td><td>null</td></tr><tr><td>PRI_BLT_2008</td><td>string</td><td>null</td></tr><tr><td>PRI_BLT_2006</td><td>string</td><td>null</td></tr><tr><td>PRI_BLT_2004</td><td>string</td><td>null</td></tr><tr><td>PRI_BLT_2002</td><td>string</td><td>null</td></tr><tr><td>PRI_BLT_2000</td><td>string</td><td>null</td></tr><tr><td>_rescued_data</td><td>string</td><td>null</td></tr></tbody></table></div>"
      ]
     },
     "metadata": {
      "application/vnd.databricks.v1+output": {
       "addedWidgets": {},
       "aggData": [],
       "aggError": "",
       "aggOverflow": false,
       "aggSchema": [],
       "aggSeriesLimitReached": false,
       "aggType": "",
       "arguments": {},
       "columnCustomDisplayInfos": {},
       "data": [
        [
         "SEQUENCE",
         "bigint",
         null
        ],
        [
         "LALVOTERID",
         "string",
         null
        ],
        [
         "Voters_Active",
         "string",
         null
        ],
        [
         "Voters_StateVoterID",
         "string",
         null
        ],
        [
         "Voters_CountyVoterID",
         "string",
         null
        ],
        [
         "VoterTelephones_LandlineAreaCode",
         "string",
         null
        ],
        [
         "VoterTelephones_Landline7Digit",
         "string",
         null
        ],
        [
         "VoterTelephones_LandlineFormatted",
         "string",
         null
        ],
        [
         "VoterTelephones_LandlineUnformatted",
         "string",
         null
        ],
        [
         "VoterTelephones_LandlineConfidenceCode",
         "bigint",
         null
        ],
        [
         "VoterTelephones_CellPhoneOnly",
         "string",
         null
        ],
        [
         "VoterTelephones_CellPhoneFormatted",
         "string",
         null
        ],
        [
         "VoterTelephones_CellPhoneUnformatted",
         "string",
         null
        ],
        [
         "VoterTelephones_CellConfidenceCode",
         "bigint",
         null
        ],
        [
         "Voters_FirstName",
         "string",
         null
        ],
        [
         "Voters_MiddleName",
         "string",
         null
        ],
        [
         "Voters_LastName",
         "string",
         null
        ],
        [
         "Residence_Addresses_AddressLine",
         "string",
         null
        ],
        [
         "Residence_Addresses_City",
         "string",
         null
        ],
        [
         "Residence_Addresses_State",
         "string",
         null
        ],
        [
         "Residence_Addresses_Zip",
         "string",
         null
        ],
        [
         "Residence_Addresses_ZipPlus4",
         "string",
         null
        ],
        [
         "Residence_Addresses_HouseNumber",
         "string",
         null
        ],
        [
         "Residence_Addresses_PrefixDirection",
         "string",
         null
        ],
        [
         "Residence_Addresses_StreetName",
         "string",
         null
        ],
        [
         "Residence_Addresses_Designator",
         "string",
         null
        ],
        [
         "Residence_Addresses_SuffixDirection",
         "string",
         null
        ],
        [
         "Residence_Addresses_ApartmentNum",
         "string",
         null
        ],
        [
         "Residence_Addresses_ApartmentType",
         "string",
         null
        ],
        [
         "Residence_Addresses_CassErrStatCode",
         "string",
         null
        ],
        [
         "Voters_SequenceZigZag",
         "bigint",
         null
        ],
        [
         "Voters_SequenceOddEven",
         "bigint",
         null
        ],
        [
         "Residence_Addresses_CensusTract",
         "string",
         null
        ],
        [
         "Residence_Addresses_CensusBlockGroup",
         "string",
         null
        ],
        [
         "Residence_Addresses_CensusBlock",
         "string",
         null
        ],
        [
         "Residence_Addresses_Latitude",
         "double",
         null
        ],
        [
         "Residence_Addresses_Longitude",
         "double",
         null
        ],
        [
         "Residence_Addresses_LatLongAccuracy",
         "string",
         null
        ],
        [
         "Residence_Addresses_Property_LandSq_Footage",
         "string",
         null
        ],
        [
         "Residence_Addresses_Property_HomeSq_Footage",
         "string",
         null
        ],
        [
         "Residence_Addresses_Density",
         "string",
         null
        ],
        [
         "Residence_Families_FamilyID",
         "string",
         null
        ],
        [
         "Residence_Families_HHCount",
         "bigint",
         null
        ],
        [
         "Residence_HHGender_Description",
         "string",
         null
        ],
        [
         "Residence_HHParties_Description",
         "string",
         null
        ],
        [
         "Mailing_Addresses_AddressLine",
         "string",
         null
        ],
        [
         "Mailing_Addresses_City",
         "string",
         null
        ],
        [
         "Mailing_Addresses_State",
         "string",
         null
        ],
        [
         "Mailing_Addresses_Zip",
         "string",
         null
        ],
        [
         "Mailing_Addresses_ZipPlus4",
         "string",
         null
        ],
        [
         "Mailing_Addresses_HouseNumber",
         "string",
         null
        ],
        [
         "Mailing_Addresses_PrefixDirection",
         "string",
         null
        ],
        [
         "Mailing_Addresses_StreetName",
         "string",
         null
        ],
        [
         "Mailing_Addresses_Designator",
         "string",
         null
        ],
        [
         "Mailing_Addresses_SuffixDirection",
         "string",
         null
        ],
        [
         "Mailing_Addresses_ApartmentNum",
         "string",
         null
        ],
        [
         "Mailing_Addresses_ApartmentType",
         "string",
         null
        ],
        [
         "Mailing_Addresses_CassErrStatCode",
         "string",
         null
        ],
        [
         "Mailing_Families_FamilyID",
         "string",
         null
        ],
        [
         "Mailing_Families_HHCount",
         "bigint",
         null
        ],
        [
         "Mailing_HHGender_Description",
         "string",
         null
        ],
        [
         "Mailing_HHParties_Description",
         "string",
         null
        ],
        [
         "Voters_Gender",
         "string",
         null
        ],
        [
         "Voters_Age",
         "bigint",
         null
        ],
        [
         "Voters_BirthDate",
         "string",
         null
        ],
        [
         "DateConfidence_Description",
         "string",
         null
        ],
        [
         "Parties_Description",
         "string",
         null
        ],
        [
         "Ethnic_Description",
         "string",
         null
        ],
        [
         "EthnicGroups_EthnicGroup1Desc",
         "string",
         null
        ],
        [
         "CountyEthnic_LALEthnicCode",
         "string",
         null
        ],
        [
         "CountyEthnic_Description",
         "string",
         null
        ],
        [
         "Religions_Description",
         "string",
         null
        ],
        [
         "Voters_CalculatedRegDate",
         "string",
         null
        ],
        [
         "Voters_OfficialRegDate",
         "string",
         null
        ],
        [
         "Voters_PlaceOfBirth",
         "string",
         null
        ],
        [
         "Languages_Description",
         "string",
         null
        ],
        [
         "AbsenteeTypes_Description",
         "string",
         null
        ],
        [
         "MaritalStatus_Description",
         "string",
         null
        ],
        [
         "US_Congressional_District",
         "string",
         null
        ],
        [
         "AddressDistricts_Change_Changed_CD",
         "string",
         null
        ],
        [
         "State_Senate_District",
         "string",
         null
        ],
        [
         "AddressDistricts_Change_Changed_SD",
         "string",
         null
        ],
        [
         "State_House_District",
         "string",
         null
        ],
        [
         "AddressDistricts_Change_Changed_HD",
         "string",
         null
        ],
        [
         "State_Legislative_District",
         "string",
         null
        ],
        [
         "AddressDistricts_Change_Changed_LD",
         "string",
         null
        ],
        [
         "2001_US_Congressional_District",
         "string",
         null
        ],
        [
         "2001_State_Senate_District",
         "string",
         null
        ],
        [
         "2001_State_House_District",
         "string",
         null
        ],
        [
         "2001_State_Legislative_District",
         "string",
         null
        ],
        [
         "County",
         "string",
         null
        ],
        [
         "Voters_FIPS",
         "string",
         null
        ],
        [
         "AddressDistricts_Change_Changed_County",
         "string",
         null
        ],
        [
         "Precinct",
         "string",
         null
        ],
        [
         "County_Commissioner_District",
         "string",
         null
        ],
        [
         "County_Supervisorial_District",
         "string",
         null
        ],
        [
         "County_Legislative_District",
         "string",
         null
        ],
        [
         "City",
         "string",
         null
        ],
        [
         "City_Council_Commissioner_District",
         "string",
         null
        ],
        [
         "City_Ward",
         "string",
         null
        ],
        [
         "Town_District",
         "string",
         null
        ],
        [
         "Township",
         "string",
         null
        ],
        [
         "Hamlet_Community_Area",
         "string",
         null
        ],
        [
         "Board_of_Education_District",
         "string",
         null
        ],
        [
         "Community_College",
         "string",
         null
        ],
        [
         "Community_College_SubDistrict",
         "string",
         null
        ],
        [
         "County_Board_of_Education_District",
         "string",
         null
        ],
        [
         "County_Board_of_Education_SubDistrict",
         "string",
         null
        ],
        [
         "Designated_Market_Area_DMA",
         "string",
         null
        ],
        [
         "District_Attorney",
         "string",
         null
        ],
        [
         "Fire_District",
         "string",
         null
        ],
        [
         "High_School_District",
         "string",
         null
        ],
        [
         "Judicial_Appellate_District",
         "string",
         null
        ],
        [
         "Judicial_Circuit_Court_District",
         "string",
         null
        ],
        [
         "Judicial_District",
         "string",
         null
        ],
        [
         "Judicial_District_Court_District",
         "string",
         null
        ],
        [
         "Judicial_Magistrate_Division",
         "string",
         null
        ],
        [
         "Judicial_Superior_Court_District",
         "string",
         null
        ],
        [
         "Justice_of_the_Peace",
         "string",
         null
        ],
        [
         "Other",
         "string",
         null
        ],
        [
         "Park_District",
         "string",
         null
        ],
        [
         "School_Board_District",
         "string",
         null
        ],
        [
         "School_District",
         "string",
         null
        ],
        [
         "School_Subdistrict",
         "string",
         null
        ],
        [
         "State_Board_of_Equalization",
         "string",
         null
        ],
        [
         "Transit_District",
         "string",
         null
        ],
        [
         "Unified_School_District",
         "string",
         null
        ],
        [
         "CommercialData_BookBuyerInHome",
         "string",
         null
        ],
        [
         "CommercialData_ComputerOwnerInHome",
         "string",
         null
        ],
        [
         "CommercialData_DoItYourselferMagazineInHome",
         "string",
         null
        ],
        [
         "CommercialData_DonatesEnvironmentCauseInHome",
         "string",
         null
        ],
        [
         "CommercialData_DonatesToCharityInHome",
         "string",
         null
        ],
        [
         "CommercialData_DwellingType",
         "string",
         null
        ],
        [
         "CommercialData_DwellingUnitSize",
         "string",
         null
        ],
        [
         "CommercialData_Education",
         "string",
         null
        ],
        [
         "CommercialData_EstHomeValue",
         "string",
         null
        ],
        [
         "CommercialData_EstimatedHHIncome",
         "string",
         null
        ],
        [
         "CommercialData_EstimatedHHIncomeAmount",
         "string",
         null
        ],
        [
         "CommercialData_EstimatedAreaMedianHHIncome",
         "string",
         null
        ],
        [
         "CommercialData_FamilyMagazineInHome",
         "string",
         null
        ],
        [
         "CommercialData_FinancialMagazineInHome",
         "string",
         null
        ],
        [
         "CommercialData_HealthFitnessMagazineInHome",
         "string",
         null
        ],
        [
         "CommercialData_HHComposition",
         "string",
         null
        ],
        [
         "CommercialData_HomePurchaseDate",
         "string",
         null
        ],
        [
         "CommercialData_HomePurchasePrice",
         "string",
         null
        ],
        [
         "CommercialData_ISPSA",
         "string",
         null
        ],
        [
         "CommercialData_LandValue",
         "string",
         null
        ],
        [
         "CommercialData_LikelyUnion",
         "string",
         null
        ],
        [
         "CommercialData_AreaMedianEducationYears",
         "string",
         null
        ],
        [
         "CommercialData_AreaMedianHousingValue",
         "string",
         null
        ],
        [
         "CommercialData_MosaicZ4",
         "string",
         null
        ],
        [
         "CommercialData_MosaicZ4Global",
         "string",
         null
        ],
        [
         "CommercialData_Occupation",
         "string",
         null
        ],
        [
         "CommercialData_OccupationGroup",
         "string",
         null
        ],
        [
         "CommercialData_OccupationIndustry",
         "string",
         null
        ],
        [
         "CommercialData_AreaPcntHHMarriedCoupleNoChild",
         "string",
         null
        ],
        [
         "CommercialData_AreaPcntHHMarriedCoupleWithChild",
         "string",
         null
        ],
        [
         "CommercialData_AreaPcntHHSpanishSpeaking",
         "string",
         null
        ],
        [
         "CommercialData_AreaPcntHHWithChildren",
         "string",
         null
        ],
        [
         "CommercialData_PoliticalContributerInHome",
         "string",
         null
        ],
        [
         "CommercialData_PresenceOfChildrenCode",
         "string",
         null
        ],
        [
         "CommercialData_PresenceOfPremCredCrdInHome",
         "string",
         null
        ],
        [
         "CommercialData_PropertyType",
         "string",
         null
        ],
        [
         "CommercialData_ReligiousContributorInHome",
         "string",
         null
        ],
        [
         "CommercialData_StateIncomeDecile",
         "string",
         null
        ],
        [
         "CommercialData_UpscaleFemaleBuyerInHome",
         "string",
         null
        ],
        [
         "CommercialDataLL_Buyer_Art_In_Household",
         "string",
         null
        ],
        [
         "CommercialDataLL_Collector_Antiques_In_Household",
         "string",
         null
        ],
        [
         "CommercialDataLL_Collector_Avid_In_Household",
         "string",
         null
        ],
        [
         "CommercialDataLL_Collector_Coins_In_Household",
         "string",
         null
        ],
        [
         "CommercialDataLL_Collector_General_In_Household",
         "string",
         null
        ],
        [
         "CommercialDataLL_Donates_to_Childrens_Causes",
         "string",
         null
        ],
        [
         "CommercialDataLL_Donates_to_Healthcare",
         "string",
         null
        ],
        [
         "CommercialDataLL_Donates_to_Local_Community",
         "string",
         null
        ],
        [
         "CommercialDataLL_Donates_to_Wildlife_Preservation",
         "string",
         null
        ],
        [
         "CommercialDataLL_Gun_Owner",
         "string",
         null
        ],
        [
         "CommercialDataLL_Home_Office",
         "string",
         null
        ],
        [
         "CommercialDataLL_Home_Owner_Or_Renter",
         "string",
         null
        ],
        [
         "CommercialDataLL_Household_Primary_Language",
         "string",
         null
        ],
        [
         "CommercialDataLL_Interest_in_Auto_Work_In_Household",
         "string",
         null
        ],
        [
         "CommercialDataLL_Interest_in_Automotive_Parts_Accessories_In_Household",
         "string",
         null
        ],
        [
         "CommercialDataLL_Interest_in_Boating_Sailing_In_Household",
         "string",
         null
        ],
        [
         "CommercialDataLL_Interest_in_Camping_Hiking_In_Household",
         "string",
         null
        ],
        [
         "CommercialDataLL_Interest_in_Cooking_General_In_Household",
         "string",
         null
        ],
        [
         "CommercialDataLL_Interest_in_Cooking_Gourmet_In_Household",
         "string",
         null
        ],
        [
         "CommercialDataLL_Interest_in_Crafts_In_Household",
         "string",
         null
        ],
        [
         "CommercialDataLL_Interest_in_Current_Affairs_Politics_In_Household",
         "string",
         null
        ],
        [
         "CommercialDataLL_Interest_in_Education_Online_In_Household",
         "string",
         null
        ],
        [
         "CommercialDataLL_Interest_in_Exercise_Health_In_Household",
         "string",
         null
        ],
        [
         "CommercialDataLL_Interest_in_Exercise_Walking_In_Household",
         "string",
         null
        ],
        [
         "CommercialDataLL_Interest_in_Fishing_In_Household",
         "string",
         null
        ],
        [
         "CommercialDataLL_Interest_in_Foods_Natural_In_Household",
         "string",
         null
        ],
        [
         "CommercialDataLL_Interest_in_Gardening_In_Household",
         "string",
         null
        ],
        [
         "CommercialDataLL_Interest_in_Golf_In_Household",
         "string",
         null
        ],
        [
         "CommercialDataLL_Interest_in_Home_Furnishings_In_Household",
         "string",
         null
        ],
        [
         "CommercialDataLL_Interest_in_Home_Improvement_In_Household",
         "string",
         null
        ],
        [
         "CommercialDataLL_Interest_in_Nascar_In_Household",
         "string",
         null
        ],
        [
         "CommercialDataLL_Interest_in_Photography_In_Household",
         "string",
         null
        ],
        [
         "CommercialDataLL_Interest_in_Religious_Inspirational_In_Household",
         "string",
         null
        ],
        [
         "CommercialDataLL_Interest_in_Sewing_Knitting_In_Household",
         "string",
         null
        ],
        [
         "CommercialDataLL_Interest_in_Shooting_In_Household",
         "string",
         null
        ],
        [
         "CommercialDataLL_Interest_in_SpectatorSports_Auto_Racing_In_Household",
         "string",
         null
        ],
        [
         "CommercialDataLL_Interest_in_SpectatorSports_Baseball_In_Household",
         "string",
         null
        ],
        [
         "CommercialDataLL_Interest_in_SpectatorSports_Basketball_In_Household",
         "string",
         null
        ],
        [
         "CommercialDataLL_Interest_in_SpectatorSports_Football_In_Household",
         "string",
         null
        ],
        [
         "CommercialDataLL_Interest_in_SpectatorSports_on_TV_In_Household",
         "string",
         null
        ],
        [
         "CommercialDataLL_Interest_in_Sports_Leisure_In_Household",
         "string",
         null
        ],
        [
         "CommercialDataLL_Interest_in_Sweepstakes_Contests_In_Household",
         "string",
         null
        ],
        [
         "CommercialDataLL_Interest_in_the_Arts_In_Household",
         "string",
         null
        ],
        [
         "CommercialDataLL_Interest_in_Theater_Performing_Arts_In_Household",
         "string",
         null
        ],
        [
         "CommercialDataLL_Interest_in_Travel_Cruise_In_Household",
         "string",
         null
        ],
        [
         "CommercialDataLL_Interest_in_Travel_Domestic_In_Household",
         "string",
         null
        ],
        [
         "CommercialDataLL_Interest_in_Woodworking_In_Household",
         "string",
         null
        ],
        [
         "CommercialDataLL_Investor",
         "string",
         null
        ],
        [
         "CommercialDataLL_HH_Net_Worth",
         "string",
         null
        ],
        [
         "CommercialDataLL_PetOwner_Cat",
         "string",
         null
        ],
        [
         "CommercialDataLL_PetOwner_Dog",
         "string",
         null
        ],
        [
         "CommercialDataLL_PetOwner_Other",
         "string",
         null
        ],
        [
         "ElectionReturns_G08_Cnty_Margin_McCain_R",
         "string",
         null
        ],
        [
         "ElectionReturns_G08_Cnty_Percent_McCain_R",
         "string",
         null
        ],
        [
         "ElectionReturns_G08_Cnty_Vote_McCain_R",
         "bigint",
         null
        ],
        [
         "ElectionReturns_G08_Cnty_Margin_Obama_D",
         "string",
         null
        ],
        [
         "ElectionReturns_G08_Cnty_Percent_Obama_D",
         "string",
         null
        ],
        [
         "ElectionReturns_G08_Cnty_Vote_Obama_D",
         "bigint",
         null
        ],
        [
         "ElectionReturns_G08CountyTurnoutAllRegisteredVoters",
         "string",
         null
        ],
        [
         "ElectionReturns_G08CountyTurnoutDemocrats",
         "string",
         null
        ],
        [
         "ElectionReturns_G08CountyTurnoutIndependentsAllOthers",
         "string",
         null
        ],
        [
         "ElectionReturns_G08CountyTurnoutRepublicans",
         "string",
         null
        ],
        [
         "ElectionReturns_G08PrecinctTurnoutAllRegisteredVoters",
         "string",
         null
        ],
        [
         "ElectionReturns_G08PrecinctTurnoutDemocrats",
         "string",
         null
        ],
        [
         "ElectionReturns_G08PrecinctTurnoutIndependentsAllOthers",
         "string",
         null
        ],
        [
         "ElectionReturns_G08PrecinctTurnoutRepublicans",
         "string",
         null
        ],
        [
         "ElectionReturns_G10CountyTurnoutAllRegisteredVoters",
         "string",
         null
        ],
        [
         "ElectionReturns_G10CountyTurnoutDemocrats",
         "string",
         null
        ],
        [
         "ElectionReturns_G10CountyTurnoutIndependentsAllOthers",
         "string",
         null
        ],
        [
         "ElectionReturns_G10CountyTurnoutRepublicans",
         "string",
         null
        ],
        [
         "ElectionReturns_G10PrecinctTurnoutAllRegisteredVoters",
         "string",
         null
        ],
        [
         "ElectionReturns_G10PrecinctTurnoutDemocrats",
         "string",
         null
        ],
        [
         "ElectionReturns_G10PrecinctTurnoutIndependentsAllOthers",
         "string",
         null
        ],
        [
         "ElectionReturns_G10PrecinctTurnoutRepublicans",
         "string",
         null
        ],
        [
         "ElectionReturns_G12_Cnty_Margin_Obama_D",
         "string",
         null
        ],
        [
         "ElectionReturns_G12_Cnty_Percent_Obama_D",
         "string",
         null
        ],
        [
         "ElectionReturns_G12_Cnty_Vote_Obama_D",
         "bigint",
         null
        ],
        [
         "ElectionReturns_G12_Cnty_Margin_Romney_R",
         "string",
         null
        ],
        [
         "ElectionReturns_G12_Cnty_Percent_Romney_R",
         "string",
         null
        ],
        [
         "ElectionReturns_G12_Cnty_Vote_Romney_R",
         "bigint",
         null
        ],
        [
         "ElectionReturns_G12CountyTurnoutAllRegisteredVoters",
         "string",
         null
        ],
        [
         "ElectionReturns_G12CountyTurnoutDemocrats",
         "string",
         null
        ],
        [
         "ElectionReturns_G12CountyTurnoutIndependentsAllOthers",
         "string",
         null
        ],
        [
         "ElectionReturns_G12CountyTurnoutRepublicans",
         "string",
         null
        ],
        [
         "ElectionReturns_G12PrecinctTurnoutAllRegisteredVoters",
         "string",
         null
        ],
        [
         "ElectionReturns_G12PrecinctTurnoutDemocrats",
         "string",
         null
        ],
        [
         "ElectionReturns_G12PrecinctTurnoutIndependentsAllOthers",
         "string",
         null
        ],
        [
         "ElectionReturns_G12PrecinctTurnoutRepublicans",
         "string",
         null
        ],
        [
         "ElectionReturns_G14CountyTurnoutAllRegisteredVoters",
         "string",
         null
        ],
        [
         "ElectionReturns_G14CountyTurnoutDemocrats",
         "string",
         null
        ],
        [
         "ElectionReturns_G14CountyTurnoutIndependentsAllOthers",
         "string",
         null
        ],
        [
         "ElectionReturns_G14CountyTurnoutRepublicans",
         "string",
         null
        ],
        [
         "ElectionReturns_G14PrecinctTurnoutAllRegisteredVoters",
         "string",
         null
        ],
        [
         "ElectionReturns_G14PrecinctTurnoutDemocrats",
         "string",
         null
        ],
        [
         "ElectionReturns_G14PrecinctTurnoutIndependentsAllOthers",
         "string",
         null
        ],
        [
         "ElectionReturns_G14PrecinctTurnoutRepublicans",
         "string",
         null
        ],
        [
         "ElectionReturns_G16_Cnty_Margin_Clinton_D",
         "string",
         null
        ],
        [
         "ElectionReturns_G16_Cnty_Percent_Clinton_D",
         "string",
         null
        ],
        [
         "ElectionReturns_G16_Cnty_Vote_Clinton_D",
         "bigint",
         null
        ],
        [
         "ElectionReturns_G16_Cnty_Margin_Trump_R",
         "string",
         null
        ],
        [
         "ElectionReturns_G16_Cnty_Percent_Trump_R",
         "string",
         null
        ],
        [
         "ElectionReturns_G16_Cnty_Vote_Trump_R",
         "bigint",
         null
        ],
        [
         "ElectionReturns_G16CountyTurnoutAllRegisteredVoters",
         "string",
         null
        ],
        [
         "ElectionReturns_G16CountyTurnoutDemocrats",
         "string",
         null
        ],
        [
         "ElectionReturns_G16CountyTurnoutIndependentsAllOthers",
         "string",
         null
        ],
        [
         "ElectionReturns_G16CountyTurnoutRepublicans",
         "string",
         null
        ],
        [
         "ElectionReturns_G16PrecinctTurnoutAllRegisteredVoters",
         "string",
         null
        ],
        [
         "ElectionReturns_G16PrecinctTurnoutDemocrats",
         "string",
         null
        ],
        [
         "ElectionReturns_G16PrecinctTurnoutIndependentsAllOthers",
         "string",
         null
        ],
        [
         "ElectionReturns_G16PrecinctTurnoutRepublicans",
         "string",
         null
        ],
        [
         "ElectionReturns_G18CountyTurnoutAllRegisteredVoters",
         "string",
         null
        ],
        [
         "ElectionReturns_G18CountyTurnoutDemocrats",
         "string",
         null
        ],
        [
         "ElectionReturns_G18CountyTurnoutIndependentsAllOthers",
         "string",
         null
        ],
        [
         "ElectionReturns_G18CountyTurnoutRepublicans",
         "string",
         null
        ],
        [
         "ElectionReturns_G18PrecinctTurnoutAllRegisteredVoters",
         "string",
         null
        ],
        [
         "ElectionReturns_G18PrecinctTurnoutDemocrats",
         "string",
         null
        ],
        [
         "ElectionReturns_G18PrecinctTurnoutIndependentsAllOthers",
         "string",
         null
        ],
        [
         "ElectionReturns_G18PrecinctTurnoutRepublicans",
         "string",
         null
        ],
        [
         "ElectionReturns_P08_Cnty_Pct_Biden_D",
         "string",
         null
        ],
        [
         "ElectionReturns_P08_Cnty_Pct_Clinton_D",
         "string",
         null
        ],
        [
         "ElectionReturns_P08_Cnty_Pct_Dodd_D",
         "string",
         null
        ],
        [
         "ElectionReturns_P08_Cnty_Pct_Edwards_D",
         "string",
         null
        ],
        [
         "ElectionReturns_P08_Cnty_Pct_Gravel_D",
         "string",
         null
        ],
        [
         "ElectionReturns_P08_Cnty_Pct_Kucinich_D",
         "string",
         null
        ],
        [
         "ElectionReturns_P08_Cnty_Pct_Obama_D",
         "string",
         null
        ],
        [
         "ElectionReturns_P08_Cnty_Pct_Richardson_D",
         "string",
         null
        ],
        [
         "ElectionReturns_P08_Cnty_Vote_Biden_D",
         "bigint",
         null
        ],
        [
         "ElectionReturns_P08_Cnty_Vote_Clinton_D",
         "bigint",
         null
        ],
        [
         "ElectionReturns_P08_Cnty_Vote_Dodd_D",
         "bigint",
         null
        ],
        [
         "ElectionReturns_P08_Cnty_Vote_Edwards_D",
         "bigint",
         null
        ],
        [
         "ElectionReturns_P08_Cnty_Vote_Gravel_D",
         "bigint",
         null
        ],
        [
         "ElectionReturns_P08_Cnty_Vote_Kucinich_D",
         "bigint",
         null
        ],
        [
         "ElectionReturns_P08_Cnty_Vote_Obama_D",
         "bigint",
         null
        ],
        [
         "ElectionReturns_P08_Cnty_Vote_Richardson_D",
         "bigint",
         null
        ],
        [
         "ElectionReturns_P08_Cnty_Pct_Giuliani_R",
         "string",
         null
        ],
        [
         "ElectionReturns_P08_Cnty_Pct_Huckabee_R",
         "string",
         null
        ],
        [
         "ElectionReturns_P08_Cnty_Pct_Hunter_R",
         "string",
         null
        ],
        [
         "ElectionReturns_P08_Cnty_Pct_Keyes_R",
         "string",
         null
        ],
        [
         "ElectionReturns_P08_Cnty_Pct_McCain_R",
         "string",
         null
        ],
        [
         "ElectionReturns_P08_Cnty_Pct_Paul_R",
         "string",
         null
        ],
        [
         "ElectionReturns_P08_Cnty_Pct_Romney_R",
         "string",
         null
        ],
        [
         "ElectionReturns_P08_Cnty_Pct_Thompson_R",
         "string",
         null
        ],
        [
         "ElectionReturns_P08_Cnty_Vote_Giuliani_R",
         "bigint",
         null
        ],
        [
         "ElectionReturns_P08_Cnty_Vote_Huckabee_R",
         "bigint",
         null
        ],
        [
         "ElectionReturns_P08_Cnty_Vote_Hunter_R",
         "bigint",
         null
        ],
        [
         "ElectionReturns_P08_Cnty_Vote_Keyes_R",
         "bigint",
         null
        ],
        [
         "ElectionReturns_P08_Cnty_Vote_McCain_R",
         "bigint",
         null
        ],
        [
         "ElectionReturns_P08_Cnty_Vote_Paul_R",
         "bigint",
         null
        ],
        [
         "ElectionReturns_P08_Cnty_Vote_Romney_R",
         "bigint",
         null
        ],
        [
         "ElectionReturns_P08_Cnty_Vote_Thompson_R",
         "bigint",
         null
        ],
        [
         "ElectionReturns_P08CountyTurnoutAllRegisteredVoters",
         "string",
         null
        ],
        [
         "ElectionReturns_P08CountyTurnoutDemocrats",
         "string",
         null
        ],
        [
         "ElectionReturns_P08CountyTurnoutRepublicans",
         "string",
         null
        ],
        [
         "ElectionReturns_P08PrecinctTurnoutAllRegisteredVoters",
         "string",
         null
        ],
        [
         "ElectionReturns_P08PrecinctTurnoutDemocrats",
         "string",
         null
        ],
        [
         "ElectionReturns_P08PrecinctTurnoutRepublicans",
         "string",
         null
        ],
        [
         "ElectionReturns_P10CountyTurnoutAllRegisteredVoters",
         "string",
         null
        ],
        [
         "ElectionReturns_P10CountyTurnoutDemocrats",
         "string",
         null
        ],
        [
         "ElectionReturns_P10CountyTurnoutRepublicans",
         "string",
         null
        ],
        [
         "ElectionReturns_P10PrecinctTurnoutAllRegisteredVoters",
         "string",
         null
        ],
        [
         "ElectionReturns_P10PrecinctTurnoutDemocrats",
         "string",
         null
        ],
        [
         "ElectionReturns_P10PrecinctTurnoutRepublicans",
         "string",
         null
        ],
        [
         "ElectionReturns_P12_Cnty_Pct_Bachman_R",
         "string",
         null
        ],
        [
         "ElectionReturns_P12_Cnty_Pct_Gingrich_R",
         "string",
         null
        ],
        [
         "ElectionReturns_P12_Cnty_Pct_Huntsman_R",
         "string",
         null
        ],
        [
         "ElectionReturns_P12_Cnty_Pct_Paul_R",
         "string",
         null
        ],
        [
         "ElectionReturns_P12_Cnty_Pct_Perry_R",
         "string",
         null
        ],
        [
         "ElectionReturns_P12_Cnty_Pct_Romney_R",
         "string",
         null
        ],
        [
         "ElectionReturns_P12_Cnty_Pct_Santorum_R",
         "string",
         null
        ],
        [
         "ElectionReturns_P12_Cnty_Vote_Bachman_R",
         "bigint",
         null
        ],
        [
         "ElectionReturns_P12_Cnty_Vote_Gingrich_R",
         "bigint",
         null
        ],
        [
         "ElectionReturns_P12_Cnty_Vote_Huntsman_R",
         "bigint",
         null
        ],
        [
         "ElectionReturns_P12_Cnty_Vote_Paul_R",
         "bigint",
         null
        ],
        [
         "ElectionReturns_P12_Cnty_Vote_Perry_R",
         "bigint",
         null
        ],
        [
         "ElectionReturns_P12_Cnty_Vote_Romney_R",
         "bigint",
         null
        ],
        [
         "ElectionReturns_P12_Cnty_Vote_Santorum_R",
         "bigint",
         null
        ],
        [
         "ElectionReturns_P12CountyTurnoutAllRegisteredVoters",
         "string",
         null
        ],
        [
         "ElectionReturns_P12CountyTurnoutDemocrats",
         "string",
         null
        ],
        [
         "ElectionReturns_P12CountyTurnoutRepublicans",
         "string",
         null
        ],
        [
         "ElectionReturns_P12PrecinctTurnoutAllRegisteredVoters",
         "string",
         null
        ],
        [
         "ElectionReturns_P12PrecinctTurnoutDemocrats",
         "string",
         null
        ],
        [
         "ElectionReturns_P12PrecinctTurnoutRepublicans",
         "string",
         null
        ],
        [
         "ElectionReturns_P14CountyTurnoutAllRegisteredVoters",
         "string",
         null
        ],
        [
         "ElectionReturns_P14CountyTurnoutDemocrats",
         "string",
         null
        ],
        [
         "ElectionReturns_P14CountyTurnoutRepublicans",
         "string",
         null
        ],
        [
         "ElectionReturns_P14PrecinctTurnoutAllRegisteredVoters",
         "string",
         null
        ],
        [
         "ElectionReturns_P14PrecinctTurnoutDemocrats",
         "string",
         null
        ],
        [
         "ElectionReturns_P14PrecinctTurnoutRepublicans",
         "string",
         null
        ],
        [
         "ElectionReturns_P16_Cnty_Pct_Bush_R",
         "string",
         null
        ],
        [
         "ElectionReturns_P16_Cnty_Pct_Carson_R",
         "string",
         null
        ],
        [
         "ElectionReturns_P16_Cnty_Pct_Christie_R",
         "string",
         null
        ],
        [
         "ElectionReturns_P16_Cnty_Pct_Cruz_R",
         "string",
         null
        ],
        [
         "ElectionReturns_P16_Cnty_Pct_Fiorina_R",
         "string",
         null
        ],
        [
         "ElectionReturns_P16_Cnty_Pct_Kasich_R",
         "string",
         null
        ],
        [
         "ElectionReturns_P16_Cnty_Pct_Rubio_R",
         "string",
         null
        ],
        [
         "ElectionReturns_P16_Cnty_Pct_Trump_R",
         "string",
         null
        ],
        [
         "ElectionReturns_P16_Cnty_Vote_Bush_R",
         "bigint",
         null
        ],
        [
         "ElectionReturns_P16_Cnty_Vote_Carson_R",
         "bigint",
         null
        ],
        [
         "ElectionReturns_P16_Cnty_Vote_Christie_R",
         "bigint",
         null
        ],
        [
         "ElectionReturns_P16_Cnty_Vote_Cruz_R",
         "bigint",
         null
        ],
        [
         "ElectionReturns_P16_Cnty_Vote_Fiorina_R",
         "bigint",
         null
        ],
        [
         "ElectionReturns_P16_Cnty_Vote_Kasich_R",
         "bigint",
         null
        ],
        [
         "ElectionReturns_P16_Cnty_Vote_Rubio_R",
         "bigint",
         null
        ],
        [
         "ElectionReturns_P16_Cnty_Vote_Trump_R",
         "bigint",
         null
        ],
        [
         "ElectionReturns_P16_Cnty_Pct_Clinton_D",
         "string",
         null
        ],
        [
         "ElectionReturns_P16_Cnty_Pct_Sanders_D",
         "string",
         null
        ],
        [
         "ElectionReturns_P16_Cnty_Vote_Clinton_D",
         "bigint",
         null
        ],
        [
         "ElectionReturns_P16_Cnty_Vote_Sanders_D",
         "bigint",
         null
        ],
        [
         "ElectionReturns_P16CountyTurnoutAllRegisteredVoters",
         "string",
         null
        ],
        [
         "ElectionReturns_P16CountyTurnoutDemocrats",
         "string",
         null
        ],
        [
         "ElectionReturns_P16CountyTurnoutRepublicans",
         "string",
         null
        ],
        [
         "ElectionReturns_P16PrecinctTurnoutAllRegisteredVoters",
         "string",
         null
        ],
        [
         "ElectionReturns_P16PrecinctTurnoutDemocrats",
         "string",
         null
        ],
        [
         "ElectionReturns_P16PrecinctTurnoutRepublicans",
         "string",
         null
        ],
        [
         "ElectionReturns_P18CountyTurnoutAllRegisteredVoters",
         "string",
         null
        ],
        [
         "ElectionReturns_P18CountyTurnoutDemocrats",
         "string",
         null
        ],
        [
         "ElectionReturns_P18CountyTurnoutRepublicans",
         "string",
         null
        ],
        [
         "ElectionReturns_P18PrecinctTurnoutAllRegisteredVoters",
         "string",
         null
        ],
        [
         "ElectionReturns_P18PrecinctTurnoutDemocrats",
         "string",
         null
        ],
        [
         "ElectionReturns_P18PrecinctTurnoutRepublicans",
         "string",
         null
        ],
        [
         "Voters_VotingPerformanceEvenYearGeneral",
         "string",
         null
        ],
        [
         "Voters_VotingPerformanceEvenYearPrimary",
         "string",
         null
        ],
        [
         "Voters_VotingPerformanceEvenYearGeneralAndPrimary",
         "string",
         null
        ],
        [
         "Voters_VotingPerformanceMinorElection",
         "string",
         null
        ],
        [
         "Primary_2020",
         "string",
         null
        ],
        [
         "PresidentialPrimary_2020",
         "string",
         null
        ],
        [
         "AnyElection_2019",
         "string",
         null
        ],
        [
         "General_2018",
         "string",
         null
        ],
        [
         "Primary_2018",
         "string",
         null
        ],
        [
         "OtherElection_2018",
         "string",
         null
        ],
        [
         "AnyElection_2017",
         "string",
         null
        ],
        [
         "General_2016",
         "string",
         null
        ],
        [
         "Primary_2016",
         "string",
         null
        ],
        [
         "PresidentialPrimary_2016",
         "string",
         null
        ],
        [
         "AnyElection_2015",
         "string",
         null
        ],
        [
         "General_2014",
         "string",
         null
        ],
        [
         "Primary_2014",
         "string",
         null
        ],
        [
         "AnyElection_2013",
         "string",
         null
        ],
        [
         "General_2012",
         "string",
         null
        ],
        [
         "Primary_2012",
         "string",
         null
        ],
        [
         "PresidentialPrimary_2012",
         "string",
         null
        ],
        [
         "AnyElection_2011",
         "string",
         null
        ],
        [
         "General_2010",
         "string",
         null
        ],
        [
         "Primary_2010",
         "string",
         null
        ],
        [
         "OtherElection_2010",
         "string",
         null
        ],
        [
         "AnyElection_2009",
         "string",
         null
        ],
        [
         "General_2008",
         "string",
         null
        ],
        [
         "Primary_2008",
         "string",
         null
        ],
        [
         "PresidentialPrimary_2008",
         "string",
         null
        ],
        [
         "AnyElection_2007",
         "string",
         null
        ],
        [
         "General_2006",
         "string",
         null
        ],
        [
         "Primary_2006",
         "string",
         null
        ],
        [
         "AnyElection_2005",
         "string",
         null
        ],
        [
         "General_2004",
         "string",
         null
        ],
        [
         "Primary_2004",
         "string",
         null
        ],
        [
         "PresidentialPrimary_2004",
         "string",
         null
        ],
        [
         "AnyElection_2003",
         "string",
         null
        ],
        [
         "General_2002",
         "string",
         null
        ],
        [
         "Primary_2002",
         "string",
         null
        ],
        [
         "AnyElection_2001",
         "string",
         null
        ],
        [
         "General_2000",
         "string",
         null
        ],
        [
         "Primary_2000",
         "string",
         null
        ],
        [
         "PresidentialPrimary_2000",
         "string",
         null
        ],
        [
         "PRI_BLT_2020",
         "string",
         null
        ],
        [
         "PRI_BLT_2018",
         "string",
         null
        ],
        [
         "PRI_BLT_2016",
         "string",
         null
        ],
        [
         "PRI_BLT_2014",
         "string",
         null
        ],
        [
         "PRI_BLT_2012",
         "string",
         null
        ],
        [
         "PRI_BLT_2010",
         "string",
         null
        ],
        [
         "PRI_BLT_2008",
         "string",
         null
        ],
        [
         "PRI_BLT_2006",
         "string",
         null
        ],
        [
         "PRI_BLT_2004",
         "string",
         null
        ],
        [
         "PRI_BLT_2002",
         "string",
         null
        ],
        [
         "PRI_BLT_2000",
         "string",
         null
        ],
        [
         "_rescued_data",
         "string",
         null
        ]
       ],
       "datasetInfos": [
        {
         "name": "_sqldf",
         "schema": {
          "fields": [
           {
            "metadata": {
             "comment": "name of the column"
            },
            "name": "col_name",
            "nullable": false,
            "type": "string"
           },
           {
            "metadata": {
             "comment": "data type of the column"
            },
            "name": "data_type",
            "nullable": false,
            "type": "string"
           },
           {
            "metadata": {
             "comment": "comment of the column"
            },
            "name": "comment",
            "nullable": true,
            "type": "string"
           }
          ],
          "type": "struct"
         },
         "tableIdentifier": null,
         "typeStr": "pyspark.sql.dataframe.DataFrame"
        }
       ],
       "dbfsResultPath": null,
       "isJsonSchema": true,
       "metadata": {
        "createTempViewForImplicitDf": true,
        "dataframeName": "_sqldf",
        "executionCount": 5
       },
       "overflow": false,
       "plotOptions": {
        "customPlotOptions": {},
        "displayType": "table",
        "pivotAggregation": null,
        "pivotColumns": null,
        "xColumns": null,
        "yColumns": null
       },
       "removedWidgets": [],
       "schema": [
        {
         "metadata": "{\"comment\":\"name of the column\"}",
         "name": "col_name",
         "type": "\"string\""
        },
        {
         "metadata": "{\"comment\":\"data type of the column\"}",
         "name": "data_type",
         "type": "\"string\""
        },
        {
         "metadata": "{\"comment\":\"comment of the column\"}",
         "name": "comment",
         "type": "\"string\""
        }
       ],
       "type": "table"
      }
     },
     "output_type": "display_data"
    }
   ],
   "source": [
    "%sql\n",
    "DESCRIBE TABLE `pstat135_finalproject`.default.ma_voter;"
   ]
  },
  {
   "cell_type": "code",
   "execution_count": 0,
   "metadata": {
    "application/vnd.databricks.v1+cell": {
     "cellMetadata": {
      "byteLimit": 2048000,
      "implicitDf": true,
      "rowLimit": 10000
     },
     "inputWidgets": {},
     "nuid": "a3505e1e-cdf2-403a-91ed-8b1aa397b156",
     "showTitle": false,
     "tableResultSettingsMap": {},
     "title": ""
    }
   },
   "outputs": [
    {
     "output_type": "display_data",
     "data": {
      "text/html": [
       "<style scoped>\n",
       "  .table-result-container {\n",
       "    max-height: 300px;\n",
       "    overflow: auto;\n",
       "  }\n",
       "  table, th, td {\n",
       "    border: 1px solid black;\n",
       "    border-collapse: collapse;\n",
       "  }\n",
       "  th, td {\n",
       "    padding: 5px;\n",
       "  }\n",
       "  th {\n",
       "    text-align: left;\n",
       "  }\n",
       "</style><div class='table-result-container'><table class='table-result'><thead style='background-color: white'><tr><th>SEQUENCE</th><th>LALVOTERID</th><th>Voters_Active</th><th>Voters_StateVoterID</th><th>Voters_CountyVoterID</th><th>VoterTelephones_LandlineAreaCode</th><th>VoterTelephones_Landline7Digit</th><th>VoterTelephones_LandlineFormatted</th><th>VoterTelephones_LandlineUnformatted</th><th>VoterTelephones_LandlineConfidenceCode</th><th>VoterTelephones_CellPhoneOnly</th><th>VoterTelephones_CellPhoneFormatted</th><th>VoterTelephones_CellPhoneUnformatted</th><th>VoterTelephones_CellConfidenceCode</th><th>Voters_FirstName</th><th>Voters_MiddleName</th><th>Voters_LastName</th><th>Residence_Addresses_AddressLine</th><th>Residence_Addresses_City</th><th>Residence_Addresses_State</th><th>Residence_Addresses_Zip</th><th>Residence_Addresses_ZipPlus4</th><th>Residence_Addresses_HouseNumber</th><th>Residence_Addresses_PrefixDirection</th><th>Residence_Addresses_StreetName</th><th>Residence_Addresses_Designator</th><th>Residence_Addresses_SuffixDirection</th><th>Residence_Addresses_ApartmentNum</th><th>Residence_Addresses_ApartmentType</th><th>Residence_Addresses_CassErrStatCode</th><th>Voters_SequenceZigZag</th><th>Voters_SequenceOddEven</th><th>Residence_Addresses_CensusTract</th><th>Residence_Addresses_CensusBlockGroup</th><th>Residence_Addresses_CensusBlock</th><th>Residence_Addresses_Latitude</th><th>Residence_Addresses_Longitude</th><th>Residence_Addresses_LatLongAccuracy</th><th>Residence_Addresses_Property_LandSq_Footage</th><th>Residence_Addresses_Property_HomeSq_Footage</th><th>Residence_Addresses_Density</th><th>Residence_Families_FamilyID</th><th>Residence_Families_HHCount</th><th>Residence_HHGender_Description</th><th>Residence_HHParties_Description</th><th>Mailing_Addresses_AddressLine</th><th>Mailing_Addresses_City</th><th>Mailing_Addresses_State</th><th>Mailing_Addresses_Zip</th><th>Mailing_Addresses_ZipPlus4</th><th>Mailing_Addresses_HouseNumber</th><th>Mailing_Addresses_PrefixDirection</th><th>Mailing_Addresses_StreetName</th><th>Mailing_Addresses_Designator</th><th>Mailing_Addresses_SuffixDirection</th><th>Mailing_Addresses_ApartmentNum</th><th>Mailing_Addresses_ApartmentType</th><th>Mailing_Addresses_CassErrStatCode</th><th>Mailing_Families_FamilyID</th><th>Mailing_Families_HHCount</th><th>Mailing_HHGender_Description</th><th>Mailing_HHParties_Description</th><th>Voters_Gender</th><th>Voters_Age</th><th>Voters_BirthDate</th><th>DateConfidence_Description</th><th>Parties_Description</th><th>Ethnic_Description</th><th>EthnicGroups_EthnicGroup1Desc</th><th>CountyEthnic_LALEthnicCode</th><th>CountyEthnic_Description</th><th>Religions_Description</th><th>Voters_CalculatedRegDate</th><th>Voters_OfficialRegDate</th><th>Voters_PlaceOfBirth</th><th>Languages_Description</th><th>AbsenteeTypes_Description</th><th>MaritalStatus_Description</th><th>US_Congressional_District</th><th>AddressDistricts_Change_Changed_CD</th><th>State_Senate_District</th><th>AddressDistricts_Change_Changed_SD</th><th>State_House_District</th><th>AddressDistricts_Change_Changed_HD</th><th>State_Legislative_District</th><th>AddressDistricts_Change_Changed_LD</th><th>2001_US_Congressional_District</th><th>2001_State_Senate_District</th><th>2001_State_House_District</th><th>2001_State_Legislative_District</th><th>County</th><th>Voters_FIPS</th><th>AddressDistricts_Change_Changed_County</th><th>Precinct</th><th>County_Commissioner_District</th><th>County_Supervisorial_District</th><th>County_Legislative_District</th><th>City</th><th>City_Council_Commissioner_District</th><th>City_Ward</th><th>Town_District</th><th>Township</th><th>Hamlet_Community_Area</th><th>Board_of_Education_District</th><th>Community_College</th><th>Community_College_SubDistrict</th><th>County_Board_of_Education_District</th><th>County_Board_of_Education_SubDistrict</th><th>Designated_Market_Area_DMA</th><th>District_Attorney</th><th>Fire_District</th><th>High_School_District</th><th>Judicial_Appellate_District</th><th>Judicial_Circuit_Court_District</th><th>Judicial_District</th><th>Judicial_District_Court_District</th><th>Judicial_Magistrate_Division</th><th>Judicial_Superior_Court_District</th><th>Justice_of_the_Peace</th><th>Other</th><th>Park_District</th><th>School_Board_District</th><th>School_District</th><th>School_Subdistrict</th><th>State_Board_of_Equalization</th><th>Transit_District</th><th>Unified_School_District</th><th>CommercialData_BookBuyerInHome</th><th>CommercialData_ComputerOwnerInHome</th><th>CommercialData_DoItYourselferMagazineInHome</th><th>CommercialData_DonatesEnvironmentCauseInHome</th><th>CommercialData_DonatesToCharityInHome</th><th>CommercialData_DwellingType</th><th>CommercialData_DwellingUnitSize</th><th>CommercialData_Education</th><th>CommercialData_EstHomeValue</th><th>CommercialData_EstimatedHHIncome</th><th>CommercialData_EstimatedHHIncomeAmount</th><th>CommercialData_EstimatedAreaMedianHHIncome</th><th>CommercialData_FamilyMagazineInHome</th><th>CommercialData_FinancialMagazineInHome</th><th>CommercialData_HealthFitnessMagazineInHome</th><th>CommercialData_HHComposition</th><th>CommercialData_HomePurchaseDate</th><th>CommercialData_HomePurchasePrice</th><th>CommercialData_ISPSA</th><th>CommercialData_LandValue</th><th>CommercialData_LikelyUnion</th><th>CommercialData_AreaMedianEducationYears</th><th>CommercialData_AreaMedianHousingValue</th><th>CommercialData_MosaicZ4</th><th>CommercialData_MosaicZ4Global</th><th>CommercialData_Occupation</th><th>CommercialData_OccupationGroup</th><th>CommercialData_OccupationIndustry</th><th>CommercialData_AreaPcntHHMarriedCoupleNoChild</th><th>CommercialData_AreaPcntHHMarriedCoupleWithChild</th><th>CommercialData_AreaPcntHHSpanishSpeaking</th><th>CommercialData_AreaPcntHHWithChildren</th><th>CommercialData_PoliticalContributerInHome</th><th>CommercialData_PresenceOfChildrenCode</th><th>CommercialData_PresenceOfPremCredCrdInHome</th><th>CommercialData_PropertyType</th><th>CommercialData_ReligiousContributorInHome</th><th>CommercialData_StateIncomeDecile</th><th>CommercialData_UpscaleFemaleBuyerInHome</th><th>CommercialDataLL_Buyer_Art_In_Household</th><th>CommercialDataLL_Collector_Antiques_In_Household</th><th>CommercialDataLL_Collector_Avid_In_Household</th><th>CommercialDataLL_Collector_Coins_In_Household</th><th>CommercialDataLL_Collector_General_In_Household</th><th>CommercialDataLL_Donates_to_Childrens_Causes</th><th>CommercialDataLL_Donates_to_Healthcare</th><th>CommercialDataLL_Donates_to_Local_Community</th><th>CommercialDataLL_Donates_to_Wildlife_Preservation</th><th>CommercialDataLL_Gun_Owner</th><th>CommercialDataLL_Home_Office</th><th>CommercialDataLL_Home_Owner_Or_Renter</th><th>CommercialDataLL_Household_Primary_Language</th><th>CommercialDataLL_Interest_in_Auto_Work_In_Household</th><th>CommercialDataLL_Interest_in_Automotive_Parts_Accessories_In_Household</th><th>CommercialDataLL_Interest_in_Boating_Sailing_In_Household</th><th>CommercialDataLL_Interest_in_Camping_Hiking_In_Household</th><th>CommercialDataLL_Interest_in_Cooking_General_In_Household</th><th>CommercialDataLL_Interest_in_Cooking_Gourmet_In_Household</th><th>CommercialDataLL_Interest_in_Crafts_In_Household</th><th>CommercialDataLL_Interest_in_Current_Affairs_Politics_In_Household</th><th>CommercialDataLL_Interest_in_Education_Online_In_Household</th><th>CommercialDataLL_Interest_in_Exercise_Health_In_Household</th><th>CommercialDataLL_Interest_in_Exercise_Walking_In_Household</th><th>CommercialDataLL_Interest_in_Fishing_In_Household</th><th>CommercialDataLL_Interest_in_Foods_Natural_In_Household</th><th>CommercialDataLL_Interest_in_Gardening_In_Household</th><th>CommercialDataLL_Interest_in_Golf_In_Household</th><th>CommercialDataLL_Interest_in_Home_Furnishings_In_Household</th><th>CommercialDataLL_Interest_in_Home_Improvement_In_Household</th><th>CommercialDataLL_Interest_in_Nascar_In_Household</th><th>CommercialDataLL_Interest_in_Photography_In_Household</th><th>CommercialDataLL_Interest_in_Religious_Inspirational_In_Household</th><th>CommercialDataLL_Interest_in_Sewing_Knitting_In_Household</th><th>CommercialDataLL_Interest_in_Shooting_In_Household</th><th>CommercialDataLL_Interest_in_SpectatorSports_Auto_Racing_In_Household</th><th>CommercialDataLL_Interest_in_SpectatorSports_Baseball_In_Household</th><th>CommercialDataLL_Interest_in_SpectatorSports_Basketball_In_Household</th><th>CommercialDataLL_Interest_in_SpectatorSports_Football_In_Household</th><th>CommercialDataLL_Interest_in_SpectatorSports_on_TV_In_Household</th><th>CommercialDataLL_Interest_in_Sports_Leisure_In_Household</th><th>CommercialDataLL_Interest_in_Sweepstakes_Contests_In_Household</th><th>CommercialDataLL_Interest_in_the_Arts_In_Household</th><th>CommercialDataLL_Interest_in_Theater_Performing_Arts_In_Household</th><th>CommercialDataLL_Interest_in_Travel_Cruise_In_Household</th><th>CommercialDataLL_Interest_in_Travel_Domestic_In_Household</th><th>CommercialDataLL_Interest_in_Woodworking_In_Household</th><th>CommercialDataLL_Investor</th><th>CommercialDataLL_HH_Net_Worth</th><th>CommercialDataLL_PetOwner_Cat</th><th>CommercialDataLL_PetOwner_Dog</th><th>CommercialDataLL_PetOwner_Other</th><th>ElectionReturns_G08_Cnty_Margin_McCain_R</th><th>ElectionReturns_G08_Cnty_Percent_McCain_R</th><th>ElectionReturns_G08_Cnty_Vote_McCain_R</th><th>ElectionReturns_G08_Cnty_Margin_Obama_D</th><th>ElectionReturns_G08_Cnty_Percent_Obama_D</th><th>ElectionReturns_G08_Cnty_Vote_Obama_D</th><th>ElectionReturns_G08CountyTurnoutAllRegisteredVoters</th><th>ElectionReturns_G08CountyTurnoutDemocrats</th><th>ElectionReturns_G08CountyTurnoutIndependentsAllOthers</th><th>ElectionReturns_G08CountyTurnoutRepublicans</th><th>ElectionReturns_G08PrecinctTurnoutAllRegisteredVoters</th><th>ElectionReturns_G08PrecinctTurnoutDemocrats</th><th>ElectionReturns_G08PrecinctTurnoutIndependentsAllOthers</th><th>ElectionReturns_G08PrecinctTurnoutRepublicans</th><th>ElectionReturns_G10CountyTurnoutAllRegisteredVoters</th><th>ElectionReturns_G10CountyTurnoutDemocrats</th><th>ElectionReturns_G10CountyTurnoutIndependentsAllOthers</th><th>ElectionReturns_G10CountyTurnoutRepublicans</th><th>ElectionReturns_G10PrecinctTurnoutAllRegisteredVoters</th><th>ElectionReturns_G10PrecinctTurnoutDemocrats</th><th>ElectionReturns_G10PrecinctTurnoutIndependentsAllOthers</th><th>ElectionReturns_G10PrecinctTurnoutRepublicans</th><th>ElectionReturns_G12_Cnty_Margin_Obama_D</th><th>ElectionReturns_G12_Cnty_Percent_Obama_D</th><th>ElectionReturns_G12_Cnty_Vote_Obama_D</th><th>ElectionReturns_G12_Cnty_Margin_Romney_R</th><th>ElectionReturns_G12_Cnty_Percent_Romney_R</th><th>ElectionReturns_G12_Cnty_Vote_Romney_R</th><th>ElectionReturns_G12CountyTurnoutAllRegisteredVoters</th><th>ElectionReturns_G12CountyTurnoutDemocrats</th><th>ElectionReturns_G12CountyTurnoutIndependentsAllOthers</th><th>ElectionReturns_G12CountyTurnoutRepublicans</th><th>ElectionReturns_G12PrecinctTurnoutAllRegisteredVoters</th><th>ElectionReturns_G12PrecinctTurnoutDemocrats</th><th>ElectionReturns_G12PrecinctTurnoutIndependentsAllOthers</th><th>ElectionReturns_G12PrecinctTurnoutRepublicans</th><th>ElectionReturns_G14CountyTurnoutAllRegisteredVoters</th><th>ElectionReturns_G14CountyTurnoutDemocrats</th><th>ElectionReturns_G14CountyTurnoutIndependentsAllOthers</th><th>ElectionReturns_G14CountyTurnoutRepublicans</th><th>ElectionReturns_G14PrecinctTurnoutAllRegisteredVoters</th><th>ElectionReturns_G14PrecinctTurnoutDemocrats</th><th>ElectionReturns_G14PrecinctTurnoutIndependentsAllOthers</th><th>ElectionReturns_G14PrecinctTurnoutRepublicans</th><th>ElectionReturns_G16_Cnty_Margin_Clinton_D</th><th>ElectionReturns_G16_Cnty_Percent_Clinton_D</th><th>ElectionReturns_G16_Cnty_Vote_Clinton_D</th><th>ElectionReturns_G16_Cnty_Margin_Trump_R</th><th>ElectionReturns_G16_Cnty_Percent_Trump_R</th><th>ElectionReturns_G16_Cnty_Vote_Trump_R</th><th>ElectionReturns_G16CountyTurnoutAllRegisteredVoters</th><th>ElectionReturns_G16CountyTurnoutDemocrats</th><th>ElectionReturns_G16CountyTurnoutIndependentsAllOthers</th><th>ElectionReturns_G16CountyTurnoutRepublicans</th><th>ElectionReturns_G16PrecinctTurnoutAllRegisteredVoters</th><th>ElectionReturns_G16PrecinctTurnoutDemocrats</th><th>ElectionReturns_G16PrecinctTurnoutIndependentsAllOthers</th><th>ElectionReturns_G16PrecinctTurnoutRepublicans</th><th>ElectionReturns_G18CountyTurnoutAllRegisteredVoters</th><th>ElectionReturns_G18CountyTurnoutDemocrats</th><th>ElectionReturns_G18CountyTurnoutIndependentsAllOthers</th><th>ElectionReturns_G18CountyTurnoutRepublicans</th><th>ElectionReturns_G18PrecinctTurnoutAllRegisteredVoters</th><th>ElectionReturns_G18PrecinctTurnoutDemocrats</th><th>ElectionReturns_G18PrecinctTurnoutIndependentsAllOthers</th><th>ElectionReturns_G18PrecinctTurnoutRepublicans</th><th>ElectionReturns_P08_Cnty_Pct_Biden_D</th><th>ElectionReturns_P08_Cnty_Pct_Clinton_D</th><th>ElectionReturns_P08_Cnty_Pct_Dodd_D</th><th>ElectionReturns_P08_Cnty_Pct_Edwards_D</th><th>ElectionReturns_P08_Cnty_Pct_Gravel_D</th><th>ElectionReturns_P08_Cnty_Pct_Kucinich_D</th><th>ElectionReturns_P08_Cnty_Pct_Obama_D</th><th>ElectionReturns_P08_Cnty_Pct_Richardson_D</th><th>ElectionReturns_P08_Cnty_Vote_Biden_D</th><th>ElectionReturns_P08_Cnty_Vote_Clinton_D</th><th>ElectionReturns_P08_Cnty_Vote_Dodd_D</th><th>ElectionReturns_P08_Cnty_Vote_Edwards_D</th><th>ElectionReturns_P08_Cnty_Vote_Gravel_D</th><th>ElectionReturns_P08_Cnty_Vote_Kucinich_D</th><th>ElectionReturns_P08_Cnty_Vote_Obama_D</th><th>ElectionReturns_P08_Cnty_Vote_Richardson_D</th><th>ElectionReturns_P08_Cnty_Pct_Giuliani_R</th><th>ElectionReturns_P08_Cnty_Pct_Huckabee_R</th><th>ElectionReturns_P08_Cnty_Pct_Hunter_R</th><th>ElectionReturns_P08_Cnty_Pct_Keyes_R</th><th>ElectionReturns_P08_Cnty_Pct_McCain_R</th><th>ElectionReturns_P08_Cnty_Pct_Paul_R</th><th>ElectionReturns_P08_Cnty_Pct_Romney_R</th><th>ElectionReturns_P08_Cnty_Pct_Thompson_R</th><th>ElectionReturns_P08_Cnty_Vote_Giuliani_R</th><th>ElectionReturns_P08_Cnty_Vote_Huckabee_R</th><th>ElectionReturns_P08_Cnty_Vote_Hunter_R</th><th>ElectionReturns_P08_Cnty_Vote_Keyes_R</th><th>ElectionReturns_P08_Cnty_Vote_McCain_R</th><th>ElectionReturns_P08_Cnty_Vote_Paul_R</th><th>ElectionReturns_P08_Cnty_Vote_Romney_R</th><th>ElectionReturns_P08_Cnty_Vote_Thompson_R</th><th>ElectionReturns_P08CountyTurnoutAllRegisteredVoters</th><th>ElectionReturns_P08CountyTurnoutDemocrats</th><th>ElectionReturns_P08CountyTurnoutRepublicans</th><th>ElectionReturns_P08PrecinctTurnoutAllRegisteredVoters</th><th>ElectionReturns_P08PrecinctTurnoutDemocrats</th><th>ElectionReturns_P08PrecinctTurnoutRepublicans</th><th>ElectionReturns_P10CountyTurnoutAllRegisteredVoters</th><th>ElectionReturns_P10CountyTurnoutDemocrats</th><th>ElectionReturns_P10CountyTurnoutRepublicans</th><th>ElectionReturns_P10PrecinctTurnoutAllRegisteredVoters</th><th>ElectionReturns_P10PrecinctTurnoutDemocrats</th><th>ElectionReturns_P10PrecinctTurnoutRepublicans</th><th>ElectionReturns_P12_Cnty_Pct_Bachman_R</th><th>ElectionReturns_P12_Cnty_Pct_Gingrich_R</th><th>ElectionReturns_P12_Cnty_Pct_Huntsman_R</th><th>ElectionReturns_P12_Cnty_Pct_Paul_R</th><th>ElectionReturns_P12_Cnty_Pct_Perry_R</th><th>ElectionReturns_P12_Cnty_Pct_Romney_R</th><th>ElectionReturns_P12_Cnty_Pct_Santorum_R</th><th>ElectionReturns_P12_Cnty_Vote_Bachman_R</th><th>ElectionReturns_P12_Cnty_Vote_Gingrich_R</th><th>ElectionReturns_P12_Cnty_Vote_Huntsman_R</th><th>ElectionReturns_P12_Cnty_Vote_Paul_R</th><th>ElectionReturns_P12_Cnty_Vote_Perry_R</th><th>ElectionReturns_P12_Cnty_Vote_Romney_R</th><th>ElectionReturns_P12_Cnty_Vote_Santorum_R</th><th>ElectionReturns_P12CountyTurnoutAllRegisteredVoters</th><th>ElectionReturns_P12CountyTurnoutDemocrats</th><th>ElectionReturns_P12CountyTurnoutRepublicans</th><th>ElectionReturns_P12PrecinctTurnoutAllRegisteredVoters</th><th>ElectionReturns_P12PrecinctTurnoutDemocrats</th><th>ElectionReturns_P12PrecinctTurnoutRepublicans</th><th>ElectionReturns_P14CountyTurnoutAllRegisteredVoters</th><th>ElectionReturns_P14CountyTurnoutDemocrats</th><th>ElectionReturns_P14CountyTurnoutRepublicans</th><th>ElectionReturns_P14PrecinctTurnoutAllRegisteredVoters</th><th>ElectionReturns_P14PrecinctTurnoutDemocrats</th><th>ElectionReturns_P14PrecinctTurnoutRepublicans</th><th>ElectionReturns_P16_Cnty_Pct_Bush_R</th><th>ElectionReturns_P16_Cnty_Pct_Carson_R</th><th>ElectionReturns_P16_Cnty_Pct_Christie_R</th><th>ElectionReturns_P16_Cnty_Pct_Cruz_R</th><th>ElectionReturns_P16_Cnty_Pct_Fiorina_R</th><th>ElectionReturns_P16_Cnty_Pct_Kasich_R</th><th>ElectionReturns_P16_Cnty_Pct_Rubio_R</th><th>ElectionReturns_P16_Cnty_Pct_Trump_R</th><th>ElectionReturns_P16_Cnty_Vote_Bush_R</th><th>ElectionReturns_P16_Cnty_Vote_Carson_R</th><th>ElectionReturns_P16_Cnty_Vote_Christie_R</th><th>ElectionReturns_P16_Cnty_Vote_Cruz_R</th><th>ElectionReturns_P16_Cnty_Vote_Fiorina_R</th><th>ElectionReturns_P16_Cnty_Vote_Kasich_R</th><th>ElectionReturns_P16_Cnty_Vote_Rubio_R</th><th>ElectionReturns_P16_Cnty_Vote_Trump_R</th><th>ElectionReturns_P16_Cnty_Pct_Clinton_D</th><th>ElectionReturns_P16_Cnty_Pct_Sanders_D</th><th>ElectionReturns_P16_Cnty_Vote_Clinton_D</th><th>ElectionReturns_P16_Cnty_Vote_Sanders_D</th><th>ElectionReturns_P16CountyTurnoutAllRegisteredVoters</th><th>ElectionReturns_P16CountyTurnoutDemocrats</th><th>ElectionReturns_P16CountyTurnoutRepublicans</th><th>ElectionReturns_P16PrecinctTurnoutAllRegisteredVoters</th><th>ElectionReturns_P16PrecinctTurnoutDemocrats</th><th>ElectionReturns_P16PrecinctTurnoutRepublicans</th><th>ElectionReturns_P18CountyTurnoutAllRegisteredVoters</th><th>ElectionReturns_P18CountyTurnoutDemocrats</th><th>ElectionReturns_P18CountyTurnoutRepublicans</th><th>ElectionReturns_P18PrecinctTurnoutAllRegisteredVoters</th><th>ElectionReturns_P18PrecinctTurnoutDemocrats</th><th>ElectionReturns_P18PrecinctTurnoutRepublicans</th><th>Voters_VotingPerformanceEvenYearGeneral</th><th>Voters_VotingPerformanceEvenYearPrimary</th><th>Voters_VotingPerformanceEvenYearGeneralAndPrimary</th><th>Voters_VotingPerformanceMinorElection</th><th>Primary_2020</th><th>PresidentialPrimary_2020</th><th>AnyElection_2019</th><th>General_2018</th><th>Primary_2018</th><th>OtherElection_2018</th><th>AnyElection_2017</th><th>General_2016</th><th>Primary_2016</th><th>PresidentialPrimary_2016</th><th>AnyElection_2015</th><th>General_2014</th><th>Primary_2014</th><th>AnyElection_2013</th><th>General_2012</th><th>Primary_2012</th><th>PresidentialPrimary_2012</th><th>AnyElection_2011</th><th>General_2010</th><th>Primary_2010</th><th>OtherElection_2010</th><th>AnyElection_2009</th><th>General_2008</th><th>Primary_2008</th><th>PresidentialPrimary_2008</th><th>AnyElection_2007</th><th>General_2006</th><th>Primary_2006</th><th>AnyElection_2005</th><th>General_2004</th><th>Primary_2004</th><th>PresidentialPrimary_2004</th><th>AnyElection_2003</th><th>General_2002</th><th>Primary_2002</th><th>AnyElection_2001</th><th>General_2000</th><th>Primary_2000</th><th>PresidentialPrimary_2000</th><th>PRI_BLT_2020</th><th>PRI_BLT_2018</th><th>PRI_BLT_2016</th><th>PRI_BLT_2014</th><th>PRI_BLT_2012</th><th>PRI_BLT_2010</th><th>PRI_BLT_2008</th><th>PRI_BLT_2006</th><th>PRI_BLT_2004</th><th>PRI_BLT_2002</th><th>PRI_BLT_2000</th><th>_rescued_data</th></tr></thead><tbody><tr><td>2701519</td><td>LALMA442033155</td><td>A</td><td>08JJN1866000</td><td>null</td><td>null</td><td>null</td><td>null</td><td>null</td><td>null</td><td>null</td><td>null</td><td>null</td><td>null</td><td>Jonathan</td><td>Ross</td><td>Janov</td><td>35B Essex Rd</td><td>Nantucket</td><td>MA</td><td>02554</td><td>null</td><td>35B</td><td>null</td><td>Essex</td><td>Rd</td><td>null</td><td>null</td><td>null</td><td>E601</td><td>362701518</td><td>362701559</td><td>null</td><td>null</td><td>null</td><td>41.264832</td><td>-70.104559</td><td>StreetCenter</td><td>null</td><td>null</td><td>9309</td><td>R008759360</td><td>1</td><td>Male Only Household</td><td>Democratic</td><td>35B Essex Rd</td><td>Nantucket</td><td>MA</td><td>02554</td><td>null</td><td>35B</td><td>null</td><td>Essex</td><td>Rd</td><td>null</td><td>null</td><td>null</td><td>E601</td><td>M009017583</td><td>1</td><td>Male Only Household</td><td>Democratic</td><td>M</td><td>55</td><td>08/18/1966</td><td>Complete Date</td><td>Democratic</td><td>null</td><td>null</td><td>null</td><td>null</td><td>Jewish</td><td>12/23/2013</td><td>12/23/2013</td><td>null</td><td>null</td><td>null</td><td>null</td><td>9</td><td>Has Not Changed Within Last 2 Years</td><td>CAPE-ISLANDS</td><td>Has Not Changed Within Last 2 Years</td><td>BARNSTABLE-DUKES-NANTUCKET</td><td>Has Not Changed Within Last 2 Years</td><td>null</td><td>null</td><td>10</td><td>CAPE-ISLANDS</td><td>BARNSTABLE-DUKES-NANTUCKET</td><td>null</td><td>NANTUCKET</td><td>019</td><td>Has Not Changed Within Last 2 Years</td><td>NANTUCKET</td><td>null</td><td>null</td><td>null</td><td>null</td><td>null</td><td>null</td><td>NANTUCKET TOWN</td><td>null</td><td>null</td><td>null</td><td>null</td><td>null</td><td>null</td><td>null</td><td>BOSTON DMA (EST.)</td><td>null</td><td>null</td><td>null</td><td>null</td><td>null</td><td>null</td><td>null</td><td>null</td><td>null</td><td>null</td><td>null</td><td>null</td><td>null</td><td>null</td><td>null</td><td>null</td><td>null</td><td>NANTUCKET UNIFIED SD (EST.)</td><td>null</td><td>Y</td><td>null</td><td>U</td><td>U</td><td>Single Family Dwelling Unit</td><td>1-Single Family Dwelling</td><td>Bach Degree - Likely</td><td>null</td><td>$125000-149999</td><td>$140000</td><td>null</td><td>null</td><td>null</td><td>null</td><td>1 adult Male</td><td>null</td><td>null</td><td>null</td><td>$1278000</td><td>null</td><td>null</td><td>null</td><td>null</td><td>null</td><td>Unknown</td><td>Other</td><td>null</td><td>null</td><td>null</td><td>null</td><td>null</td><td>null</td><td>Not Likely to have a child</td><td>null</td><td>Residential</td><td>null</td><td>null</td><td>null</td><td>null</td><td>null</td><td>null</td><td>null</td><td>null</td><td>null</td><td>null</td><td>null</td><td>null</td><td>null</td><td>null</td><td>null</td><td>null</td><td>null</td><td>null</td><td>null</td><td>null</td><td>null</td><td>null</td><td>null</td><td>null</td><td>null</td><td>null</td><td>null</td><td>null</td><td>null</td><td>null</td><td>null</td><td>null</td><td>null</td><td>null</td><td>null</td><td>null</td><td>null</td><td>null</td><td>null</td><td>null</td><td>null</td><td>null</td><td>null</td><td>null</td><td>null</td><td>null</td><td>null</td><td>null</td><td>null</td><td>null</td><td>null</td><td>null</td><td>null</td><td>null</td><td>null</td><td>-36%</td><td>31%</td><td>1863</td><td>36%</td><td>67%</td><td>4073</td><td>74%</td><td>70%</td><td>75%</td><td>81%</td><td>74%</td><td>72%</td><td>75%</td><td>81%</td><td>61%</td><td>57%</td><td>61%</td><td>70%</td><td>61%</td><td>58%</td><td>61%</td><td>70%</td><td>27%</td><td>63%</td><td>3828</td><td>-27%</td><td>36%</td><td>2185</td><td>73%</td><td>71%</td><td>72%</td><td>80%</td><td>73%</td><td>73%</td><td>71%</td><td>79%</td><td>43%</td><td>43%</td><td>42%</td><td>52%</td><td>43%</td><td>43%</td><td>42%</td><td>52%</td><td>35%</td><td>64%</td><td>4146</td><td>-35%</td><td>29%</td><td>1892</td><td>72%</td><td>74%</td><td>71%</td><td>76%</td><td>72%</td><td>75%</td><td>70%</td><td>77%</td><td>63%</td><td>68%</td><td>60%</td><td>63%</td><td>63%</td><td>70%</td><td>59%</td><td>64%</td><td>0%</td><td>38%</td><td>0%</td><td>2%</td><td>0%</td><td>0%</td><td>60%</td><td>0%</td><td>2</td><td>833</td><td>2</td><td>35</td><td>2</td><td>1</td><td>1317</td><td>4</td><td>1%</td><td>4%</td><td>0%</td><td>null</td><td>44%</td><td>3%</td><td>46%</td><td>0%</td><td>12</td><td>43</td><td>0</td><td>0</td><td>428</td><td>27</td><td>454</td><td>0</td><td>30%</td><td>33%</td><td>28%</td><td>29%</td><td>31%</td><td>28%</td><td>34%</td><td>35%</td><td>39%</td><td>33%</td><td>35%</td><td>38%</td><td>0%</td><td>6%</td><td>1%</td><td>11%</td><td>0%</td><td>69%</td><td>12%</td><td>0</td><td>38</td><td>6</td><td>65</td><td>3</td><td>424</td><td>72</td><td>9%</td><td>12%</td><td>9%</td><td>8%</td><td>12%</td><td>9%</td><td>9%</td><td>12%</td><td>13%</td><td>9%</td><td>11%</td><td>13%</td><td>2%</td><td>3%</td><td>1%</td><td>10%</td><td>0%</td><td>15%</td><td>18%</td><td>49%</td><td>18</td><td>27</td><td>7</td><td>100</td><td>0</td><td>149</td><td>176</td><td>484</td><td>48%</td><td>52%</td><td>979</td><td>1060</td><td>10%</td><td>14%</td><td>8%</td><td>9%</td><td>13%</td><td>8%</td><td>13%</td><td>16%</td><td>13%</td><td>13%</td><td>16%</td><td>14%</td><td>75%</td><td>50%</td><td>62%</td><td>71%</td><td>Y</td><td>Y</td><td>Y</td><td>Y</td><td>Y</td><td>Y</td><td>Y</td><td>Y</td><td>null</td><td>Y</td><td>Y</td><td>null</td><td>null</td><td>null</td><td>null</td><td>null</td><td>null</td><td>null</td><td>null</td><td>null</td><td>null</td><td>null</td><td>null</td><td>null</td><td>null</td><td>null</td><td>null</td><td>null</td><td>null</td><td>null</td><td>null</td><td>null</td><td>null</td><td>null</td><td>null</td><td>null</td><td>null</td><td>null</td><td>null</td><td>D</td><td>D</td><td>null</td><td>null</td><td>null</td><td>null</td><td>null</td><td>null</td><td>null</td><td>null</td><td>null</td><td>null</td></tr><tr><td>648602</td><td>LALMA549099082</td><td>A</td><td>09MJR2267003</td><td>null</td><td>508</td><td>627-7993</td><td>(508) 627-7993</td><td>5086277993</td><td>2</td><td>null</td><td>null</td><td>null</td><td>null</td><td>Jennifer</td><td>R</td><td>Michaels</td><td>13 Plantingfield Wood Cir</td><td>Edgartown</td><td>MA</td><td>02539</td><td>null</td><td>13</td><td>null</td><td>Plantingfield Wood</td><td>Cir</td><td>null</td><td>null</td><td>null</td><td>E601</td><td>360648600</td><td>360648601</td><td>null</td><td>null</td><td>null</td><td>41.395102</td><td>-70.518955</td><td>GeoMatchRooftop</td><td>null</td><td>null</td><td>2678</td><td>R010219737</td><td>3</td><td>Mixed Gender Household</td><td>Democratic & Independent</td><td>PO Box 3139</td><td>Edgartown</td><td>MA</td><td>02539</td><td>3139</td><td>null</td><td>null</td><td>PO Box 3139</td><td>null</td><td>null</td><td>null</td><td>null</td><td>S80000</td><td>M010294810</td><td>2</td><td>Mixed Gender Household</td><td>Democratic & Independent</td><td>F</td><td>54</td><td>09/22/1967</td><td>Complete Date</td><td>Non-Partisan</td><td>English/Welsh</td><td>European</td><td>null</td><td>null</td><td>Protestant</td><td>10/05/2008</td><td>08/30/2018</td><td>null</td><td>English</td><td>null</td><td>Married</td><td>9</td><td>Has Not Changed Within Last 2 Years</td><td>CAPE-ISLANDS</td><td>Has Not Changed Within Last 2 Years</td><td>BARNSTABLE-DUKES-NANTUCKET</td><td>Has Not Changed Within Last 2 Years</td><td>null</td><td>null</td><td>10</td><td>CAPE-ISLANDS</td><td>BARNSTABLE-DUKES-NANTUCKET</td><td>null</td><td>DUKES</td><td>007</td><td>Has Not Changed Within Last 2 Years</td><td>EDGARTOWN</td><td>null</td><td>null</td><td>null</td><td>null</td><td>null</td><td>null</td><td>EDGARTOWN TOWN</td><td>null</td><td>null</td><td>null</td><td>null</td><td>null</td><td>null</td><td>null</td><td>BOSTON DMA (EST.)</td><td>null</td><td>null</td><td>null</td><td>null</td><td>null</td><td>null</td><td>null</td><td>null</td><td>null</td><td>null</td><td>null</td><td>null</td><td>null</td><td>MARTHA'S VINEYARD SD (EST.)</td><td>null</td><td>null</td><td>null</td><td>null</td><td>null</td><td>U</td><td>null</td><td>U</td><td>Y</td><td>Single Family Dwelling Unit</td><td>1-Single Family Dwelling</td><td>Bach Degree - Extremely Likely</td><td>$625000</td><td>$100000-124999</td><td>$107000</td><td>null</td><td>null</td><td>null</td><td>null</td><td>null</td><td>10/22/2009</td><td>$940000</td><td>null</td><td>$1032000</td><td>null</td><td>null</td><td>null</td><td>null</td><td>null</td><td>Unknown</td><td>Management/Business and Financial Operations</td><td>null</td><td>null</td><td>null</td><td>null</td><td>null</td><td>1</td><td>Modeled Not as Likely to have a child</td><td>null</td><td>Residential</td><td>null</td><td>null</td><td>null</td><td>Yes</td><td>Yes</td><td>null</td><td>null</td><td>Yes</td><td>null</td><td>null</td><td>null</td><td>null</td><td>null</td><td>Yes</td><td>Likely Homeowner</td><td>null</td><td>null</td><td>null</td><td>Yes</td><td>null</td><td>null</td><td>Yes</td><td>null</td><td>null</td><td>null</td><td>Yes</td><td>null</td><td>null</td><td>null</td><td>Yes</td><td>null</td><td>Yes</td><td>null</td><td>null</td><td>Yes</td><td>Yes</td><td>null</td><td>Yes</td><td>null</td><td>null</td><td>null</td><td>null</td><td>null</td><td>Yes</td><td>Yes</td><td>Yes</td><td>null</td><td>null</td><td>Yes</td><td>null</td><td>Yes</td><td>$250000-499999</td><td>null</td><td>null</td><td>Yes</td><td>-52%</td><td>23%</td><td>2442</td><td>52%</td><td>75%</td><td>7913</td><td>81%</td><td>81%</td><td>80%</td><td>82%</td><td>77%</td><td>81%</td><td>73%</td><td>82%</td><td>63%</td><td>62%</td><td>63%</td><td>72%</td><td>60%</td><td>62%</td><td>57%</td><td>70%</td><td>47%</td><td>73%</td><td>7955</td><td>-47%</td><td>26%</td><td>2789</td><td>79%</td><td>79%</td><td>78%</td><td>82%</td><td>74%</td><td>79%</td><td>71%</td><td>78%</td><td>52%</td><td>53%</td><td>50%</td><td>59%</td><td>51%</td><td>54%</td><td>47%</td><td>58%</td><td>51%</td><td>72%</td><td>8400</td><td>-51%</td><td>21%</td><td>2477</td><td>78%</td><td>81%</td><td>77%</td><td>78%</td><td>75%</td><td>79%</td><td>71%</td><td>76%</td><td>68%</td><td>73%</td><td>65%</td><td>65%</td><td>65%</td><td>73%</td><td>60%</td><td>65%</td><td>0%</td><td>40%</td><td>0%</td><td>1%</td><td>0%</td><td>0%</td><td>58%</td><td>0%</td><td>5</td><td>1978</td><td>5</td><td>49</td><td>3</td><td>14</td><td>2890</td><td>5</td><td>2%</td><td>5%</td><td>0%</td><td>null</td><td>42%</td><td>3%</td><td>47%</td><td>0%</td><td>22</td><td>65</td><td>0</td><td>0</td><td>560</td><td>35</td><td>619</td><td>1</td><td>23%</td><td>29%</td><td>13%</td><td>16%</td><td>24%</td><td>8%</td><td>20%</td><td>23%</td><td>24%</td><td>17%</td><td>20%</td><td>22%</td><td>0%</td><td>6%</td><td>1%</td><td>13%</td><td>0%</td><td>64%</td><td>16%</td><td>1</td><td>56</td><td>7</td><td>126</td><td>2</td><td>617</td><td>151</td><td>14%</td><td>18%</td><td>14%</td><td>11%</td><td>17%</td><td>15%</td><td>17%</td><td>22%</td><td>18%</td><td>15%</td><td>20%</td><td>18%</td><td>2%</td><td>3%</td><td>0%</td><td>10%</td><td>0%</td><td>20%</td><td>15%</td><td>48%</td><td>26</td><td>42</td><td>5</td><td>137</td><td>4</td><td>283</td><td>214</td><td>692</td><td>45%</td><td>54%</td><td>2312</td><td>2804</td><td>22%</td><td>27%</td><td>14%</td><td>1%</td><td>2%</td><td>1%</td><td>33%</td><td>40%</td><td>26%</td><td>31%</td><td>40%</td><td>30%</td><td>85%</td><td>0%</td><td>46%</td><td>30%</td><td>null</td><td>null</td><td>null</td><td>null</td><td>null</td><td>null</td><td>null</td><td>Y</td><td>null</td><td>Y</td><td>Y</td><td>Y</td><td>null</td><td>null</td><td>Y</td><td>null</td><td>null</td><td>Y</td><td>Y</td><td>null</td><td>null</td><td>null</td><td>Y</td><td>null</td><td>null</td><td>null</td><td>null</td><td>null</td><td>null</td><td>null</td><td>null</td><td>null</td><td>null</td><td>null</td><td>null</td><td>null</td><td>null</td><td>null</td><td>null</td><td>null</td><td>null</td><td>null</td><td>null</td><td>null</td><td>null</td><td>null</td><td>null</td><td>null</td><td>null</td><td>null</td><td>null</td></tr><tr><td>656989</td><td>LALMA161352842</td><td>A</td><td>03DKN1690003</td><td>null</td><td>508</td><td>696-0316</td><td>(508) 696-0316</td><td>5086960316</td><td>4</td><td>null</td><td>null</td><td>null</td><td>null</td><td>Kathryn</td><td>E</td><td>Dimovich</td><td>74 William St</td><td>Vineyard Haven</td><td>MA</td><td>02568</td><td>null</td><td>74</td><td>null</td><td>William</td><td>St</td><td>null</td><td>null</td><td>null</td><td>E601</td><td>360656988</td><td>360656974</td><td>null</td><td>null</td><td>null</td><td>41.454977</td><td>-70.604537</td><td>GeoMatchRooftop</td><td>null</td><td>null</td><td>4038</td><td>R012108676</td><td>1</td><td>Female Only Household</td><td>Independent</td><td>455 State Rd Apt 208</td><td>Vineyard Haven</td><td>MA</td><td>02568</td><td>5695</td><td>455</td><td>null</td><td>State</td><td>Rd</td><td>null</td><td>208</td><td>Apt</td><td>S80000</td><td>M012108677</td><td>1</td><td>Female Only Household</td><td>Independent</td><td>F</td><td>31</td><td>03/16/1990</td><td>Complete Date</td><td>Non-Partisan</td><td>Serbian</td><td>Other</td><td>null</td><td>null</td><td>Eastern Orthodox</td><td>01/23/2009</td><td>01/23/2009</td><td>null</td><td>English</td><td>null</td><td>null</td><td>9</td><td>Has Not Changed Within Last 2 Years</td><td>CAPE-ISLANDS</td><td>Has Not Changed Within Last 2 Years</td><td>BARNSTABLE-DUKES-NANTUCKET</td><td>Has Not Changed Within Last 2 Years</td><td>null</td><td>null</td><td>10</td><td>CAPE-ISLANDS</td><td>BARNSTABLE-DUKES-NANTUCKET</td><td>null</td><td>DUKES</td><td>007</td><td>Has Not Changed Within Last 2 Years</td><td>TISBURY</td><td>null</td><td>null</td><td>null</td><td>null</td><td>null</td><td>null</td><td>TISBURY TOWN</td><td>null</td><td>VINEYARD HAVEN COMMUNITY (EST.)</td><td>null</td><td>null</td><td>null</td><td>null</td><td>null</td><td>BOSTON DMA (EST.)</td><td>null</td><td>null</td><td>null</td><td>null</td><td>null</td><td>null</td><td>null</td><td>null</td><td>null</td><td>null</td><td>null</td><td>null</td><td>null</td><td>MARTHA'S VINEYARD SD (EST.)</td><td>null</td><td>null</td><td>null</td><td>null</td><td>null</td><td>null</td><td>null</td><td>null</td><td>Y</td><td>null</td><td>null</td><td>null</td><td>$325000</td><td>null</td><td>null</td><td>null</td><td>null</td><td>null</td><td>null</td><td>null</td><td>null</td><td>null</td><td>null</td><td>null</td><td>null</td><td>null</td><td>null</td><td>null</td><td>null</td><td>null</td><td>null</td><td>null</td><td>null</td><td>null</td><td>null</td><td>null</td><td>1</td><td>Known Data</td><td>null</td><td>Unknown</td><td>1</td><td>null</td><td>null</td><td>Yes</td><td>Yes</td><td>null</td><td>null</td><td>null</td><td>null</td><td>Yes</td><td>Yes</td><td>Yes</td><td>null</td><td>Yes</td><td>Likely Homeowner</td><td>null</td><td>Yes</td><td>null</td><td>Yes</td><td>Yes</td><td>Yes</td><td>null</td><td>Yes</td><td>null</td><td>null</td><td>Yes</td><td>Yes</td><td>Yes</td><td>null</td><td>Yes</td><td>Yes</td><td>Yes</td><td>Yes</td><td>null</td><td>Yes</td><td>Yes</td><td>null</td><td>null</td><td>null</td><td>Yes</td><td>null</td><td>Yes</td><td>Yes</td><td>Yes</td><td>Yes</td><td>Yes</td><td>null</td><td>Yes</td><td>Yes</td><td>null</td><td>Yes</td><td>$250000-499999</td><td>null</td><td>Yes</td><td>Yes</td><td>-52%</td><td>23%</td><td>2442</td><td>52%</td><td>75%</td><td>7913</td><td>81%</td><td>81%</td><td>80%</td><td>82%</td><td>79%</td><td>81%</td><td>77%</td><td>92%</td><td>63%</td><td>62%</td><td>63%</td><td>72%</td><td>65%</td><td>64%</td><td>63%</td><td>80%</td><td>47%</td><td>73%</td><td>7955</td><td>-47%</td><td>26%</td><td>2789</td><td>79%</td><td>79%</td><td>78%</td><td>82%</td><td>78%</td><td>81%</td><td>75%</td><td>89%</td><td>52%</td><td>53%</td><td>50%</td><td>59%</td><td>51%</td><td>52%</td><td>48%</td><td>64%</td><td>51%</td><td>72%</td><td>8400</td><td>-51%</td><td>21%</td><td>2477</td><td>78%</td><td>81%</td><td>77%</td><td>78%</td><td>75%</td><td>80%</td><td>71%</td><td>82%</td><td>68%</td><td>73%</td><td>65%</td><td>65%</td><td>65%</td><td>71%</td><td>62%</td><td>65%</td><td>0%</td><td>40%</td><td>0%</td><td>1%</td><td>0%</td><td>0%</td><td>58%</td><td>0%</td><td>5</td><td>1978</td><td>5</td><td>49</td><td>3</td><td>14</td><td>2890</td><td>5</td><td>2%</td><td>5%</td><td>0%</td><td>null</td><td>42%</td><td>3%</td><td>47%</td><td>0%</td><td>22</td><td>65</td><td>0</td><td>0</td><td>560</td><td>35</td><td>619</td><td>1</td><td>23%</td><td>29%</td><td>13%</td><td>22%</td><td>28%</td><td>13%</td><td>20%</td><td>23%</td><td>24%</td><td>19%</td><td>23%</td><td>32%</td><td>0%</td><td>6%</td><td>1%</td><td>13%</td><td>0%</td><td>64%</td><td>16%</td><td>1</td><td>56</td><td>7</td><td>126</td><td>2</td><td>617</td><td>151</td><td>14%</td><td>18%</td><td>14%</td><td>12%</td><td>16%</td><td>15%</td><td>17%</td><td>22%</td><td>18%</td><td>17%</td><td>22%</td><td>18%</td><td>2%</td><td>3%</td><td>0%</td><td>10%</td><td>0%</td><td>20%</td><td>15%</td><td>48%</td><td>26</td><td>42</td><td>5</td><td>137</td><td>4</td><td>283</td><td>214</td><td>692</td><td>45%</td><td>54%</td><td>2312</td><td>2804</td><td>22%</td><td>27%</td><td>14%</td><td>28%</td><td>36%</td><td>22%</td><td>33%</td><td>40%</td><td>26%</td><td>31%</td><td>39%</td><td>23%</td><td>0%</td><td>0%</td><td>0%</td><td>0%</td><td>null</td><td>null</td><td>null</td><td>null</td><td>null</td><td>null</td><td>null</td><td>null</td><td>null</td><td>null</td><td>null</td><td>null</td><td>null</td><td>null</td><td>null</td><td>null</td><td>null</td><td>null</td><td>null</td><td>null</td><td>null</td><td>null</td><td>null</td><td>null</td><td>null</td><td>null</td><td>null</td><td>null</td><td>null</td><td>null</td><td>null</td><td>null</td><td>null</td><td>null</td><td>null</td><td>null</td><td>null</td><td>null</td><td>null</td><td>null</td><td>null</td><td>null</td><td>null</td><td>null</td><td>null</td><td>null</td><td>null</td><td>null</td><td>null</td><td>null</td><td>null</td></tr><tr><td>650100</td><td>LALMA518017041</td><td>A</td><td>07SDE0249001</td><td>null</td><td>null</td><td>null</td><td>null</td><td>null</td><td>null</td><td>null</td><td>null</td><td>null</td><td>null</td><td>Diane</td><td>B</td><td>Stewart</td><td>23 Butler Ave</td><td>Oak Bluffs</td><td>MA</td><td>02557</td><td>null</td><td>23</td><td>null</td><td>Butler</td><td>Ave</td><td>null</td><td>null</td><td>null</td><td>E412</td><td>360650100</td><td>360650100</td><td>null</td><td>null</td><td>null</td><td>41.456202</td><td>-70.557404</td><td>GeoMatch5Digit</td><td>null</td><td>null</td><td>224029</td><td>R009160522</td><td>2</td><td>Mixed Gender Household</td><td>Independent</td><td>PO Box 496</td><td>Oak Bluffs</td><td>MA</td><td>02557</td><td>0496</td><td>null</td><td>null</td><td>PO Box 496</td><td>null</td><td>null</td><td>null</td><td>null</td><td>S80000</td><td>M009153442</td><td>2</td><td>Mixed Gender Household</td><td>Independent</td><td>F</td><td>72</td><td>07/02/1949</td><td>Complete Date</td><td>Non-Partisan</td><td>Scots</td><td>European</td><td>null</td><td>null</td><td>null</td><td>05/02/2016</td><td>05/02/2016</td><td>null</td><td>null</td><td>null</td><td>Married</td><td>9</td><td>Has Not Changed Within Last 2 Years</td><td>CAPE-ISLANDS</td><td>Has Not Changed Within Last 2 Years</td><td>BARNSTABLE-DUKES-NANTUCKET</td><td>Has Not Changed Within Last 2 Years</td><td>null</td><td>null</td><td>10</td><td>CAPE-ISLANDS</td><td>BARNSTABLE-DUKES-NANTUCKET</td><td>null</td><td>DUKES</td><td>007</td><td>Has Not Changed Within Last 2 Years</td><td>OAK BLUFFS</td><td>null</td><td>null</td><td>null</td><td>null</td><td>null</td><td>null</td><td>OAK BLUFFS TOWN</td><td>null</td><td>null</td><td>null</td><td>null</td><td>null</td><td>null</td><td>null</td><td>BOSTON DMA (EST.)</td><td>null</td><td>null</td><td>null</td><td>null</td><td>null</td><td>null</td><td>null</td><td>null</td><td>null</td><td>null</td><td>null</td><td>null</td><td>null</td><td>MARTHA'S VINEYARD SD (EST.)</td><td>null</td><td>null</td><td>null</td><td>null</td><td>2</td><td>Y</td><td>null</td><td>U</td><td>U</td><td>Single Family Dwelling Unit</td><td>1-Single Family Dwelling</td><td>null</td><td>null</td><td>$25000-34999</td><td>$34000</td><td>null</td><td>1</td><td>null</td><td>5</td><td>null</td><td>null</td><td>null</td><td>null</td><td>null</td><td>null</td><td>null</td><td>null</td><td>null</td><td>null</td><td>null</td><td>null</td><td>null</td><td>null</td><td>null</td><td>null</td><td>null</td><td>null</td><td>Not Likely to have a child</td><td>null</td><td>Residential</td><td>null</td><td>null</td><td>null</td><td>null</td><td>null</td><td>null</td><td>null</td><td>null</td><td>null</td><td>null</td><td>null</td><td>null</td><td>null</td><td>null</td><td>null</td><td>null</td><td>null</td><td>null</td><td>null</td><td>null</td><td>null</td><td>null</td><td>null</td><td>null</td><td>null</td><td>null</td><td>null</td><td>null</td><td>null</td><td>null</td><td>null</td><td>null</td><td>null</td><td>null</td><td>null</td><td>null</td><td>null</td><td>null</td><td>null</td><td>null</td><td>null</td><td>null</td><td>null</td><td>null</td><td>null</td><td>null</td><td>null</td><td>null</td><td>null</td><td>null</td><td>null</td><td>null</td><td>null</td><td>null</td><td>null</td><td>-52%</td><td>23%</td><td>2442</td><td>52%</td><td>75%</td><td>7913</td><td>81%</td><td>81%</td><td>80%</td><td>82%</td><td>81%</td><td>80%</td><td>81%</td><td>81%</td><td>63%</td><td>62%</td><td>63%</td><td>72%</td><td>64%</td><td>61%</td><td>65%</td><td>69%</td><td>47%</td><td>73%</td><td>7955</td><td>-47%</td><td>26%</td><td>2789</td><td>79%</td><td>79%</td><td>78%</td><td>82%</td><td>79%</td><td>78%</td><td>79%</td><td>85%</td><td>52%</td><td>53%</td><td>50%</td><td>59%</td><td>52%</td><td>52%</td><td>49%</td><td>62%</td><td>51%</td><td>72%</td><td>8400</td><td>-51%</td><td>21%</td><td>2477</td><td>78%</td><td>81%</td><td>77%</td><td>78%</td><td>79%</td><td>81%</td><td>78%</td><td>81%</td><td>68%</td><td>73%</td><td>65%</td><td>65%</td><td>66%</td><td>71%</td><td>62%</td><td>65%</td><td>0%</td><td>40%</td><td>0%</td><td>1%</td><td>0%</td><td>0%</td><td>58%</td><td>0%</td><td>5</td><td>1978</td><td>5</td><td>49</td><td>3</td><td>14</td><td>2890</td><td>5</td><td>2%</td><td>5%</td><td>0%</td><td>null</td><td>42%</td><td>3%</td><td>47%</td><td>0%</td><td>22</td><td>65</td><td>0</td><td>0</td><td>560</td><td>35</td><td>619</td><td>1</td><td>23%</td><td>29%</td><td>13%</td><td>24%</td><td>30%</td><td>13%</td><td>20%</td><td>23%</td><td>24%</td><td>18%</td><td>22%</td><td>21%</td><td>0%</td><td>6%</td><td>1%</td><td>13%</td><td>0%</td><td>64%</td><td>16%</td><td>1</td><td>56</td><td>7</td><td>126</td><td>2</td><td>617</td><td>151</td><td>14%</td><td>18%</td><td>14%</td><td>14%</td><td>18%</td><td>12%</td><td>17%</td><td>22%</td><td>18%</td><td>16%</td><td>20%</td><td>17%</td><td>2%</td><td>3%</td><td>0%</td><td>10%</td><td>0%</td><td>20%</td><td>15%</td><td>48%</td><td>26</td><td>42</td><td>5</td><td>137</td><td>4</td><td>283</td><td>214</td><td>692</td><td>45%</td><td>54%</td><td>2312</td><td>2804</td><td>22%</td><td>27%</td><td>14%</td><td>28%</td><td>34%</td><td>20%</td><td>33%</td><td>40%</td><td>26%</td><td>32%</td><td>40%</td><td>26%</td><td>66%</td><td>0%</td><td>33%</td><td>25%</td><td>null</td><td>null</td><td>null</td><td>Y</td><td>null</td><td>Y</td><td>null</td><td>Y</td><td>null</td><td>null</td><td>null</td><td>null</td><td>null</td><td>null</td><td>null</td><td>null</td><td>null</td><td>null</td><td>null</td><td>null</td><td>null</td><td>null</td><td>null</td><td>null</td><td>null</td><td>null</td><td>null</td><td>null</td><td>null</td><td>null</td><td>null</td><td>null</td><td>null</td><td>null</td><td>null</td><td>null</td><td>null</td><td>null</td><td>null</td><td>null</td><td>null</td><td>null</td><td>null</td><td>null</td><td>null</td><td>null</td><td>null</td><td>null</td><td>null</td><td>null</td><td>null</td></tr><tr><td>649351</td><td>LALMA159944596</td><td>A</td><td>06PMH2063001</td><td>null</td><td>508</td><td>627-4884</td><td>(508) 627-4884</td><td>5086274884</td><td>2</td><td>null</td><td>null</td><td>null</td><td>null</td><td>Mark</td><td>A</td><td>Pogorzelski</td><td>5 Waller Way</td><td>Edgartown</td><td>MA</td><td>02539</td><td>null</td><td>5</td><td>null</td><td>Waller</td><td>Way</td><td>null</td><td>null</td><td>null</td><td>E601</td><td>360649350</td><td>360649350</td><td>null</td><td>null</td><td>null</td><td>41.365621</td><td>-70.519293</td><td>GeoMatchRooftop</td><td>null</td><td>null</td><td>454</td><td>R001686381</td><td>1</td><td>Male Only Household</td><td>Democratic</td><td>PO Box 2476</td><td>Oak Bluffs</td><td>MA</td><td>02557</td><td>2476</td><td>null</td><td>null</td><td>PO Box 2476</td><td>null</td><td>null</td><td>null</td><td>null</td><td>S80000</td><td>M004156293</td><td>1</td><td>Male Only Household</td><td>Democratic</td><td>M</td><td>58</td><td>06/20/1963</td><td>Complete Date</td><td>Democratic</td><td>Polish</td><td>European</td><td>null</td><td>null</td><td>null</td><td>10/04/1998</td><td>06/03/2003</td><td>null</td><td>null</td><td>null</td><td>null</td><td>9</td><td>Has Not Changed Within Last 2 Years</td><td>CAPE-ISLANDS</td><td>Has Not Changed Within Last 2 Years</td><td>BARNSTABLE-DUKES-NANTUCKET</td><td>Has Not Changed Within Last 2 Years</td><td>null</td><td>null</td><td>10</td><td>CAPE-ISLANDS</td><td>BARNSTABLE-DUKES-NANTUCKET</td><td>null</td><td>DUKES</td><td>007</td><td>Has Not Changed Within Last 2 Years</td><td>EDGARTOWN</td><td>null</td><td>null</td><td>null</td><td>null</td><td>null</td><td>null</td><td>EDGARTOWN TOWN</td><td>null</td><td>null</td><td>null</td><td>null</td><td>null</td><td>null</td><td>null</td><td>BOSTON DMA (EST.)</td><td>null</td><td>null</td><td>null</td><td>null</td><td>null</td><td>null</td><td>null</td><td>null</td><td>null</td><td>null</td><td>null</td><td>null</td><td>null</td><td>MARTHA'S VINEYARD SD (EST.)</td><td>null</td><td>null</td><td>null</td><td>null</td><td>null</td><td>null</td><td>null</td><td>null</td><td>null</td><td>Multi-Family Dwelling</td><td>null</td><td>null</td><td>null</td><td>null</td><td>null</td><td>null</td><td>null</td><td>null</td><td>null</td><td>null</td><td>null</td><td>null</td><td>null</td><td>null</td><td>null</td><td>null</td><td>null</td><td>null</td><td>null</td><td>null</td><td>null</td><td>null</td><td>null</td><td>null</td><td>null</td><td>null</td><td>null</td><td>null</td><td>null</td><td>Apartment</td><td>null</td><td>null</td><td>null</td><td>null</td><td>null</td><td>null</td><td>null</td><td>null</td><td>null</td><td>null</td><td>null</td><td>null</td><td>null</td><td>null</td><td>Likely Renter</td><td>null</td><td>null</td><td>null</td><td>null</td><td>null</td><td>null</td><td>null</td><td>null</td><td>null</td><td>null</td><td>null</td><td>null</td><td>null</td><td>null</td><td>null</td><td>null</td><td>null</td><td>null</td><td>null</td><td>null</td><td>null</td><td>null</td><td>null</td><td>null</td><td>null</td><td>null</td><td>null</td><td>null</td><td>null</td><td>null</td><td>null</td><td>null</td><td>null</td><td>null</td><td>null</td><td>null</td><td>null</td><td>null</td><td>null</td><td>null</td><td>-52%</td><td>23%</td><td>2442</td><td>52%</td><td>75%</td><td>7913</td><td>81%</td><td>81%</td><td>80%</td><td>82%</td><td>77%</td><td>81%</td><td>73%</td><td>82%</td><td>63%</td><td>62%</td><td>63%</td><td>72%</td><td>60%</td><td>62%</td><td>57%</td><td>70%</td><td>47%</td><td>73%</td><td>7955</td><td>-47%</td><td>26%</td><td>2789</td><td>79%</td><td>79%</td><td>78%</td><td>82%</td><td>74%</td><td>79%</td><td>71%</td><td>78%</td><td>52%</td><td>53%</td><td>50%</td><td>59%</td><td>51%</td><td>54%</td><td>47%</td><td>58%</td><td>51%</td><td>72%</td><td>8400</td><td>-51%</td><td>21%</td><td>2477</td><td>78%</td><td>81%</td><td>77%</td><td>78%</td><td>75%</td><td>79%</td><td>71%</td><td>76%</td><td>68%</td><td>73%</td><td>65%</td><td>65%</td><td>65%</td><td>73%</td><td>60%</td><td>65%</td><td>0%</td><td>40%</td><td>0%</td><td>1%</td><td>0%</td><td>0%</td><td>58%</td><td>0%</td><td>5</td><td>1978</td><td>5</td><td>49</td><td>3</td><td>14</td><td>2890</td><td>5</td><td>2%</td><td>5%</td><td>0%</td><td>null</td><td>42%</td><td>3%</td><td>47%</td><td>0%</td><td>22</td><td>65</td><td>0</td><td>0</td><td>560</td><td>35</td><td>619</td><td>1</td><td>23%</td><td>29%</td><td>13%</td><td>16%</td><td>24%</td><td>8%</td><td>20%</td><td>23%</td><td>24%</td><td>17%</td><td>20%</td><td>22%</td><td>0%</td><td>6%</td><td>1%</td><td>13%</td><td>0%</td><td>64%</td><td>16%</td><td>1</td><td>56</td><td>7</td><td>126</td><td>2</td><td>617</td><td>151</td><td>14%</td><td>18%</td><td>14%</td><td>11%</td><td>17%</td><td>15%</td><td>17%</td><td>22%</td><td>18%</td><td>15%</td><td>20%</td><td>18%</td><td>2%</td><td>3%</td><td>0%</td><td>10%</td><td>0%</td><td>20%</td><td>15%</td><td>48%</td><td>26</td><td>42</td><td>5</td><td>137</td><td>4</td><td>283</td><td>214</td><td>692</td><td>45%</td><td>54%</td><td>2312</td><td>2804</td><td>22%</td><td>27%</td><td>14%</td><td>1%</td><td>2%</td><td>1%</td><td>33%</td><td>40%</td><td>26%</td><td>31%</td><td>40%</td><td>30%</td><td>85%</td><td>14%</td><td>50%</td><td>10%</td><td>null</td><td>null</td><td>null</td><td>null</td><td>null</td><td>null</td><td>null</td><td>Y</td><td>null</td><td>null</td><td>null</td><td>Y</td><td>null</td><td>null</td><td>Y</td><td>null</td><td>null</td><td>null</td><td>Y</td><td>Y</td><td>Y</td><td>Y</td><td>Y</td><td>null</td><td>null</td><td>null</td><td>Y</td><td>null</td><td>Y</td><td>Y</td><td>null</td><td>null</td><td>Y</td><td>Y</td><td>null</td><td>Y</td><td>Y</td><td>null</td><td>null</td><td>null</td><td>null</td><td>null</td><td>null</td><td>null</td><td>D</td><td>null</td><td>null</td><td>null</td><td>null</td><td>null</td><td>null</td></tr></tbody></table></div>"
      ]
     },
     "metadata": {
      "application/vnd.databricks.v1+output": {
       "addedWidgets": {},
       "aggData": [],
       "aggError": "",
       "aggOverflow": false,
       "aggSchema": [],
       "aggSeriesLimitReached": false,
       "aggType": "",
       "arguments": {},
       "columnCustomDisplayInfos": {},
       "data": [
        [
         2701519,
         "LALMA442033155",
         "A",
         "08JJN1866000",
         null,
         null,
         null,
         null,
         null,
         null,
         null,
         null,
         null,
         null,
         "Jonathan",
         "Ross",
         "Janov",
         "35B Essex Rd",
         "Nantucket",
         "MA",
         "02554",
         null,
         "35B",
         null,
         "Essex",
         "Rd",
         null,
         null,
         null,
         "E601",
         362701518,
         362701559,
         null,
         null,
         null,
         41.264832,
         -70.104559,
         "StreetCenter",
         null,
         null,
         "9309",
         "R008759360",
         1,
         "Male Only Household",
         "Democratic",
         "35B Essex Rd",
         "Nantucket",
         "MA",
         "02554",
         null,
         "35B",
         null,
         "Essex",
         "Rd",
         null,
         null,
         null,
         "E601",
         "M009017583",
         1,
         "Male Only Household",
         "Democratic",
         "M",
         55,
         "08/18/1966",
         "Complete Date",
         "Democratic",
         null,
         null,
         null,
         null,
         "Jewish",
         "12/23/2013",
         "12/23/2013",
         null,
         null,
         null,
         null,
         "9",
         "Has Not Changed Within Last 2 Years",
         "CAPE-ISLANDS",
         "Has Not Changed Within Last 2 Years",
         "BARNSTABLE-DUKES-NANTUCKET",
         "Has Not Changed Within Last 2 Years",
         null,
         null,
         "10",
         "CAPE-ISLANDS",
         "BARNSTABLE-DUKES-NANTUCKET",
         null,
         "NANTUCKET",
         "019",
         "Has Not Changed Within Last 2 Years",
         "NANTUCKET",
         null,
         null,
         null,
         null,
         null,
         null,
         "NANTUCKET TOWN",
         null,
         null,
         null,
         null,
         null,
         null,
         null,
         "BOSTON DMA (EST.)",
         null,
         null,
         null,
         null,
         null,
         null,
         null,
         null,
         null,
         null,
         null,
         null,
         null,
         null,
         null,
         null,
         null,
         "NANTUCKET UNIFIED SD (EST.)",
         null,
         "Y",
         null,
         "U",
         "U",
         "Single Family Dwelling Unit",
         "1-Single Family Dwelling",
         "Bach Degree - Likely",
         null,
         "$125000-149999",
         "$140000",
         null,
         null,
         null,
         null,
         "1 adult Male",
         null,
         null,
         null,
         "$1278000",
         null,
         null,
         null,
         null,
         null,
         "Unknown",
         "Other",
         null,
         null,
         null,
         null,
         null,
         null,
         "Not Likely to have a child",
         null,
         "Residential",
         null,
         null,
         null,
         null,
         null,
         null,
         null,
         null,
         null,
         null,
         null,
         null,
         null,
         null,
         null,
         null,
         null,
         null,
         null,
         null,
         null,
         null,
         null,
         null,
         null,
         null,
         null,
         null,
         null,
         null,
         null,
         null,
         null,
         null,
         null,
         null,
         null,
         null,
         null,
         null,
         null,
         null,
         null,
         null,
         null,
         null,
         null,
         null,
         null,
         null,
         null,
         null,
         null,
         null,
         null,
         "-36%",
         "31%",
         1863,
         "36%",
         "67%",
         4073,
         "74%",
         "70%",
         "75%",
         "81%",
         "74%",
         "72%",
         "75%",
         "81%",
         "61%",
         "57%",
         "61%",
         "70%",
         "61%",
         "58%",
         "61%",
         "70%",
         "27%",
         "63%",
         3828,
         "-27%",
         "36%",
         2185,
         "73%",
         "71%",
         "72%",
         "80%",
         "73%",
         "73%",
         "71%",
         "79%",
         "43%",
         "43%",
         "42%",
         "52%",
         "43%",
         "43%",
         "42%",
         "52%",
         "35%",
         "64%",
         4146,
         "-35%",
         "29%",
         1892,
         "72%",
         "74%",
         "71%",
         "76%",
         "72%",
         "75%",
         "70%",
         "77%",
         "63%",
         "68%",
         "60%",
         "63%",
         "63%",
         "70%",
         "59%",
         "64%",
         "0%",
         "38%",
         "0%",
         "2%",
         "0%",
         "0%",
         "60%",
         "0%",
         2,
         833,
         2,
         35,
         2,
         1,
         1317,
         4,
         "1%",
         "4%",
         "0%",
         null,
         "44%",
         "3%",
         "46%",
         "0%",
         12,
         43,
         0,
         0,
         428,
         27,
         454,
         0,
         "30%",
         "33%",
         "28%",
         "29%",
         "31%",
         "28%",
         "34%",
         "35%",
         "39%",
         "33%",
         "35%",
         "38%",
         "0%",
         "6%",
         "1%",
         "11%",
         "0%",
         "69%",
         "12%",
         0,
         38,
         6,
         65,
         3,
         424,
         72,
         "9%",
         "12%",
         "9%",
         "8%",
         "12%",
         "9%",
         "9%",
         "12%",
         "13%",
         "9%",
         "11%",
         "13%",
         "2%",
         "3%",
         "1%",
         "10%",
         "0%",
         "15%",
         "18%",
         "49%",
         18,
         27,
         7,
         100,
         0,
         149,
         176,
         484,
         "48%",
         "52%",
         979,
         1060,
         "10%",
         "14%",
         "8%",
         "9%",
         "13%",
         "8%",
         "13%",
         "16%",
         "13%",
         "13%",
         "16%",
         "14%",
         "75%",
         "50%",
         "62%",
         "71%",
         "Y",
         "Y",
         "Y",
         "Y",
         "Y",
         "Y",
         "Y",
         "Y",
         null,
         "Y",
         "Y",
         null,
         null,
         null,
         null,
         null,
         null,
         null,
         null,
         null,
         null,
         null,
         null,
         null,
         null,
         null,
         null,
         null,
         null,
         null,
         null,
         null,
         null,
         null,
         null,
         null,
         null,
         null,
         null,
         "D",
         "D",
         null,
         null,
         null,
         null,
         null,
         null,
         null,
         null,
         null,
         null
        ],
        [
         648602,
         "LALMA549099082",
         "A",
         "09MJR2267003",
         null,
         "508",
         "627-7993",
         "(508) 627-7993",
         "5086277993",
         2,
         null,
         null,
         null,
         null,
         "Jennifer",
         "R",
         "Michaels",
         "13 Plantingfield Wood Cir",
         "Edgartown",
         "MA",
         "02539",
         null,
         "13",
         null,
         "Plantingfield Wood",
         "Cir",
         null,
         null,
         null,
         "E601",
         360648600,
         360648601,
         null,
         null,
         null,
         41.395102,
         -70.518955,
         "GeoMatchRooftop",
         null,
         null,
         "2678",
         "R010219737",
         3,
         "Mixed Gender Household",
         "Democratic & Independent",
         "PO Box 3139",
         "Edgartown",
         "MA",
         "02539",
         "3139",
         null,
         null,
         "PO Box 3139",
         null,
         null,
         null,
         null,
         "S80000",
         "M010294810",
         2,
         "Mixed Gender Household",
         "Democratic & Independent",
         "F",
         54,
         "09/22/1967",
         "Complete Date",
         "Non-Partisan",
         "English/Welsh",
         "European",
         null,
         null,
         "Protestant",
         "10/05/2008",
         "08/30/2018",
         null,
         "English",
         null,
         "Married",
         "9",
         "Has Not Changed Within Last 2 Years",
         "CAPE-ISLANDS",
         "Has Not Changed Within Last 2 Years",
         "BARNSTABLE-DUKES-NANTUCKET",
         "Has Not Changed Within Last 2 Years",
         null,
         null,
         "10",
         "CAPE-ISLANDS",
         "BARNSTABLE-DUKES-NANTUCKET",
         null,
         "DUKES",
         "007",
         "Has Not Changed Within Last 2 Years",
         "EDGARTOWN",
         null,
         null,
         null,
         null,
         null,
         null,
         "EDGARTOWN TOWN",
         null,
         null,
         null,
         null,
         null,
         null,
         null,
         "BOSTON DMA (EST.)",
         null,
         null,
         null,
         null,
         null,
         null,
         null,
         null,
         null,
         null,
         null,
         null,
         null,
         "MARTHA'S VINEYARD SD (EST.)",
         null,
         null,
         null,
         null,
         null,
         "U",
         null,
         "U",
         "Y",
         "Single Family Dwelling Unit",
         "1-Single Family Dwelling",
         "Bach Degree - Extremely Likely",
         "$625000",
         "$100000-124999",
         "$107000",
         null,
         null,
         null,
         null,
         null,
         "10/22/2009",
         "$940000",
         null,
         "$1032000",
         null,
         null,
         null,
         null,
         null,
         "Unknown",
         "Management/Business and Financial Operations",
         null,
         null,
         null,
         null,
         null,
         "1",
         "Modeled Not as Likely to have a child",
         null,
         "Residential",
         null,
         null,
         null,
         "Yes",
         "Yes",
         null,
         null,
         "Yes",
         null,
         null,
         null,
         null,
         null,
         "Yes",
         "Likely Homeowner",
         null,
         null,
         null,
         "Yes",
         null,
         null,
         "Yes",
         null,
         null,
         null,
         "Yes",
         null,
         null,
         null,
         "Yes",
         null,
         "Yes",
         null,
         null,
         "Yes",
         "Yes",
         null,
         "Yes",
         null,
         null,
         null,
         null,
         null,
         "Yes",
         "Yes",
         "Yes",
         null,
         null,
         "Yes",
         null,
         "Yes",
         "$250000-499999",
         null,
         null,
         "Yes",
         "-52%",
         "23%",
         2442,
         "52%",
         "75%",
         7913,
         "81%",
         "81%",
         "80%",
         "82%",
         "77%",
         "81%",
         "73%",
         "82%",
         "63%",
         "62%",
         "63%",
         "72%",
         "60%",
         "62%",
         "57%",
         "70%",
         "47%",
         "73%",
         7955,
         "-47%",
         "26%",
         2789,
         "79%",
         "79%",
         "78%",
         "82%",
         "74%",
         "79%",
         "71%",
         "78%",
         "52%",
         "53%",
         "50%",
         "59%",
         "51%",
         "54%",
         "47%",
         "58%",
         "51%",
         "72%",
         8400,
         "-51%",
         "21%",
         2477,
         "78%",
         "81%",
         "77%",
         "78%",
         "75%",
         "79%",
         "71%",
         "76%",
         "68%",
         "73%",
         "65%",
         "65%",
         "65%",
         "73%",
         "60%",
         "65%",
         "0%",
         "40%",
         "0%",
         "1%",
         "0%",
         "0%",
         "58%",
         "0%",
         5,
         1978,
         5,
         49,
         3,
         14,
         2890,
         5,
         "2%",
         "5%",
         "0%",
         null,
         "42%",
         "3%",
         "47%",
         "0%",
         22,
         65,
         0,
         0,
         560,
         35,
         619,
         1,
         "23%",
         "29%",
         "13%",
         "16%",
         "24%",
         "8%",
         "20%",
         "23%",
         "24%",
         "17%",
         "20%",
         "22%",
         "0%",
         "6%",
         "1%",
         "13%",
         "0%",
         "64%",
         "16%",
         1,
         56,
         7,
         126,
         2,
         617,
         151,
         "14%",
         "18%",
         "14%",
         "11%",
         "17%",
         "15%",
         "17%",
         "22%",
         "18%",
         "15%",
         "20%",
         "18%",
         "2%",
         "3%",
         "0%",
         "10%",
         "0%",
         "20%",
         "15%",
         "48%",
         26,
         42,
         5,
         137,
         4,
         283,
         214,
         692,
         "45%",
         "54%",
         2312,
         2804,
         "22%",
         "27%",
         "14%",
         "1%",
         "2%",
         "1%",
         "33%",
         "40%",
         "26%",
         "31%",
         "40%",
         "30%",
         "85%",
         "0%",
         "46%",
         "30%",
         null,
         null,
         null,
         null,
         null,
         null,
         null,
         "Y",
         null,
         "Y",
         "Y",
         "Y",
         null,
         null,
         "Y",
         null,
         null,
         "Y",
         "Y",
         null,
         null,
         null,
         "Y",
         null,
         null,
         null,
         null,
         null,
         null,
         null,
         null,
         null,
         null,
         null,
         null,
         null,
         null,
         null,
         null,
         null,
         null,
         null,
         null,
         null,
         null,
         null,
         null,
         null,
         null,
         null,
         null
        ],
        [
         656989,
         "LALMA161352842",
         "A",
         "03DKN1690003",
         null,
         "508",
         "696-0316",
         "(508) 696-0316",
         "5086960316",
         4,
         null,
         null,
         null,
         null,
         "Kathryn",
         "E",
         "Dimovich",
         "74 William St",
         "Vineyard Haven",
         "MA",
         "02568",
         null,
         "74",
         null,
         "William",
         "St",
         null,
         null,
         null,
         "E601",
         360656988,
         360656974,
         null,
         null,
         null,
         41.454977,
         -70.604537,
         "GeoMatchRooftop",
         null,
         null,
         "4038",
         "R012108676",
         1,
         "Female Only Household",
         "Independent",
         "455 State Rd Apt 208",
         "Vineyard Haven",
         "MA",
         "02568",
         "5695",
         "455",
         null,
         "State",
         "Rd",
         null,
         "208",
         "Apt",
         "S80000",
         "M012108677",
         1,
         "Female Only Household",
         "Independent",
         "F",
         31,
         "03/16/1990",
         "Complete Date",
         "Non-Partisan",
         "Serbian",
         "Other",
         null,
         null,
         "Eastern Orthodox",
         "01/23/2009",
         "01/23/2009",
         null,
         "English",
         null,
         null,
         "9",
         "Has Not Changed Within Last 2 Years",
         "CAPE-ISLANDS",
         "Has Not Changed Within Last 2 Years",
         "BARNSTABLE-DUKES-NANTUCKET",
         "Has Not Changed Within Last 2 Years",
         null,
         null,
         "10",
         "CAPE-ISLANDS",
         "BARNSTABLE-DUKES-NANTUCKET",
         null,
         "DUKES",
         "007",
         "Has Not Changed Within Last 2 Years",
         "TISBURY",
         null,
         null,
         null,
         null,
         null,
         null,
         "TISBURY TOWN",
         null,
         "VINEYARD HAVEN COMMUNITY (EST.)",
         null,
         null,
         null,
         null,
         null,
         "BOSTON DMA (EST.)",
         null,
         null,
         null,
         null,
         null,
         null,
         null,
         null,
         null,
         null,
         null,
         null,
         null,
         "MARTHA'S VINEYARD SD (EST.)",
         null,
         null,
         null,
         null,
         null,
         null,
         null,
         null,
         "Y",
         null,
         null,
         null,
         "$325000",
         null,
         null,
         null,
         null,
         null,
         null,
         null,
         null,
         null,
         null,
         null,
         null,
         null,
         null,
         null,
         null,
         null,
         null,
         null,
         null,
         null,
         null,
         null,
         "1",
         "Known Data",
         null,
         "Unknown",
         "1",
         null,
         null,
         "Yes",
         "Yes",
         null,
         null,
         null,
         null,
         "Yes",
         "Yes",
         "Yes",
         null,
         "Yes",
         "Likely Homeowner",
         null,
         "Yes",
         null,
         "Yes",
         "Yes",
         "Yes",
         null,
         "Yes",
         null,
         null,
         "Yes",
         "Yes",
         "Yes",
         null,
         "Yes",
         "Yes",
         "Yes",
         "Yes",
         null,
         "Yes",
         "Yes",
         null,
         null,
         null,
         "Yes",
         null,
         "Yes",
         "Yes",
         "Yes",
         "Yes",
         "Yes",
         null,
         "Yes",
         "Yes",
         null,
         "Yes",
         "$250000-499999",
         null,
         "Yes",
         "Yes",
         "-52%",
         "23%",
         2442,
         "52%",
         "75%",
         7913,
         "81%",
         "81%",
         "80%",
         "82%",
         "79%",
         "81%",
         "77%",
         "92%",
         "63%",
         "62%",
         "63%",
         "72%",
         "65%",
         "64%",
         "63%",
         "80%",
         "47%",
         "73%",
         7955,
         "-47%",
         "26%",
         2789,
         "79%",
         "79%",
         "78%",
         "82%",
         "78%",
         "81%",
         "75%",
         "89%",
         "52%",
         "53%",
         "50%",
         "59%",
         "51%",
         "52%",
         "48%",
         "64%",
         "51%",
         "72%",
         8400,
         "-51%",
         "21%",
         2477,
         "78%",
         "81%",
         "77%",
         "78%",
         "75%",
         "80%",
         "71%",
         "82%",
         "68%",
         "73%",
         "65%",
         "65%",
         "65%",
         "71%",
         "62%",
         "65%",
         "0%",
         "40%",
         "0%",
         "1%",
         "0%",
         "0%",
         "58%",
         "0%",
         5,
         1978,
         5,
         49,
         3,
         14,
         2890,
         5,
         "2%",
         "5%",
         "0%",
         null,
         "42%",
         "3%",
         "47%",
         "0%",
         22,
         65,
         0,
         0,
         560,
         35,
         619,
         1,
         "23%",
         "29%",
         "13%",
         "22%",
         "28%",
         "13%",
         "20%",
         "23%",
         "24%",
         "19%",
         "23%",
         "32%",
         "0%",
         "6%",
         "1%",
         "13%",
         "0%",
         "64%",
         "16%",
         1,
         56,
         7,
         126,
         2,
         617,
         151,
         "14%",
         "18%",
         "14%",
         "12%",
         "16%",
         "15%",
         "17%",
         "22%",
         "18%",
         "17%",
         "22%",
         "18%",
         "2%",
         "3%",
         "0%",
         "10%",
         "0%",
         "20%",
         "15%",
         "48%",
         26,
         42,
         5,
         137,
         4,
         283,
         214,
         692,
         "45%",
         "54%",
         2312,
         2804,
         "22%",
         "27%",
         "14%",
         "28%",
         "36%",
         "22%",
         "33%",
         "40%",
         "26%",
         "31%",
         "39%",
         "23%",
         "0%",
         "0%",
         "0%",
         "0%",
         null,
         null,
         null,
         null,
         null,
         null,
         null,
         null,
         null,
         null,
         null,
         null,
         null,
         null,
         null,
         null,
         null,
         null,
         null,
         null,
         null,
         null,
         null,
         null,
         null,
         null,
         null,
         null,
         null,
         null,
         null,
         null,
         null,
         null,
         null,
         null,
         null,
         null,
         null,
         null,
         null,
         null,
         null,
         null,
         null,
         null,
         null,
         null,
         null,
         null,
         null
        ],
        [
         650100,
         "LALMA518017041",
         "A",
         "07SDE0249001",
         null,
         null,
         null,
         null,
         null,
         null,
         null,
         null,
         null,
         null,
         "Diane",
         "B",
         "Stewart",
         "23 Butler Ave",
         "Oak Bluffs",
         "MA",
         "02557",
         null,
         "23",
         null,
         "Butler",
         "Ave",
         null,
         null,
         null,
         "E412",
         360650100,
         360650100,
         null,
         null,
         null,
         41.456202,
         -70.557404,
         "GeoMatch5Digit",
         null,
         null,
         "224029",
         "R009160522",
         2,
         "Mixed Gender Household",
         "Independent",
         "PO Box 496",
         "Oak Bluffs",
         "MA",
         "02557",
         "0496",
         null,
         null,
         "PO Box 496",
         null,
         null,
         null,
         null,
         "S80000",
         "M009153442",
         2,
         "Mixed Gender Household",
         "Independent",
         "F",
         72,
         "07/02/1949",
         "Complete Date",
         "Non-Partisan",
         "Scots",
         "European",
         null,
         null,
         null,
         "05/02/2016",
         "05/02/2016",
         null,
         null,
         null,
         "Married",
         "9",
         "Has Not Changed Within Last 2 Years",
         "CAPE-ISLANDS",
         "Has Not Changed Within Last 2 Years",
         "BARNSTABLE-DUKES-NANTUCKET",
         "Has Not Changed Within Last 2 Years",
         null,
         null,
         "10",
         "CAPE-ISLANDS",
         "BARNSTABLE-DUKES-NANTUCKET",
         null,
         "DUKES",
         "007",
         "Has Not Changed Within Last 2 Years",
         "OAK BLUFFS",
         null,
         null,
         null,
         null,
         null,
         null,
         "OAK BLUFFS TOWN",
         null,
         null,
         null,
         null,
         null,
         null,
         null,
         "BOSTON DMA (EST.)",
         null,
         null,
         null,
         null,
         null,
         null,
         null,
         null,
         null,
         null,
         null,
         null,
         null,
         "MARTHA'S VINEYARD SD (EST.)",
         null,
         null,
         null,
         null,
         "2",
         "Y",
         null,
         "U",
         "U",
         "Single Family Dwelling Unit",
         "1-Single Family Dwelling",
         null,
         null,
         "$25000-34999",
         "$34000",
         null,
         "1",
         null,
         "5",
         null,
         null,
         null,
         null,
         null,
         null,
         null,
         null,
         null,
         null,
         null,
         null,
         null,
         null,
         null,
         null,
         null,
         null,
         "Not Likely to have a child",
         null,
         "Residential",
         null,
         null,
         null,
         null,
         null,
         null,
         null,
         null,
         null,
         null,
         null,
         null,
         null,
         null,
         null,
         null,
         null,
         null,
         null,
         null,
         null,
         null,
         null,
         null,
         null,
         null,
         null,
         null,
         null,
         null,
         null,
         null,
         null,
         null,
         null,
         null,
         null,
         null,
         null,
         null,
         null,
         null,
         null,
         null,
         null,
         null,
         null,
         null,
         null,
         null,
         null,
         null,
         null,
         null,
         null,
         "-52%",
         "23%",
         2442,
         "52%",
         "75%",
         7913,
         "81%",
         "81%",
         "80%",
         "82%",
         "81%",
         "80%",
         "81%",
         "81%",
         "63%",
         "62%",
         "63%",
         "72%",
         "64%",
         "61%",
         "65%",
         "69%",
         "47%",
         "73%",
         7955,
         "-47%",
         "26%",
         2789,
         "79%",
         "79%",
         "78%",
         "82%",
         "79%",
         "78%",
         "79%",
         "85%",
         "52%",
         "53%",
         "50%",
         "59%",
         "52%",
         "52%",
         "49%",
         "62%",
         "51%",
         "72%",
         8400,
         "-51%",
         "21%",
         2477,
         "78%",
         "81%",
         "77%",
         "78%",
         "79%",
         "81%",
         "78%",
         "81%",
         "68%",
         "73%",
         "65%",
         "65%",
         "66%",
         "71%",
         "62%",
         "65%",
         "0%",
         "40%",
         "0%",
         "1%",
         "0%",
         "0%",
         "58%",
         "0%",
         5,
         1978,
         5,
         49,
         3,
         14,
         2890,
         5,
         "2%",
         "5%",
         "0%",
         null,
         "42%",
         "3%",
         "47%",
         "0%",
         22,
         65,
         0,
         0,
         560,
         35,
         619,
         1,
         "23%",
         "29%",
         "13%",
         "24%",
         "30%",
         "13%",
         "20%",
         "23%",
         "24%",
         "18%",
         "22%",
         "21%",
         "0%",
         "6%",
         "1%",
         "13%",
         "0%",
         "64%",
         "16%",
         1,
         56,
         7,
         126,
         2,
         617,
         151,
         "14%",
         "18%",
         "14%",
         "14%",
         "18%",
         "12%",
         "17%",
         "22%",
         "18%",
         "16%",
         "20%",
         "17%",
         "2%",
         "3%",
         "0%",
         "10%",
         "0%",
         "20%",
         "15%",
         "48%",
         26,
         42,
         5,
         137,
         4,
         283,
         214,
         692,
         "45%",
         "54%",
         2312,
         2804,
         "22%",
         "27%",
         "14%",
         "28%",
         "34%",
         "20%",
         "33%",
         "40%",
         "26%",
         "32%",
         "40%",
         "26%",
         "66%",
         "0%",
         "33%",
         "25%",
         null,
         null,
         null,
         "Y",
         null,
         "Y",
         null,
         "Y",
         null,
         null,
         null,
         null,
         null,
         null,
         null,
         null,
         null,
         null,
         null,
         null,
         null,
         null,
         null,
         null,
         null,
         null,
         null,
         null,
         null,
         null,
         null,
         null,
         null,
         null,
         null,
         null,
         null,
         null,
         null,
         null,
         null,
         null,
         null,
         null,
         null,
         null,
         null,
         null,
         null,
         null,
         null
        ],
        [
         649351,
         "LALMA159944596",
         "A",
         "06PMH2063001",
         null,
         "508",
         "627-4884",
         "(508) 627-4884",
         "5086274884",
         2,
         null,
         null,
         null,
         null,
         "Mark",
         "A",
         "Pogorzelski",
         "5 Waller Way",
         "Edgartown",
         "MA",
         "02539",
         null,
         "5",
         null,
         "Waller",
         "Way",
         null,
         null,
         null,
         "E601",
         360649350,
         360649350,
         null,
         null,
         null,
         41.365621,
         -70.519293,
         "GeoMatchRooftop",
         null,
         null,
         "454",
         "R001686381",
         1,
         "Male Only Household",
         "Democratic",
         "PO Box 2476",
         "Oak Bluffs",
         "MA",
         "02557",
         "2476",
         null,
         null,
         "PO Box 2476",
         null,
         null,
         null,
         null,
         "S80000",
         "M004156293",
         1,
         "Male Only Household",
         "Democratic",
         "M",
         58,
         "06/20/1963",
         "Complete Date",
         "Democratic",
         "Polish",
         "European",
         null,
         null,
         null,
         "10/04/1998",
         "06/03/2003",
         null,
         null,
         null,
         null,
         "9",
         "Has Not Changed Within Last 2 Years",
         "CAPE-ISLANDS",
         "Has Not Changed Within Last 2 Years",
         "BARNSTABLE-DUKES-NANTUCKET",
         "Has Not Changed Within Last 2 Years",
         null,
         null,
         "10",
         "CAPE-ISLANDS",
         "BARNSTABLE-DUKES-NANTUCKET",
         null,
         "DUKES",
         "007",
         "Has Not Changed Within Last 2 Years",
         "EDGARTOWN",
         null,
         null,
         null,
         null,
         null,
         null,
         "EDGARTOWN TOWN",
         null,
         null,
         null,
         null,
         null,
         null,
         null,
         "BOSTON DMA (EST.)",
         null,
         null,
         null,
         null,
         null,
         null,
         null,
         null,
         null,
         null,
         null,
         null,
         null,
         "MARTHA'S VINEYARD SD (EST.)",
         null,
         null,
         null,
         null,
         null,
         null,
         null,
         null,
         null,
         "Multi-Family Dwelling",
         null,
         null,
         null,
         null,
         null,
         null,
         null,
         null,
         null,
         null,
         null,
         null,
         null,
         null,
         null,
         null,
         null,
         null,
         null,
         null,
         null,
         null,
         null,
         null,
         null,
         null,
         null,
         null,
         null,
         "Apartment",
         null,
         null,
         null,
         null,
         null,
         null,
         null,
         null,
         null,
         null,
         null,
         null,
         null,
         null,
         "Likely Renter",
         null,
         null,
         null,
         null,
         null,
         null,
         null,
         null,
         null,
         null,
         null,
         null,
         null,
         null,
         null,
         null,
         null,
         null,
         null,
         null,
         null,
         null,
         null,
         null,
         null,
         null,
         null,
         null,
         null,
         null,
         null,
         null,
         null,
         null,
         null,
         null,
         null,
         null,
         null,
         null,
         "-52%",
         "23%",
         2442,
         "52%",
         "75%",
         7913,
         "81%",
         "81%",
         "80%",
         "82%",
         "77%",
         "81%",
         "73%",
         "82%",
         "63%",
         "62%",
         "63%",
         "72%",
         "60%",
         "62%",
         "57%",
         "70%",
         "47%",
         "73%",
         7955,
         "-47%",
         "26%",
         2789,
         "79%",
         "79%",
         "78%",
         "82%",
         "74%",
         "79%",
         "71%",
         "78%",
         "52%",
         "53%",
         "50%",
         "59%",
         "51%",
         "54%",
         "47%",
         "58%",
         "51%",
         "72%",
         8400,
         "-51%",
         "21%",
         2477,
         "78%",
         "81%",
         "77%",
         "78%",
         "75%",
         "79%",
         "71%",
         "76%",
         "68%",
         "73%",
         "65%",
         "65%",
         "65%",
         "73%",
         "60%",
         "65%",
         "0%",
         "40%",
         "0%",
         "1%",
         "0%",
         "0%",
         "58%",
         "0%",
         5,
         1978,
         5,
         49,
         3,
         14,
         2890,
         5,
         "2%",
         "5%",
         "0%",
         null,
         "42%",
         "3%",
         "47%",
         "0%",
         22,
         65,
         0,
         0,
         560,
         35,
         619,
         1,
         "23%",
         "29%",
         "13%",
         "16%",
         "24%",
         "8%",
         "20%",
         "23%",
         "24%",
         "17%",
         "20%",
         "22%",
         "0%",
         "6%",
         "1%",
         "13%",
         "0%",
         "64%",
         "16%",
         1,
         56,
         7,
         126,
         2,
         617,
         151,
         "14%",
         "18%",
         "14%",
         "11%",
         "17%",
         "15%",
         "17%",
         "22%",
         "18%",
         "15%",
         "20%",
         "18%",
         "2%",
         "3%",
         "0%",
         "10%",
         "0%",
         "20%",
         "15%",
         "48%",
         26,
         42,
         5,
         137,
         4,
         283,
         214,
         692,
         "45%",
         "54%",
         2312,
         2804,
         "22%",
         "27%",
         "14%",
         "1%",
         "2%",
         "1%",
         "33%",
         "40%",
         "26%",
         "31%",
         "40%",
         "30%",
         "85%",
         "14%",
         "50%",
         "10%",
         null,
         null,
         null,
         null,
         null,
         null,
         null,
         "Y",
         null,
         null,
         null,
         "Y",
         null,
         null,
         "Y",
         null,
         null,
         null,
         "Y",
         "Y",
         "Y",
         "Y",
         "Y",
         null,
         null,
         null,
         "Y",
         null,
         "Y",
         "Y",
         null,
         null,
         "Y",
         "Y",
         null,
         "Y",
         "Y",
         null,
         null,
         null,
         null,
         null,
         null,
         null,
         "D",
         null,
         null,
         null,
         null,
         null,
         null
        ]
       ],
       "datasetInfos": [
        {
         "name": "_sqldf",
         "schema": {
          "fields": [
           {
            "metadata": {},
            "name": "SEQUENCE",
            "nullable": true,
            "type": "long"
           },
           {
            "metadata": {},
            "name": "LALVOTERID",
            "nullable": true,
            "type": "string"
           },
           {
            "metadata": {},
            "name": "Voters_Active",
            "nullable": true,
            "type": "string"
           },
           {
            "metadata": {},
            "name": "Voters_StateVoterID",
            "nullable": true,
            "type": "string"
           },
           {
            "metadata": {},
            "name": "Voters_CountyVoterID",
            "nullable": true,
            "type": "string"
           },
           {
            "metadata": {},
            "name": "VoterTelephones_LandlineAreaCode",
            "nullable": true,
            "type": "string"
           },
           {
            "metadata": {},
            "name": "VoterTelephones_Landline7Digit",
            "nullable": true,
            "type": "string"
           },
           {
            "metadata": {},
            "name": "VoterTelephones_LandlineFormatted",
            "nullable": true,
            "type": "string"
           },
           {
            "metadata": {},
            "name": "VoterTelephones_LandlineUnformatted",
            "nullable": true,
            "type": "string"
           },
           {
            "metadata": {},
            "name": "VoterTelephones_LandlineConfidenceCode",
            "nullable": true,
            "type": "long"
           },
           {
            "metadata": {},
            "name": "VoterTelephones_CellPhoneOnly",
            "nullable": true,
            "type": "string"
           },
           {
            "metadata": {},
            "name": "VoterTelephones_CellPhoneFormatted",
            "nullable": true,
            "type": "string"
           },
           {
            "metadata": {},
            "name": "VoterTelephones_CellPhoneUnformatted",
            "nullable": true,
            "type": "string"
           },
           {
            "metadata": {},
            "name": "VoterTelephones_CellConfidenceCode",
            "nullable": true,
            "type": "long"
           },
           {
            "metadata": {},
            "name": "Voters_FirstName",
            "nullable": true,
            "type": "string"
           },
           {
            "metadata": {},
            "name": "Voters_MiddleName",
            "nullable": true,
            "type": "string"
           },
           {
            "metadata": {},
            "name": "Voters_LastName",
            "nullable": true,
            "type": "string"
           },
           {
            "metadata": {},
            "name": "Residence_Addresses_AddressLine",
            "nullable": true,
            "type": "string"
           },
           {
            "metadata": {},
            "name": "Residence_Addresses_City",
            "nullable": true,
            "type": "string"
           },
           {
            "metadata": {},
            "name": "Residence_Addresses_State",
            "nullable": true,
            "type": "string"
           },
           {
            "metadata": {},
            "name": "Residence_Addresses_Zip",
            "nullable": true,
            "type": "string"
           },
           {
            "metadata": {},
            "name": "Residence_Addresses_ZipPlus4",
            "nullable": true,
            "type": "string"
           },
           {
            "metadata": {},
            "name": "Residence_Addresses_HouseNumber",
            "nullable": true,
            "type": "string"
           },
           {
            "metadata": {},
            "name": "Residence_Addresses_PrefixDirection",
            "nullable": true,
            "type": "string"
           },
           {
            "metadata": {},
            "name": "Residence_Addresses_StreetName",
            "nullable": true,
            "type": "string"
           },
           {
            "metadata": {},
            "name": "Residence_Addresses_Designator",
            "nullable": true,
            "type": "string"
           },
           {
            "metadata": {},
            "name": "Residence_Addresses_SuffixDirection",
            "nullable": true,
            "type": "string"
           },
           {
            "metadata": {},
            "name": "Residence_Addresses_ApartmentNum",
            "nullable": true,
            "type": "string"
           },
           {
            "metadata": {},
            "name": "Residence_Addresses_ApartmentType",
            "nullable": true,
            "type": "string"
           },
           {
            "metadata": {},
            "name": "Residence_Addresses_CassErrStatCode",
            "nullable": true,
            "type": "string"
           },
           {
            "metadata": {},
            "name": "Voters_SequenceZigZag",
            "nullable": true,
            "type": "long"
           },
           {
            "metadata": {},
            "name": "Voters_SequenceOddEven",
            "nullable": true,
            "type": "long"
           },
           {
            "metadata": {},
            "name": "Residence_Addresses_CensusTract",
            "nullable": true,
            "type": "string"
           },
           {
            "metadata": {},
            "name": "Residence_Addresses_CensusBlockGroup",
            "nullable": true,
            "type": "string"
           },
           {
            "metadata": {},
            "name": "Residence_Addresses_CensusBlock",
            "nullable": true,
            "type": "string"
           },
           {
            "metadata": {},
            "name": "Residence_Addresses_Latitude",
            "nullable": true,
            "type": "double"
           },
           {
            "metadata": {},
            "name": "Residence_Addresses_Longitude",
            "nullable": true,
            "type": "double"
           },
           {
            "metadata": {},
            "name": "Residence_Addresses_LatLongAccuracy",
            "nullable": true,
            "type": "string"
           },
           {
            "metadata": {},
            "name": "Residence_Addresses_Property_LandSq_Footage",
            "nullable": true,
            "type": "string"
           },
           {
            "metadata": {},
            "name": "Residence_Addresses_Property_HomeSq_Footage",
            "nullable": true,
            "type": "string"
           },
           {
            "metadata": {},
            "name": "Residence_Addresses_Density",
            "nullable": true,
            "type": "string"
           },
           {
            "metadata": {},
            "name": "Residence_Families_FamilyID",
            "nullable": true,
            "type": "string"
           },
           {
            "metadata": {},
            "name": "Residence_Families_HHCount",
            "nullable": true,
            "type": "long"
           },
           {
            "metadata": {},
            "name": "Residence_HHGender_Description",
            "nullable": true,
            "type": "string"
           },
           {
            "metadata": {},
            "name": "Residence_HHParties_Description",
            "nullable": true,
            "type": "string"
           },
           {
            "metadata": {},
            "name": "Mailing_Addresses_AddressLine",
            "nullable": true,
            "type": "string"
           },
           {
            "metadata": {},
            "name": "Mailing_Addresses_City",
            "nullable": true,
            "type": "string"
           },
           {
            "metadata": {},
            "name": "Mailing_Addresses_State",
            "nullable": true,
            "type": "string"
           },
           {
            "metadata": {},
            "name": "Mailing_Addresses_Zip",
            "nullable": true,
            "type": "string"
           },
           {
            "metadata": {},
            "name": "Mailing_Addresses_ZipPlus4",
            "nullable": true,
            "type": "string"
           },
           {
            "metadata": {},
            "name": "Mailing_Addresses_HouseNumber",
            "nullable": true,
            "type": "string"
           },
           {
            "metadata": {},
            "name": "Mailing_Addresses_PrefixDirection",
            "nullable": true,
            "type": "string"
           },
           {
            "metadata": {},
            "name": "Mailing_Addresses_StreetName",
            "nullable": true,
            "type": "string"
           },
           {
            "metadata": {},
            "name": "Mailing_Addresses_Designator",
            "nullable": true,
            "type": "string"
           },
           {
            "metadata": {},
            "name": "Mailing_Addresses_SuffixDirection",
            "nullable": true,
            "type": "string"
           },
           {
            "metadata": {},
            "name": "Mailing_Addresses_ApartmentNum",
            "nullable": true,
            "type": "string"
           },
           {
            "metadata": {},
            "name": "Mailing_Addresses_ApartmentType",
            "nullable": true,
            "type": "string"
           },
           {
            "metadata": {},
            "name": "Mailing_Addresses_CassErrStatCode",
            "nullable": true,
            "type": "string"
           },
           {
            "metadata": {},
            "name": "Mailing_Families_FamilyID",
            "nullable": true,
            "type": "string"
           },
           {
            "metadata": {},
            "name": "Mailing_Families_HHCount",
            "nullable": true,
            "type": "long"
           },
           {
            "metadata": {},
            "name": "Mailing_HHGender_Description",
            "nullable": true,
            "type": "string"
           },
           {
            "metadata": {},
            "name": "Mailing_HHParties_Description",
            "nullable": true,
            "type": "string"
           },
           {
            "metadata": {},
            "name": "Voters_Gender",
            "nullable": true,
            "type": "string"
           },
           {
            "metadata": {},
            "name": "Voters_Age",
            "nullable": true,
            "type": "long"
           },
           {
            "metadata": {},
            "name": "Voters_BirthDate",
            "nullable": true,
            "type": "string"
           },
           {
            "metadata": {},
            "name": "DateConfidence_Description",
            "nullable": true,
            "type": "string"
           },
           {
            "metadata": {},
            "name": "Parties_Description",
            "nullable": true,
            "type": "string"
           },
           {
            "metadata": {},
            "name": "Ethnic_Description",
            "nullable": true,
            "type": "string"
           },
           {
            "metadata": {},
            "name": "EthnicGroups_EthnicGroup1Desc",
            "nullable": true,
            "type": "string"
           },
           {
            "metadata": {},
            "name": "CountyEthnic_LALEthnicCode",
            "nullable": true,
            "type": "string"
           },
           {
            "metadata": {},
            "name": "CountyEthnic_Description",
            "nullable": true,
            "type": "string"
           },
           {
            "metadata": {},
            "name": "Religions_Description",
            "nullable": true,
            "type": "string"
           },
           {
            "metadata": {},
            "name": "Voters_CalculatedRegDate",
            "nullable": true,
            "type": "string"
           },
           {
            "metadata": {},
            "name": "Voters_OfficialRegDate",
            "nullable": true,
            "type": "string"
           },
           {
            "metadata": {},
            "name": "Voters_PlaceOfBirth",
            "nullable": true,
            "type": "string"
           },
           {
            "metadata": {},
            "name": "Languages_Description",
            "nullable": true,
            "type": "string"
           },
           {
            "metadata": {},
            "name": "AbsenteeTypes_Description",
            "nullable": true,
            "type": "string"
           },
           {
            "metadata": {},
            "name": "MaritalStatus_Description",
            "nullable": true,
            "type": "string"
           },
           {
            "metadata": {},
            "name": "US_Congressional_District",
            "nullable": true,
            "type": "string"
           },
           {
            "metadata": {},
            "name": "AddressDistricts_Change_Changed_CD",
            "nullable": true,
            "type": "string"
           },
           {
            "metadata": {},
            "name": "State_Senate_District",
            "nullable": true,
            "type": "string"
           },
           {
            "metadata": {},
            "name": "AddressDistricts_Change_Changed_SD",
            "nullable": true,
            "type": "string"
           },
           {
            "metadata": {},
            "name": "State_House_District",
            "nullable": true,
            "type": "string"
           },
           {
            "metadata": {},
            "name": "AddressDistricts_Change_Changed_HD",
            "nullable": true,
            "type": "string"
           },
           {
            "metadata": {},
            "name": "State_Legislative_District",
            "nullable": true,
            "type": "string"
           },
           {
            "metadata": {},
            "name": "AddressDistricts_Change_Changed_LD",
            "nullable": true,
            "type": "string"
           },
           {
            "metadata": {},
            "name": "2001_US_Congressional_District",
            "nullable": true,
            "type": "string"
           },
           {
            "metadata": {},
            "name": "2001_State_Senate_District",
            "nullable": true,
            "type": "string"
           },
           {
            "metadata": {},
            "name": "2001_State_House_District",
            "nullable": true,
            "type": "string"
           },
           {
            "metadata": {},
            "name": "2001_State_Legislative_District",
            "nullable": true,
            "type": "string"
           },
           {
            "metadata": {},
            "name": "County",
            "nullable": true,
            "type": "string"
           },
           {
            "metadata": {},
            "name": "Voters_FIPS",
            "nullable": true,
            "type": "string"
           },
           {
            "metadata": {},
            "name": "AddressDistricts_Change_Changed_County",
            "nullable": true,
            "type": "string"
           },
           {
            "metadata": {},
            "name": "Precinct",
            "nullable": true,
            "type": "string"
           },
           {
            "metadata": {},
            "name": "County_Commissioner_District",
            "nullable": true,
            "type": "string"
           },
           {
            "metadata": {},
            "name": "County_Supervisorial_District",
            "nullable": true,
            "type": "string"
           },
           {
            "metadata": {},
            "name": "County_Legislative_District",
            "nullable": true,
            "type": "string"
           },
           {
            "metadata": {},
            "name": "City",
            "nullable": true,
            "type": "string"
           },
           {
            "metadata": {},
            "name": "City_Council_Commissioner_District",
            "nullable": true,
            "type": "string"
           },
           {
            "metadata": {},
            "name": "City_Ward",
            "nullable": true,
            "type": "string"
           },
           {
            "metadata": {},
            "name": "Town_District",
            "nullable": true,
            "type": "string"
           },
           {
            "metadata": {},
            "name": "Township",
            "nullable": true,
            "type": "string"
           },
           {
            "metadata": {},
            "name": "Hamlet_Community_Area",
            "nullable": true,
            "type": "string"
           },
           {
            "metadata": {},
            "name": "Board_of_Education_District",
            "nullable": true,
            "type": "string"
           },
           {
            "metadata": {},
            "name": "Community_College",
            "nullable": true,
            "type": "string"
           },
           {
            "metadata": {},
            "name": "Community_College_SubDistrict",
            "nullable": true,
            "type": "string"
           },
           {
            "metadata": {},
            "name": "County_Board_of_Education_District",
            "nullable": true,
            "type": "string"
           },
           {
            "metadata": {},
            "name": "County_Board_of_Education_SubDistrict",
            "nullable": true,
            "type": "string"
           },
           {
            "metadata": {},
            "name": "Designated_Market_Area_DMA",
            "nullable": true,
            "type": "string"
           },
           {
            "metadata": {},
            "name": "District_Attorney",
            "nullable": true,
            "type": "string"
           },
           {
            "metadata": {},
            "name": "Fire_District",
            "nullable": true,
            "type": "string"
           },
           {
            "metadata": {},
            "name": "High_School_District",
            "nullable": true,
            "type": "string"
           },
           {
            "metadata": {},
            "name": "Judicial_Appellate_District",
            "nullable": true,
            "type": "string"
           },
           {
            "metadata": {},
            "name": "Judicial_Circuit_Court_District",
            "nullable": true,
            "type": "string"
           },
           {
            "metadata": {},
            "name": "Judicial_District",
            "nullable": true,
            "type": "string"
           },
           {
            "metadata": {},
            "name": "Judicial_District_Court_District",
            "nullable": true,
            "type": "string"
           },
           {
            "metadata": {},
            "name": "Judicial_Magistrate_Division",
            "nullable": true,
            "type": "string"
           },
           {
            "metadata": {},
            "name": "Judicial_Superior_Court_District",
            "nullable": true,
            "type": "string"
           },
           {
            "metadata": {},
            "name": "Justice_of_the_Peace",
            "nullable": true,
            "type": "string"
           },
           {
            "metadata": {},
            "name": "Other",
            "nullable": true,
            "type": "string"
           },
           {
            "metadata": {},
            "name": "Park_District",
            "nullable": true,
            "type": "string"
           },
           {
            "metadata": {},
            "name": "School_Board_District",
            "nullable": true,
            "type": "string"
           },
           {
            "metadata": {},
            "name": "School_District",
            "nullable": true,
            "type": "string"
           },
           {
            "metadata": {},
            "name": "School_Subdistrict",
            "nullable": true,
            "type": "string"
           },
           {
            "metadata": {},
            "name": "State_Board_of_Equalization",
            "nullable": true,
            "type": "string"
           },
           {
            "metadata": {},
            "name": "Transit_District",
            "nullable": true,
            "type": "string"
           },
           {
            "metadata": {},
            "name": "Unified_School_District",
            "nullable": true,
            "type": "string"
           },
           {
            "metadata": {},
            "name": "CommercialData_BookBuyerInHome",
            "nullable": true,
            "type": "string"
           },
           {
            "metadata": {},
            "name": "CommercialData_ComputerOwnerInHome",
            "nullable": true,
            "type": "string"
           },
           {
            "metadata": {},
            "name": "CommercialData_DoItYourselferMagazineInHome",
            "nullable": true,
            "type": "string"
           },
           {
            "metadata": {},
            "name": "CommercialData_DonatesEnvironmentCauseInHome",
            "nullable": true,
            "type": "string"
           },
           {
            "metadata": {},
            "name": "CommercialData_DonatesToCharityInHome",
            "nullable": true,
            "type": "string"
           },
           {
            "metadata": {},
            "name": "CommercialData_DwellingType",
            "nullable": true,
            "type": "string"
           },
           {
            "metadata": {},
            "name": "CommercialData_DwellingUnitSize",
            "nullable": true,
            "type": "string"
           },
           {
            "metadata": {},
            "name": "CommercialData_Education",
            "nullable": true,
            "type": "string"
           },
           {
            "metadata": {},
            "name": "CommercialData_EstHomeValue",
            "nullable": true,
            "type": "string"
           },
           {
            "metadata": {},
            "name": "CommercialData_EstimatedHHIncome",
            "nullable": true,
            "type": "string"
           },
           {
            "metadata": {},
            "name": "CommercialData_EstimatedHHIncomeAmount",
            "nullable": true,
            "type": "string"
           },
           {
            "metadata": {},
            "name": "CommercialData_EstimatedAreaMedianHHIncome",
            "nullable": true,
            "type": "string"
           },
           {
            "metadata": {},
            "name": "CommercialData_FamilyMagazineInHome",
            "nullable": true,
            "type": "string"
           },
           {
            "metadata": {},
            "name": "CommercialData_FinancialMagazineInHome",
            "nullable": true,
            "type": "string"
           },
           {
            "metadata": {},
            "name": "CommercialData_HealthFitnessMagazineInHome",
            "nullable": true,
            "type": "string"
           },
           {
            "metadata": {},
            "name": "CommercialData_HHComposition",
            "nullable": true,
            "type": "string"
           },
           {
            "metadata": {},
            "name": "CommercialData_HomePurchaseDate",
            "nullable": true,
            "type": "string"
           },
           {
            "metadata": {},
            "name": "CommercialData_HomePurchasePrice",
            "nullable": true,
            "type": "string"
           },
           {
            "metadata": {},
            "name": "CommercialData_ISPSA",
            "nullable": true,
            "type": "string"
           },
           {
            "metadata": {},
            "name": "CommercialData_LandValue",
            "nullable": true,
            "type": "string"
           },
           {
            "metadata": {},
            "name": "CommercialData_LikelyUnion",
            "nullable": true,
            "type": "string"
           },
           {
            "metadata": {},
            "name": "CommercialData_AreaMedianEducationYears",
            "nullable": true,
            "type": "string"
           },
           {
            "metadata": {},
            "name": "CommercialData_AreaMedianHousingValue",
            "nullable": true,
            "type": "string"
           },
           {
            "metadata": {},
            "name": "CommercialData_MosaicZ4",
            "nullable": true,
            "type": "string"
           },
           {
            "metadata": {},
            "name": "CommercialData_MosaicZ4Global",
            "nullable": true,
            "type": "string"
           },
           {
            "metadata": {},
            "name": "CommercialData_Occupation",
            "nullable": true,
            "type": "string"
           },
           {
            "metadata": {},
            "name": "CommercialData_OccupationGroup",
            "nullable": true,
            "type": "string"
           },
           {
            "metadata": {},
            "name": "CommercialData_OccupationIndustry",
            "nullable": true,
            "type": "string"
           },
           {
            "metadata": {},
            "name": "CommercialData_AreaPcntHHMarriedCoupleNoChild",
            "nullable": true,
            "type": "string"
           },
           {
            "metadata": {},
            "name": "CommercialData_AreaPcntHHMarriedCoupleWithChild",
            "nullable": true,
            "type": "string"
           },
           {
            "metadata": {},
            "name": "CommercialData_AreaPcntHHSpanishSpeaking",
            "nullable": true,
            "type": "string"
           },
           {
            "metadata": {},
            "name": "CommercialData_AreaPcntHHWithChildren",
            "nullable": true,
            "type": "string"
           },
           {
            "metadata": {},
            "name": "CommercialData_PoliticalContributerInHome",
            "nullable": true,
            "type": "string"
           },
           {
            "metadata": {},
            "name": "CommercialData_PresenceOfChildrenCode",
            "nullable": true,
            "type": "string"
           },
           {
            "metadata": {},
            "name": "CommercialData_PresenceOfPremCredCrdInHome",
            "nullable": true,
            "type": "string"
           },
           {
            "metadata": {},
            "name": "CommercialData_PropertyType",
            "nullable": true,
            "type": "string"
           },
           {
            "metadata": {},
            "name": "CommercialData_ReligiousContributorInHome",
            "nullable": true,
            "type": "string"
           },
           {
            "metadata": {},
            "name": "CommercialData_StateIncomeDecile",
            "nullable": true,
            "type": "string"
           },
           {
            "metadata": {},
            "name": "CommercialData_UpscaleFemaleBuyerInHome",
            "nullable": true,
            "type": "string"
           },
           {
            "metadata": {},
            "name": "CommercialDataLL_Buyer_Art_In_Household",
            "nullable": true,
            "type": "string"
           },
           {
            "metadata": {},
            "name": "CommercialDataLL_Collector_Antiques_In_Household",
            "nullable": true,
            "type": "string"
           },
           {
            "metadata": {},
            "name": "CommercialDataLL_Collector_Avid_In_Household",
            "nullable": true,
            "type": "string"
           },
           {
            "metadata": {},
            "name": "CommercialDataLL_Collector_Coins_In_Household",
            "nullable": true,
            "type": "string"
           },
           {
            "metadata": {},
            "name": "CommercialDataLL_Collector_General_In_Household",
            "nullable": true,
            "type": "string"
           },
           {
            "metadata": {},
            "name": "CommercialDataLL_Donates_to_Childrens_Causes",
            "nullable": true,
            "type": "string"
           },
           {
            "metadata": {},
            "name": "CommercialDataLL_Donates_to_Healthcare",
            "nullable": true,
            "type": "string"
           },
           {
            "metadata": {},
            "name": "CommercialDataLL_Donates_to_Local_Community",
            "nullable": true,
            "type": "string"
           },
           {
            "metadata": {},
            "name": "CommercialDataLL_Donates_to_Wildlife_Preservation",
            "nullable": true,
            "type": "string"
           },
           {
            "metadata": {},
            "name": "CommercialDataLL_Gun_Owner",
            "nullable": true,
            "type": "string"
           },
           {
            "metadata": {},
            "name": "CommercialDataLL_Home_Office",
            "nullable": true,
            "type": "string"
           },
           {
            "metadata": {},
            "name": "CommercialDataLL_Home_Owner_Or_Renter",
            "nullable": true,
            "type": "string"
           },
           {
            "metadata": {},
            "name": "CommercialDataLL_Household_Primary_Language",
            "nullable": true,
            "type": "string"
           },
           {
            "metadata": {},
            "name": "CommercialDataLL_Interest_in_Auto_Work_In_Household",
            "nullable": true,
            "type": "string"
           },
           {
            "metadata": {},
            "name": "CommercialDataLL_Interest_in_Automotive_Parts_Accessories_In_Household",
            "nullable": true,
            "type": "string"
           },
           {
            "metadata": {},
            "name": "CommercialDataLL_Interest_in_Boating_Sailing_In_Household",
            "nullable": true,
            "type": "string"
           },
           {
            "metadata": {},
            "name": "CommercialDataLL_Interest_in_Camping_Hiking_In_Household",
            "nullable": true,
            "type": "string"
           },
           {
            "metadata": {},
            "name": "CommercialDataLL_Interest_in_Cooking_General_In_Household",
            "nullable": true,
            "type": "string"
           },
           {
            "metadata": {},
            "name": "CommercialDataLL_Interest_in_Cooking_Gourmet_In_Household",
            "nullable": true,
            "type": "string"
           },
           {
            "metadata": {},
            "name": "CommercialDataLL_Interest_in_Crafts_In_Household",
            "nullable": true,
            "type": "string"
           },
           {
            "metadata": {},
            "name": "CommercialDataLL_Interest_in_Current_Affairs_Politics_In_Household",
            "nullable": true,
            "type": "string"
           },
           {
            "metadata": {},
            "name": "CommercialDataLL_Interest_in_Education_Online_In_Household",
            "nullable": true,
            "type": "string"
           },
           {
            "metadata": {},
            "name": "CommercialDataLL_Interest_in_Exercise_Health_In_Household",
            "nullable": true,
            "type": "string"
           },
           {
            "metadata": {},
            "name": "CommercialDataLL_Interest_in_Exercise_Walking_In_Household",
            "nullable": true,
            "type": "string"
           },
           {
            "metadata": {},
            "name": "CommercialDataLL_Interest_in_Fishing_In_Household",
            "nullable": true,
            "type": "string"
           },
           {
            "metadata": {},
            "name": "CommercialDataLL_Interest_in_Foods_Natural_In_Household",
            "nullable": true,
            "type": "string"
           },
           {
            "metadata": {},
            "name": "CommercialDataLL_Interest_in_Gardening_In_Household",
            "nullable": true,
            "type": "string"
           },
           {
            "metadata": {},
            "name": "CommercialDataLL_Interest_in_Golf_In_Household",
            "nullable": true,
            "type": "string"
           },
           {
            "metadata": {},
            "name": "CommercialDataLL_Interest_in_Home_Furnishings_In_Household",
            "nullable": true,
            "type": "string"
           },
           {
            "metadata": {},
            "name": "CommercialDataLL_Interest_in_Home_Improvement_In_Household",
            "nullable": true,
            "type": "string"
           },
           {
            "metadata": {},
            "name": "CommercialDataLL_Interest_in_Nascar_In_Household",
            "nullable": true,
            "type": "string"
           },
           {
            "metadata": {},
            "name": "CommercialDataLL_Interest_in_Photography_In_Household",
            "nullable": true,
            "type": "string"
           },
           {
            "metadata": {},
            "name": "CommercialDataLL_Interest_in_Religious_Inspirational_In_Household",
            "nullable": true,
            "type": "string"
           },
           {
            "metadata": {},
            "name": "CommercialDataLL_Interest_in_Sewing_Knitting_In_Household",
            "nullable": true,
            "type": "string"
           },
           {
            "metadata": {},
            "name": "CommercialDataLL_Interest_in_Shooting_In_Household",
            "nullable": true,
            "type": "string"
           },
           {
            "metadata": {},
            "name": "CommercialDataLL_Interest_in_SpectatorSports_Auto_Racing_In_Household",
            "nullable": true,
            "type": "string"
           },
           {
            "metadata": {},
            "name": "CommercialDataLL_Interest_in_SpectatorSports_Baseball_In_Household",
            "nullable": true,
            "type": "string"
           },
           {
            "metadata": {},
            "name": "CommercialDataLL_Interest_in_SpectatorSports_Basketball_In_Household",
            "nullable": true,
            "type": "string"
           },
           {
            "metadata": {},
            "name": "CommercialDataLL_Interest_in_SpectatorSports_Football_In_Household",
            "nullable": true,
            "type": "string"
           },
           {
            "metadata": {},
            "name": "CommercialDataLL_Interest_in_SpectatorSports_on_TV_In_Household",
            "nullable": true,
            "type": "string"
           },
           {
            "metadata": {},
            "name": "CommercialDataLL_Interest_in_Sports_Leisure_In_Household",
            "nullable": true,
            "type": "string"
           },
           {
            "metadata": {},
            "name": "CommercialDataLL_Interest_in_Sweepstakes_Contests_In_Household",
            "nullable": true,
            "type": "string"
           },
           {
            "metadata": {},
            "name": "CommercialDataLL_Interest_in_the_Arts_In_Household",
            "nullable": true,
            "type": "string"
           },
           {
            "metadata": {},
            "name": "CommercialDataLL_Interest_in_Theater_Performing_Arts_In_Household",
            "nullable": true,
            "type": "string"
           },
           {
            "metadata": {},
            "name": "CommercialDataLL_Interest_in_Travel_Cruise_In_Household",
            "nullable": true,
            "type": "string"
           },
           {
            "metadata": {},
            "name": "CommercialDataLL_Interest_in_Travel_Domestic_In_Household",
            "nullable": true,
            "type": "string"
           },
           {
            "metadata": {},
            "name": "CommercialDataLL_Interest_in_Woodworking_In_Household",
            "nullable": true,
            "type": "string"
           },
           {
            "metadata": {},
            "name": "CommercialDataLL_Investor",
            "nullable": true,
            "type": "string"
           },
           {
            "metadata": {},
            "name": "CommercialDataLL_HH_Net_Worth",
            "nullable": true,
            "type": "string"
           },
           {
            "metadata": {},
            "name": "CommercialDataLL_PetOwner_Cat",
            "nullable": true,
            "type": "string"
           },
           {
            "metadata": {},
            "name": "CommercialDataLL_PetOwner_Dog",
            "nullable": true,
            "type": "string"
           },
           {
            "metadata": {},
            "name": "CommercialDataLL_PetOwner_Other",
            "nullable": true,
            "type": "string"
           },
           {
            "metadata": {},
            "name": "ElectionReturns_G08_Cnty_Margin_McCain_R",
            "nullable": true,
            "type": "string"
           },
           {
            "metadata": {},
            "name": "ElectionReturns_G08_Cnty_Percent_McCain_R",
            "nullable": true,
            "type": "string"
           },
           {
            "metadata": {},
            "name": "ElectionReturns_G08_Cnty_Vote_McCain_R",
            "nullable": true,
            "type": "long"
           },
           {
            "metadata": {},
            "name": "ElectionReturns_G08_Cnty_Margin_Obama_D",
            "nullable": true,
            "type": "string"
           },
           {
            "metadata": {},
            "name": "ElectionReturns_G08_Cnty_Percent_Obama_D",
            "nullable": true,
            "type": "string"
           },
           {
            "metadata": {},
            "name": "ElectionReturns_G08_Cnty_Vote_Obama_D",
            "nullable": true,
            "type": "long"
           },
           {
            "metadata": {},
            "name": "ElectionReturns_G08CountyTurnoutAllRegisteredVoters",
            "nullable": true,
            "type": "string"
           },
           {
            "metadata": {},
            "name": "ElectionReturns_G08CountyTurnoutDemocrats",
            "nullable": true,
            "type": "string"
           },
           {
            "metadata": {},
            "name": "ElectionReturns_G08CountyTurnoutIndependentsAllOthers",
            "nullable": true,
            "type": "string"
           },
           {
            "metadata": {},
            "name": "ElectionReturns_G08CountyTurnoutRepublicans",
            "nullable": true,
            "type": "string"
           },
           {
            "metadata": {},
            "name": "ElectionReturns_G08PrecinctTurnoutAllRegisteredVoters",
            "nullable": true,
            "type": "string"
           },
           {
            "metadata": {},
            "name": "ElectionReturns_G08PrecinctTurnoutDemocrats",
            "nullable": true,
            "type": "string"
           },
           {
            "metadata": {},
            "name": "ElectionReturns_G08PrecinctTurnoutIndependentsAllOthers",
            "nullable": true,
            "type": "string"
           },
           {
            "metadata": {},
            "name": "ElectionReturns_G08PrecinctTurnoutRepublicans",
            "nullable": true,
            "type": "string"
           },
           {
            "metadata": {},
            "name": "ElectionReturns_G10CountyTurnoutAllRegisteredVoters",
            "nullable": true,
            "type": "string"
           },
           {
            "metadata": {},
            "name": "ElectionReturns_G10CountyTurnoutDemocrats",
            "nullable": true,
            "type": "string"
           },
           {
            "metadata": {},
            "name": "ElectionReturns_G10CountyTurnoutIndependentsAllOthers",
            "nullable": true,
            "type": "string"
           },
           {
            "metadata": {},
            "name": "ElectionReturns_G10CountyTurnoutRepublicans",
            "nullable": true,
            "type": "string"
           },
           {
            "metadata": {},
            "name": "ElectionReturns_G10PrecinctTurnoutAllRegisteredVoters",
            "nullable": true,
            "type": "string"
           },
           {
            "metadata": {},
            "name": "ElectionReturns_G10PrecinctTurnoutDemocrats",
            "nullable": true,
            "type": "string"
           },
           {
            "metadata": {},
            "name": "ElectionReturns_G10PrecinctTurnoutIndependentsAllOthers",
            "nullable": true,
            "type": "string"
           },
           {
            "metadata": {},
            "name": "ElectionReturns_G10PrecinctTurnoutRepublicans",
            "nullable": true,
            "type": "string"
           },
           {
            "metadata": {},
            "name": "ElectionReturns_G12_Cnty_Margin_Obama_D",
            "nullable": true,
            "type": "string"
           },
           {
            "metadata": {},
            "name": "ElectionReturns_G12_Cnty_Percent_Obama_D",
            "nullable": true,
            "type": "string"
           },
           {
            "metadata": {},
            "name": "ElectionReturns_G12_Cnty_Vote_Obama_D",
            "nullable": true,
            "type": "long"
           },
           {
            "metadata": {},
            "name": "ElectionReturns_G12_Cnty_Margin_Romney_R",
            "nullable": true,
            "type": "string"
           },
           {
            "metadata": {},
            "name": "ElectionReturns_G12_Cnty_Percent_Romney_R",
            "nullable": true,
            "type": "string"
           },
           {
            "metadata": {},
            "name": "ElectionReturns_G12_Cnty_Vote_Romney_R",
            "nullable": true,
            "type": "long"
           },
           {
            "metadata": {},
            "name": "ElectionReturns_G12CountyTurnoutAllRegisteredVoters",
            "nullable": true,
            "type": "string"
           },
           {
            "metadata": {},
            "name": "ElectionReturns_G12CountyTurnoutDemocrats",
            "nullable": true,
            "type": "string"
           },
           {
            "metadata": {},
            "name": "ElectionReturns_G12CountyTurnoutIndependentsAllOthers",
            "nullable": true,
            "type": "string"
           },
           {
            "metadata": {},
            "name": "ElectionReturns_G12CountyTurnoutRepublicans",
            "nullable": true,
            "type": "string"
           },
           {
            "metadata": {},
            "name": "ElectionReturns_G12PrecinctTurnoutAllRegisteredVoters",
            "nullable": true,
            "type": "string"
           },
           {
            "metadata": {},
            "name": "ElectionReturns_G12PrecinctTurnoutDemocrats",
            "nullable": true,
            "type": "string"
           },
           {
            "metadata": {},
            "name": "ElectionReturns_G12PrecinctTurnoutIndependentsAllOthers",
            "nullable": true,
            "type": "string"
           },
           {
            "metadata": {},
            "name": "ElectionReturns_G12PrecinctTurnoutRepublicans",
            "nullable": true,
            "type": "string"
           },
           {
            "metadata": {},
            "name": "ElectionReturns_G14CountyTurnoutAllRegisteredVoters",
            "nullable": true,
            "type": "string"
           },
           {
            "metadata": {},
            "name": "ElectionReturns_G14CountyTurnoutDemocrats",
            "nullable": true,
            "type": "string"
           },
           {
            "metadata": {},
            "name": "ElectionReturns_G14CountyTurnoutIndependentsAllOthers",
            "nullable": true,
            "type": "string"
           },
           {
            "metadata": {},
            "name": "ElectionReturns_G14CountyTurnoutRepublicans",
            "nullable": true,
            "type": "string"
           },
           {
            "metadata": {},
            "name": "ElectionReturns_G14PrecinctTurnoutAllRegisteredVoters",
            "nullable": true,
            "type": "string"
           },
           {
            "metadata": {},
            "name": "ElectionReturns_G14PrecinctTurnoutDemocrats",
            "nullable": true,
            "type": "string"
           },
           {
            "metadata": {},
            "name": "ElectionReturns_G14PrecinctTurnoutIndependentsAllOthers",
            "nullable": true,
            "type": "string"
           },
           {
            "metadata": {},
            "name": "ElectionReturns_G14PrecinctTurnoutRepublicans",
            "nullable": true,
            "type": "string"
           },
           {
            "metadata": {},
            "name": "ElectionReturns_G16_Cnty_Margin_Clinton_D",
            "nullable": true,
            "type": "string"
           },
           {
            "metadata": {},
            "name": "ElectionReturns_G16_Cnty_Percent_Clinton_D",
            "nullable": true,
            "type": "string"
           },
           {
            "metadata": {},
            "name": "ElectionReturns_G16_Cnty_Vote_Clinton_D",
            "nullable": true,
            "type": "long"
           },
           {
            "metadata": {},
            "name": "ElectionReturns_G16_Cnty_Margin_Trump_R",
            "nullable": true,
            "type": "string"
           },
           {
            "metadata": {},
            "name": "ElectionReturns_G16_Cnty_Percent_Trump_R",
            "nullable": true,
            "type": "string"
           },
           {
            "metadata": {},
            "name": "ElectionReturns_G16_Cnty_Vote_Trump_R",
            "nullable": true,
            "type": "long"
           },
           {
            "metadata": {},
            "name": "ElectionReturns_G16CountyTurnoutAllRegisteredVoters",
            "nullable": true,
            "type": "string"
           },
           {
            "metadata": {},
            "name": "ElectionReturns_G16CountyTurnoutDemocrats",
            "nullable": true,
            "type": "string"
           },
           {
            "metadata": {},
            "name": "ElectionReturns_G16CountyTurnoutIndependentsAllOthers",
            "nullable": true,
            "type": "string"
           },
           {
            "metadata": {},
            "name": "ElectionReturns_G16CountyTurnoutRepublicans",
            "nullable": true,
            "type": "string"
           },
           {
            "metadata": {},
            "name": "ElectionReturns_G16PrecinctTurnoutAllRegisteredVoters",
            "nullable": true,
            "type": "string"
           },
           {
            "metadata": {},
            "name": "ElectionReturns_G16PrecinctTurnoutDemocrats",
            "nullable": true,
            "type": "string"
           },
           {
            "metadata": {},
            "name": "ElectionReturns_G16PrecinctTurnoutIndependentsAllOthers",
            "nullable": true,
            "type": "string"
           },
           {
            "metadata": {},
            "name": "ElectionReturns_G16PrecinctTurnoutRepublicans",
            "nullable": true,
            "type": "string"
           },
           {
            "metadata": {},
            "name": "ElectionReturns_G18CountyTurnoutAllRegisteredVoters",
            "nullable": true,
            "type": "string"
           },
           {
            "metadata": {},
            "name": "ElectionReturns_G18CountyTurnoutDemocrats",
            "nullable": true,
            "type": "string"
           },
           {
            "metadata": {},
            "name": "ElectionReturns_G18CountyTurnoutIndependentsAllOthers",
            "nullable": true,
            "type": "string"
           },
           {
            "metadata": {},
            "name": "ElectionReturns_G18CountyTurnoutRepublicans",
            "nullable": true,
            "type": "string"
           },
           {
            "metadata": {},
            "name": "ElectionReturns_G18PrecinctTurnoutAllRegisteredVoters",
            "nullable": true,
            "type": "string"
           },
           {
            "metadata": {},
            "name": "ElectionReturns_G18PrecinctTurnoutDemocrats",
            "nullable": true,
            "type": "string"
           },
           {
            "metadata": {},
            "name": "ElectionReturns_G18PrecinctTurnoutIndependentsAllOthers",
            "nullable": true,
            "type": "string"
           },
           {
            "metadata": {},
            "name": "ElectionReturns_G18PrecinctTurnoutRepublicans",
            "nullable": true,
            "type": "string"
           },
           {
            "metadata": {},
            "name": "ElectionReturns_P08_Cnty_Pct_Biden_D",
            "nullable": true,
            "type": "string"
           },
           {
            "metadata": {},
            "name": "ElectionReturns_P08_Cnty_Pct_Clinton_D",
            "nullable": true,
            "type": "string"
           },
           {
            "metadata": {},
            "name": "ElectionReturns_P08_Cnty_Pct_Dodd_D",
            "nullable": true,
            "type": "string"
           },
           {
            "metadata": {},
            "name": "ElectionReturns_P08_Cnty_Pct_Edwards_D",
            "nullable": true,
            "type": "string"
           },
           {
            "metadata": {},
            "name": "ElectionReturns_P08_Cnty_Pct_Gravel_D",
            "nullable": true,
            "type": "string"
           },
           {
            "metadata": {},
            "name": "ElectionReturns_P08_Cnty_Pct_Kucinich_D",
            "nullable": true,
            "type": "string"
           },
           {
            "metadata": {},
            "name": "ElectionReturns_P08_Cnty_Pct_Obama_D",
            "nullable": true,
            "type": "string"
           },
           {
            "metadata": {},
            "name": "ElectionReturns_P08_Cnty_Pct_Richardson_D",
            "nullable": true,
            "type": "string"
           },
           {
            "metadata": {},
            "name": "ElectionReturns_P08_Cnty_Vote_Biden_D",
            "nullable": true,
            "type": "long"
           },
           {
            "metadata": {},
            "name": "ElectionReturns_P08_Cnty_Vote_Clinton_D",
            "nullable": true,
            "type": "long"
           },
           {
            "metadata": {},
            "name": "ElectionReturns_P08_Cnty_Vote_Dodd_D",
            "nullable": true,
            "type": "long"
           },
           {
            "metadata": {},
            "name": "ElectionReturns_P08_Cnty_Vote_Edwards_D",
            "nullable": true,
            "type": "long"
           },
           {
            "metadata": {},
            "name": "ElectionReturns_P08_Cnty_Vote_Gravel_D",
            "nullable": true,
            "type": "long"
           },
           {
            "metadata": {},
            "name": "ElectionReturns_P08_Cnty_Vote_Kucinich_D",
            "nullable": true,
            "type": "long"
           },
           {
            "metadata": {},
            "name": "ElectionReturns_P08_Cnty_Vote_Obama_D",
            "nullable": true,
            "type": "long"
           },
           {
            "metadata": {},
            "name": "ElectionReturns_P08_Cnty_Vote_Richardson_D",
            "nullable": true,
            "type": "long"
           },
           {
            "metadata": {},
            "name": "ElectionReturns_P08_Cnty_Pct_Giuliani_R",
            "nullable": true,
            "type": "string"
           },
           {
            "metadata": {},
            "name": "ElectionReturns_P08_Cnty_Pct_Huckabee_R",
            "nullable": true,
            "type": "string"
           },
           {
            "metadata": {},
            "name": "ElectionReturns_P08_Cnty_Pct_Hunter_R",
            "nullable": true,
            "type": "string"
           },
           {
            "metadata": {},
            "name": "ElectionReturns_P08_Cnty_Pct_Keyes_R",
            "nullable": true,
            "type": "string"
           },
           {
            "metadata": {},
            "name": "ElectionReturns_P08_Cnty_Pct_McCain_R",
            "nullable": true,
            "type": "string"
           },
           {
            "metadata": {},
            "name": "ElectionReturns_P08_Cnty_Pct_Paul_R",
            "nullable": true,
            "type": "string"
           },
           {
            "metadata": {},
            "name": "ElectionReturns_P08_Cnty_Pct_Romney_R",
            "nullable": true,
            "type": "string"
           },
           {
            "metadata": {},
            "name": "ElectionReturns_P08_Cnty_Pct_Thompson_R",
            "nullable": true,
            "type": "string"
           },
           {
            "metadata": {},
            "name": "ElectionReturns_P08_Cnty_Vote_Giuliani_R",
            "nullable": true,
            "type": "long"
           },
           {
            "metadata": {},
            "name": "ElectionReturns_P08_Cnty_Vote_Huckabee_R",
            "nullable": true,
            "type": "long"
           },
           {
            "metadata": {},
            "name": "ElectionReturns_P08_Cnty_Vote_Hunter_R",
            "nullable": true,
            "type": "long"
           },
           {
            "metadata": {},
            "name": "ElectionReturns_P08_Cnty_Vote_Keyes_R",
            "nullable": true,
            "type": "long"
           },
           {
            "metadata": {},
            "name": "ElectionReturns_P08_Cnty_Vote_McCain_R",
            "nullable": true,
            "type": "long"
           },
           {
            "metadata": {},
            "name": "ElectionReturns_P08_Cnty_Vote_Paul_R",
            "nullable": true,
            "type": "long"
           },
           {
            "metadata": {},
            "name": "ElectionReturns_P08_Cnty_Vote_Romney_R",
            "nullable": true,
            "type": "long"
           },
           {
            "metadata": {},
            "name": "ElectionReturns_P08_Cnty_Vote_Thompson_R",
            "nullable": true,
            "type": "long"
           },
           {
            "metadata": {},
            "name": "ElectionReturns_P08CountyTurnoutAllRegisteredVoters",
            "nullable": true,
            "type": "string"
           },
           {
            "metadata": {},
            "name": "ElectionReturns_P08CountyTurnoutDemocrats",
            "nullable": true,
            "type": "string"
           },
           {
            "metadata": {},
            "name": "ElectionReturns_P08CountyTurnoutRepublicans",
            "nullable": true,
            "type": "string"
           },
           {
            "metadata": {},
            "name": "ElectionReturns_P08PrecinctTurnoutAllRegisteredVoters",
            "nullable": true,
            "type": "string"
           },
           {
            "metadata": {},
            "name": "ElectionReturns_P08PrecinctTurnoutDemocrats",
            "nullable": true,
            "type": "string"
           },
           {
            "metadata": {},
            "name": "ElectionReturns_P08PrecinctTurnoutRepublicans",
            "nullable": true,
            "type": "string"
           },
           {
            "metadata": {},
            "name": "ElectionReturns_P10CountyTurnoutAllRegisteredVoters",
            "nullable": true,
            "type": "string"
           },
           {
            "metadata": {},
            "name": "ElectionReturns_P10CountyTurnoutDemocrats",
            "nullable": true,
            "type": "string"
           },
           {
            "metadata": {},
            "name": "ElectionReturns_P10CountyTurnoutRepublicans",
            "nullable": true,
            "type": "string"
           },
           {
            "metadata": {},
            "name": "ElectionReturns_P10PrecinctTurnoutAllRegisteredVoters",
            "nullable": true,
            "type": "string"
           },
           {
            "metadata": {},
            "name": "ElectionReturns_P10PrecinctTurnoutDemocrats",
            "nullable": true,
            "type": "string"
           },
           {
            "metadata": {},
            "name": "ElectionReturns_P10PrecinctTurnoutRepublicans",
            "nullable": true,
            "type": "string"
           },
           {
            "metadata": {},
            "name": "ElectionReturns_P12_Cnty_Pct_Bachman_R",
            "nullable": true,
            "type": "string"
           },
           {
            "metadata": {},
            "name": "ElectionReturns_P12_Cnty_Pct_Gingrich_R",
            "nullable": true,
            "type": "string"
           },
           {
            "metadata": {},
            "name": "ElectionReturns_P12_Cnty_Pct_Huntsman_R",
            "nullable": true,
            "type": "string"
           },
           {
            "metadata": {},
            "name": "ElectionReturns_P12_Cnty_Pct_Paul_R",
            "nullable": true,
            "type": "string"
           },
           {
            "metadata": {},
            "name": "ElectionReturns_P12_Cnty_Pct_Perry_R",
            "nullable": true,
            "type": "string"
           },
           {
            "metadata": {},
            "name": "ElectionReturns_P12_Cnty_Pct_Romney_R",
            "nullable": true,
            "type": "string"
           },
           {
            "metadata": {},
            "name": "ElectionReturns_P12_Cnty_Pct_Santorum_R",
            "nullable": true,
            "type": "string"
           },
           {
            "metadata": {},
            "name": "ElectionReturns_P12_Cnty_Vote_Bachman_R",
            "nullable": true,
            "type": "long"
           },
           {
            "metadata": {},
            "name": "ElectionReturns_P12_Cnty_Vote_Gingrich_R",
            "nullable": true,
            "type": "long"
           },
           {
            "metadata": {},
            "name": "ElectionReturns_P12_Cnty_Vote_Huntsman_R",
            "nullable": true,
            "type": "long"
           },
           {
            "metadata": {},
            "name": "ElectionReturns_P12_Cnty_Vote_Paul_R",
            "nullable": true,
            "type": "long"
           },
           {
            "metadata": {},
            "name": "ElectionReturns_P12_Cnty_Vote_Perry_R",
            "nullable": true,
            "type": "long"
           },
           {
            "metadata": {},
            "name": "ElectionReturns_P12_Cnty_Vote_Romney_R",
            "nullable": true,
            "type": "long"
           },
           {
            "metadata": {},
            "name": "ElectionReturns_P12_Cnty_Vote_Santorum_R",
            "nullable": true,
            "type": "long"
           },
           {
            "metadata": {},
            "name": "ElectionReturns_P12CountyTurnoutAllRegisteredVoters",
            "nullable": true,
            "type": "string"
           },
           {
            "metadata": {},
            "name": "ElectionReturns_P12CountyTurnoutDemocrats",
            "nullable": true,
            "type": "string"
           },
           {
            "metadata": {},
            "name": "ElectionReturns_P12CountyTurnoutRepublicans",
            "nullable": true,
            "type": "string"
           },
           {
            "metadata": {},
            "name": "ElectionReturns_P12PrecinctTurnoutAllRegisteredVoters",
            "nullable": true,
            "type": "string"
           },
           {
            "metadata": {},
            "name": "ElectionReturns_P12PrecinctTurnoutDemocrats",
            "nullable": true,
            "type": "string"
           },
           {
            "metadata": {},
            "name": "ElectionReturns_P12PrecinctTurnoutRepublicans",
            "nullable": true,
            "type": "string"
           },
           {
            "metadata": {},
            "name": "ElectionReturns_P14CountyTurnoutAllRegisteredVoters",
            "nullable": true,
            "type": "string"
           },
           {
            "metadata": {},
            "name": "ElectionReturns_P14CountyTurnoutDemocrats",
            "nullable": true,
            "type": "string"
           },
           {
            "metadata": {},
            "name": "ElectionReturns_P14CountyTurnoutRepublicans",
            "nullable": true,
            "type": "string"
           },
           {
            "metadata": {},
            "name": "ElectionReturns_P14PrecinctTurnoutAllRegisteredVoters",
            "nullable": true,
            "type": "string"
           },
           {
            "metadata": {},
            "name": "ElectionReturns_P14PrecinctTurnoutDemocrats",
            "nullable": true,
            "type": "string"
           },
           {
            "metadata": {},
            "name": "ElectionReturns_P14PrecinctTurnoutRepublicans",
            "nullable": true,
            "type": "string"
           },
           {
            "metadata": {},
            "name": "ElectionReturns_P16_Cnty_Pct_Bush_R",
            "nullable": true,
            "type": "string"
           },
           {
            "metadata": {},
            "name": "ElectionReturns_P16_Cnty_Pct_Carson_R",
            "nullable": true,
            "type": "string"
           },
           {
            "metadata": {},
            "name": "ElectionReturns_P16_Cnty_Pct_Christie_R",
            "nullable": true,
            "type": "string"
           },
           {
            "metadata": {},
            "name": "ElectionReturns_P16_Cnty_Pct_Cruz_R",
            "nullable": true,
            "type": "string"
           },
           {
            "metadata": {},
            "name": "ElectionReturns_P16_Cnty_Pct_Fiorina_R",
            "nullable": true,
            "type": "string"
           },
           {
            "metadata": {},
            "name": "ElectionReturns_P16_Cnty_Pct_Kasich_R",
            "nullable": true,
            "type": "string"
           },
           {
            "metadata": {},
            "name": "ElectionReturns_P16_Cnty_Pct_Rubio_R",
            "nullable": true,
            "type": "string"
           },
           {
            "metadata": {},
            "name": "ElectionReturns_P16_Cnty_Pct_Trump_R",
            "nullable": true,
            "type": "string"
           },
           {
            "metadata": {},
            "name": "ElectionReturns_P16_Cnty_Vote_Bush_R",
            "nullable": true,
            "type": "long"
           },
           {
            "metadata": {},
            "name": "ElectionReturns_P16_Cnty_Vote_Carson_R",
            "nullable": true,
            "type": "long"
           },
           {
            "metadata": {},
            "name": "ElectionReturns_P16_Cnty_Vote_Christie_R",
            "nullable": true,
            "type": "long"
           },
           {
            "metadata": {},
            "name": "ElectionReturns_P16_Cnty_Vote_Cruz_R",
            "nullable": true,
            "type": "long"
           },
           {
            "metadata": {},
            "name": "ElectionReturns_P16_Cnty_Vote_Fiorina_R",
            "nullable": true,
            "type": "long"
           },
           {
            "metadata": {},
            "name": "ElectionReturns_P16_Cnty_Vote_Kasich_R",
            "nullable": true,
            "type": "long"
           },
           {
            "metadata": {},
            "name": "ElectionReturns_P16_Cnty_Vote_Rubio_R",
            "nullable": true,
            "type": "long"
           },
           {
            "metadata": {},
            "name": "ElectionReturns_P16_Cnty_Vote_Trump_R",
            "nullable": true,
            "type": "long"
           },
           {
            "metadata": {},
            "name": "ElectionReturns_P16_Cnty_Pct_Clinton_D",
            "nullable": true,
            "type": "string"
           },
           {
            "metadata": {},
            "name": "ElectionReturns_P16_Cnty_Pct_Sanders_D",
            "nullable": true,
            "type": "string"
           },
           {
            "metadata": {},
            "name": "ElectionReturns_P16_Cnty_Vote_Clinton_D",
            "nullable": true,
            "type": "long"
           },
           {
            "metadata": {},
            "name": "ElectionReturns_P16_Cnty_Vote_Sanders_D",
            "nullable": true,
            "type": "long"
           },
           {
            "metadata": {},
            "name": "ElectionReturns_P16CountyTurnoutAllRegisteredVoters",
            "nullable": true,
            "type": "string"
           },
           {
            "metadata": {},
            "name": "ElectionReturns_P16CountyTurnoutDemocrats",
            "nullable": true,
            "type": "string"
           },
           {
            "metadata": {},
            "name": "ElectionReturns_P16CountyTurnoutRepublicans",
            "nullable": true,
            "type": "string"
           },
           {
            "metadata": {},
            "name": "ElectionReturns_P16PrecinctTurnoutAllRegisteredVoters",
            "nullable": true,
            "type": "string"
           },
           {
            "metadata": {},
            "name": "ElectionReturns_P16PrecinctTurnoutDemocrats",
            "nullable": true,
            "type": "string"
           },
           {
            "metadata": {},
            "name": "ElectionReturns_P16PrecinctTurnoutRepublicans",
            "nullable": true,
            "type": "string"
           },
           {
            "metadata": {},
            "name": "ElectionReturns_P18CountyTurnoutAllRegisteredVoters",
            "nullable": true,
            "type": "string"
           },
           {
            "metadata": {},
            "name": "ElectionReturns_P18CountyTurnoutDemocrats",
            "nullable": true,
            "type": "string"
           },
           {
            "metadata": {},
            "name": "ElectionReturns_P18CountyTurnoutRepublicans",
            "nullable": true,
            "type": "string"
           },
           {
            "metadata": {},
            "name": "ElectionReturns_P18PrecinctTurnoutAllRegisteredVoters",
            "nullable": true,
            "type": "string"
           },
           {
            "metadata": {},
            "name": "ElectionReturns_P18PrecinctTurnoutDemocrats",
            "nullable": true,
            "type": "string"
           },
           {
            "metadata": {},
            "name": "ElectionReturns_P18PrecinctTurnoutRepublicans",
            "nullable": true,
            "type": "string"
           },
           {
            "metadata": {},
            "name": "Voters_VotingPerformanceEvenYearGeneral",
            "nullable": true,
            "type": "string"
           },
           {
            "metadata": {},
            "name": "Voters_VotingPerformanceEvenYearPrimary",
            "nullable": true,
            "type": "string"
           },
           {
            "metadata": {},
            "name": "Voters_VotingPerformanceEvenYearGeneralAndPrimary",
            "nullable": true,
            "type": "string"
           },
           {
            "metadata": {},
            "name": "Voters_VotingPerformanceMinorElection",
            "nullable": true,
            "type": "string"
           },
           {
            "metadata": {},
            "name": "Primary_2020",
            "nullable": true,
            "type": "string"
           },
           {
            "metadata": {},
            "name": "PresidentialPrimary_2020",
            "nullable": true,
            "type": "string"
           },
           {
            "metadata": {},
            "name": "AnyElection_2019",
            "nullable": true,
            "type": "string"
           },
           {
            "metadata": {},
            "name": "General_2018",
            "nullable": true,
            "type": "string"
           },
           {
            "metadata": {},
            "name": "Primary_2018",
            "nullable": true,
            "type": "string"
           },
           {
            "metadata": {},
            "name": "OtherElection_2018",
            "nullable": true,
            "type": "string"
           },
           {
            "metadata": {},
            "name": "AnyElection_2017",
            "nullable": true,
            "type": "string"
           },
           {
            "metadata": {},
            "name": "General_2016",
            "nullable": true,
            "type": "string"
           },
           {
            "metadata": {},
            "name": "Primary_2016",
            "nullable": true,
            "type": "string"
           },
           {
            "metadata": {},
            "name": "PresidentialPrimary_2016",
            "nullable": true,
            "type": "string"
           },
           {
            "metadata": {},
            "name": "AnyElection_2015",
            "nullable": true,
            "type": "string"
           },
           {
            "metadata": {},
            "name": "General_2014",
            "nullable": true,
            "type": "string"
           },
           {
            "metadata": {},
            "name": "Primary_2014",
            "nullable": true,
            "type": "string"
           },
           {
            "metadata": {},
            "name": "AnyElection_2013",
            "nullable": true,
            "type": "string"
           },
           {
            "metadata": {},
            "name": "General_2012",
            "nullable": true,
            "type": "string"
           },
           {
            "metadata": {},
            "name": "Primary_2012",
            "nullable": true,
            "type": "string"
           },
           {
            "metadata": {},
            "name": "PresidentialPrimary_2012",
            "nullable": true,
            "type": "string"
           },
           {
            "metadata": {},
            "name": "AnyElection_2011",
            "nullable": true,
            "type": "string"
           },
           {
            "metadata": {},
            "name": "General_2010",
            "nullable": true,
            "type": "string"
           },
           {
            "metadata": {},
            "name": "Primary_2010",
            "nullable": true,
            "type": "string"
           },
           {
            "metadata": {},
            "name": "OtherElection_2010",
            "nullable": true,
            "type": "string"
           },
           {
            "metadata": {},
            "name": "AnyElection_2009",
            "nullable": true,
            "type": "string"
           },
           {
            "metadata": {},
            "name": "General_2008",
            "nullable": true,
            "type": "string"
           },
           {
            "metadata": {},
            "name": "Primary_2008",
            "nullable": true,
            "type": "string"
           },
           {
            "metadata": {},
            "name": "PresidentialPrimary_2008",
            "nullable": true,
            "type": "string"
           },
           {
            "metadata": {},
            "name": "AnyElection_2007",
            "nullable": true,
            "type": "string"
           },
           {
            "metadata": {},
            "name": "General_2006",
            "nullable": true,
            "type": "string"
           },
           {
            "metadata": {},
            "name": "Primary_2006",
            "nullable": true,
            "type": "string"
           },
           {
            "metadata": {},
            "name": "AnyElection_2005",
            "nullable": true,
            "type": "string"
           },
           {
            "metadata": {},
            "name": "General_2004",
            "nullable": true,
            "type": "string"
           },
           {
            "metadata": {},
            "name": "Primary_2004",
            "nullable": true,
            "type": "string"
           },
           {
            "metadata": {},
            "name": "PresidentialPrimary_2004",
            "nullable": true,
            "type": "string"
           },
           {
            "metadata": {},
            "name": "AnyElection_2003",
            "nullable": true,
            "type": "string"
           },
           {
            "metadata": {},
            "name": "General_2002",
            "nullable": true,
            "type": "string"
           },
           {
            "metadata": {},
            "name": "Primary_2002",
            "nullable": true,
            "type": "string"
           },
           {
            "metadata": {},
            "name": "AnyElection_2001",
            "nullable": true,
            "type": "string"
           },
           {
            "metadata": {},
            "name": "General_2000",
            "nullable": true,
            "type": "string"
           },
           {
            "metadata": {},
            "name": "Primary_2000",
            "nullable": true,
            "type": "string"
           },
           {
            "metadata": {},
            "name": "PresidentialPrimary_2000",
            "nullable": true,
            "type": "string"
           },
           {
            "metadata": {},
            "name": "PRI_BLT_2020",
            "nullable": true,
            "type": "string"
           },
           {
            "metadata": {},
            "name": "PRI_BLT_2018",
            "nullable": true,
            "type": "string"
           },
           {
            "metadata": {},
            "name": "PRI_BLT_2016",
            "nullable": true,
            "type": "string"
           },
           {
            "metadata": {},
            "name": "PRI_BLT_2014",
            "nullable": true,
            "type": "string"
           },
           {
            "metadata": {},
            "name": "PRI_BLT_2012",
            "nullable": true,
            "type": "string"
           },
           {
            "metadata": {},
            "name": "PRI_BLT_2010",
            "nullable": true,
            "type": "string"
           },
           {
            "metadata": {},
            "name": "PRI_BLT_2008",
            "nullable": true,
            "type": "string"
           },
           {
            "metadata": {},
            "name": "PRI_BLT_2006",
            "nullable": true,
            "type": "string"
           },
           {
            "metadata": {},
            "name": "PRI_BLT_2004",
            "nullable": true,
            "type": "string"
           },
           {
            "metadata": {},
            "name": "PRI_BLT_2002",
            "nullable": true,
            "type": "string"
           },
           {
            "metadata": {},
            "name": "PRI_BLT_2000",
            "nullable": true,
            "type": "string"
           },
           {
            "metadata": {},
            "name": "_rescued_data",
            "nullable": true,
            "type": "string"
           }
          ],
          "type": "struct"
         },
         "tableIdentifier": null,
         "typeStr": "pyspark.sql.dataframe.DataFrame"
        }
       ],
       "dbfsResultPath": null,
       "isJsonSchema": true,
       "metadata": {
        "createTempViewForImplicitDf": true,
        "dataframeName": "_sqldf",
        "executionCount": 6
       },
       "overflow": false,
       "plotOptions": {
        "customPlotOptions": {},
        "displayType": "table",
        "pivotAggregation": null,
        "pivotColumns": null,
        "xColumns": null,
        "yColumns": null
       },
       "removedWidgets": [],
       "schema": [
        {
         "metadata": "{}",
         "name": "SEQUENCE",
         "type": "\"long\""
        },
        {
         "metadata": "{}",
         "name": "LALVOTERID",
         "type": "\"string\""
        },
        {
         "metadata": "{}",
         "name": "Voters_Active",
         "type": "\"string\""
        },
        {
         "metadata": "{}",
         "name": "Voters_StateVoterID",
         "type": "\"string\""
        },
        {
         "metadata": "{}",
         "name": "Voters_CountyVoterID",
         "type": "\"string\""
        },
        {
         "metadata": "{}",
         "name": "VoterTelephones_LandlineAreaCode",
         "type": "\"string\""
        },
        {
         "metadata": "{}",
         "name": "VoterTelephones_Landline7Digit",
         "type": "\"string\""
        },
        {
         "metadata": "{}",
         "name": "VoterTelephones_LandlineFormatted",
         "type": "\"string\""
        },
        {
         "metadata": "{}",
         "name": "VoterTelephones_LandlineUnformatted",
         "type": "\"string\""
        },
        {
         "metadata": "{}",
         "name": "VoterTelephones_LandlineConfidenceCode",
         "type": "\"long\""
        },
        {
         "metadata": "{}",
         "name": "VoterTelephones_CellPhoneOnly",
         "type": "\"string\""
        },
        {
         "metadata": "{}",
         "name": "VoterTelephones_CellPhoneFormatted",
         "type": "\"string\""
        },
        {
         "metadata": "{}",
         "name": "VoterTelephones_CellPhoneUnformatted",
         "type": "\"string\""
        },
        {
         "metadata": "{}",
         "name": "VoterTelephones_CellConfidenceCode",
         "type": "\"long\""
        },
        {
         "metadata": "{}",
         "name": "Voters_FirstName",
         "type": "\"string\""
        },
        {
         "metadata": "{}",
         "name": "Voters_MiddleName",
         "type": "\"string\""
        },
        {
         "metadata": "{}",
         "name": "Voters_LastName",
         "type": "\"string\""
        },
        {
         "metadata": "{}",
         "name": "Residence_Addresses_AddressLine",
         "type": "\"string\""
        },
        {
         "metadata": "{}",
         "name": "Residence_Addresses_City",
         "type": "\"string\""
        },
        {
         "metadata": "{}",
         "name": "Residence_Addresses_State",
         "type": "\"string\""
        },
        {
         "metadata": "{}",
         "name": "Residence_Addresses_Zip",
         "type": "\"string\""
        },
        {
         "metadata": "{}",
         "name": "Residence_Addresses_ZipPlus4",
         "type": "\"string\""
        },
        {
         "metadata": "{}",
         "name": "Residence_Addresses_HouseNumber",
         "type": "\"string\""
        },
        {
         "metadata": "{}",
         "name": "Residence_Addresses_PrefixDirection",
         "type": "\"string\""
        },
        {
         "metadata": "{}",
         "name": "Residence_Addresses_StreetName",
         "type": "\"string\""
        },
        {
         "metadata": "{}",
         "name": "Residence_Addresses_Designator",
         "type": "\"string\""
        },
        {
         "metadata": "{}",
         "name": "Residence_Addresses_SuffixDirection",
         "type": "\"string\""
        },
        {
         "metadata": "{}",
         "name": "Residence_Addresses_ApartmentNum",
         "type": "\"string\""
        },
        {
         "metadata": "{}",
         "name": "Residence_Addresses_ApartmentType",
         "type": "\"string\""
        },
        {
         "metadata": "{}",
         "name": "Residence_Addresses_CassErrStatCode",
         "type": "\"string\""
        },
        {
         "metadata": "{}",
         "name": "Voters_SequenceZigZag",
         "type": "\"long\""
        },
        {
         "metadata": "{}",
         "name": "Voters_SequenceOddEven",
         "type": "\"long\""
        },
        {
         "metadata": "{}",
         "name": "Residence_Addresses_CensusTract",
         "type": "\"string\""
        },
        {
         "metadata": "{}",
         "name": "Residence_Addresses_CensusBlockGroup",
         "type": "\"string\""
        },
        {
         "metadata": "{}",
         "name": "Residence_Addresses_CensusBlock",
         "type": "\"string\""
        },
        {
         "metadata": "{}",
         "name": "Residence_Addresses_Latitude",
         "type": "\"double\""
        },
        {
         "metadata": "{}",
         "name": "Residence_Addresses_Longitude",
         "type": "\"double\""
        },
        {
         "metadata": "{}",
         "name": "Residence_Addresses_LatLongAccuracy",
         "type": "\"string\""
        },
        {
         "metadata": "{}",
         "name": "Residence_Addresses_Property_LandSq_Footage",
         "type": "\"string\""
        },
        {
         "metadata": "{}",
         "name": "Residence_Addresses_Property_HomeSq_Footage",
         "type": "\"string\""
        },
        {
         "metadata": "{}",
         "name": "Residence_Addresses_Density",
         "type": "\"string\""
        },
        {
         "metadata": "{}",
         "name": "Residence_Families_FamilyID",
         "type": "\"string\""
        },
        {
         "metadata": "{}",
         "name": "Residence_Families_HHCount",
         "type": "\"long\""
        },
        {
         "metadata": "{}",
         "name": "Residence_HHGender_Description",
         "type": "\"string\""
        },
        {
         "metadata": "{}",
         "name": "Residence_HHParties_Description",
         "type": "\"string\""
        },
        {
         "metadata": "{}",
         "name": "Mailing_Addresses_AddressLine",
         "type": "\"string\""
        },
        {
         "metadata": "{}",
         "name": "Mailing_Addresses_City",
         "type": "\"string\""
        },
        {
         "metadata": "{}",
         "name": "Mailing_Addresses_State",
         "type": "\"string\""
        },
        {
         "metadata": "{}",
         "name": "Mailing_Addresses_Zip",
         "type": "\"string\""
        },
        {
         "metadata": "{}",
         "name": "Mailing_Addresses_ZipPlus4",
         "type": "\"string\""
        },
        {
         "metadata": "{}",
         "name": "Mailing_Addresses_HouseNumber",
         "type": "\"string\""
        },
        {
         "metadata": "{}",
         "name": "Mailing_Addresses_PrefixDirection",
         "type": "\"string\""
        },
        {
         "metadata": "{}",
         "name": "Mailing_Addresses_StreetName",
         "type": "\"string\""
        },
        {
         "metadata": "{}",
         "name": "Mailing_Addresses_Designator",
         "type": "\"string\""
        },
        {
         "metadata": "{}",
         "name": "Mailing_Addresses_SuffixDirection",
         "type": "\"string\""
        },
        {
         "metadata": "{}",
         "name": "Mailing_Addresses_ApartmentNum",
         "type": "\"string\""
        },
        {
         "metadata": "{}",
         "name": "Mailing_Addresses_ApartmentType",
         "type": "\"string\""
        },
        {
         "metadata": "{}",
         "name": "Mailing_Addresses_CassErrStatCode",
         "type": "\"string\""
        },
        {
         "metadata": "{}",
         "name": "Mailing_Families_FamilyID",
         "type": "\"string\""
        },
        {
         "metadata": "{}",
         "name": "Mailing_Families_HHCount",
         "type": "\"long\""
        },
        {
         "metadata": "{}",
         "name": "Mailing_HHGender_Description",
         "type": "\"string\""
        },
        {
         "metadata": "{}",
         "name": "Mailing_HHParties_Description",
         "type": "\"string\""
        },
        {
         "metadata": "{}",
         "name": "Voters_Gender",
         "type": "\"string\""
        },
        {
         "metadata": "{}",
         "name": "Voters_Age",
         "type": "\"long\""
        },
        {
         "metadata": "{}",
         "name": "Voters_BirthDate",
         "type": "\"string\""
        },
        {
         "metadata": "{}",
         "name": "DateConfidence_Description",
         "type": "\"string\""
        },
        {
         "metadata": "{}",
         "name": "Parties_Description",
         "type": "\"string\""
        },
        {
         "metadata": "{}",
         "name": "Ethnic_Description",
         "type": "\"string\""
        },
        {
         "metadata": "{}",
         "name": "EthnicGroups_EthnicGroup1Desc",
         "type": "\"string\""
        },
        {
         "metadata": "{}",
         "name": "CountyEthnic_LALEthnicCode",
         "type": "\"string\""
        },
        {
         "metadata": "{}",
         "name": "CountyEthnic_Description",
         "type": "\"string\""
        },
        {
         "metadata": "{}",
         "name": "Religions_Description",
         "type": "\"string\""
        },
        {
         "metadata": "{}",
         "name": "Voters_CalculatedRegDate",
         "type": "\"string\""
        },
        {
         "metadata": "{}",
         "name": "Voters_OfficialRegDate",
         "type": "\"string\""
        },
        {
         "metadata": "{}",
         "name": "Voters_PlaceOfBirth",
         "type": "\"string\""
        },
        {
         "metadata": "{}",
         "name": "Languages_Description",
         "type": "\"string\""
        },
        {
         "metadata": "{}",
         "name": "AbsenteeTypes_Description",
         "type": "\"string\""
        },
        {
         "metadata": "{}",
         "name": "MaritalStatus_Description",
         "type": "\"string\""
        },
        {
         "metadata": "{}",
         "name": "US_Congressional_District",
         "type": "\"string\""
        },
        {
         "metadata": "{}",
         "name": "AddressDistricts_Change_Changed_CD",
         "type": "\"string\""
        },
        {
         "metadata": "{}",
         "name": "State_Senate_District",
         "type": "\"string\""
        },
        {
         "metadata": "{}",
         "name": "AddressDistricts_Change_Changed_SD",
         "type": "\"string\""
        },
        {
         "metadata": "{}",
         "name": "State_House_District",
         "type": "\"string\""
        },
        {
         "metadata": "{}",
         "name": "AddressDistricts_Change_Changed_HD",
         "type": "\"string\""
        },
        {
         "metadata": "{}",
         "name": "State_Legislative_District",
         "type": "\"string\""
        },
        {
         "metadata": "{}",
         "name": "AddressDistricts_Change_Changed_LD",
         "type": "\"string\""
        },
        {
         "metadata": "{}",
         "name": "2001_US_Congressional_District",
         "type": "\"string\""
        },
        {
         "metadata": "{}",
         "name": "2001_State_Senate_District",
         "type": "\"string\""
        },
        {
         "metadata": "{}",
         "name": "2001_State_House_District",
         "type": "\"string\""
        },
        {
         "metadata": "{}",
         "name": "2001_State_Legislative_District",
         "type": "\"string\""
        },
        {
         "metadata": "{}",
         "name": "County",
         "type": "\"string\""
        },
        {
         "metadata": "{}",
         "name": "Voters_FIPS",
         "type": "\"string\""
        },
        {
         "metadata": "{}",
         "name": "AddressDistricts_Change_Changed_County",
         "type": "\"string\""
        },
        {
         "metadata": "{}",
         "name": "Precinct",
         "type": "\"string\""
        },
        {
         "metadata": "{}",
         "name": "County_Commissioner_District",
         "type": "\"string\""
        },
        {
         "metadata": "{}",
         "name": "County_Supervisorial_District",
         "type": "\"string\""
        },
        {
         "metadata": "{}",
         "name": "County_Legislative_District",
         "type": "\"string\""
        },
        {
         "metadata": "{}",
         "name": "City",
         "type": "\"string\""
        },
        {
         "metadata": "{}",
         "name": "City_Council_Commissioner_District",
         "type": "\"string\""
        },
        {
         "metadata": "{}",
         "name": "City_Ward",
         "type": "\"string\""
        },
        {
         "metadata": "{}",
         "name": "Town_District",
         "type": "\"string\""
        },
        {
         "metadata": "{}",
         "name": "Township",
         "type": "\"string\""
        },
        {
         "metadata": "{}",
         "name": "Hamlet_Community_Area",
         "type": "\"string\""
        },
        {
         "metadata": "{}",
         "name": "Board_of_Education_District",
         "type": "\"string\""
        },
        {
         "metadata": "{}",
         "name": "Community_College",
         "type": "\"string\""
        },
        {
         "metadata": "{}",
         "name": "Community_College_SubDistrict",
         "type": "\"string\""
        },
        {
         "metadata": "{}",
         "name": "County_Board_of_Education_District",
         "type": "\"string\""
        },
        {
         "metadata": "{}",
         "name": "County_Board_of_Education_SubDistrict",
         "type": "\"string\""
        },
        {
         "metadata": "{}",
         "name": "Designated_Market_Area_DMA",
         "type": "\"string\""
        },
        {
         "metadata": "{}",
         "name": "District_Attorney",
         "type": "\"string\""
        },
        {
         "metadata": "{}",
         "name": "Fire_District",
         "type": "\"string\""
        },
        {
         "metadata": "{}",
         "name": "High_School_District",
         "type": "\"string\""
        },
        {
         "metadata": "{}",
         "name": "Judicial_Appellate_District",
         "type": "\"string\""
        },
        {
         "metadata": "{}",
         "name": "Judicial_Circuit_Court_District",
         "type": "\"string\""
        },
        {
         "metadata": "{}",
         "name": "Judicial_District",
         "type": "\"string\""
        },
        {
         "metadata": "{}",
         "name": "Judicial_District_Court_District",
         "type": "\"string\""
        },
        {
         "metadata": "{}",
         "name": "Judicial_Magistrate_Division",
         "type": "\"string\""
        },
        {
         "metadata": "{}",
         "name": "Judicial_Superior_Court_District",
         "type": "\"string\""
        },
        {
         "metadata": "{}",
         "name": "Justice_of_the_Peace",
         "type": "\"string\""
        },
        {
         "metadata": "{}",
         "name": "Other",
         "type": "\"string\""
        },
        {
         "metadata": "{}",
         "name": "Park_District",
         "type": "\"string\""
        },
        {
         "metadata": "{}",
         "name": "School_Board_District",
         "type": "\"string\""
        },
        {
         "metadata": "{}",
         "name": "School_District",
         "type": "\"string\""
        },
        {
         "metadata": "{}",
         "name": "School_Subdistrict",
         "type": "\"string\""
        },
        {
         "metadata": "{}",
         "name": "State_Board_of_Equalization",
         "type": "\"string\""
        },
        {
         "metadata": "{}",
         "name": "Transit_District",
         "type": "\"string\""
        },
        {
         "metadata": "{}",
         "name": "Unified_School_District",
         "type": "\"string\""
        },
        {
         "metadata": "{}",
         "name": "CommercialData_BookBuyerInHome",
         "type": "\"string\""
        },
        {
         "metadata": "{}",
         "name": "CommercialData_ComputerOwnerInHome",
         "type": "\"string\""
        },
        {
         "metadata": "{}",
         "name": "CommercialData_DoItYourselferMagazineInHome",
         "type": "\"string\""
        },
        {
         "metadata": "{}",
         "name": "CommercialData_DonatesEnvironmentCauseInHome",
         "type": "\"string\""
        },
        {
         "metadata": "{}",
         "name": "CommercialData_DonatesToCharityInHome",
         "type": "\"string\""
        },
        {
         "metadata": "{}",
         "name": "CommercialData_DwellingType",
         "type": "\"string\""
        },
        {
         "metadata": "{}",
         "name": "CommercialData_DwellingUnitSize",
         "type": "\"string\""
        },
        {
         "metadata": "{}",
         "name": "CommercialData_Education",
         "type": "\"string\""
        },
        {
         "metadata": "{}",
         "name": "CommercialData_EstHomeValue",
         "type": "\"string\""
        },
        {
         "metadata": "{}",
         "name": "CommercialData_EstimatedHHIncome",
         "type": "\"string\""
        },
        {
         "metadata": "{}",
         "name": "CommercialData_EstimatedHHIncomeAmount",
         "type": "\"string\""
        },
        {
         "metadata": "{}",
         "name": "CommercialData_EstimatedAreaMedianHHIncome",
         "type": "\"string\""
        },
        {
         "metadata": "{}",
         "name": "CommercialData_FamilyMagazineInHome",
         "type": "\"string\""
        },
        {
         "metadata": "{}",
         "name": "CommercialData_FinancialMagazineInHome",
         "type": "\"string\""
        },
        {
         "metadata": "{}",
         "name": "CommercialData_HealthFitnessMagazineInHome",
         "type": "\"string\""
        },
        {
         "metadata": "{}",
         "name": "CommercialData_HHComposition",
         "type": "\"string\""
        },
        {
         "metadata": "{}",
         "name": "CommercialData_HomePurchaseDate",
         "type": "\"string\""
        },
        {
         "metadata": "{}",
         "name": "CommercialData_HomePurchasePrice",
         "type": "\"string\""
        },
        {
         "metadata": "{}",
         "name": "CommercialData_ISPSA",
         "type": "\"string\""
        },
        {
         "metadata": "{}",
         "name": "CommercialData_LandValue",
         "type": "\"string\""
        },
        {
         "metadata": "{}",
         "name": "CommercialData_LikelyUnion",
         "type": "\"string\""
        },
        {
         "metadata": "{}",
         "name": "CommercialData_AreaMedianEducationYears",
         "type": "\"string\""
        },
        {
         "metadata": "{}",
         "name": "CommercialData_AreaMedianHousingValue",
         "type": "\"string\""
        },
        {
         "metadata": "{}",
         "name": "CommercialData_MosaicZ4",
         "type": "\"string\""
        },
        {
         "metadata": "{}",
         "name": "CommercialData_MosaicZ4Global",
         "type": "\"string\""
        },
        {
         "metadata": "{}",
         "name": "CommercialData_Occupation",
         "type": "\"string\""
        },
        {
         "metadata": "{}",
         "name": "CommercialData_OccupationGroup",
         "type": "\"string\""
        },
        {
         "metadata": "{}",
         "name": "CommercialData_OccupationIndustry",
         "type": "\"string\""
        },
        {
         "metadata": "{}",
         "name": "CommercialData_AreaPcntHHMarriedCoupleNoChild",
         "type": "\"string\""
        },
        {
         "metadata": "{}",
         "name": "CommercialData_AreaPcntHHMarriedCoupleWithChild",
         "type": "\"string\""
        },
        {
         "metadata": "{}",
         "name": "CommercialData_AreaPcntHHSpanishSpeaking",
         "type": "\"string\""
        },
        {
         "metadata": "{}",
         "name": "CommercialData_AreaPcntHHWithChildren",
         "type": "\"string\""
        },
        {
         "metadata": "{}",
         "name": "CommercialData_PoliticalContributerInHome",
         "type": "\"string\""
        },
        {
         "metadata": "{}",
         "name": "CommercialData_PresenceOfChildrenCode",
         "type": "\"string\""
        },
        {
         "metadata": "{}",
         "name": "CommercialData_PresenceOfPremCredCrdInHome",
         "type": "\"string\""
        },
        {
         "metadata": "{}",
         "name": "CommercialData_PropertyType",
         "type": "\"string\""
        },
        {
         "metadata": "{}",
         "name": "CommercialData_ReligiousContributorInHome",
         "type": "\"string\""
        },
        {
         "metadata": "{}",
         "name": "CommercialData_StateIncomeDecile",
         "type": "\"string\""
        },
        {
         "metadata": "{}",
         "name": "CommercialData_UpscaleFemaleBuyerInHome",
         "type": "\"string\""
        },
        {
         "metadata": "{}",
         "name": "CommercialDataLL_Buyer_Art_In_Household",
         "type": "\"string\""
        },
        {
         "metadata": "{}",
         "name": "CommercialDataLL_Collector_Antiques_In_Household",
         "type": "\"string\""
        },
        {
         "metadata": "{}",
         "name": "CommercialDataLL_Collector_Avid_In_Household",
         "type": "\"string\""
        },
        {
         "metadata": "{}",
         "name": "CommercialDataLL_Collector_Coins_In_Household",
         "type": "\"string\""
        },
        {
         "metadata": "{}",
         "name": "CommercialDataLL_Collector_General_In_Household",
         "type": "\"string\""
        },
        {
         "metadata": "{}",
         "name": "CommercialDataLL_Donates_to_Childrens_Causes",
         "type": "\"string\""
        },
        {
         "metadata": "{}",
         "name": "CommercialDataLL_Donates_to_Healthcare",
         "type": "\"string\""
        },
        {
         "metadata": "{}",
         "name": "CommercialDataLL_Donates_to_Local_Community",
         "type": "\"string\""
        },
        {
         "metadata": "{}",
         "name": "CommercialDataLL_Donates_to_Wildlife_Preservation",
         "type": "\"string\""
        },
        {
         "metadata": "{}",
         "name": "CommercialDataLL_Gun_Owner",
         "type": "\"string\""
        },
        {
         "metadata": "{}",
         "name": "CommercialDataLL_Home_Office",
         "type": "\"string\""
        },
        {
         "metadata": "{}",
         "name": "CommercialDataLL_Home_Owner_Or_Renter",
         "type": "\"string\""
        },
        {
         "metadata": "{}",
         "name": "CommercialDataLL_Household_Primary_Language",
         "type": "\"string\""
        },
        {
         "metadata": "{}",
         "name": "CommercialDataLL_Interest_in_Auto_Work_In_Household",
         "type": "\"string\""
        },
        {
         "metadata": "{}",
         "name": "CommercialDataLL_Interest_in_Automotive_Parts_Accessories_In_Household",
         "type": "\"string\""
        },
        {
         "metadata": "{}",
         "name": "CommercialDataLL_Interest_in_Boating_Sailing_In_Household",
         "type": "\"string\""
        },
        {
         "metadata": "{}",
         "name": "CommercialDataLL_Interest_in_Camping_Hiking_In_Household",
         "type": "\"string\""
        },
        {
         "metadata": "{}",
         "name": "CommercialDataLL_Interest_in_Cooking_General_In_Household",
         "type": "\"string\""
        },
        {
         "metadata": "{}",
         "name": "CommercialDataLL_Interest_in_Cooking_Gourmet_In_Household",
         "type": "\"string\""
        },
        {
         "metadata": "{}",
         "name": "CommercialDataLL_Interest_in_Crafts_In_Household",
         "type": "\"string\""
        },
        {
         "metadata": "{}",
         "name": "CommercialDataLL_Interest_in_Current_Affairs_Politics_In_Household",
         "type": "\"string\""
        },
        {
         "metadata": "{}",
         "name": "CommercialDataLL_Interest_in_Education_Online_In_Household",
         "type": "\"string\""
        },
        {
         "metadata": "{}",
         "name": "CommercialDataLL_Interest_in_Exercise_Health_In_Household",
         "type": "\"string\""
        },
        {
         "metadata": "{}",
         "name": "CommercialDataLL_Interest_in_Exercise_Walking_In_Household",
         "type": "\"string\""
        },
        {
         "metadata": "{}",
         "name": "CommercialDataLL_Interest_in_Fishing_In_Household",
         "type": "\"string\""
        },
        {
         "metadata": "{}",
         "name": "CommercialDataLL_Interest_in_Foods_Natural_In_Household",
         "type": "\"string\""
        },
        {
         "metadata": "{}",
         "name": "CommercialDataLL_Interest_in_Gardening_In_Household",
         "type": "\"string\""
        },
        {
         "metadata": "{}",
         "name": "CommercialDataLL_Interest_in_Golf_In_Household",
         "type": "\"string\""
        },
        {
         "metadata": "{}",
         "name": "CommercialDataLL_Interest_in_Home_Furnishings_In_Household",
         "type": "\"string\""
        },
        {
         "metadata": "{}",
         "name": "CommercialDataLL_Interest_in_Home_Improvement_In_Household",
         "type": "\"string\""
        },
        {
         "metadata": "{}",
         "name": "CommercialDataLL_Interest_in_Nascar_In_Household",
         "type": "\"string\""
        },
        {
         "metadata": "{}",
         "name": "CommercialDataLL_Interest_in_Photography_In_Household",
         "type": "\"string\""
        },
        {
         "metadata": "{}",
         "name": "CommercialDataLL_Interest_in_Religious_Inspirational_In_Household",
         "type": "\"string\""
        },
        {
         "metadata": "{}",
         "name": "CommercialDataLL_Interest_in_Sewing_Knitting_In_Household",
         "type": "\"string\""
        },
        {
         "metadata": "{}",
         "name": "CommercialDataLL_Interest_in_Shooting_In_Household",
         "type": "\"string\""
        },
        {
         "metadata": "{}",
         "name": "CommercialDataLL_Interest_in_SpectatorSports_Auto_Racing_In_Household",
         "type": "\"string\""
        },
        {
         "metadata": "{}",
         "name": "CommercialDataLL_Interest_in_SpectatorSports_Baseball_In_Household",
         "type": "\"string\""
        },
        {
         "metadata": "{}",
         "name": "CommercialDataLL_Interest_in_SpectatorSports_Basketball_In_Household",
         "type": "\"string\""
        },
        {
         "metadata": "{}",
         "name": "CommercialDataLL_Interest_in_SpectatorSports_Football_In_Household",
         "type": "\"string\""
        },
        {
         "metadata": "{}",
         "name": "CommercialDataLL_Interest_in_SpectatorSports_on_TV_In_Household",
         "type": "\"string\""
        },
        {
         "metadata": "{}",
         "name": "CommercialDataLL_Interest_in_Sports_Leisure_In_Household",
         "type": "\"string\""
        },
        {
         "metadata": "{}",
         "name": "CommercialDataLL_Interest_in_Sweepstakes_Contests_In_Household",
         "type": "\"string\""
        },
        {
         "metadata": "{}",
         "name": "CommercialDataLL_Interest_in_the_Arts_In_Household",
         "type": "\"string\""
        },
        {
         "metadata": "{}",
         "name": "CommercialDataLL_Interest_in_Theater_Performing_Arts_In_Household",
         "type": "\"string\""
        },
        {
         "metadata": "{}",
         "name": "CommercialDataLL_Interest_in_Travel_Cruise_In_Household",
         "type": "\"string\""
        },
        {
         "metadata": "{}",
         "name": "CommercialDataLL_Interest_in_Travel_Domestic_In_Household",
         "type": "\"string\""
        },
        {
         "metadata": "{}",
         "name": "CommercialDataLL_Interest_in_Woodworking_In_Household",
         "type": "\"string\""
        },
        {
         "metadata": "{}",
         "name": "CommercialDataLL_Investor",
         "type": "\"string\""
        },
        {
         "metadata": "{}",
         "name": "CommercialDataLL_HH_Net_Worth",
         "type": "\"string\""
        },
        {
         "metadata": "{}",
         "name": "CommercialDataLL_PetOwner_Cat",
         "type": "\"string\""
        },
        {
         "metadata": "{}",
         "name": "CommercialDataLL_PetOwner_Dog",
         "type": "\"string\""
        },
        {
         "metadata": "{}",
         "name": "CommercialDataLL_PetOwner_Other",
         "type": "\"string\""
        },
        {
         "metadata": "{}",
         "name": "ElectionReturns_G08_Cnty_Margin_McCain_R",
         "type": "\"string\""
        },
        {
         "metadata": "{}",
         "name": "ElectionReturns_G08_Cnty_Percent_McCain_R",
         "type": "\"string\""
        },
        {
         "metadata": "{}",
         "name": "ElectionReturns_G08_Cnty_Vote_McCain_R",
         "type": "\"long\""
        },
        {
         "metadata": "{}",
         "name": "ElectionReturns_G08_Cnty_Margin_Obama_D",
         "type": "\"string\""
        },
        {
         "metadata": "{}",
         "name": "ElectionReturns_G08_Cnty_Percent_Obama_D",
         "type": "\"string\""
        },
        {
         "metadata": "{}",
         "name": "ElectionReturns_G08_Cnty_Vote_Obama_D",
         "type": "\"long\""
        },
        {
         "metadata": "{}",
         "name": "ElectionReturns_G08CountyTurnoutAllRegisteredVoters",
         "type": "\"string\""
        },
        {
         "metadata": "{}",
         "name": "ElectionReturns_G08CountyTurnoutDemocrats",
         "type": "\"string\""
        },
        {
         "metadata": "{}",
         "name": "ElectionReturns_G08CountyTurnoutIndependentsAllOthers",
         "type": "\"string\""
        },
        {
         "metadata": "{}",
         "name": "ElectionReturns_G08CountyTurnoutRepublicans",
         "type": "\"string\""
        },
        {
         "metadata": "{}",
         "name": "ElectionReturns_G08PrecinctTurnoutAllRegisteredVoters",
         "type": "\"string\""
        },
        {
         "metadata": "{}",
         "name": "ElectionReturns_G08PrecinctTurnoutDemocrats",
         "type": "\"string\""
        },
        {
         "metadata": "{}",
         "name": "ElectionReturns_G08PrecinctTurnoutIndependentsAllOthers",
         "type": "\"string\""
        },
        {
         "metadata": "{}",
         "name": "ElectionReturns_G08PrecinctTurnoutRepublicans",
         "type": "\"string\""
        },
        {
         "metadata": "{}",
         "name": "ElectionReturns_G10CountyTurnoutAllRegisteredVoters",
         "type": "\"string\""
        },
        {
         "metadata": "{}",
         "name": "ElectionReturns_G10CountyTurnoutDemocrats",
         "type": "\"string\""
        },
        {
         "metadata": "{}",
         "name": "ElectionReturns_G10CountyTurnoutIndependentsAllOthers",
         "type": "\"string\""
        },
        {
         "metadata": "{}",
         "name": "ElectionReturns_G10CountyTurnoutRepublicans",
         "type": "\"string\""
        },
        {
         "metadata": "{}",
         "name": "ElectionReturns_G10PrecinctTurnoutAllRegisteredVoters",
         "type": "\"string\""
        },
        {
         "metadata": "{}",
         "name": "ElectionReturns_G10PrecinctTurnoutDemocrats",
         "type": "\"string\""
        },
        {
         "metadata": "{}",
         "name": "ElectionReturns_G10PrecinctTurnoutIndependentsAllOthers",
         "type": "\"string\""
        },
        {
         "metadata": "{}",
         "name": "ElectionReturns_G10PrecinctTurnoutRepublicans",
         "type": "\"string\""
        },
        {
         "metadata": "{}",
         "name": "ElectionReturns_G12_Cnty_Margin_Obama_D",
         "type": "\"string\""
        },
        {
         "metadata": "{}",
         "name": "ElectionReturns_G12_Cnty_Percent_Obama_D",
         "type": "\"string\""
        },
        {
         "metadata": "{}",
         "name": "ElectionReturns_G12_Cnty_Vote_Obama_D",
         "type": "\"long\""
        },
        {
         "metadata": "{}",
         "name": "ElectionReturns_G12_Cnty_Margin_Romney_R",
         "type": "\"string\""
        },
        {
         "metadata": "{}",
         "name": "ElectionReturns_G12_Cnty_Percent_Romney_R",
         "type": "\"string\""
        },
        {
         "metadata": "{}",
         "name": "ElectionReturns_G12_Cnty_Vote_Romney_R",
         "type": "\"long\""
        },
        {
         "metadata": "{}",
         "name": "ElectionReturns_G12CountyTurnoutAllRegisteredVoters",
         "type": "\"string\""
        },
        {
         "metadata": "{}",
         "name": "ElectionReturns_G12CountyTurnoutDemocrats",
         "type": "\"string\""
        },
        {
         "metadata": "{}",
         "name": "ElectionReturns_G12CountyTurnoutIndependentsAllOthers",
         "type": "\"string\""
        },
        {
         "metadata": "{}",
         "name": "ElectionReturns_G12CountyTurnoutRepublicans",
         "type": "\"string\""
        },
        {
         "metadata": "{}",
         "name": "ElectionReturns_G12PrecinctTurnoutAllRegisteredVoters",
         "type": "\"string\""
        },
        {
         "metadata": "{}",
         "name": "ElectionReturns_G12PrecinctTurnoutDemocrats",
         "type": "\"string\""
        },
        {
         "metadata": "{}",
         "name": "ElectionReturns_G12PrecinctTurnoutIndependentsAllOthers",
         "type": "\"string\""
        },
        {
         "metadata": "{}",
         "name": "ElectionReturns_G12PrecinctTurnoutRepublicans",
         "type": "\"string\""
        },
        {
         "metadata": "{}",
         "name": "ElectionReturns_G14CountyTurnoutAllRegisteredVoters",
         "type": "\"string\""
        },
        {
         "metadata": "{}",
         "name": "ElectionReturns_G14CountyTurnoutDemocrats",
         "type": "\"string\""
        },
        {
         "metadata": "{}",
         "name": "ElectionReturns_G14CountyTurnoutIndependentsAllOthers",
         "type": "\"string\""
        },
        {
         "metadata": "{}",
         "name": "ElectionReturns_G14CountyTurnoutRepublicans",
         "type": "\"string\""
        },
        {
         "metadata": "{}",
         "name": "ElectionReturns_G14PrecinctTurnoutAllRegisteredVoters",
         "type": "\"string\""
        },
        {
         "metadata": "{}",
         "name": "ElectionReturns_G14PrecinctTurnoutDemocrats",
         "type": "\"string\""
        },
        {
         "metadata": "{}",
         "name": "ElectionReturns_G14PrecinctTurnoutIndependentsAllOthers",
         "type": "\"string\""
        },
        {
         "metadata": "{}",
         "name": "ElectionReturns_G14PrecinctTurnoutRepublicans",
         "type": "\"string\""
        },
        {
         "metadata": "{}",
         "name": "ElectionReturns_G16_Cnty_Margin_Clinton_D",
         "type": "\"string\""
        },
        {
         "metadata": "{}",
         "name": "ElectionReturns_G16_Cnty_Percent_Clinton_D",
         "type": "\"string\""
        },
        {
         "metadata": "{}",
         "name": "ElectionReturns_G16_Cnty_Vote_Clinton_D",
         "type": "\"long\""
        },
        {
         "metadata": "{}",
         "name": "ElectionReturns_G16_Cnty_Margin_Trump_R",
         "type": "\"string\""
        },
        {
         "metadata": "{}",
         "name": "ElectionReturns_G16_Cnty_Percent_Trump_R",
         "type": "\"string\""
        },
        {
         "metadata": "{}",
         "name": "ElectionReturns_G16_Cnty_Vote_Trump_R",
         "type": "\"long\""
        },
        {
         "metadata": "{}",
         "name": "ElectionReturns_G16CountyTurnoutAllRegisteredVoters",
         "type": "\"string\""
        },
        {
         "metadata": "{}",
         "name": "ElectionReturns_G16CountyTurnoutDemocrats",
         "type": "\"string\""
        },
        {
         "metadata": "{}",
         "name": "ElectionReturns_G16CountyTurnoutIndependentsAllOthers",
         "type": "\"string\""
        },
        {
         "metadata": "{}",
         "name": "ElectionReturns_G16CountyTurnoutRepublicans",
         "type": "\"string\""
        },
        {
         "metadata": "{}",
         "name": "ElectionReturns_G16PrecinctTurnoutAllRegisteredVoters",
         "type": "\"string\""
        },
        {
         "metadata": "{}",
         "name": "ElectionReturns_G16PrecinctTurnoutDemocrats",
         "type": "\"string\""
        },
        {
         "metadata": "{}",
         "name": "ElectionReturns_G16PrecinctTurnoutIndependentsAllOthers",
         "type": "\"string\""
        },
        {
         "metadata": "{}",
         "name": "ElectionReturns_G16PrecinctTurnoutRepublicans",
         "type": "\"string\""
        },
        {
         "metadata": "{}",
         "name": "ElectionReturns_G18CountyTurnoutAllRegisteredVoters",
         "type": "\"string\""
        },
        {
         "metadata": "{}",
         "name": "ElectionReturns_G18CountyTurnoutDemocrats",
         "type": "\"string\""
        },
        {
         "metadata": "{}",
         "name": "ElectionReturns_G18CountyTurnoutIndependentsAllOthers",
         "type": "\"string\""
        },
        {
         "metadata": "{}",
         "name": "ElectionReturns_G18CountyTurnoutRepublicans",
         "type": "\"string\""
        },
        {
         "metadata": "{}",
         "name": "ElectionReturns_G18PrecinctTurnoutAllRegisteredVoters",
         "type": "\"string\""
        },
        {
         "metadata": "{}",
         "name": "ElectionReturns_G18PrecinctTurnoutDemocrats",
         "type": "\"string\""
        },
        {
         "metadata": "{}",
         "name": "ElectionReturns_G18PrecinctTurnoutIndependentsAllOthers",
         "type": "\"string\""
        },
        {
         "metadata": "{}",
         "name": "ElectionReturns_G18PrecinctTurnoutRepublicans",
         "type": "\"string\""
        },
        {
         "metadata": "{}",
         "name": "ElectionReturns_P08_Cnty_Pct_Biden_D",
         "type": "\"string\""
        },
        {
         "metadata": "{}",
         "name": "ElectionReturns_P08_Cnty_Pct_Clinton_D",
         "type": "\"string\""
        },
        {
         "metadata": "{}",
         "name": "ElectionReturns_P08_Cnty_Pct_Dodd_D",
         "type": "\"string\""
        },
        {
         "metadata": "{}",
         "name": "ElectionReturns_P08_Cnty_Pct_Edwards_D",
         "type": "\"string\""
        },
        {
         "metadata": "{}",
         "name": "ElectionReturns_P08_Cnty_Pct_Gravel_D",
         "type": "\"string\""
        },
        {
         "metadata": "{}",
         "name": "ElectionReturns_P08_Cnty_Pct_Kucinich_D",
         "type": "\"string\""
        },
        {
         "metadata": "{}",
         "name": "ElectionReturns_P08_Cnty_Pct_Obama_D",
         "type": "\"string\""
        },
        {
         "metadata": "{}",
         "name": "ElectionReturns_P08_Cnty_Pct_Richardson_D",
         "type": "\"string\""
        },
        {
         "metadata": "{}",
         "name": "ElectionReturns_P08_Cnty_Vote_Biden_D",
         "type": "\"long\""
        },
        {
         "metadata": "{}",
         "name": "ElectionReturns_P08_Cnty_Vote_Clinton_D",
         "type": "\"long\""
        },
        {
         "metadata": "{}",
         "name": "ElectionReturns_P08_Cnty_Vote_Dodd_D",
         "type": "\"long\""
        },
        {
         "metadata": "{}",
         "name": "ElectionReturns_P08_Cnty_Vote_Edwards_D",
         "type": "\"long\""
        },
        {
         "metadata": "{}",
         "name": "ElectionReturns_P08_Cnty_Vote_Gravel_D",
         "type": "\"long\""
        },
        {
         "metadata": "{}",
         "name": "ElectionReturns_P08_Cnty_Vote_Kucinich_D",
         "type": "\"long\""
        },
        {
         "metadata": "{}",
         "name": "ElectionReturns_P08_Cnty_Vote_Obama_D",
         "type": "\"long\""
        },
        {
         "metadata": "{}",
         "name": "ElectionReturns_P08_Cnty_Vote_Richardson_D",
         "type": "\"long\""
        },
        {
         "metadata": "{}",
         "name": "ElectionReturns_P08_Cnty_Pct_Giuliani_R",
         "type": "\"string\""
        },
        {
         "metadata": "{}",
         "name": "ElectionReturns_P08_Cnty_Pct_Huckabee_R",
         "type": "\"string\""
        },
        {
         "metadata": "{}",
         "name": "ElectionReturns_P08_Cnty_Pct_Hunter_R",
         "type": "\"string\""
        },
        {
         "metadata": "{}",
         "name": "ElectionReturns_P08_Cnty_Pct_Keyes_R",
         "type": "\"string\""
        },
        {
         "metadata": "{}",
         "name": "ElectionReturns_P08_Cnty_Pct_McCain_R",
         "type": "\"string\""
        },
        {
         "metadata": "{}",
         "name": "ElectionReturns_P08_Cnty_Pct_Paul_R",
         "type": "\"string\""
        },
        {
         "metadata": "{}",
         "name": "ElectionReturns_P08_Cnty_Pct_Romney_R",
         "type": "\"string\""
        },
        {
         "metadata": "{}",
         "name": "ElectionReturns_P08_Cnty_Pct_Thompson_R",
         "type": "\"string\""
        },
        {
         "metadata": "{}",
         "name": "ElectionReturns_P08_Cnty_Vote_Giuliani_R",
         "type": "\"long\""
        },
        {
         "metadata": "{}",
         "name": "ElectionReturns_P08_Cnty_Vote_Huckabee_R",
         "type": "\"long\""
        },
        {
         "metadata": "{}",
         "name": "ElectionReturns_P08_Cnty_Vote_Hunter_R",
         "type": "\"long\""
        },
        {
         "metadata": "{}",
         "name": "ElectionReturns_P08_Cnty_Vote_Keyes_R",
         "type": "\"long\""
        },
        {
         "metadata": "{}",
         "name": "ElectionReturns_P08_Cnty_Vote_McCain_R",
         "type": "\"long\""
        },
        {
         "metadata": "{}",
         "name": "ElectionReturns_P08_Cnty_Vote_Paul_R",
         "type": "\"long\""
        },
        {
         "metadata": "{}",
         "name": "ElectionReturns_P08_Cnty_Vote_Romney_R",
         "type": "\"long\""
        },
        {
         "metadata": "{}",
         "name": "ElectionReturns_P08_Cnty_Vote_Thompson_R",
         "type": "\"long\""
        },
        {
         "metadata": "{}",
         "name": "ElectionReturns_P08CountyTurnoutAllRegisteredVoters",
         "type": "\"string\""
        },
        {
         "metadata": "{}",
         "name": "ElectionReturns_P08CountyTurnoutDemocrats",
         "type": "\"string\""
        },
        {
         "metadata": "{}",
         "name": "ElectionReturns_P08CountyTurnoutRepublicans",
         "type": "\"string\""
        },
        {
         "metadata": "{}",
         "name": "ElectionReturns_P08PrecinctTurnoutAllRegisteredVoters",
         "type": "\"string\""
        },
        {
         "metadata": "{}",
         "name": "ElectionReturns_P08PrecinctTurnoutDemocrats",
         "type": "\"string\""
        },
        {
         "metadata": "{}",
         "name": "ElectionReturns_P08PrecinctTurnoutRepublicans",
         "type": "\"string\""
        },
        {
         "metadata": "{}",
         "name": "ElectionReturns_P10CountyTurnoutAllRegisteredVoters",
         "type": "\"string\""
        },
        {
         "metadata": "{}",
         "name": "ElectionReturns_P10CountyTurnoutDemocrats",
         "type": "\"string\""
        },
        {
         "metadata": "{}",
         "name": "ElectionReturns_P10CountyTurnoutRepublicans",
         "type": "\"string\""
        },
        {
         "metadata": "{}",
         "name": "ElectionReturns_P10PrecinctTurnoutAllRegisteredVoters",
         "type": "\"string\""
        },
        {
         "metadata": "{}",
         "name": "ElectionReturns_P10PrecinctTurnoutDemocrats",
         "type": "\"string\""
        },
        {
         "metadata": "{}",
         "name": "ElectionReturns_P10PrecinctTurnoutRepublicans",
         "type": "\"string\""
        },
        {
         "metadata": "{}",
         "name": "ElectionReturns_P12_Cnty_Pct_Bachman_R",
         "type": "\"string\""
        },
        {
         "metadata": "{}",
         "name": "ElectionReturns_P12_Cnty_Pct_Gingrich_R",
         "type": "\"string\""
        },
        {
         "metadata": "{}",
         "name": "ElectionReturns_P12_Cnty_Pct_Huntsman_R",
         "type": "\"string\""
        },
        {
         "metadata": "{}",
         "name": "ElectionReturns_P12_Cnty_Pct_Paul_R",
         "type": "\"string\""
        },
        {
         "metadata": "{}",
         "name": "ElectionReturns_P12_Cnty_Pct_Perry_R",
         "type": "\"string\""
        },
        {
         "metadata": "{}",
         "name": "ElectionReturns_P12_Cnty_Pct_Romney_R",
         "type": "\"string\""
        },
        {
         "metadata": "{}",
         "name": "ElectionReturns_P12_Cnty_Pct_Santorum_R",
         "type": "\"string\""
        },
        {
         "metadata": "{}",
         "name": "ElectionReturns_P12_Cnty_Vote_Bachman_R",
         "type": "\"long\""
        },
        {
         "metadata": "{}",
         "name": "ElectionReturns_P12_Cnty_Vote_Gingrich_R",
         "type": "\"long\""
        },
        {
         "metadata": "{}",
         "name": "ElectionReturns_P12_Cnty_Vote_Huntsman_R",
         "type": "\"long\""
        },
        {
         "metadata": "{}",
         "name": "ElectionReturns_P12_Cnty_Vote_Paul_R",
         "type": "\"long\""
        },
        {
         "metadata": "{}",
         "name": "ElectionReturns_P12_Cnty_Vote_Perry_R",
         "type": "\"long\""
        },
        {
         "metadata": "{}",
         "name": "ElectionReturns_P12_Cnty_Vote_Romney_R",
         "type": "\"long\""
        },
        {
         "metadata": "{}",
         "name": "ElectionReturns_P12_Cnty_Vote_Santorum_R",
         "type": "\"long\""
        },
        {
         "metadata": "{}",
         "name": "ElectionReturns_P12CountyTurnoutAllRegisteredVoters",
         "type": "\"string\""
        },
        {
         "metadata": "{}",
         "name": "ElectionReturns_P12CountyTurnoutDemocrats",
         "type": "\"string\""
        },
        {
         "metadata": "{}",
         "name": "ElectionReturns_P12CountyTurnoutRepublicans",
         "type": "\"string\""
        },
        {
         "metadata": "{}",
         "name": "ElectionReturns_P12PrecinctTurnoutAllRegisteredVoters",
         "type": "\"string\""
        },
        {
         "metadata": "{}",
         "name": "ElectionReturns_P12PrecinctTurnoutDemocrats",
         "type": "\"string\""
        },
        {
         "metadata": "{}",
         "name": "ElectionReturns_P12PrecinctTurnoutRepublicans",
         "type": "\"string\""
        },
        {
         "metadata": "{}",
         "name": "ElectionReturns_P14CountyTurnoutAllRegisteredVoters",
         "type": "\"string\""
        },
        {
         "metadata": "{}",
         "name": "ElectionReturns_P14CountyTurnoutDemocrats",
         "type": "\"string\""
        },
        {
         "metadata": "{}",
         "name": "ElectionReturns_P14CountyTurnoutRepublicans",
         "type": "\"string\""
        },
        {
         "metadata": "{}",
         "name": "ElectionReturns_P14PrecinctTurnoutAllRegisteredVoters",
         "type": "\"string\""
        },
        {
         "metadata": "{}",
         "name": "ElectionReturns_P14PrecinctTurnoutDemocrats",
         "type": "\"string\""
        },
        {
         "metadata": "{}",
         "name": "ElectionReturns_P14PrecinctTurnoutRepublicans",
         "type": "\"string\""
        },
        {
         "metadata": "{}",
         "name": "ElectionReturns_P16_Cnty_Pct_Bush_R",
         "type": "\"string\""
        },
        {
         "metadata": "{}",
         "name": "ElectionReturns_P16_Cnty_Pct_Carson_R",
         "type": "\"string\""
        },
        {
         "metadata": "{}",
         "name": "ElectionReturns_P16_Cnty_Pct_Christie_R",
         "type": "\"string\""
        },
        {
         "metadata": "{}",
         "name": "ElectionReturns_P16_Cnty_Pct_Cruz_R",
         "type": "\"string\""
        },
        {
         "metadata": "{}",
         "name": "ElectionReturns_P16_Cnty_Pct_Fiorina_R",
         "type": "\"string\""
        },
        {
         "metadata": "{}",
         "name": "ElectionReturns_P16_Cnty_Pct_Kasich_R",
         "type": "\"string\""
        },
        {
         "metadata": "{}",
         "name": "ElectionReturns_P16_Cnty_Pct_Rubio_R",
         "type": "\"string\""
        },
        {
         "metadata": "{}",
         "name": "ElectionReturns_P16_Cnty_Pct_Trump_R",
         "type": "\"string\""
        },
        {
         "metadata": "{}",
         "name": "ElectionReturns_P16_Cnty_Vote_Bush_R",
         "type": "\"long\""
        },
        {
         "metadata": "{}",
         "name": "ElectionReturns_P16_Cnty_Vote_Carson_R",
         "type": "\"long\""
        },
        {
         "metadata": "{}",
         "name": "ElectionReturns_P16_Cnty_Vote_Christie_R",
         "type": "\"long\""
        },
        {
         "metadata": "{}",
         "name": "ElectionReturns_P16_Cnty_Vote_Cruz_R",
         "type": "\"long\""
        },
        {
         "metadata": "{}",
         "name": "ElectionReturns_P16_Cnty_Vote_Fiorina_R",
         "type": "\"long\""
        },
        {
         "metadata": "{}",
         "name": "ElectionReturns_P16_Cnty_Vote_Kasich_R",
         "type": "\"long\""
        },
        {
         "metadata": "{}",
         "name": "ElectionReturns_P16_Cnty_Vote_Rubio_R",
         "type": "\"long\""
        },
        {
         "metadata": "{}",
         "name": "ElectionReturns_P16_Cnty_Vote_Trump_R",
         "type": "\"long\""
        },
        {
         "metadata": "{}",
         "name": "ElectionReturns_P16_Cnty_Pct_Clinton_D",
         "type": "\"string\""
        },
        {
         "metadata": "{}",
         "name": "ElectionReturns_P16_Cnty_Pct_Sanders_D",
         "type": "\"string\""
        },
        {
         "metadata": "{}",
         "name": "ElectionReturns_P16_Cnty_Vote_Clinton_D",
         "type": "\"long\""
        },
        {
         "metadata": "{}",
         "name": "ElectionReturns_P16_Cnty_Vote_Sanders_D",
         "type": "\"long\""
        },
        {
         "metadata": "{}",
         "name": "ElectionReturns_P16CountyTurnoutAllRegisteredVoters",
         "type": "\"string\""
        },
        {
         "metadata": "{}",
         "name": "ElectionReturns_P16CountyTurnoutDemocrats",
         "type": "\"string\""
        },
        {
         "metadata": "{}",
         "name": "ElectionReturns_P16CountyTurnoutRepublicans",
         "type": "\"string\""
        },
        {
         "metadata": "{}",
         "name": "ElectionReturns_P16PrecinctTurnoutAllRegisteredVoters",
         "type": "\"string\""
        },
        {
         "metadata": "{}",
         "name": "ElectionReturns_P16PrecinctTurnoutDemocrats",
         "type": "\"string\""
        },
        {
         "metadata": "{}",
         "name": "ElectionReturns_P16PrecinctTurnoutRepublicans",
         "type": "\"string\""
        },
        {
         "metadata": "{}",
         "name": "ElectionReturns_P18CountyTurnoutAllRegisteredVoters",
         "type": "\"string\""
        },
        {
         "metadata": "{}",
         "name": "ElectionReturns_P18CountyTurnoutDemocrats",
         "type": "\"string\""
        },
        {
         "metadata": "{}",
         "name": "ElectionReturns_P18CountyTurnoutRepublicans",
         "type": "\"string\""
        },
        {
         "metadata": "{}",
         "name": "ElectionReturns_P18PrecinctTurnoutAllRegisteredVoters",
         "type": "\"string\""
        },
        {
         "metadata": "{}",
         "name": "ElectionReturns_P18PrecinctTurnoutDemocrats",
         "type": "\"string\""
        },
        {
         "metadata": "{}",
         "name": "ElectionReturns_P18PrecinctTurnoutRepublicans",
         "type": "\"string\""
        },
        {
         "metadata": "{}",
         "name": "Voters_VotingPerformanceEvenYearGeneral",
         "type": "\"string\""
        },
        {
         "metadata": "{}",
         "name": "Voters_VotingPerformanceEvenYearPrimary",
         "type": "\"string\""
        },
        {
         "metadata": "{}",
         "name": "Voters_VotingPerformanceEvenYearGeneralAndPrimary",
         "type": "\"string\""
        },
        {
         "metadata": "{}",
         "name": "Voters_VotingPerformanceMinorElection",
         "type": "\"string\""
        },
        {
         "metadata": "{}",
         "name": "Primary_2020",
         "type": "\"string\""
        },
        {
         "metadata": "{}",
         "name": "PresidentialPrimary_2020",
         "type": "\"string\""
        },
        {
         "metadata": "{}",
         "name": "AnyElection_2019",
         "type": "\"string\""
        },
        {
         "metadata": "{}",
         "name": "General_2018",
         "type": "\"string\""
        },
        {
         "metadata": "{}",
         "name": "Primary_2018",
         "type": "\"string\""
        },
        {
         "metadata": "{}",
         "name": "OtherElection_2018",
         "type": "\"string\""
        },
        {
         "metadata": "{}",
         "name": "AnyElection_2017",
         "type": "\"string\""
        },
        {
         "metadata": "{}",
         "name": "General_2016",
         "type": "\"string\""
        },
        {
         "metadata": "{}",
         "name": "Primary_2016",
         "type": "\"string\""
        },
        {
         "metadata": "{}",
         "name": "PresidentialPrimary_2016",
         "type": "\"string\""
        },
        {
         "metadata": "{}",
         "name": "AnyElection_2015",
         "type": "\"string\""
        },
        {
         "metadata": "{}",
         "name": "General_2014",
         "type": "\"string\""
        },
        {
         "metadata": "{}",
         "name": "Primary_2014",
         "type": "\"string\""
        },
        {
         "metadata": "{}",
         "name": "AnyElection_2013",
         "type": "\"string\""
        },
        {
         "metadata": "{}",
         "name": "General_2012",
         "type": "\"string\""
        },
        {
         "metadata": "{}",
         "name": "Primary_2012",
         "type": "\"string\""
        },
        {
         "metadata": "{}",
         "name": "PresidentialPrimary_2012",
         "type": "\"string\""
        },
        {
         "metadata": "{}",
         "name": "AnyElection_2011",
         "type": "\"string\""
        },
        {
         "metadata": "{}",
         "name": "General_2010",
         "type": "\"string\""
        },
        {
         "metadata": "{}",
         "name": "Primary_2010",
         "type": "\"string\""
        },
        {
         "metadata": "{}",
         "name": "OtherElection_2010",
         "type": "\"string\""
        },
        {
         "metadata": "{}",
         "name": "AnyElection_2009",
         "type": "\"string\""
        },
        {
         "metadata": "{}",
         "name": "General_2008",
         "type": "\"string\""
        },
        {
         "metadata": "{}",
         "name": "Primary_2008",
         "type": "\"string\""
        },
        {
         "metadata": "{}",
         "name": "PresidentialPrimary_2008",
         "type": "\"string\""
        },
        {
         "metadata": "{}",
         "name": "AnyElection_2007",
         "type": "\"string\""
        },
        {
         "metadata": "{}",
         "name": "General_2006",
         "type": "\"string\""
        },
        {
         "metadata": "{}",
         "name": "Primary_2006",
         "type": "\"string\""
        },
        {
         "metadata": "{}",
         "name": "AnyElection_2005",
         "type": "\"string\""
        },
        {
         "metadata": "{}",
         "name": "General_2004",
         "type": "\"string\""
        },
        {
         "metadata": "{}",
         "name": "Primary_2004",
         "type": "\"string\""
        },
        {
         "metadata": "{}",
         "name": "PresidentialPrimary_2004",
         "type": "\"string\""
        },
        {
         "metadata": "{}",
         "name": "AnyElection_2003",
         "type": "\"string\""
        },
        {
         "metadata": "{}",
         "name": "General_2002",
         "type": "\"string\""
        },
        {
         "metadata": "{}",
         "name": "Primary_2002",
         "type": "\"string\""
        },
        {
         "metadata": "{}",
         "name": "AnyElection_2001",
         "type": "\"string\""
        },
        {
         "metadata": "{}",
         "name": "General_2000",
         "type": "\"string\""
        },
        {
         "metadata": "{}",
         "name": "Primary_2000",
         "type": "\"string\""
        },
        {
         "metadata": "{}",
         "name": "PresidentialPrimary_2000",
         "type": "\"string\""
        },
        {
         "metadata": "{}",
         "name": "PRI_BLT_2020",
         "type": "\"string\""
        },
        {
         "metadata": "{}",
         "name": "PRI_BLT_2018",
         "type": "\"string\""
        },
        {
         "metadata": "{}",
         "name": "PRI_BLT_2016",
         "type": "\"string\""
        },
        {
         "metadata": "{}",
         "name": "PRI_BLT_2014",
         "type": "\"string\""
        },
        {
         "metadata": "{}",
         "name": "PRI_BLT_2012",
         "type": "\"string\""
        },
        {
         "metadata": "{}",
         "name": "PRI_BLT_2010",
         "type": "\"string\""
        },
        {
         "metadata": "{}",
         "name": "PRI_BLT_2008",
         "type": "\"string\""
        },
        {
         "metadata": "{}",
         "name": "PRI_BLT_2006",
         "type": "\"string\""
        },
        {
         "metadata": "{}",
         "name": "PRI_BLT_2004",
         "type": "\"string\""
        },
        {
         "metadata": "{}",
         "name": "PRI_BLT_2002",
         "type": "\"string\""
        },
        {
         "metadata": "{}",
         "name": "PRI_BLT_2000",
         "type": "\"string\""
        },
        {
         "metadata": "{}",
         "name": "_rescued_data",
         "type": "\"string\""
        }
       ],
       "type": "table"
      }
     },
     "output_type": "display_data"
    }
   ],
   "source": [
    "%sql\n",
    "SELECT * \n",
    "FROM `pstat135_finalproject`.default.ma_voter\n",
    "LIMIT 5;"
   ]
  },
  {
   "cell_type": "code",
   "execution_count": 0,
   "metadata": {
    "application/vnd.databricks.v1+cell": {
     "cellMetadata": {
      "byteLimit": 2048000,
      "implicitDf": true,
      "rowLimit": 10000
     },
     "inputWidgets": {},
     "nuid": "cbebffe2-9e00-4f41-98dd-bfd4dbe4c087",
     "showTitle": false,
     "tableResultSettingsMap": {},
     "title": ""
    }
   },
   "outputs": [
    {
     "output_type": "display_data",
     "data": {
      "text/html": [
       "<style scoped>\n",
       "  .table-result-container {\n",
       "    max-height: 300px;\n",
       "    overflow: auto;\n",
       "  }\n",
       "  table, th, td {\n",
       "    border: 1px solid black;\n",
       "    border-collapse: collapse;\n",
       "  }\n",
       "  th, td {\n",
       "    padding: 5px;\n",
       "  }\n",
       "  th {\n",
       "    text-align: left;\n",
       "  }\n",
       "</style><div class='table-result-container'><table class='table-result'><thead style='background-color: white'><tr><th>min_age</th><th>max_age</th><th>avg_age</th></tr></thead><tbody><tr><td>22</td><td>103</td><td>53.9096</td></tr></tbody></table></div>"
      ]
     },
     "metadata": {
      "application/vnd.databricks.v1+output": {
       "addedWidgets": {},
       "aggData": [],
       "aggError": "",
       "aggOverflow": false,
       "aggSchema": [],
       "aggSeriesLimitReached": false,
       "aggType": "",
       "arguments": {},
       "columnCustomDisplayInfos": {},
       "data": [
        [
         "22",
         "103",
         "53.9096"
        ]
       ],
       "datasetInfos": [
        {
         "name": "_sqldf",
         "schema": {
          "fields": [
           {
            "metadata": {},
            "name": "min_age",
            "nullable": true,
            "type": "decimal(13,0)"
           },
           {
            "metadata": {},
            "name": "max_age",
            "nullable": true,
            "type": "decimal(13,0)"
           },
           {
            "metadata": {},
            "name": "avg_age",
            "nullable": true,
            "type": "decimal(17,4)"
           }
          ],
          "type": "struct"
         },
         "tableIdentifier": null,
         "typeStr": "pyspark.sql.dataframe.DataFrame"
        }
       ],
       "dbfsResultPath": null,
       "isJsonSchema": true,
       "metadata": {
        "createTempViewForImplicitDf": true,
        "dataframeName": "_sqldf",
        "executionCount": 7
       },
       "overflow": false,
       "plotOptions": {
        "customPlotOptions": {},
        "displayType": "table",
        "pivotAggregation": null,
        "pivotColumns": null,
        "xColumns": null,
        "yColumns": null
       },
       "removedWidgets": [],
       "schema": [
        {
         "metadata": "{}",
         "name": "min_age",
         "type": "\"decimal(13,0)\""
        },
        {
         "metadata": "{}",
         "name": "max_age",
         "type": "\"decimal(13,0)\""
        },
        {
         "metadata": "{}",
         "name": "avg_age",
         "type": "\"decimal(17,4)\""
        }
       ],
       "type": "table"
      }
     },
     "output_type": "display_data"
    }
   ],
   "source": [
    "%sql\n",
    "SELECT \n",
    "    MIN(FLOOR(DATEDIFF(CURRENT_DATE(), TO_DATE(Voters_BirthDate, 'MM/dd/yyyy')) / 365.25)) AS min_age,\n",
    "    MAX(FLOOR(DATEDIFF(CURRENT_DATE(), TO_DATE(Voters_BirthDate, 'MM/dd/yyyy')) / 365.25)) AS max_age,\n",
    "    AVG(FLOOR(DATEDIFF(CURRENT_DATE(), TO_DATE(Voters_BirthDate, 'MM/dd/yyyy')) / 365.25)) AS avg_age\n",
    "FROM `pstat135_finalproject`.default.ma_voter\n"
   ]
  },
  {
   "cell_type": "code",
   "execution_count": 0,
   "metadata": {
    "application/vnd.databricks.v1+cell": {
     "cellMetadata": {
      "byteLimit": 2048000,
      "implicitDf": true,
      "rowLimit": 10000
     },
     "inputWidgets": {},
     "nuid": "97d1b32a-d699-435e-bbf8-03643c7d9748",
     "showTitle": false,
     "tableResultSettingsMap": {},
     "title": ""
    }
   },
   "outputs": [
    {
     "output_type": "display_data",
     "data": {
      "text/html": [
       "<style scoped>\n",
       "  .table-result-container {\n",
       "    max-height: 300px;\n",
       "    overflow: auto;\n",
       "  }\n",
       "  table, th, td {\n",
       "    border: 1px solid black;\n",
       "    border-collapse: collapse;\n",
       "  }\n",
       "  th, td {\n",
       "    padding: 5px;\n",
       "  }\n",
       "  th {\n",
       "    text-align: left;\n",
       "  }\n",
       "</style><div class='table-result-container'><table class='table-result'><thead style='background-color: white'><tr><th>distinct_counties</th></tr></thead><tbody><tr><td>14</td></tr></tbody></table></div>"
      ]
     },
     "metadata": {
      "application/vnd.databricks.v1+output": {
       "addedWidgets": {},
       "aggData": [],
       "aggError": "",
       "aggOverflow": false,
       "aggSchema": [],
       "aggSeriesLimitReached": false,
       "aggType": "",
       "arguments": {},
       "columnCustomDisplayInfos": {},
       "data": [
        [
         14
        ]
       ],
       "datasetInfos": [
        {
         "name": "_sqldf",
         "schema": {
          "fields": [
           {
            "metadata": {},
            "name": "distinct_counties",
            "nullable": false,
            "type": "long"
           }
          ],
          "type": "struct"
         },
         "tableIdentifier": null,
         "typeStr": "pyspark.sql.dataframe.DataFrame"
        }
       ],
       "dbfsResultPath": null,
       "isJsonSchema": true,
       "metadata": {
        "createTempViewForImplicitDf": true,
        "dataframeName": "_sqldf",
        "executionCount": 8
       },
       "overflow": false,
       "plotOptions": {
        "customPlotOptions": {},
        "displayType": "table",
        "pivotAggregation": null,
        "pivotColumns": null,
        "xColumns": null,
        "yColumns": null
       },
       "removedWidgets": [],
       "schema": [
        {
         "metadata": "{}",
         "name": "distinct_counties",
         "type": "\"long\""
        }
       ],
       "type": "table"
      }
     },
     "output_type": "display_data"
    }
   ],
   "source": [
    "%sql\n",
    "SELECT COUNT(DISTINCT County) AS distinct_counties\n",
    "FROM `pstat135_finalproject`.default.ma_voter\n"
   ]
  },
  {
   "cell_type": "code",
   "execution_count": 0,
   "metadata": {
    "application/vnd.databricks.v1+cell": {
     "cellMetadata": {
      "byteLimit": 2048000,
      "implicitDf": true,
      "rowLimit": 10000
     },
     "inputWidgets": {},
     "nuid": "4510e16f-3f2b-45f7-93db-4e6bdd0b3749",
     "showTitle": false,
     "tableResultSettingsMap": {},
     "title": ""
    }
   },
   "outputs": [
    {
     "output_type": "display_data",
     "data": {
      "text/html": [
       "<style scoped>\n",
       "  .table-result-container {\n",
       "    max-height: 300px;\n",
       "    overflow: auto;\n",
       "  }\n",
       "  table, th, td {\n",
       "    border: 1px solid black;\n",
       "    border-collapse: collapse;\n",
       "  }\n",
       "  th, td {\n",
       "    padding: 5px;\n",
       "  }\n",
       "  th {\n",
       "    text-align: left;\n",
       "  }\n",
       "</style><div class='table-result-container'><table class='table-result'><thead style='background-color: white'><tr><th>Residence_HHParties_Description</th><th>num_voters</th></tr></thead><tbody><tr><td>Independent</td><td>98968</td></tr><tr><td>Democratic</td><td>47761</td></tr><tr><td>Democratic & Independent</td><td>44765</td></tr><tr><td>Republican & Independent</td><td>19422</td></tr><tr><td>Republican</td><td>10750</td></tr><tr><td>Democratic & Republican</td><td>3626</td></tr><tr><td>Democratic & Republican & Independent</td><td>3259</td></tr></tbody></table></div>"
      ]
     },
     "metadata": {
      "application/vnd.databricks.v1+output": {
       "addedWidgets": {},
       "aggData": [],
       "aggError": "",
       "aggOverflow": false,
       "aggSchema": [],
       "aggSeriesLimitReached": false,
       "aggType": "",
       "arguments": {},
       "columnCustomDisplayInfos": {},
       "data": [
        [
         "Independent",
         98968
        ],
        [
         "Democratic",
         47761
        ],
        [
         "Democratic & Independent",
         44765
        ],
        [
         "Republican & Independent",
         19422
        ],
        [
         "Republican",
         10750
        ],
        [
         "Democratic & Republican",
         3626
        ],
        [
         "Democratic & Republican & Independent",
         3259
        ]
       ],
       "datasetInfos": [
        {
         "name": "_sqldf",
         "schema": {
          "fields": [
           {
            "metadata": {},
            "name": "Residence_HHParties_Description",
            "nullable": true,
            "type": "string"
           },
           {
            "metadata": {},
            "name": "num_voters",
            "nullable": false,
            "type": "long"
           }
          ],
          "type": "struct"
         },
         "tableIdentifier": null,
         "typeStr": "pyspark.sql.dataframe.DataFrame"
        }
       ],
       "dbfsResultPath": null,
       "isJsonSchema": true,
       "metadata": {
        "createTempViewForImplicitDf": true,
        "dataframeName": "_sqldf",
        "executionCount": 9
       },
       "overflow": false,
       "plotOptions": {
        "customPlotOptions": {},
        "displayType": "table",
        "pivotAggregation": null,
        "pivotColumns": null,
        "xColumns": null,
        "yColumns": null
       },
       "removedWidgets": [],
       "schema": [
        {
         "metadata": "{}",
         "name": "Residence_HHParties_Description",
         "type": "\"string\""
        },
        {
         "metadata": "{}",
         "name": "num_voters",
         "type": "\"long\""
        }
       ],
       "type": "table"
      }
     },
     "output_type": "display_data"
    }
   ],
   "source": [
    "%sql\n",
    "SELECT Residence_HHParties_Description, COUNT(*) AS num_voters\n",
    "FROM `pstat135_finalproject`.default.ma_voter\n",
    "GROUP BY Residence_HHParties_Description\n",
    "ORDER BY num_voters DESC;"
   ]
  },
  {
   "cell_type": "code",
   "execution_count": 0,
   "metadata": {
    "application/vnd.databricks.v1+cell": {
     "cellMetadata": {
      "byteLimit": 2048000,
      "implicitDf": true,
      "rowLimit": 10000
     },
     "inputWidgets": {},
     "nuid": "891c24ed-cd10-4d17-b4e5-cbb71b4aa3bf",
     "showTitle": false,
     "tableResultSettingsMap": {},
     "title": ""
    }
   },
   "outputs": [
    {
     "output_type": "display_data",
     "data": {
      "text/html": [
       "<style scoped>\n",
       "  .table-result-container {\n",
       "    max-height: 300px;\n",
       "    overflow: auto;\n",
       "  }\n",
       "  table, th, td {\n",
       "    border: 1px solid black;\n",
       "    border-collapse: collapse;\n",
       "  }\n",
       "  th, td {\n",
       "    padding: 5px;\n",
       "  }\n",
       "  th {\n",
       "    text-align: left;\n",
       "  }\n",
       "</style><div class='table-result-container'><table class='table-result'><thead style='background-color: white'><tr><th>age_group</th><th>turnout_rate</th></tr></thead><tbody><tr><td>20s</td><td>0.21797593772116064</td></tr><tr><td>30s</td><td>0.4051609606540623</td></tr><tr><td>40s</td><td>0.529665071770335</td></tr><tr><td>50s</td><td>0.6134798294522794</td></tr><tr><td>60s</td><td>0.6862574582699229</td></tr><tr><td>70s</td><td>0.7592414632583766</td></tr><tr><td>80+</td><td>0.7280494712990937</td></tr></tbody></table></div>"
      ]
     },
     "metadata": {
      "application/vnd.databricks.v1+output": {
       "addedWidgets": {},
       "aggData": [],
       "aggError": "",
       "aggOverflow": false,
       "aggSchema": [],
       "aggSeriesLimitReached": false,
       "aggType": "",
       "arguments": {},
       "columnCustomDisplayInfos": {},
       "data": [
        [
         "20s",
         0.21797593772116064
        ],
        [
         "30s",
         0.4051609606540623
        ],
        [
         "40s",
         0.529665071770335
        ],
        [
         "50s",
         0.6134798294522794
        ],
        [
         "60s",
         0.6862574582699229
        ],
        [
         "70s",
         0.7592414632583766
        ],
        [
         "80+",
         0.7280494712990937
        ]
       ],
       "datasetInfos": [
        {
         "name": "_sqldf",
         "schema": {
          "fields": [
           {
            "metadata": {},
            "name": "age_group",
            "nullable": false,
            "type": "string"
           },
           {
            "metadata": {},
            "name": "turnout_rate",
            "nullable": true,
            "type": "double"
           }
          ],
          "type": "struct"
         },
         "tableIdentifier": null,
         "typeStr": "pyspark.sql.dataframe.DataFrame"
        }
       ],
       "dbfsResultPath": null,
       "isJsonSchema": true,
       "metadata": {
        "createTempViewForImplicitDf": true,
        "dataframeName": "_sqldf",
        "executionCount": 10
       },
       "overflow": false,
       "plotOptions": {
        "customPlotOptions": {},
        "displayType": "table",
        "pivotAggregation": null,
        "pivotColumns": null,
        "xColumns": null,
        "yColumns": null
       },
       "removedWidgets": [],
       "schema": [
        {
         "metadata": "{}",
         "name": "age_group",
         "type": "\"string\""
        },
        {
         "metadata": "{}",
         "name": "turnout_rate",
         "type": "\"double\""
        }
       ],
       "type": "table"
      }
     },
     "output_type": "display_data"
    },
    {
     "output_type": "display_data",
     "data": {
      "text/plain": [
       "Databricks visualization. Run in Databricks to view."
      ]
     },
     "metadata": {
      "application/vnd.databricks.v1.subcommand+json": {
       "baseErrorDetails": null,
       "bindings": {},
       "collapsed": false,
       "command": "%sql WITH q AS (SELECT\n  CASE\n    WHEN FLOOR(DATEDIFF(CURRENT_DATE(), TO_DATE(Voters_BirthDate, 'MM/dd/yyyy')) / 365.25) < 30 THEN '20s'\n    WHEN FLOOR(DATEDIFF(CURRENT_DATE(), TO_DATE(Voters_BirthDate, 'MM/dd/yyyy')) / 365.25) BETWEEN 30 AND 39 THEN '30s'\n    WHEN FLOOR(DATEDIFF(CURRENT_DATE(), TO_DATE(Voters_BirthDate, 'MM/dd/yyyy')) / 365.25) BETWEEN 40 AND 49 THEN '40s'\n    WHEN FLOOR(DATEDIFF(CURRENT_DATE(), TO_DATE(Voters_BirthDate, 'MM/dd/yyyy')) / 365.25) BETWEEN 50 AND 59 THEN '50s'\n    WHEN FLOOR(DATEDIFF(CURRENT_DATE(), TO_DATE(Voters_BirthDate, 'MM/dd/yyyy')) / 365.25) BETWEEN 60 AND 69 THEN '60s'\n    WHEN FLOOR(DATEDIFF(CURRENT_DATE(), TO_DATE(Voters_BirthDate, 'MM/dd/yyyy')) / 365.25) BETWEEN 70 AND 79 THEN '70s'\n    ELSE '80+'\n  END AS age_group,\n  \n  SUM(CASE WHEN General_2018 = 'Y' THEN 1 ELSE 0 END) / COUNT(*) AS turnout_rate\n\nFROM `pstat135_finalproject`.default.ma_voter\n\nWHERE Voters_BirthDate IS NOT NULL\n\nGROUP BY age_group\nORDER BY age_group) SELECT `age_group`,SUM(`turnout_rate`) `column_ad4ff22f203` FROM q GROUP BY `age_group`",
       "commandTitle": "Voter Turnout Rate by Age Group",
       "commandType": "auto",
       "commandVersion": 0,
       "commentThread": [],
       "commentsVisible": false,
       "contentSha256Hex": null,
       "customPlotOptions": {
        "redashChart": [
         {
          "key": "type",
          "value": "CHART"
         },
         {
          "key": "options",
          "value": {
           "alignYAxesAtZero": true,
           "coefficient": 1,
           "columnConfigurationMap": {
            "x": {
             "column": "age_group",
             "id": "column_ad4ff22f202"
            },
            "y": [
             {
              "column": "turnout_rate",
              "id": "column_ad4ff22f203",
              "transform": "SUM"
             }
            ]
           },
           "dateTimeFormat": "DD/MM/YYYY HH:mm",
           "direction": {
            "type": "counterclockwise"
           },
           "error_y": {
            "type": "data",
            "visible": true
           },
           "globalSeriesType": "line",
           "legend": {
            "traceorder": "normal"
           },
           "missingValuesAsZero": true,
           "numberFormat": "0,0.[00000]",
           "percentFormat": "0[.]00%",
           "series": {
            "error_y": {
             "type": "data",
             "visible": true
            },
            "stacking": null
           },
           "seriesOptions": {
            "column_ad4ff22f203": {
             "name": "turnout_rate",
             "type": "line",
             "yAxis": 0
            }
           },
           "showDataLabels": false,
           "sizemode": "diameter",
           "sortX": true,
           "sortY": true,
           "swappedAxes": false,
           "textFormat": "",
           "useAggregationsUi": true,
           "valuesOptions": {},
           "version": 2,
           "xAxis": {
            "labels": {
             "enabled": true
            },
            "type": "-"
           },
           "yAxis": [
            {
             "type": "-"
            },
            {
             "opposite": true,
             "type": "-"
            }
           ]
          }
         }
        ]
       },
       "datasetPreviewNameToCmdIdMap": {},
       "diffDeletes": [],
       "diffInserts": [],
       "displayType": "redashChart",
       "error": null,
       "errorDetails": null,
       "errorSummary": null,
       "errorTraceType": null,
       "finishTime": 0,
       "globalVars": {},
       "guid": "",
       "height": "auto",
       "hideCommandCode": false,
       "hideCommandResult": false,
       "iPythonMetadata": null,
       "inputWidgets": {},
       "isLockedInExamMode": false,
       "latestUser": "a user",
       "latestUserId": null,
       "listResultMetadata": null,
       "metadata": {
        "byteLimit": 2048000,
        "implicitDf": true,
        "rowLimit": 10000
       },
       "nuid": "29a7666c-70f0-4f34-9cdd-8a22bc41dad6",
       "origId": 0,
       "parentHierarchy": [],
       "pivotAggregation": null,
       "pivotColumns": null,
       "position": 1.0,
       "resultDbfsErrorMessage": null,
       "resultDbfsStatus": "INLINED_IN_TREE",
       "results": null,
       "showCommandTitle": false,
       "startTime": 0,
       "state": "input",
       "streamStates": {},
       "subcommandOptions": {
        "queryPlan": {
         "groups": [
          {
           "column": "age_group",
           "type": "column"
          }
         ],
         "selects": [
          {
           "column": "age_group",
           "type": "column"
          },
          {
           "alias": "column_ad4ff22f203",
           "args": [
            {
             "column": "turnout_rate",
             "type": "column"
            }
           ],
           "function": "SUM",
           "type": "function"
          }
         ]
        }
       },
       "submitTime": 0,
       "subtype": "tableResultSubCmd.visualization",
       "tableResultIndex": 0,
       "tableResultSettingsMap": {},
       "useConsistentColors": false,
       "version": "CommandV1",
       "width": "auto",
       "workflows": [],
       "xColumns": null,
       "yColumns": null
      }
     },
     "output_type": "display_data"
    }
   ],
   "source": [
    "%sql\n",
    "SELECT\n",
    "  CASE\n",
    "    WHEN FLOOR(DATEDIFF(CURRENT_DATE(), TO_DATE(Voters_BirthDate, 'MM/dd/yyyy')) / 365.25) < 30 THEN '20s'\n",
    "    WHEN FLOOR(DATEDIFF(CURRENT_DATE(), TO_DATE(Voters_BirthDate, 'MM/dd/yyyy')) / 365.25) BETWEEN 30 AND 39 THEN '30s'\n",
    "    WHEN FLOOR(DATEDIFF(CURRENT_DATE(), TO_DATE(Voters_BirthDate, 'MM/dd/yyyy')) / 365.25) BETWEEN 40 AND 49 THEN '40s'\n",
    "    WHEN FLOOR(DATEDIFF(CURRENT_DATE(), TO_DATE(Voters_BirthDate, 'MM/dd/yyyy')) / 365.25) BETWEEN 50 AND 59 THEN '50s'\n",
    "    WHEN FLOOR(DATEDIFF(CURRENT_DATE(), TO_DATE(Voters_BirthDate, 'MM/dd/yyyy')) / 365.25) BETWEEN 60 AND 69 THEN '60s'\n",
    "    WHEN FLOOR(DATEDIFF(CURRENT_DATE(), TO_DATE(Voters_BirthDate, 'MM/dd/yyyy')) / 365.25) BETWEEN 70 AND 79 THEN '70s'\n",
    "    ELSE '80+'\n",
    "  END AS age_group,\n",
    "  \n",
    "  SUM(CASE WHEN General_2018 = 'Y' THEN 1 ELSE 0 END) / COUNT(*) AS turnout_rate\n",
    "\n",
    "FROM `pstat135_finalproject`.default.ma_voter\n",
    "\n",
    "WHERE Voters_BirthDate IS NOT NULL\n",
    "\n",
    "GROUP BY age_group\n",
    "ORDER BY age_group;"
   ]
  },
  {
   "cell_type": "code",
   "execution_count": 0,
   "metadata": {
    "application/vnd.databricks.v1+cell": {
     "cellMetadata": {
      "byteLimit": 2048000,
      "implicitDf": true,
      "rowLimit": 10000
     },
     "inputWidgets": {},
     "nuid": "62a55c9e-0f05-4725-958f-adef9ee0b82f",
     "showTitle": false,
     "tableResultSettingsMap": {},
     "title": ""
    }
   },
   "outputs": [
    {
     "output_type": "display_data",
     "data": {
      "text/html": [
       "<style scoped>\n",
       "  .table-result-container {\n",
       "    max-height: 300px;\n",
       "    overflow: auto;\n",
       "  }\n",
       "  table, th, td {\n",
       "    border: 1px solid black;\n",
       "    border-collapse: collapse;\n",
       "  }\n",
       "  th, td {\n",
       "    padding: 5px;\n",
       "  }\n",
       "  th {\n",
       "    text-align: left;\n",
       "  }\n",
       "</style><div class='table-result-container'><table class='table-result'><thead style='background-color: white'><tr><th>fips</th><th>turnout_rate</th></tr></thead><tbody><tr><td>25001</td><td>0.6145283451916457</td></tr><tr><td>25003</td><td>0.5646659116647792</td></tr><tr><td>25005</td><td>0.5033524904214559</td></tr><tr><td>25007</td><td>0.6251604621309371</td></tr><tr><td>25009</td><td>0.5524697110904008</td></tr><tr><td>25011</td><td>0.6000771307365985</td></tr><tr><td>25013</td><td>0.47938504542278126</td></tr><tr><td>25015</td><td>0.6239802693985961</td></tr><tr><td>25017</td><td>0.611229853850153</td></tr><tr><td>25019</td><td>0.5641025641025641</td></tr><tr><td>25021</td><td>0.612527282460981</td></tr><tr><td>25023</td><td>0.5838857998289136</td></tr><tr><td>25025</td><td>0.5007791282667735</td></tr><tr><td>25027</td><td>0.5474394313071231</td></tr></tbody></table></div>"
      ]
     },
     "metadata": {
      "application/vnd.databricks.v1+output": {
       "addedWidgets": {},
       "aggData": [],
       "aggError": "",
       "aggOverflow": false,
       "aggSchema": [],
       "aggSeriesLimitReached": false,
       "aggType": "",
       "arguments": {},
       "columnCustomDisplayInfos": {},
       "data": [
        [
         "25001",
         0.6145283451916457
        ],
        [
         "25003",
         0.5646659116647792
        ],
        [
         "25005",
         0.5033524904214559
        ],
        [
         "25007",
         0.6251604621309371
        ],
        [
         "25009",
         0.5524697110904008
        ],
        [
         "25011",
         0.6000771307365985
        ],
        [
         "25013",
         0.47938504542278126
        ],
        [
         "25015",
         0.6239802693985961
        ],
        [
         "25017",
         0.611229853850153
        ],
        [
         "25019",
         0.5641025641025641
        ],
        [
         "25021",
         0.612527282460981
        ],
        [
         "25023",
         0.5838857998289136
        ],
        [
         "25025",
         0.5007791282667735
        ],
        [
         "25027",
         0.5474394313071231
        ]
       ],
       "datasetInfos": [
        {
         "name": "_sqldf",
         "schema": {
          "fields": [
           {
            "metadata": {},
            "name": "fips",
            "nullable": true,
            "type": "string"
           },
           {
            "metadata": {},
            "name": "turnout_rate",
            "nullable": true,
            "type": "double"
           }
          ],
          "type": "struct"
         },
         "tableIdentifier": null,
         "typeStr": "pyspark.sql.dataframe.DataFrame"
        }
       ],
       "dbfsResultPath": null,
       "isJsonSchema": true,
       "metadata": {
        "createTempViewForImplicitDf": true,
        "dataframeName": "_sqldf",
        "executionCount": 11
       },
       "overflow": false,
       "plotOptions": {
        "customPlotOptions": {},
        "displayType": "table",
        "pivotAggregation": null,
        "pivotColumns": null,
        "xColumns": null,
        "yColumns": null
       },
       "removedWidgets": [],
       "schema": [
        {
         "metadata": "{}",
         "name": "fips",
         "type": "\"string\""
        },
        {
         "metadata": "{}",
         "name": "turnout_rate",
         "type": "\"double\""
        }
       ],
       "type": "table"
      }
     },
     "output_type": "display_data"
    }
   ],
   "source": [
    "%sql\n",
    "SELECT \n",
    "  CONCAT('25', LPAD(CAST(Voters_FIPS AS STRING), 3, '0')) AS fips,\n",
    "  SUM(CASE WHEN General_2018 = 'Y' THEN 1 ELSE 0 END) / COUNT(*) AS turnout_rate\n",
    "FROM `pstat135_finalproject`.default.ma_voter\n",
    "WHERE Voters_FIPS IS NOT NULL\n",
    "GROUP BY fips\n",
    "ORDER BY fips;\n",
    "\n",
    "\n"
   ]
  },
  {
   "cell_type": "markdown",
   "metadata": {
    "application/vnd.databricks.v1+cell": {
     "cellMetadata": {},
     "inputWidgets": {},
     "nuid": "1ea6167f-e51b-404a-a36e-c193490c8ad7",
     "showTitle": false,
     "tableResultSettingsMap": {},
     "title": ""
    }
   },
   "source": [
    "### 2018 Voter Turnout by County (Massachusetts)\n",
    "\n",
    "[▶️ Click here to explore the interactive map](https://2753738568743163.3.gcp.databricks.com/files/tables/turnout_map_ma.html)"
   ]
  },
  {
   "cell_type": "code",
   "execution_count": 0,
   "metadata": {
    "application/vnd.databricks.v1+cell": {
     "cellMetadata": {
      "byteLimit": 2048000,
      "implicitDf": true,
      "rowLimit": 10000
     },
     "inputWidgets": {},
     "nuid": "ecc7ed41-e70d-40f4-8113-a17f4fbc95e9",
     "showTitle": false,
     "tableResultSettingsMap": {},
     "title": ""
    }
   },
   "outputs": [
    {
     "output_type": "display_data",
     "data": {
      "text/html": [
       "<style scoped>\n",
       "  .table-result-container {\n",
       "    max-height: 300px;\n",
       "    overflow: auto;\n",
       "  }\n",
       "  table, th, td {\n",
       "    border: 1px solid black;\n",
       "    border-collapse: collapse;\n",
       "  }\n",
       "  th, td {\n",
       "    padding: 5px;\n",
       "  }\n",
       "  th {\n",
       "    text-align: left;\n",
       "  }\n",
       "</style><div class='table-result-container'><table class='table-result'><thead style='background-color: white'><tr><th>FIPS</th><th>Dominant_Party</th></tr></thead><tbody><tr><td>25001</td><td>Independent</td></tr><tr><td>25003</td><td>Independent</td></tr><tr><td>25005</td><td>Independent</td></tr><tr><td>25007</td><td>Independent</td></tr><tr><td>25009</td><td>Independent</td></tr><tr><td>25011</td><td>Independent</td></tr><tr><td>25013</td><td>Independent</td></tr><tr><td>25015</td><td>Independent</td></tr><tr><td>25017</td><td>Independent</td></tr><tr><td>25019</td><td>Independent</td></tr><tr><td>25021</td><td>Independent</td></tr><tr><td>25023</td><td>Independent</td></tr><tr><td>25025</td><td>Democratic</td></tr><tr><td>25027</td><td>Independent</td></tr></tbody></table></div>"
      ]
     },
     "metadata": {
      "application/vnd.databricks.v1+output": {
       "addedWidgets": {},
       "aggData": [],
       "aggError": "",
       "aggOverflow": false,
       "aggSchema": [],
       "aggSeriesLimitReached": false,
       "aggType": "",
       "arguments": {},
       "columnCustomDisplayInfos": {},
       "data": [
        [
         "25001",
         "Independent"
        ],
        [
         "25003",
         "Independent"
        ],
        [
         "25005",
         "Independent"
        ],
        [
         "25007",
         "Independent"
        ],
        [
         "25009",
         "Independent"
        ],
        [
         "25011",
         "Independent"
        ],
        [
         "25013",
         "Independent"
        ],
        [
         "25015",
         "Independent"
        ],
        [
         "25017",
         "Independent"
        ],
        [
         "25019",
         "Independent"
        ],
        [
         "25021",
         "Independent"
        ],
        [
         "25023",
         "Independent"
        ],
        [
         "25025",
         "Democratic"
        ],
        [
         "25027",
         "Independent"
        ]
       ],
       "datasetInfos": [
        {
         "name": "_sqldf",
         "schema": {
          "fields": [
           {
            "metadata": {},
            "name": "FIPS",
            "nullable": true,
            "type": "string"
           },
           {
            "metadata": {},
            "name": "Dominant_Party",
            "nullable": true,
            "type": "string"
           }
          ],
          "type": "struct"
         },
         "tableIdentifier": null,
         "typeStr": "pyspark.sql.dataframe.DataFrame"
        }
       ],
       "dbfsResultPath": null,
       "isJsonSchema": true,
       "metadata": {
        "createTempViewForImplicitDf": true,
        "dataframeName": "_sqldf",
        "executionCount": 12
       },
       "overflow": false,
       "plotOptions": {
        "customPlotOptions": {},
        "displayType": "table",
        "pivotAggregation": null,
        "pivotColumns": null,
        "xColumns": null,
        "yColumns": null
       },
       "removedWidgets": [],
       "schema": [
        {
         "metadata": "{}",
         "name": "FIPS",
         "type": "\"string\""
        },
        {
         "metadata": "{}",
         "name": "Dominant_Party",
         "type": "\"string\""
        }
       ],
       "type": "table"
      }
     },
     "output_type": "display_data"
    }
   ],
   "source": [
    "%sql\n",
    "SELECT\n",
    "  CONCAT('25', LPAD(CAST(Voters_FIPS AS STRING), 3, '0')) AS FIPS,\n",
    "  FIRST(Residence_HHParties_Description) AS Dominant_Party\n",
    "FROM (\n",
    "    SELECT \n",
    "      Voters_FIPS,\n",
    "      Residence_HHParties_Description,\n",
    "      COUNT(*) AS party_count,\n",
    "      RANK() OVER (\n",
    "        PARTITION BY Voters_FIPS \n",
    "        ORDER BY COUNT(*) DESC\n",
    "      ) AS rnk\n",
    "    FROM pstat135_finalproject.default.ma_voter\n",
    "    GROUP BY Voters_FIPS, Residence_HHParties_Description\n",
    ")\n",
    "WHERE rnk = 1\n",
    "GROUP BY FIPS\n"
   ]
  },
  {
   "cell_type": "markdown",
   "metadata": {
    "application/vnd.databricks.v1+cell": {
     "cellMetadata": {},
     "inputWidgets": {},
     "nuid": "dd90119d-22d1-493e-a636-a82efb703a87",
     "showTitle": false,
     "tableResultSettingsMap": {},
     "title": ""
    }
   },
   "source": [
    "### 2018 Party Affiliation by County (Massachusetts)\n",
    "\n",
    "[▶️ Click here to explore the interactive map](https://2753738568743163.3.gcp.databricks.com/files/tables/party_map_ma.html)"
   ]
  },
  {
   "cell_type": "markdown",
   "metadata": {
    "application/vnd.databricks.v1+cell": {
     "cellMetadata": {},
     "inputWidgets": {},
     "nuid": "af1b6974-ae61-4599-a7bc-3c0da2997382",
     "showTitle": false,
     "tableResultSettingsMap": {},
     "title": ""
    }
   },
   "source": [
    "## 3.3 Supervised Research Question Task\n",
    "In the following section, our group will seek to tackle a research question that can be answered using a combination of **supervised** machine learning, alongside with the voter data file presented to us. While the initial exploratory data analysis performed above has revealed insightful findings such as \"What is the dominant party in each county?\" and \"How does age affect voter turnout?', we'll dive deeper into the data to uncover impactful results that can assist in a data-driven campaign. Specifically, we'll examine the disparities in things such as interest/lifestyle, religion, and more, and how their effect on voter turnout.\n"
   ]
  },
  {
   "cell_type": "markdown",
   "metadata": {
    "application/vnd.databricks.v1+cell": {
     "cellMetadata": {},
     "inputWidgets": {},
     "nuid": "13c95547-be10-45af-9c96-d5c592e0d0ad",
     "showTitle": false,
     "tableResultSettingsMap": {},
     "title": ""
    }
   },
   "source": [
    "### Loading in the Data & Cleaning\n",
    "As seen in the results above, with over 4 million rows and 400+ columns, we have a vast amount of data on our hands-much of which isn't clean. In order to later train a model that can *accurately* and *effectively* reflect the behavior of the constituents' data that it is ingesting, we'll need to filter out some of these columns. Before we apply a 10% threshold for missing/null values, it is important to note that the data for whether or not an individual voted in a given election (General, Primary, etc.) is denoted as either *\"Y\"* or *\"null\"*. We'll fix this below and implement any other notable preprocessing steps."
   ]
  },
  {
   "cell_type": "code",
   "execution_count": 0,
   "metadata": {
    "application/vnd.databricks.v1+cell": {
     "cellMetadata": {
      "byteLimit": 2048000,
      "rowLimit": 10000
     },
     "inputWidgets": {},
     "nuid": "893ec49c-ca6a-466f-b4f9-b64639c72784",
     "showTitle": false,
     "tableResultSettingsMap": {},
     "title": ""
    }
   },
   "outputs": [],
   "source": [
    "#Load in all dependencies \n",
    "import pandas as pd\n",
    "import numpy as np\n",
    "from sklearn.cluster import KMeans\n",
    "from sklearn.preprocessing import StandardScaler, OneHotEncoder\n",
    "from sklearn.compose import ColumnTransformer\n",
    "from sklearn.model_selection import train_test_split\n",
    "from sklearn.metrics import accuracy_score, classification_report\n",
    "import shap\n",
    "import xgboost as xgb\n",
    "from sklearn.pipeline import Pipeline\n",
    "from pyspark.sql import SparkSession\n",
    "import matplotlib.pyplot as plt\n",
    "import seaborn as sns\n",
    "from sklearn.impute import SimpleImputer"
   ]
  },
  {
   "cell_type": "code",
   "execution_count": 0,
   "metadata": {
    "application/vnd.databricks.v1+cell": {
     "cellMetadata": {
      "byteLimit": 2048000,
      "rowLimit": 10000
     },
     "inputWidgets": {},
     "nuid": "03616717-6020-40bd-93e3-fe562824685b",
     "showTitle": false,
     "tableResultSettingsMap": {},
     "title": ""
    }
   },
   "outputs": [
    {
     "output_type": "stream",
     "name": "stderr",
     "output_type": "stream",
     "text": [
      "<>:29: SyntaxWarning: invalid escape sequence '\\$'\n<>:29: SyntaxWarning: invalid escape sequence '\\$'\n/root/.ipykernel/1021/command-4977670015135361-3073183128:29: SyntaxWarning: invalid escape sequence '\\$'\n  .replace('[\\$,]', '', regex=True)\n"
     ]
    }
   ],
   "source": [
    "spark_df = spark.table(\"pstat135_finalproject.default.ma_voter\")\n",
    "\n",
    "# If you need to use pandas/sklearn, convert to pandas DataFrame\n",
    "df = spark_df.toPandas()\n",
    "\n",
    "#Convert election columns to binary\n",
    "election_columns = [\n",
    "    'Primary_2020', 'PresidentialPrimary_2020', 'AnyElection_2019', 'General_2018',\n",
    "    'Primary_2018', 'OtherElection_2018', 'AnyElection_2017', 'General_2016',\n",
    "    'Primary_2016', 'PresidentialPrimary_2016', 'AnyElection_2015', 'General_2014',\n",
    "    'Primary_2014', 'AnyElection_2013', 'General_2012', 'Primary_2012',\n",
    "    'PresidentialPrimary_2012', 'AnyElection_2011', 'General_2010', 'Primary_2010',\n",
    "    'OtherElection_2010', 'AnyElection_2009', 'General_2008', 'Primary_2008',\n",
    "    'PresidentialPrimary_2008', 'AnyElection_2007', 'General_2006', 'Primary_2006',\n",
    "    'AnyElection_2005', 'General_2004', 'Primary_2004', 'PresidentialPrimary_2004',\n",
    "    'AnyElection_2003', 'General_2002', 'Primary_2002', 'AnyElection_2001',\n",
    "    'General_2000', 'Primary_2000', 'PresidentialPrimary_2000'\n",
    "]\n",
    "\n",
    "df[election_columns] = df[election_columns].applymap(lambda x: 1 if x == 'Y' else 0)\n",
    "\n",
    "#Drop all columns that start with \"ElectionReturns\" as this isn't telling of voter representation / ID, and \"Mailing\" as it is redundant\n",
    "df = df.loc[:, ~df.columns.str.startswith('ElectionReturns')]\n",
    "df = df.loc[:, ~df.columns.str.startswith('Mailing')]\n",
    "\n",
    "#Remove $ and commas, then convert to int for model training\n",
    "df['CommercialData_EstimatedHHIncomeAmount'] = (\n",
    "    df['CommercialData_EstimatedHHIncomeAmount']\n",
    "    .replace('[\\$,]', '', regex=True)\n",
    "    .astype(float)\n",
    "    .astype('Int64')  # Use 'Int64' to allow for NaNs, or just int if no NaNs\n",
    ")\n",
    "\n",
    "#Fix 'Religions_Description' column as this is important identifier\n",
    "df['Religions_Description'] = df['Religions_Description'].fillna('Non-Religious / Did not specify')\n",
    "\n",
    "#Implement Missing Value Threshold for data\n",
    "threshold = 0.10  \n",
    "df = df.loc[:, df.isnull().mean() <= threshold]\n",
    "\n",
    "#Removing columns that don't provide any useful information for our analysis\n",
    "unneeded_columns = ['SEQUENCE', 'LALVOTERID', 'Voters_Active', 'Voters_StateVoterID', 'Voters_FirstName', 'Voters_LastName', 'Residence_Addresses_AddressLine'\n",
    "                    , 'Residence_Addresses_State', 'Residence_Addresses_ZipPlus4', 'Residence_Addresses_HouseNumber', 'Residence_Addresses_Designator', 'Residence_Addresses_CassErrStatCode'\n",
    "                    , 'Voters_SequenceZigZag', 'Voters_SequenceOddEven', 'Residence_Addresses_Latitude', 'Residence_Addresses_Longitude', 'Residence_Addresses_CensusBlockGroup', 'Residence_Addresses_CensusBlock'\n",
    "                    , 'Residence_Addresses_LatLongAccuracy', 'Residence_Families_FamilyID', 'Voters_FIPS', 'State_Senate_District', 'State_House_District', 'AddressDistricts_Change_Changed_CD', 'AddressDistricts_Change_Changed_HD',\n",
    "                    'AddressDistricts_Change_Changed_SD', '2001_US_Congressional_District', '2001_State_Senate_District', '2001_State_House_District']\n",
    "\n",
    "df_clean = df.drop(columns=unneeded_columns)"
   ]
  },
  {
   "cell_type": "code",
   "execution_count": 0,
   "metadata": {
    "application/vnd.databricks.v1+cell": {
     "cellMetadata": {
      "byteLimit": 2048000,
      "rowLimit": 10000
     },
     "inputWidgets": {},
     "nuid": "563f32f8-a8e8-4e84-a560-cf2a2e0e6bb4",
     "showTitle": false,
     "tableResultSettingsMap": {},
     "title": ""
    }
   },
   "outputs": [
    {
     "output_type": "execute_result",
     "data": {
      "text/plain": [
       "Text(0.5, 1.0, 'Missing Values Heatmap')"
      ]
     },
     "execution_count": 21,
     "metadata": {},
     "output_type": "execute_result"
    },
    {
     "output_type": "display_data",
     "data": {
      "image/png": "[encoded data removed]",
      "text/plain": [
       "<Figure size 1200x600 with 1 Axes>"
      ]
     },
     "metadata": {},
     "output_type": "display_data"
    }
   ],
   "source": [
    "plt.figure(figsize=(12, 6)) #Visualize null values\n",
    "sns.heatmap(df_clean.isnull(), cbar=False, yticklabels=False, cmap='viridis')\n",
    "plt.title('Missing Values Heatmap')"
   ]
  },
  {
   "cell_type": "markdown",
   "metadata": {
    "application/vnd.databricks.v1+cell": {
     "cellMetadata": {},
     "inputWidgets": {},
     "nuid": "7a44171b-a349-42a6-9ad7-5e1811461eee",
     "showTitle": false,
     "tableResultSettingsMap": {},
     "title": ""
    }
   },
   "source": [
    "> Following these these cleaning steps, we are left with 78 columns (and maintaining ~4 million entries). **Note:** As seen in the visualization above, some columns still contain missing values (i.e. Age, Gender, etc.), we'll overcome this when training our models through **imputation**. For numerical & categorical values, we'll use median and most frequent values respectively. As missing values account for less than 1% of the data, this should not hurt the reproducibility of our research findings and results on unseen data."
   ]
  },
  {
   "cell_type": "markdown",
   "metadata": {
    "application/vnd.databricks.v1+cell": {
     "cellMetadata": {},
     "inputWidgets": {},
     "nuid": "640653f5-706d-497e-abc3-0218c50990a2",
     "showTitle": false,
     "tableResultSettingsMap": {},
     "title": ""
    }
   },
   "source": [
    "### Model Context \n",
    "For the purpose of our research, our group chose to use an XGBoost machine learning algorithm for our voter turnout classifier due to not only its ability to complex data, but also its interpretability. As we want to identify not just what are good/bad predictors of voter turnout but *how* they may affect that probability as well, the ability to derive **'Feature Importance'** and use **SHAP** plots will help remove the \"black box\" nature often associated with complex machine learning models.\n",
    "\n",
    "**What are SHAP Values?** - SHAP (SHapley Additive exPlanations) values are a way to explain the output of our machine learning model. It uses a game theoretic approach that measures each voter's attribute contribution to the final outcome. In our examples shown later, each feature is assigned an importance value representing its contribution to the model's output. SHAP values show how each feature affects each final prediction, the significance of each feature compared to others, and the model's reliance on the interaction between features."
   ]
  },
  {
   "cell_type": "markdown",
   "metadata": {
    "application/vnd.databricks.v1+cell": {
     "cellMetadata": {},
     "inputWidgets": {},
     "nuid": "50da42e4-02a1-4aa1-97c9-d315b8a8ba8d",
     "showTitle": false,
     "tableResultSettingsMap": {},
     "title": ""
    }
   },
   "source": [
    "### Initial Model Implementation & Findings\n",
    "\n",
    "\n",
    "In the following section, our group believes that one of the best predictors of voter turnout in a given election, is past participation in the democratic system. We'll confirm this in our initial model implementation below where we'll train the model on historical voter participation and a couple other variables to examine feature importance (we'll use the 2016 General election in this case as our target variable, with past Primary/General elections as predictors)"
   ]
  },
  {
   "cell_type": "code",
   "execution_count": 0,
   "metadata": {
    "application/vnd.databricks.v1+cell": {
     "cellMetadata": {
      "byteLimit": 2048000,
      "rowLimit": 10000
     },
     "inputWidgets": {},
     "nuid": "9aee448c-d1d5-4261-b40b-14e38ef25a5b",
     "showTitle": false,
     "tableResultSettingsMap": {},
     "title": ""
    }
   },
   "outputs": [
    {
     "output_type": "display_data",
     "data": {
      "application/vnd.jupyter.widget-view+json": {
       "model_id": "d4a2203fea724224b0ddde5419d4ec26",
       "version_major": 2,
       "version_minor": 0
      },
      "text/plain": [
       "Uploading artifacts:   0%|          | 0/3 [00:00<?, ?it/s]"
      ]
     },
     "metadata": {},
     "output_type": "display_data"
    },
    {
     "output_type": "display_data",
     "data": {
      "application/vnd.jupyter.widget-view+json": {
       "model_id": "56cbea369cd84b269c0c59ae38827ebb",
       "version_major": 2,
       "version_minor": 0
      },
      "text/plain": [
       "Uploading artifacts:   0%|          | 0/9 [00:00<?, ?it/s]"
      ]
     },
     "metadata": {},
     "output_type": "display_data"
    },
    {
     "output_type": "stream",
     "name": "stdout",
     "output_type": "stream",
     "text": [
      "model accuracy: 0.8315\n"
     ]
    }
   ],
   "source": [
    "columns_for_model = ['Residence_Addresses_City', 'Residence_Addresses_Zip', 'Residence_Families_HHCount', 'Residence_HHParties_Description', 'Parties_Description', 'County', 'General_2016','PresidentialPrimary_2016', 'PresidentialPrimary_2012', 'General_2012', 'General_2008'] \n",
    "model_data = df_clean[columns_for_model].copy()\n",
    "\n",
    "#convert categorical variables to numerical using OneHotEncoder\n",
    "categorical_features = [\n",
    "    'Residence_Addresses_City', \n",
    "    'Residence_Addresses_Zip',  \n",
    "    'Residence_HHParties_Description', \n",
    "    'Parties_Description', \n",
    "    'County'\n",
    "]\n",
    "preprocessor = ColumnTransformer(\n",
    "    transformers=[\n",
    "        ('cat', OneHotEncoder(handle_unknown='ignore'), categorical_features)\n",
    "    ],\n",
    "    remainder='passthrough'\n",
    ")\n",
    "X = model_data.drop('General_2016', axis = 1)\n",
    "y = model_data['General_2016']  #target variable\n",
    "target_var = df_clean['General_2016'] #we'll reuse this throughout\n",
    "\n",
    "X_train, X_test, y_train, y_test = train_test_split(X, y, test_size=0.2, random_state=3)\n",
    "\n",
    "pipeline = Pipeline([\n",
    "    ('preprocessor', preprocessor),\n",
    "    ('classifier', xgb.XGBClassifier(use_label_encoder=False, eval_metric='logloss', random_state=3))\n",
    "])\n",
    "\n",
    "pipeline.fit(X_train, y_train)\n",
    "y_pred = pipeline.predict(X_test)\n",
    "accuracy = accuracy_score(y_test, y_pred)\n",
    "print(f\"model accuracy: {accuracy:.4f}\")"
   ]
  },
  {
   "cell_type": "code",
   "execution_count": 0,
   "metadata": {
    "application/vnd.databricks.v1+cell": {
     "cellMetadata": {
      "byteLimit": 2048000,
      "rowLimit": 10000
     },
     "inputWidgets": {},
     "nuid": "c69c42e8-e744-4df7-9dab-cf7fbce51658",
     "showTitle": false,
     "tableResultSettingsMap": {},
     "title": ""
    }
   },
   "outputs": [
    {
     "output_type": "display_data",
     "data": {
      "image/png": "[encoded data removed]",
      "text/plain": [
       "<Figure size 640x480 with 1 Axes>"
      ]
     },
     "metadata": {},
     "output_type": "display_data"
    }
   ],
   "source": [
    "#feature importance viz here\n",
    "importances = pipeline.named_steps['classifier'].feature_importances_\n",
    "\n",
    "#gets feature names after one-hot encoding\n",
    "ohe = pipeline.named_steps['preprocessor'].named_transformers_['cat']\n",
    "cat_feature_names = ohe.get_feature_names_out(categorical_features)\n",
    "all_feature_names = np.concatenate([cat_feature_names, \n",
    "                                   [col for col in X.columns if col not in categorical_features]])\n",
    "\n",
    "sorted_idx = np.argsort(importances)[::-1][:5]  # Top 5 features\n",
    "plt.barh(range(len(sorted_idx)), importances[sorted_idx][::-1])\n",
    "plt.yticks(range(len(sorted_idx)), all_feature_names[sorted_idx][::-1])\n",
    "plt.xlabel(\"Feature Importance\")\n",
    "plt.title(\"Top 5 Feature Importances - Initial Model\");"
   ]
  },
  {
   "cell_type": "markdown",
   "metadata": {
    "application/vnd.databricks.v1+cell": {
     "cellMetadata": {},
     "inputWidgets": {},
     "nuid": "e57bc634-a147-4ee9-9489-8d8a70ce35fc",
     "showTitle": false,
     "tableResultSettingsMap": {},
     "title": ""
    }
   },
   "source": [
    "### Exploring Voting Disparities through Income/Age \n",
    "As we can see in the previous model, information on voter participation in recent elections is an important predictor for out models. As such, we'll include them to help our model make more accurate classifications, thus making our findings more reputable in turn. In the following section, we'll use those columns alongside a couple others (Gender, Age, Party, etc.) to act as our reference model to explore and answer our research questions. Here, we examine the disparities between income, age and voter outcome.\n"
   ]
  },
  {
   "cell_type": "code",
   "execution_count": 0,
   "metadata": {
    "application/vnd.databricks.v1+cell": {
     "cellMetadata": {
      "byteLimit": 2048000,
      "rowLimit": 10000
     },
     "inputWidgets": {},
     "nuid": "3a797d0b-9d96-47d8-962f-5a20ac4860a6",
     "showTitle": false,
     "tableResultSettingsMap": {},
     "title": ""
    }
   },
   "outputs": [
    {
     "output_type": "display_data",
     "data": {
      "application/vnd.jupyter.widget-view+json": {
       "model_id": "de150d23b9934b3394287151284cc376",
       "version_major": 2,
       "version_minor": 0
      },
      "text/plain": [
       "Uploading artifacts:   0%|          | 0/3 [00:00<?, ?it/s]"
      ]
     },
     "metadata": {},
     "output_type": "display_data"
    },
    {
     "output_type": "display_data",
     "data": {
      "application/vnd.jupyter.widget-view+json": {
       "model_id": "54cdd075e0e941058666ca65da5aafbb",
       "version_major": 2,
       "version_minor": 0
      },
      "text/plain": [
       "Uploading artifacts:   0%|          | 0/9 [00:00<?, ?it/s]"
      ]
     },
     "metadata": {},
     "output_type": "display_data"
    },
    {
     "output_type": "stream",
     "name": "stdout",
     "output_type": "stream",
     "text": [
      "model accuracy: 0.8263\n"
     ]
    }
   ],
   "source": [
    "categorical_features = [\n",
    "    'Voters_Gender', 'County', 'Parties_Description', 'General_2012', 'PresidentialPrimary_2016',\n",
    "]\n",
    "numerical_features = [\n",
    "    'Voters_Age', 'CommercialData_EstimatedHHIncomeAmount',\n",
    "    'Residence_Addresses_Density', 'CommercialData_AreaMedianEducationYears',\n",
    "    'Residence_Families_HHCount'\n",
    "]\n",
    "\n",
    "preprocessor = ColumnTransformer(\n",
    "    transformers=[\n",
    "        ('cat', Pipeline([\n",
    "            ('imputer', SimpleImputer(strategy='most_frequent')),\n",
    "            ('encoder', OneHotEncoder(handle_unknown='ignore'))\n",
    "        ]), categorical_features),\n",
    "        ('num', SimpleImputer(strategy='median'), numerical_features)\n",
    "    ]\n",
    ")\n",
    "\n",
    "#model build\n",
    "X = df_clean[categorical_features + numerical_features].copy()\n",
    "y = df_clean['General_2016']  # target variable\n",
    "X_train, X_test, y_train, y_test = train_test_split(X, y, test_size=0.2, random_state=3)\n",
    "pipeline = Pipeline([\n",
    "    ('preprocessor', preprocessor),\n",
    "    ('classifier', xgb.XGBClassifier(use_label_encoder=False,eval_metric='logloss', random_state=3))\n",
    "])\n",
    "\n",
    "pipeline.fit(X_train, y_train)\n",
    "y_pred = pipeline.predict(X_test)\n",
    "accuracy = accuracy_score(y_test, y_pred)\n",
    "print(f\"model accuracy: {accuracy:.4f}\")"
   ]
  },
  {
   "cell_type": "code",
   "execution_count": 0,
   "metadata": {
    "application/vnd.databricks.v1+cell": {
     "cellMetadata": {
      "byteLimit": 2048000,
      "rowLimit": 10000
     },
     "inputWidgets": {},
     "nuid": "62ed894d-c7bc-480e-b418-03c1b1c0a293",
     "showTitle": false,
     "tableResultSettingsMap": {},
     "title": ""
    }
   },
   "outputs": [
    {
     "output_type": "display_data",
     "data": {
      "image/png": "[encoded data removed]",
      "text/plain": [
       "<Figure size 750x500 with 2 Axes>"
      ]
     },
     "metadata": {},
     "output_type": "display_data"
    }
   ],
   "source": [
    "#SHAP dependence plot for income, colored by voter age\n",
    "ohe = pipeline.named_steps['preprocessor'].named_transformers_['cat']\n",
    "cat_feature_names = ohe.get_feature_names_out(categorical_features)\n",
    "all_feature_names = np.concatenate([\n",
    "    cat_feature_names, \n",
    "    numerical_features\n",
    "])\n",
    "\n",
    "explainer = shap.TreeExplainer(pipeline.named_steps['classifier'])\n",
    "X_test_transformed = pipeline.named_steps['preprocessor'].transform(X_test)\n",
    "shap_values = explainer.shap_values(X_test_transformed)\n",
    "income_idx = np.where(all_feature_names == 'CommercialData_EstimatedHHIncomeAmount')[0][0]\n",
    "age_idx = np.where(all_feature_names == 'Voters_Age')[0][0]\n",
    "\n",
    "if hasattr(X_test_transformed, \"toarray\"):\n",
    "    X_test_dense = X_test_transformed.toarray()\n",
    "else:\n",
    "    X_test_dense = X_test_transformed\n",
    "shap.dependence_plot(\n",
    "    income_idx, shap_values, X_test_dense, feature_names=all_feature_names, interaction_index=age_idx, show=False\n",
    ")\n",
    "# Adjust the axis labels of the most recent plot\n",
    "plt.xlabel(\"Household Income\")\n",
    "plt.ylabel(\"SHAP Value (Impact on Voter Turnout Prediction)\")\n",
    "plt.title(\"SHAP Dependence: Exploring Income Disparities in Voter Turnout\"), plt.show();"
   ]
  },
  {
   "cell_type": "markdown",
   "metadata": {
    "application/vnd.databricks.v1+cell": {
     "cellMetadata": {},
     "inputWidgets": {},
     "nuid": "9e6a19ae-0f6f-4a88-86e9-8afd6d66370e",
     "showTitle": false,
     "tableResultSettingsMap": {},
     "title": ""
    }
   },
   "source": [
    "> **Result Interpretation**\n",
    "\n",
    ">In our SHAP plot above (which displays the impact of age and income to the model's voter turnout prediction value where positive values mean the model is estimating a higher probability and vice versa), we see a couple interesting findings.\n",
    "> - Non-Linear Impact of Income: Given our current restrictions and predictors, income shows a *weak* positive correlation with voter turnout in Massachusetts around the $0 - $150,000 range. The wide spread of SHAP values (from -0.5 to +0.5) suggests  that for these individuals, income alone is not a primary driver of the decision to vote. However, as individuals earn past this threshold, we see a sharp rise in SHAP values, suggesting that voting propensity is better at predicted through groups.\n",
    "> - Critical Influence of Age: Age acts as a rather consistent secondary predictor that has an interesting reaction with income. Older voters (represented by the redder dots) consistently have higher SHAP values than younger voters (blue and purple dots) at *almost* every income level. A unique interaction occurs at the 50-100k income mark that shows older, lower-income voters are often predicted to be **less** likely to vote than a younger, middle-income voter, highlighting a key demographic insight that could be further explored.\n",
    "\n",
    "> **Relevance to Data-Driven Campaigning**\n",
    "\n",
    "> Our findings above allow strategists to move beyond braod generalizations (i.e. \"we need to target young people\") and can help answer campaign questions like:\n",
    "> - \"Where should we allocate our limited marketing budget for maximum impact amongst XYZ demographic such that it represents our biggest opportunity for mobilizing new voters?\"\n",
    "\n",
    "> Based on our results a campaign manager could make the decision to possibly:\n",
    "> - Target Younger, Low-to-Middle Income Voters with a Digital/Social Media-Based Campaign\n",
    "> - Shift Shift High-Income Voter Outreach from Mobilization to Persuasion (Party Alignment)\n",
    "> - Conduct Further Research on Middle-Income Voters, Identifying untapped ethnic groups within the defined age/income range\n",
    "\n"
   ]
  },
  {
   "cell_type": "markdown",
   "metadata": {
    "application/vnd.databricks.v1+cell": {
     "cellMetadata": {},
     "inputWidgets": {},
     "nuid": "fc5ec48e-0ad0-4a6f-8291-c2f030213a19",
     "showTitle": false,
     "tableResultSettingsMap": {},
     "title": ""
    }
   },
   "source": [
    "## Exploring Gender & Political Affiliation Impact on Voter Propensity\n",
    "In the following section, we'll create another visualization leveraging SHAP (SHapley Additive exPlanations) to explore the role of gender in voter turnout across various political parties. Ad our XGBoost model has shown to effectively classify voter turnout, we will continue to use this model"
   ]
  },
  {
   "cell_type": "code",
   "execution_count": 0,
   "metadata": {
    "application/vnd.databricks.v1+cell": {
     "cellMetadata": {
      "byteLimit": 2048000,
      "rowLimit": 10000
     },
     "inputWidgets": {},
     "nuid": "0e348a46-ae61-4c26-a4a9-3b9906d2528f",
     "showTitle": false,
     "tableResultSettingsMap": {},
     "title": ""
    }
   },
   "outputs": [
    {
     "output_type": "display_data",
     "data": {
      "image/png": "[encoded data removed]",
      "text/plain": [
       "<Figure size 1200x600 with 1 Axes>"
      ]
     },
     "metadata": {},
     "output_type": "display_data"
    },
    {
     "output_type": "execute_result",
     "data": {
      "text/plain": [
       "(<matplotlib.legend.Legend at 0x73fd5afc9010>, None, None)"
      ]
     },
     "execution_count": 26,
     "metadata": {},
     "output_type": "execute_result"
    }
   ],
   "source": [
    "party_col = 'Parties_Description'\n",
    "gender_col = 'Voters_Gender'\n",
    "\n",
    "ohe = pipeline.named_steps['preprocessor'].named_transformers_['cat'].named_steps['encoder']\n",
    "cat_feature_names = ohe.get_feature_names_out(categorical_features)\n",
    "party_onehot_indices = [i for i, f in enumerate(cat_feature_names) if f.startswith('Parties_Description_')]\n",
    "\n",
    "shap_df = pd.DataFrame({\n",
    "    party_col: X_test[party_col].values,\n",
    "    gender_col: X_test[gender_col].values,\n",
    "    'mean_shap': shap_values[:, party_onehot_indices].mean(axis=1)\n",
    "})\n",
    "\n",
    "grouped = shap_df.groupby([party_col, gender_col])['mean_shap'].mean().unstack()\n",
    "\n",
    "fig, ax = plt.subplots(figsize=(12, 6))\n",
    "x = np.arange(len(grouped.index))\n",
    "bar_width = 0.3\n",
    "for i, gender in enumerate(grouped.columns):\n",
    "    offset = (i - 0.5) * bar_width\n",
    "    ax.bar(x + offset, grouped[gender], width=bar_width, label=gender)\n",
    "\n",
    "ax.axhline(0, color='black', linewidth=1)\n",
    "ax.set_xticks(x), ax.set_xticklabels(grouped.index, rotation=45, ha='right'), ax.set_xlabel('Party')\n",
    "ax.set_ylabel('Mean SHAP Value'), ax.set_title('Mean SHAP Value by Gender within Each Party')\n",
    "ax.legend(title='Gender'), plt.tight_layout(), plt.show()"
   ]
  },
  {
   "cell_type": "markdown",
   "metadata": {
    "application/vnd.databricks.v1+cell": {
     "cellMetadata": {},
     "inputWidgets": {},
     "nuid": "67819b12-71e0-4d38-9106-ecf2fe3214cb",
     "showTitle": false,
     "tableResultSettingsMap": {},
     "title": ""
    }
   },
   "source": [
    "> **Result Interpretation**\n",
    "\n",
    "> In our SHAP plot above (which displays the intersection of gender and political party in voting propensity), we see a couple interesting findings. \n",
    "> - Party as a Rather Weak Indicator Overall (Given our scenario): First, as our model as many strong predictors like voter history, age, and so forth, we see that political affiliation and gender act as rather weak predictors for voter turnout **in this specific scenario** as training on different data may reveal more nuanced findings on a case by case basis. \n",
    "> - Major Parties are Weak Signals: For the two largest parties, affiliation alone presents average SHAP values near zero. However, two parties do stand out (Constitution & Working Family Party) which have significantly higher & lower voter turnout odds respectively\n",
    "\n",
    "> **Relevance to Data-Driven Campaigning**\n",
    "\n",
    "> Based on the analysis of voter party affiliation, a data-driven campaign can make highly specific, resource-efficient decisions. The results show that broad party labels like \"Republican\" or \"Democratic\" are surprisingly weak predictors of turnout on their own, meaning a campaign should not waste resources on generic party-line GOTV efforts. Instead, the model's findings allow for a \"smarter\" allocation of funds. For example, a campaign would decide to deprioritize mobilization spending on Constitution Party voters, as the model is already highly confident they will vote (highest positive SHAP value). Conversely, they would launch a targeted outreach campaign for Working Family Party and Libertarian voters, as the model identifies them as the least likely to turn out, representing the greatest opportunity for growth. Finally, recognizing that gender is not a significant differentiator in most parties, the campaign would avoid costly, gender-specific messaging (or dive deeper into the difference across maybe age brackets/income levels) justifying a more universal approach to its campaign content."
   ]
  },
  {
   "cell_type": "markdown",
   "metadata": {
    "application/vnd.databricks.v1+cell": {
     "cellMetadata": {},
     "inputWidgets": {},
     "nuid": "79a28f0b-03a1-4632-89b0-956687837932",
     "showTitle": false,
     "tableResultSettingsMap": {},
     "title": ""
    }
   },
   "source": []
  },
  {
   "cell_type": "markdown",
   "metadata": {
    "application/vnd.databricks.v1+cell": {
     "cellMetadata": {},
     "inputWidgets": {},
     "nuid": "c2eb5b2d-b8ec-4d25-a5d4-5ad15328cb87",
     "showTitle": false,
     "tableResultSettingsMap": {},
     "title": ""
    }
   },
   "source": []
  }
 ],
 "metadata": {
  "application/vnd.databricks.v1+notebook": {
   "computePreferences": null,
   "dashboards": [],
   "environmentMetadata": {
    "base_environment": "",
    "environment_version": "2"
   },
   "inputWidgetPreferences": null,
   "language": "python",
   "notebookMetadata": {
    "mostRecentlyExecutedCommandWithImplicitDF": {
     "commandId": 5778508909103799,
     "dataframes": [
      "_sqldf"
     ]
    },
    "pythonIndentUnit": 4
   },
   "notebookName": "Voter Propensity Research Project",
   "widgets": {}
  },
  "language_info": {
   "name": "python"
  }
 },
 "nbformat": 4,
 "nbformat_minor": 0
}